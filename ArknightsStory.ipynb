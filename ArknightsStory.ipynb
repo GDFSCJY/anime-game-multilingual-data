{
 "cells": [
  {
   "cell_type": "code",
   "execution_count": 1,
   "metadata": {
    "collapsed": true,
    "ExecuteTime": {
     "end_time": "2023-07-02T13:03:06.097441608Z",
     "start_time": "2023-07-02T13:03:05.545076420Z"
    }
   },
   "outputs": [],
   "source": [
    "from glob import glob\n",
    "import os\n",
    "import pandas as pd\n",
    "from tqdm import tqdm_notebook as tqdm\n",
    "import re\n"
   ]
  },
  {
   "cell_type": "code",
   "execution_count": 2,
   "outputs": [
    {
     "name": "stderr",
     "output_type": "stream",
     "text": [
      "/tmp/ipykernel_5155/3468034558.py:8: TqdmDeprecationWarning: This function will be removed in tqdm==5.0.0\n",
      "Please use `tqdm.notebook.tqdm` instead of `tqdm.tqdm_notebook`\n",
      "  for zh_file in tqdm(glob(f'{zh_story_path}/**/*.txt', recursive=True)):\n"
     ]
    },
    {
     "data": {
      "text/plain": "  0%|          | 0/1387 [00:00<?, ?it/s]",
      "application/vnd.jupyter.widget-view+json": {
       "version_major": 2,
       "version_minor": 0,
       "model_id": "aaedbd48f2e744aaa3e8c3c337fd8866"
      }
     },
     "metadata": {},
     "output_type": "display_data"
    },
    {
     "name": "stdout",
     "output_type": "stream",
     "text": [
      "Skip 195 files, 1192 files left.\n"
     ]
    }
   ],
   "source": [
    "# load all en ja zh json file paths\n",
    "en_story_path = 'GAMEDATA/ArknightsData/en-US/gamedata/story'\n",
    "ja_story_path = 'GAMEDATA/ArknightsData/ja-JP/gamedata/story'\n",
    "zh_story_path = 'GAMEDATA/ArknightsData/zh-CN/gamedata/story'\n",
    "\n",
    "skip_count = 0\n",
    "en_story_files, ja_story_files, zh_story_files = [], [], []\n",
    "for zh_file in tqdm(glob(f'{zh_story_path}/**/*.txt', recursive=True)):\n",
    "    en_file = zh_file.replace('zh-CN', 'en-US')\n",
    "    ja_file = zh_file.replace('zh-CN', 'ja-JP')\n",
    "    if not os.path.exists(en_file) or not os.path.exists(ja_file):\n",
    "        skip_count += 1\n",
    "        continue\n",
    "    en_story_files.append(en_file)\n",
    "    ja_story_files.append(ja_file)\n",
    "    zh_story_files.append(zh_file)\n",
    "\n",
    "print(f'Skip {skip_count} files, {len(en_story_files)} files left.')"
   ],
   "metadata": {
    "collapsed": false,
    "ExecuteTime": {
     "end_time": "2023-07-02T13:03:06.196178762Z",
     "start_time": "2023-07-02T13:03:06.101398433Z"
    }
   }
  },
  {
   "cell_type": "code",
   "execution_count": 3,
   "outputs": [
    {
     "name": "stderr",
     "output_type": "stream",
     "text": [
      "/tmp/ipykernel_5155/1401039943.py:7: TqdmDeprecationWarning: This function will be removed in tqdm==5.0.0\n",
      "Please use `tqdm.notebook.tqdm` instead of `tqdm.tqdm_notebook`\n",
      "  for en_file, ja_file, zh_file in tqdm(\n"
     ]
    },
    {
     "data": {
      "text/plain": "  0%|          | 0/1192 [00:00<?, ?it/s]",
      "application/vnd.jupyter.widget-view+json": {
       "version_major": 2,
       "version_minor": 0,
       "model_id": "30d9065cef8e4513aec48a6247482181"
      }
     },
     "metadata": {},
     "output_type": "display_data"
    },
    {
     "data": {
      "text/plain": "                                                      en  \\\n0      Operator Thorns accompanies Rhodes Island to S...   \n1      When the sun started to set, the Ægirians, far...   \n2      Capone betrayed Gambino. Mostima rescued Bison...   \n3      Bison and Mostima, while wandering around seem...   \n4      Yith is being watched by a certain Liberi, and...   \n...                                                  ...   \n72024  [name=\"Dobermann\"]   Preparation is always the...   \n72025  [name=\"Provence\"]   Now then, I will be offici...   \n72026  [name=\"Provence\"]   Subsequently, PRTS will co...   \n72027  [name=\"Provence\"]   The operation has official...   \n72028  [name=\"Provence\"]   May we bring hope to this ...   \n\n                                                      ja  \\\n0                       ロドス一行と共にシエスタに来たソーンズは、一日の休日を謳歌する。   \n1           日が沈みゆく中、エーギル人は異郷のビーチに佇んでいた。程なくして、未知の敵と遭遇する——   \n2      カポネはガンビーノを裏切った。モスティマはバイソンを救い出した。そして鼠王は本当の姿を見せた...   \n3      悠々と街を歩くバイソンとモスティマは、飴屋の前を通りかかったところでマフィアに狙われてしまう...   \n4      イースはあるリーベリに監視されており、そしてモスティマは以前から鼠王の存在を知っていた。 再...   \n...                                                  ...   \n72024         [name=\"ドーベルマン\"]   作戦前の周到な準備は、常に勝利への第一歩となる。   \n72025  [name=\"プロヴァンス\"]   じゃあ、危機契約————作戦コード「荒廃」に関して、正式...   \n72026  [name=\"プロヴァンス\"]   ここからはPRTSが関連資料の整理をしてくれるよ。もし何...   \n72027              [name=\"プロヴァンス\"]   じゃあ始めよう。みんなどうか無事でね。   \n72028      [name=\"プロヴァンス\"]   この多事多難な大地に、僕たちが希望をもたらしていこう。   \n\n                                                      zh  \n0                                  干员棘刺随罗德岛来到汐斯塔，度过休闲一日。  \n1                          而当日落临近，离乡的阿戈尔人在沙滩旁，偶然遭遇了未知的敌人  \n2                    卡彭背叛了甘比诺。莫斯提马救下了拜松。鼠王露出了真面目。龙门晚风轻拂。  \n3      优哉游哉的拜松与莫斯提马路过了一家糖果店，却也在此时被黑手党盯上。为了顺利摆脱追踪，拜松跳上...  \n4      伊斯遭到了某位黎博利的监视，而莫斯提马也早已知晓鼠王存在。重新汇合的企鹅物流众人得到了大帝的...  \n...                                                  ...  \n72024                   [name=\"杜宾\"]   做好战前的准备永远都是胜利的第一步。  \n72025         [name=\"普罗旺斯\"]   那么，危机合约————代号荒芜行动，正式转交给博士。  \n72026  [name=\"普罗旺斯\"]   PRTS会做好后续的相关资料整理工作，如果还有疑问博士可以在...  \n72027                    [name=\"普罗旺斯\"]   行动正式开始，祝大家一切顺利。  \n72028                  [name=\"普罗旺斯\"]   愿我们能为这片多灾的大地带去希望。  \n\n[72029 rows x 3 columns]",
      "text/html": "<div>\n<style scoped>\n    .dataframe tbody tr th:only-of-type {\n        vertical-align: middle;\n    }\n\n    .dataframe tbody tr th {\n        vertical-align: top;\n    }\n\n    .dataframe thead th {\n        text-align: right;\n    }\n</style>\n<table border=\"1\" class=\"dataframe\">\n  <thead>\n    <tr style=\"text-align: right;\">\n      <th></th>\n      <th>en</th>\n      <th>ja</th>\n      <th>zh</th>\n    </tr>\n  </thead>\n  <tbody>\n    <tr>\n      <th>0</th>\n      <td>Operator Thorns accompanies Rhodes Island to S...</td>\n      <td>ロドス一行と共にシエスタに来たソーンズは、一日の休日を謳歌する。</td>\n      <td>干员棘刺随罗德岛来到汐斯塔，度过休闲一日。</td>\n    </tr>\n    <tr>\n      <th>1</th>\n      <td>When the sun started to set, the Ægirians, far...</td>\n      <td>日が沈みゆく中、エーギル人は異郷のビーチに佇んでいた。程なくして、未知の敵と遭遇する——</td>\n      <td>而当日落临近，离乡的阿戈尔人在沙滩旁，偶然遭遇了未知的敌人</td>\n    </tr>\n    <tr>\n      <th>2</th>\n      <td>Capone betrayed Gambino. Mostima rescued Bison...</td>\n      <td>カポネはガンビーノを裏切った。モスティマはバイソンを救い出した。そして鼠王は本当の姿を見せた...</td>\n      <td>卡彭背叛了甘比诺。莫斯提马救下了拜松。鼠王露出了真面目。龙门晚风轻拂。</td>\n    </tr>\n    <tr>\n      <th>3</th>\n      <td>Bison and Mostima, while wandering around seem...</td>\n      <td>悠々と街を歩くバイソンとモスティマは、飴屋の前を通りかかったところでマフィアに狙われてしまう...</td>\n      <td>优哉游哉的拜松与莫斯提马路过了一家糖果店，却也在此时被黑手党盯上。为了顺利摆脱追踪，拜松跳上...</td>\n    </tr>\n    <tr>\n      <th>4</th>\n      <td>Yith is being watched by a certain Liberi, and...</td>\n      <td>イースはあるリーベリに監視されており、そしてモスティマは以前から鼠王の存在を知っていた。 再...</td>\n      <td>伊斯遭到了某位黎博利的监视，而莫斯提马也早已知晓鼠王存在。重新汇合的企鹅物流众人得到了大帝的...</td>\n    </tr>\n    <tr>\n      <th>...</th>\n      <td>...</td>\n      <td>...</td>\n      <td>...</td>\n    </tr>\n    <tr>\n      <th>72024</th>\n      <td>[name=\"Dobermann\"]   Preparation is always the...</td>\n      <td>[name=\"ドーベルマン\"]   作戦前の周到な準備は、常に勝利への第一歩となる。</td>\n      <td>[name=\"杜宾\"]   做好战前的准备永远都是胜利的第一步。</td>\n    </tr>\n    <tr>\n      <th>72025</th>\n      <td>[name=\"Provence\"]   Now then, I will be offici...</td>\n      <td>[name=\"プロヴァンス\"]   じゃあ、危機契約————作戦コード「荒廃」に関して、正式...</td>\n      <td>[name=\"普罗旺斯\"]   那么，危机合约————代号荒芜行动，正式转交给博士。</td>\n    </tr>\n    <tr>\n      <th>72026</th>\n      <td>[name=\"Provence\"]   Subsequently, PRTS will co...</td>\n      <td>[name=\"プロヴァンス\"]   ここからはPRTSが関連資料の整理をしてくれるよ。もし何...</td>\n      <td>[name=\"普罗旺斯\"]   PRTS会做好后续的相关资料整理工作，如果还有疑问博士可以在...</td>\n    </tr>\n    <tr>\n      <th>72027</th>\n      <td>[name=\"Provence\"]   The operation has official...</td>\n      <td>[name=\"プロヴァンス\"]   じゃあ始めよう。みんなどうか無事でね。</td>\n      <td>[name=\"普罗旺斯\"]   行动正式开始，祝大家一切顺利。</td>\n    </tr>\n    <tr>\n      <th>72028</th>\n      <td>[name=\"Provence\"]   May we bring hope to this ...</td>\n      <td>[name=\"プロヴァンス\"]   この多事多難な大地に、僕たちが希望をもたらしていこう。</td>\n      <td>[name=\"普罗旺斯\"]   愿我们能为这片多灾的大地带去希望。</td>\n    </tr>\n  </tbody>\n</table>\n<p>72029 rows × 3 columns</p>\n</div>"
     },
     "execution_count": 3,
     "metadata": {},
     "output_type": "execute_result"
    }
   ],
   "source": [
    "# load all en ja zh txt file into df\n",
    "# empty line should be removed\n",
    "# should remove lines like: [some word]\n",
    "regex = re.compile(r'^(\\[[^\\]]+\\][\\n]*)$')\n",
    "\n",
    "df = pd.DataFrame(columns=['en', 'ja', 'zh'])\n",
    "for en_file, ja_file, zh_file in tqdm(\n",
    "    zip(en_story_files, ja_story_files, zh_story_files), total=len(en_story_files)\n",
    "):\n",
    "    en_story_text, ja_story_text, zh_story_text = [], [], []\n",
    "    with open(en_file, 'r', encoding='utf-8') as f:\n",
    "        for line in f.readlines():\n",
    "            if line == '' or line == '\\n':\n",
    "                continue\n",
    "            elif regex.match(line):\n",
    "                continue\n",
    "            line = line.strip('\\n')\n",
    "            en_story_text.append(line)\n",
    "    with open(ja_file, 'r', encoding='utf-8') as f:\n",
    "        for line in f.readlines():\n",
    "            if line == '' or line == '\\n':\n",
    "                continue\n",
    "            elif regex.match(line):\n",
    "                continue\n",
    "            line = line.strip('\\n')\n",
    "            ja_story_text.append(line)\n",
    "    with open(zh_file, 'r', encoding='utf-8') as f:\n",
    "        for line in f.readlines():\n",
    "            if line == '' or line == '\\n':\n",
    "                continue\n",
    "            elif regex.match(line):\n",
    "                continue\n",
    "            line = line.strip('\\n')\n",
    "            zh_story_text.append(line)\n",
    "\n",
    "    df =  pd.concat([df,\n",
    "        pd.DataFrame({\n",
    "            'en': en_story_text,\n",
    "            'ja': ja_story_text,\n",
    "            'zh': zh_story_text})\n",
    "                     ], ignore_index=True)\n",
    "df"
   ],
   "metadata": {
    "collapsed": false,
    "ExecuteTime": {
     "end_time": "2023-07-02T13:03:11.046251781Z",
     "start_time": "2023-07-02T13:03:06.250253933Z"
    }
   }
  },
  {
   "cell_type": "code",
   "execution_count": 4,
   "outputs": [
    {
     "data": {
      "text/plain": "                                                      en  \\\n0      Operator Thorns accompanies Rhodes Island to S...   \n1      When the sun started to set, the Ægirians, far...   \n2      Capone betrayed Gambino. Mostima rescued Bison...   \n3      Bison and Mostima, while wandering around seem...   \n4      Yith is being watched by a certain Liberi, and...   \n...                                                  ...   \n72024  [name=\"Dobermann\"]   Preparation is always the...   \n72025  [name=\"Provence\"]   Now then, I will be offici...   \n72026  [name=\"Provence\"]   Subsequently, PRTS will co...   \n72027  [name=\"Provence\"]   The operation has official...   \n72028  [name=\"Provence\"]   May we bring hope to this ...   \n\n                                                      ja  \\\n0                       ロドス一行と共にシエスタに来たソーンズは、一日の休日を謳歌する。   \n1           日が沈みゆく中、エーギル人は異郷のビーチに佇んでいた。程なくして、未知の敵と遭遇する——   \n2      カポネはガンビーノを裏切った。モスティマはバイソンを救い出した。そして鼠王は本当の姿を見せた...   \n3      悠々と街を歩くバイソンとモスティマは、飴屋の前を通りかかったところでマフィアに狙われてしまう...   \n4      イースはあるリーベリに監視されており、そしてモスティマは以前から鼠王の存在を知っていた。 再...   \n...                                                  ...   \n72024         [name=\"ドーベルマン\"]   作戦前の周到な準備は、常に勝利への第一歩となる。   \n72025  [name=\"プロヴァンス\"]   じゃあ、危機契約————作戦コード「荒廃」に関して、正式...   \n72026  [name=\"プロヴァンス\"]   ここからはPRTSが関連資料の整理をしてくれるよ。もし何...   \n72027              [name=\"プロヴァンス\"]   じゃあ始めよう。みんなどうか無事でね。   \n72028      [name=\"プロヴァンス\"]   この多事多難な大地に、僕たちが希望をもたらしていこう。   \n\n                                                      zh  \n0                                  干员棘刺随罗德岛来到汐斯塔，度过休闲一日。  \n1                          而当日落临近，离乡的阿戈尔人在沙滩旁，偶然遭遇了未知的敌人  \n2                    卡彭背叛了甘比诺。莫斯提马救下了拜松。鼠王露出了真面目。龙门晚风轻拂。  \n3      优哉游哉的拜松与莫斯提马路过了一家糖果店，却也在此时被黑手党盯上。为了顺利摆脱追踪，拜松跳上...  \n4      伊斯遭到了某位黎博利的监视，而莫斯提马也早已知晓鼠王存在。重新汇合的企鹅物流众人得到了大帝的...  \n...                                                  ...  \n72024                   [name=\"杜宾\"]   做好战前的准备永远都是胜利的第一步。  \n72025         [name=\"普罗旺斯\"]   那么，危机合约————代号荒芜行动，正式转交给博士。  \n72026  [name=\"普罗旺斯\"]   PRTS会做好后续的相关资料整理工作，如果还有疑问博士可以在...  \n72027                    [name=\"普罗旺斯\"]   行动正式开始，祝大家一切顺利。  \n72028                  [name=\"普罗旺斯\"]   愿我们能为这片多灾的大地带去希望。  \n\n[68894 rows x 3 columns]",
      "text/html": "<div>\n<style scoped>\n    .dataframe tbody tr th:only-of-type {\n        vertical-align: middle;\n    }\n\n    .dataframe tbody tr th {\n        vertical-align: top;\n    }\n\n    .dataframe thead th {\n        text-align: right;\n    }\n</style>\n<table border=\"1\" class=\"dataframe\">\n  <thead>\n    <tr style=\"text-align: right;\">\n      <th></th>\n      <th>en</th>\n      <th>ja</th>\n      <th>zh</th>\n    </tr>\n  </thead>\n  <tbody>\n    <tr>\n      <th>0</th>\n      <td>Operator Thorns accompanies Rhodes Island to S...</td>\n      <td>ロドス一行と共にシエスタに来たソーンズは、一日の休日を謳歌する。</td>\n      <td>干员棘刺随罗德岛来到汐斯塔，度过休闲一日。</td>\n    </tr>\n    <tr>\n      <th>1</th>\n      <td>When the sun started to set, the Ægirians, far...</td>\n      <td>日が沈みゆく中、エーギル人は異郷のビーチに佇んでいた。程なくして、未知の敵と遭遇する——</td>\n      <td>而当日落临近，离乡的阿戈尔人在沙滩旁，偶然遭遇了未知的敌人</td>\n    </tr>\n    <tr>\n      <th>2</th>\n      <td>Capone betrayed Gambino. Mostima rescued Bison...</td>\n      <td>カポネはガンビーノを裏切った。モスティマはバイソンを救い出した。そして鼠王は本当の姿を見せた...</td>\n      <td>卡彭背叛了甘比诺。莫斯提马救下了拜松。鼠王露出了真面目。龙门晚风轻拂。</td>\n    </tr>\n    <tr>\n      <th>3</th>\n      <td>Bison and Mostima, while wandering around seem...</td>\n      <td>悠々と街を歩くバイソンとモスティマは、飴屋の前を通りかかったところでマフィアに狙われてしまう...</td>\n      <td>优哉游哉的拜松与莫斯提马路过了一家糖果店，却也在此时被黑手党盯上。为了顺利摆脱追踪，拜松跳上...</td>\n    </tr>\n    <tr>\n      <th>4</th>\n      <td>Yith is being watched by a certain Liberi, and...</td>\n      <td>イースはあるリーベリに監視されており、そしてモスティマは以前から鼠王の存在を知っていた。 再...</td>\n      <td>伊斯遭到了某位黎博利的监视，而莫斯提马也早已知晓鼠王存在。重新汇合的企鹅物流众人得到了大帝的...</td>\n    </tr>\n    <tr>\n      <th>...</th>\n      <td>...</td>\n      <td>...</td>\n      <td>...</td>\n    </tr>\n    <tr>\n      <th>72024</th>\n      <td>[name=\"Dobermann\"]   Preparation is always the...</td>\n      <td>[name=\"ドーベルマン\"]   作戦前の周到な準備は、常に勝利への第一歩となる。</td>\n      <td>[name=\"杜宾\"]   做好战前的准备永远都是胜利的第一步。</td>\n    </tr>\n    <tr>\n      <th>72025</th>\n      <td>[name=\"Provence\"]   Now then, I will be offici...</td>\n      <td>[name=\"プロヴァンス\"]   じゃあ、危機契約————作戦コード「荒廃」に関して、正式...</td>\n      <td>[name=\"普罗旺斯\"]   那么，危机合约————代号荒芜行动，正式转交给博士。</td>\n    </tr>\n    <tr>\n      <th>72026</th>\n      <td>[name=\"Provence\"]   Subsequently, PRTS will co...</td>\n      <td>[name=\"プロヴァンス\"]   ここからはPRTSが関連資料の整理をしてくれるよ。もし何...</td>\n      <td>[name=\"普罗旺斯\"]   PRTS会做好后续的相关资料整理工作，如果还有疑问博士可以在...</td>\n    </tr>\n    <tr>\n      <th>72027</th>\n      <td>[name=\"Provence\"]   The operation has official...</td>\n      <td>[name=\"プロヴァンス\"]   じゃあ始めよう。みんなどうか無事でね。</td>\n      <td>[name=\"普罗旺斯\"]   行动正式开始，祝大家一切顺利。</td>\n    </tr>\n    <tr>\n      <th>72028</th>\n      <td>[name=\"Provence\"]   May we bring hope to this ...</td>\n      <td>[name=\"プロヴァンス\"]   この多事多難な大地に、僕たちが希望をもたらしていこう。</td>\n      <td>[name=\"普罗旺斯\"]   愿我们能为这片多灾的大地带去希望。</td>\n    </tr>\n  </tbody>\n</table>\n<p>68894 rows × 3 columns</p>\n</div>"
     },
     "execution_count": 4,
     "metadata": {},
     "output_type": "execute_result"
    }
   ],
   "source": [
    "# drop duplicate\n",
    "df = df.drop_duplicates(subset=['en', 'ja', 'zh'], keep='first')\n",
    "df"
   ],
   "metadata": {
    "collapsed": false,
    "ExecuteTime": {
     "end_time": "2023-07-02T13:03:11.231065684Z",
     "start_time": "2023-07-02T13:03:11.044837811Z"
    }
   }
  },
  {
   "cell_type": "code",
   "execution_count": 5,
   "outputs": [
    {
     "name": "stderr",
     "output_type": "stream",
     "text": [
      "/tmp/ipykernel_5155/3367292161.py:4: SettingWithCopyWarning: \n",
      "A value is trying to be set on a copy of a slice from a DataFrame.\n",
      "Try using .loc[row_indexer,col_indexer] = value instead\n",
      "\n",
      "See the caveats in the documentation: https://pandas.pydata.org/pandas-docs/stable/user_guide/indexing.html#returning-a-view-versus-a-copy\n",
      "  df['en'] = df['en'].apply(lambda x: regex.sub('', x))\n",
      "/tmp/ipykernel_5155/3367292161.py:5: SettingWithCopyWarning: \n",
      "A value is trying to be set on a copy of a slice from a DataFrame.\n",
      "Try using .loc[row_indexer,col_indexer] = value instead\n",
      "\n",
      "See the caveats in the documentation: https://pandas.pydata.org/pandas-docs/stable/user_guide/indexing.html#returning-a-view-versus-a-copy\n",
      "  df['ja'] = df['ja'].apply(lambda x: regex.sub('', x))\n",
      "/tmp/ipykernel_5155/3367292161.py:6: SettingWithCopyWarning: \n",
      "A value is trying to be set on a copy of a slice from a DataFrame.\n",
      "Try using .loc[row_indexer,col_indexer] = value instead\n",
      "\n",
      "See the caveats in the documentation: https://pandas.pydata.org/pandas-docs/stable/user_guide/indexing.html#returning-a-view-versus-a-copy\n",
      "  df['zh'] = df['zh'].apply(lambda x: regex.sub('', x))\n"
     ]
    },
    {
     "data": {
      "text/plain": "                                                      en  \\\n0      Operator Thorns accompanies Rhodes Island to S...   \n1      When the sun started to set, the Ægirians, far...   \n2      Capone betrayed Gambino. Mostima rescued Bison...   \n3      Bison and Mostima, while wandering around seem...   \n4      Yith is being watched by a certain Liberi, and...   \n...                                                  ...   \n72024   Preparation is always the first step of victory.   \n72025  Now then, I will be officially transferring th...   \n72026  Subsequently, PRTS will collate all the releva...   \n72027  The operation has officially begun. I wish eve...   \n72028  May we bring hope to this Catastrophe-stricken...   \n\n                                                      ja  \\\n0                       ロドス一行と共にシエスタに来たソーンズは、一日の休日を謳歌する。   \n1           日が沈みゆく中、エーギル人は異郷のビーチに佇んでいた。程なくして、未知の敵と遭遇する——   \n2      カポネはガンビーノを裏切った。モスティマはバイソンを救い出した。そして鼠王は本当の姿を見せた...   \n3      悠々と街を歩くバイソンとモスティマは、飴屋の前を通りかかったところでマフィアに狙われてしまう...   \n4      イースはあるリーベリに監視されており、そしてモスティマは以前から鼠王の存在を知っていた。 再...   \n...                                                  ...   \n72024                           作戦前の周到な準備は、常に勝利への第一歩となる。   \n72025           じゃあ、危機契約————作戦コード「荒廃」に関して、正式にドクターに委任するよ。   \n72026  ここからはPRTSが関連資料の整理をしてくれるよ。もし何か分からないことがあったら管理画面で...   \n72027                                じゃあ始めよう。みんなどうか無事でね。   \n72028                        この多事多難な大地に、僕たちが希望をもたらしていこう。   \n\n                                                      zh  \n0                                  干员棘刺随罗德岛来到汐斯塔，度过休闲一日。  \n1                          而当日落临近，离乡的阿戈尔人在沙滩旁，偶然遭遇了未知的敌人  \n2                    卡彭背叛了甘比诺。莫斯提马救下了拜松。鼠王露出了真面目。龙门晚风轻拂。  \n3      优哉游哉的拜松与莫斯提马路过了一家糖果店，却也在此时被黑手党盯上。为了顺利摆脱追踪，拜松跳上...  \n4      伊斯遭到了某位黎博利的监视，而莫斯提马也早已知晓鼠王存在。重新汇合的企鹅物流众人得到了大帝的...  \n...                                                  ...  \n72024                                 做好战前的准备永远都是胜利的第一步。  \n72025                         那么，危机合约————代号荒芜行动，正式转交给博士。  \n72026           PRTS会做好后续的相关资料整理工作，如果还有疑问博士可以在管理界面进行再确认。  \n72027                                    行动正式开始，祝大家一切顺利。  \n72028                                  愿我们能为这片多灾的大地带去希望。  \n\n[68894 rows x 3 columns]",
      "text/html": "<div>\n<style scoped>\n    .dataframe tbody tr th:only-of-type {\n        vertical-align: middle;\n    }\n\n    .dataframe tbody tr th {\n        vertical-align: top;\n    }\n\n    .dataframe thead th {\n        text-align: right;\n    }\n</style>\n<table border=\"1\" class=\"dataframe\">\n  <thead>\n    <tr style=\"text-align: right;\">\n      <th></th>\n      <th>en</th>\n      <th>ja</th>\n      <th>zh</th>\n    </tr>\n  </thead>\n  <tbody>\n    <tr>\n      <th>0</th>\n      <td>Operator Thorns accompanies Rhodes Island to S...</td>\n      <td>ロドス一行と共にシエスタに来たソーンズは、一日の休日を謳歌する。</td>\n      <td>干员棘刺随罗德岛来到汐斯塔，度过休闲一日。</td>\n    </tr>\n    <tr>\n      <th>1</th>\n      <td>When the sun started to set, the Ægirians, far...</td>\n      <td>日が沈みゆく中、エーギル人は異郷のビーチに佇んでいた。程なくして、未知の敵と遭遇する——</td>\n      <td>而当日落临近，离乡的阿戈尔人在沙滩旁，偶然遭遇了未知的敌人</td>\n    </tr>\n    <tr>\n      <th>2</th>\n      <td>Capone betrayed Gambino. Mostima rescued Bison...</td>\n      <td>カポネはガンビーノを裏切った。モスティマはバイソンを救い出した。そして鼠王は本当の姿を見せた...</td>\n      <td>卡彭背叛了甘比诺。莫斯提马救下了拜松。鼠王露出了真面目。龙门晚风轻拂。</td>\n    </tr>\n    <tr>\n      <th>3</th>\n      <td>Bison and Mostima, while wandering around seem...</td>\n      <td>悠々と街を歩くバイソンとモスティマは、飴屋の前を通りかかったところでマフィアに狙われてしまう...</td>\n      <td>优哉游哉的拜松与莫斯提马路过了一家糖果店，却也在此时被黑手党盯上。为了顺利摆脱追踪，拜松跳上...</td>\n    </tr>\n    <tr>\n      <th>4</th>\n      <td>Yith is being watched by a certain Liberi, and...</td>\n      <td>イースはあるリーベリに監視されており、そしてモスティマは以前から鼠王の存在を知っていた。 再...</td>\n      <td>伊斯遭到了某位黎博利的监视，而莫斯提马也早已知晓鼠王存在。重新汇合的企鹅物流众人得到了大帝的...</td>\n    </tr>\n    <tr>\n      <th>...</th>\n      <td>...</td>\n      <td>...</td>\n      <td>...</td>\n    </tr>\n    <tr>\n      <th>72024</th>\n      <td>Preparation is always the first step of victory.</td>\n      <td>作戦前の周到な準備は、常に勝利への第一歩となる。</td>\n      <td>做好战前的准备永远都是胜利的第一步。</td>\n    </tr>\n    <tr>\n      <th>72025</th>\n      <td>Now then, I will be officially transferring th...</td>\n      <td>じゃあ、危機契約————作戦コード「荒廃」に関して、正式にドクターに委任するよ。</td>\n      <td>那么，危机合约————代号荒芜行动，正式转交给博士。</td>\n    </tr>\n    <tr>\n      <th>72026</th>\n      <td>Subsequently, PRTS will collate all the releva...</td>\n      <td>ここからはPRTSが関連資料の整理をしてくれるよ。もし何か分からないことがあったら管理画面で...</td>\n      <td>PRTS会做好后续的相关资料整理工作，如果还有疑问博士可以在管理界面进行再确认。</td>\n    </tr>\n    <tr>\n      <th>72027</th>\n      <td>The operation has officially begun. I wish eve...</td>\n      <td>じゃあ始めよう。みんなどうか無事でね。</td>\n      <td>行动正式开始，祝大家一切顺利。</td>\n    </tr>\n    <tr>\n      <th>72028</th>\n      <td>May we bring hope to this Catastrophe-stricken...</td>\n      <td>この多事多難な大地に、僕たちが希望をもたらしていこう。</td>\n      <td>愿我们能为这片多灾的大地带去希望。</td>\n    </tr>\n  </tbody>\n</table>\n<p>68894 rows × 3 columns</p>\n</div>"
     },
     "execution_count": 5,
     "metadata": {},
     "output_type": "execute_result"
    }
   ],
   "source": [
    "# remove name tag of dialog\n",
    "# which is like: [...]   dialog, just keep dialog\n",
    "regex = re.compile(r'^(\\[[^\\]]+\\][ ]*)')\n",
    "df['en'] = df['en'].apply(lambda x: regex.sub('', x))\n",
    "df['ja'] = df['ja'].apply(lambda x: regex.sub('', x))\n",
    "df['zh'] = df['zh'].apply(lambda x: regex.sub('', x))\n",
    "df"
   ],
   "metadata": {
    "collapsed": false,
    "ExecuteTime": {
     "end_time": "2023-07-02T13:03:11.436155650Z",
     "start_time": "2023-07-02T13:03:11.202383700Z"
    }
   }
  },
  {
   "cell_type": "code",
   "execution_count": 6,
   "outputs": [
    {
     "data": {
      "text/plain": "                                                      en  \\\n0      Operator Thorns accompanies Rhodes Island to S...   \n1      When the sun started to set, the Ægirians, far...   \n2      Capone betrayed Gambino. Mostima rescued Bison...   \n3      Bison and Mostima, while wandering around seem...   \n4      Yith is being watched by a certain Liberi, and...   \n...                                                  ...   \n72024   Preparation is always the first step of victory.   \n72025  Now then, I will be officially transferring th...   \n72026  Subsequently, PRTS will collate all the releva...   \n72027  The operation has officially begun. I wish eve...   \n72028  May we bring hope to this Catastrophe-stricken...   \n\n                                                      ja  \\\n0                       ロドス一行と共にシエスタに来たソーンズは、一日の休日を謳歌する。   \n1           日が沈みゆく中、エーギル人は異郷のビーチに佇んでいた。程なくして、未知の敵と遭遇する——   \n2      カポネはガンビーノを裏切った。モスティマはバイソンを救い出した。そして鼠王は本当の姿を見せた...   \n3      悠々と街を歩くバイソンとモスティマは、飴屋の前を通りかかったところでマフィアに狙われてしまう...   \n4      イースはあるリーベリに監視されており、そしてモスティマは以前から鼠王の存在を知っていた。 再...   \n...                                                  ...   \n72024                           作戦前の周到な準備は、常に勝利への第一歩となる。   \n72025           じゃあ、危機契約————作戦コード「荒廃」に関して、正式にドクターに委任するよ。   \n72026  ここからはPRTSが関連資料の整理をしてくれるよ。もし何か分からないことがあったら管理画面で...   \n72027                                じゃあ始めよう。みんなどうか無事でね。   \n72028                        この多事多難な大地に、僕たちが希望をもたらしていこう。   \n\n                                                      zh  \n0                                  干员棘刺随罗德岛来到汐斯塔，度过休闲一日。  \n1                          而当日落临近，离乡的阿戈尔人在沙滩旁，偶然遭遇了未知的敌人  \n2                    卡彭背叛了甘比诺。莫斯提马救下了拜松。鼠王露出了真面目。龙门晚风轻拂。  \n3      优哉游哉的拜松与莫斯提马路过了一家糖果店，却也在此时被黑手党盯上。为了顺利摆脱追踪，拜松跳上...  \n4      伊斯遭到了某位黎博利的监视，而莫斯提马也早已知晓鼠王存在。重新汇合的企鹅物流众人得到了大帝的...  \n...                                                  ...  \n72024                                 做好战前的准备永远都是胜利的第一步。  \n72025                         那么，危机合约————代号荒芜行动，正式转交给博士。  \n72026           PRTS会做好后续的相关资料整理工作，如果还有疑问博士可以在管理界面进行再确认。  \n72027                                    行动正式开始，祝大家一切顺利。  \n72028                                  愿我们能为这片多灾的大地带去希望。  \n\n[67765 rows x 3 columns]",
      "text/html": "<div>\n<style scoped>\n    .dataframe tbody tr th:only-of-type {\n        vertical-align: middle;\n    }\n\n    .dataframe tbody tr th {\n        vertical-align: top;\n    }\n\n    .dataframe thead th {\n        text-align: right;\n    }\n</style>\n<table border=\"1\" class=\"dataframe\">\n  <thead>\n    <tr style=\"text-align: right;\">\n      <th></th>\n      <th>en</th>\n      <th>ja</th>\n      <th>zh</th>\n    </tr>\n  </thead>\n  <tbody>\n    <tr>\n      <th>0</th>\n      <td>Operator Thorns accompanies Rhodes Island to S...</td>\n      <td>ロドス一行と共にシエスタに来たソーンズは、一日の休日を謳歌する。</td>\n      <td>干员棘刺随罗德岛来到汐斯塔，度过休闲一日。</td>\n    </tr>\n    <tr>\n      <th>1</th>\n      <td>When the sun started to set, the Ægirians, far...</td>\n      <td>日が沈みゆく中、エーギル人は異郷のビーチに佇んでいた。程なくして、未知の敵と遭遇する——</td>\n      <td>而当日落临近，离乡的阿戈尔人在沙滩旁，偶然遭遇了未知的敌人</td>\n    </tr>\n    <tr>\n      <th>2</th>\n      <td>Capone betrayed Gambino. Mostima rescued Bison...</td>\n      <td>カポネはガンビーノを裏切った。モスティマはバイソンを救い出した。そして鼠王は本当の姿を見せた...</td>\n      <td>卡彭背叛了甘比诺。莫斯提马救下了拜松。鼠王露出了真面目。龙门晚风轻拂。</td>\n    </tr>\n    <tr>\n      <th>3</th>\n      <td>Bison and Mostima, while wandering around seem...</td>\n      <td>悠々と街を歩くバイソンとモスティマは、飴屋の前を通りかかったところでマフィアに狙われてしまう...</td>\n      <td>优哉游哉的拜松与莫斯提马路过了一家糖果店，却也在此时被黑手党盯上。为了顺利摆脱追踪，拜松跳上...</td>\n    </tr>\n    <tr>\n      <th>4</th>\n      <td>Yith is being watched by a certain Liberi, and...</td>\n      <td>イースはあるリーベリに監視されており、そしてモスティマは以前から鼠王の存在を知っていた。 再...</td>\n      <td>伊斯遭到了某位黎博利的监视，而莫斯提马也早已知晓鼠王存在。重新汇合的企鹅物流众人得到了大帝的...</td>\n    </tr>\n    <tr>\n      <th>...</th>\n      <td>...</td>\n      <td>...</td>\n      <td>...</td>\n    </tr>\n    <tr>\n      <th>72024</th>\n      <td>Preparation is always the first step of victory.</td>\n      <td>作戦前の周到な準備は、常に勝利への第一歩となる。</td>\n      <td>做好战前的准备永远都是胜利的第一步。</td>\n    </tr>\n    <tr>\n      <th>72025</th>\n      <td>Now then, I will be officially transferring th...</td>\n      <td>じゃあ、危機契約————作戦コード「荒廃」に関して、正式にドクターに委任するよ。</td>\n      <td>那么，危机合约————代号荒芜行动，正式转交给博士。</td>\n    </tr>\n    <tr>\n      <th>72026</th>\n      <td>Subsequently, PRTS will collate all the releva...</td>\n      <td>ここからはPRTSが関連資料の整理をしてくれるよ。もし何か分からないことがあったら管理画面で...</td>\n      <td>PRTS会做好后续的相关资料整理工作，如果还有疑问博士可以在管理界面进行再确认。</td>\n    </tr>\n    <tr>\n      <th>72027</th>\n      <td>The operation has officially begun. I wish eve...</td>\n      <td>じゃあ始めよう。みんなどうか無事でね。</td>\n      <td>行动正式开始，祝大家一切顺利。</td>\n    </tr>\n    <tr>\n      <th>72028</th>\n      <td>May we bring hope to this Catastrophe-stricken...</td>\n      <td>この多事多難な大地に、僕たちが希望をもたらしていこう。</td>\n      <td>愿我们能为这片多灾的大地带去希望。</td>\n    </tr>\n  </tbody>\n</table>\n<p>67765 rows × 3 columns</p>\n</div>"
     },
     "execution_count": 6,
     "metadata": {},
     "output_type": "execute_result"
    }
   ],
   "source": [
    "# remove row with only punctuation\n",
    "df = df[~df['en'].str.match(r'^[^\\w\\s]+$')]\n",
    "df = df[~df['ja'].str.match(r'^[^\\w\\s]+$')]\n",
    "df = df[~df['zh'].str.match(r'^[^\\w\\s]+$')]\n",
    "df"
   ],
   "metadata": {
    "collapsed": false,
    "ExecuteTime": {
     "end_time": "2023-07-02T13:03:11.564184375Z",
     "start_time": "2023-07-02T13:03:11.422217911Z"
    }
   }
  },
  {
   "cell_type": "code",
   "execution_count": 7,
   "outputs": [
    {
     "data": {
      "text/plain": "                                                      en  \\\n0      Operator Thorns accompanies Rhodes Island to S...   \n1      When the sun started to set, the Ægirians, far...   \n2      Capone betrayed Gambino. Mostima rescued Bison...   \n3      Bison and Mostima, while wandering around seem...   \n4      Yith is being watched by a certain Liberi, and...   \n...                                                  ...   \n72024   Preparation is always the first step of victory.   \n72025  Now then, I will be officially transferring th...   \n72026  Subsequently, PRTS will collate all the releva...   \n72027  The operation has officially begun. I wish eve...   \n72028  May we bring hope to this Catastrophe-stricken...   \n\n                                                      ja  \\\n0                       ロドス一行と共にシエスタに来たソーンズは、一日の休日を謳歌する。   \n1           日が沈みゆく中、エーギル人は異郷のビーチに佇んでいた。程なくして、未知の敵と遭遇する——   \n2      カポネはガンビーノを裏切った。モスティマはバイソンを救い出した。そして鼠王は本当の姿を見せた...   \n3      悠々と街を歩くバイソンとモスティマは、飴屋の前を通りかかったところでマフィアに狙われてしまう...   \n4      イースはあるリーベリに監視されており、そしてモスティマは以前から鼠王の存在を知っていた。 再...   \n...                                                  ...   \n72024                           作戦前の周到な準備は、常に勝利への第一歩となる。   \n72025           じゃあ、危機契約————作戦コード「荒廃」に関して、正式にドクターに委任するよ。   \n72026  ここからはPRTSが関連資料の整理をしてくれるよ。もし何か分からないことがあったら管理画面で...   \n72027                                じゃあ始めよう。みんなどうか無事でね。   \n72028                        この多事多難な大地に、僕たちが希望をもたらしていこう。   \n\n                                                      zh  \n0                                  干员棘刺随罗德岛来到汐斯塔，度过休闲一日。  \n1                          而当日落临近，离乡的阿戈尔人在沙滩旁，偶然遭遇了未知的敌人  \n2                    卡彭背叛了甘比诺。莫斯提马救下了拜松。鼠王露出了真面目。龙门晚风轻拂。  \n3      优哉游哉的拜松与莫斯提马路过了一家糖果店，却也在此时被黑手党盯上。为了顺利摆脱追踪，拜松跳上...  \n4      伊斯遭到了某位黎博利的监视，而莫斯提马也早已知晓鼠王存在。重新汇合的企鹅物流众人得到了大帝的...  \n...                                                  ...  \n72024                                 做好战前的准备永远都是胜利的第一步。  \n72025                         那么，危机合约————代号荒芜行动，正式转交给博士。  \n72026           PRTS会做好后续的相关资料整理工作，如果还有疑问博士可以在管理界面进行再确认。  \n72027                                    行动正式开始，祝大家一切顺利。  \n72028                                  愿我们能为这片多灾的大地带去希望。  \n\n[67765 rows x 3 columns]",
      "text/html": "<div>\n<style scoped>\n    .dataframe tbody tr th:only-of-type {\n        vertical-align: middle;\n    }\n\n    .dataframe tbody tr th {\n        vertical-align: top;\n    }\n\n    .dataframe thead th {\n        text-align: right;\n    }\n</style>\n<table border=\"1\" class=\"dataframe\">\n  <thead>\n    <tr style=\"text-align: right;\">\n      <th></th>\n      <th>en</th>\n      <th>ja</th>\n      <th>zh</th>\n    </tr>\n  </thead>\n  <tbody>\n    <tr>\n      <th>0</th>\n      <td>Operator Thorns accompanies Rhodes Island to S...</td>\n      <td>ロドス一行と共にシエスタに来たソーンズは、一日の休日を謳歌する。</td>\n      <td>干员棘刺随罗德岛来到汐斯塔，度过休闲一日。</td>\n    </tr>\n    <tr>\n      <th>1</th>\n      <td>When the sun started to set, the Ægirians, far...</td>\n      <td>日が沈みゆく中、エーギル人は異郷のビーチに佇んでいた。程なくして、未知の敵と遭遇する——</td>\n      <td>而当日落临近，离乡的阿戈尔人在沙滩旁，偶然遭遇了未知的敌人</td>\n    </tr>\n    <tr>\n      <th>2</th>\n      <td>Capone betrayed Gambino. Mostima rescued Bison...</td>\n      <td>カポネはガンビーノを裏切った。モスティマはバイソンを救い出した。そして鼠王は本当の姿を見せた...</td>\n      <td>卡彭背叛了甘比诺。莫斯提马救下了拜松。鼠王露出了真面目。龙门晚风轻拂。</td>\n    </tr>\n    <tr>\n      <th>3</th>\n      <td>Bison and Mostima, while wandering around seem...</td>\n      <td>悠々と街を歩くバイソンとモスティマは、飴屋の前を通りかかったところでマフィアに狙われてしまう...</td>\n      <td>优哉游哉的拜松与莫斯提马路过了一家糖果店，却也在此时被黑手党盯上。为了顺利摆脱追踪，拜松跳上...</td>\n    </tr>\n    <tr>\n      <th>4</th>\n      <td>Yith is being watched by a certain Liberi, and...</td>\n      <td>イースはあるリーベリに監視されており、そしてモスティマは以前から鼠王の存在を知っていた。 再...</td>\n      <td>伊斯遭到了某位黎博利的监视，而莫斯提马也早已知晓鼠王存在。重新汇合的企鹅物流众人得到了大帝的...</td>\n    </tr>\n    <tr>\n      <th>...</th>\n      <td>...</td>\n      <td>...</td>\n      <td>...</td>\n    </tr>\n    <tr>\n      <th>72024</th>\n      <td>Preparation is always the first step of victory.</td>\n      <td>作戦前の周到な準備は、常に勝利への第一歩となる。</td>\n      <td>做好战前的准备永远都是胜利的第一步。</td>\n    </tr>\n    <tr>\n      <th>72025</th>\n      <td>Now then, I will be officially transferring th...</td>\n      <td>じゃあ、危機契約————作戦コード「荒廃」に関して、正式にドクターに委任するよ。</td>\n      <td>那么，危机合约————代号荒芜行动，正式转交给博士。</td>\n    </tr>\n    <tr>\n      <th>72026</th>\n      <td>Subsequently, PRTS will collate all the releva...</td>\n      <td>ここからはPRTSが関連資料の整理をしてくれるよ。もし何か分からないことがあったら管理画面で...</td>\n      <td>PRTS会做好后续的相关资料整理工作，如果还有疑问博士可以在管理界面进行再确认。</td>\n    </tr>\n    <tr>\n      <th>72027</th>\n      <td>The operation has officially begun. I wish eve...</td>\n      <td>じゃあ始めよう。みんなどうか無事でね。</td>\n      <td>行动正式开始，祝大家一切顺利。</td>\n    </tr>\n    <tr>\n      <th>72028</th>\n      <td>May we bring hope to this Catastrophe-stricken...</td>\n      <td>この多事多難な大地に、僕たちが希望をもたらしていこう。</td>\n      <td>愿我们能为这片多灾的大地带去希望。</td>\n    </tr>\n  </tbody>\n</table>\n<p>67765 rows × 3 columns</p>\n</div>"
     },
     "execution_count": 7,
     "metadata": {},
     "output_type": "execute_result"
    }
   ],
   "source": [
    "# remove lines with only numbers\n",
    "df = df[~df['en'].str.match(r'^\\d+$')]\n",
    "df = df[~df['ja'].str.match(r'^\\d+$')]\n",
    "df = df[~df['zh'].str.match(r'^\\d+$')]\n",
    "df"
   ],
   "metadata": {
    "collapsed": false,
    "ExecuteTime": {
     "end_time": "2023-07-02T13:03:11.655000395Z",
     "start_time": "2023-07-02T13:03:11.533859672Z"
    }
   }
  },
  {
   "cell_type": "code",
   "execution_count": 8,
   "outputs": [
    {
     "name": "stderr",
     "output_type": "stream",
     "text": [
      "/home/toshihiko/anaconda3/envs/pytorch201/lib/python3.8/site-packages/transformers/convert_slow_tokenizer.py:454: UserWarning: The sentencepiece tokenizer that you are converting to a fast tokenizer uses the byte fallback option which is not implemented in the fast tokenizers. In practice this means that the fast version of the tokenizer can produce unknown tokens whereas the sentencepiece version would have converted these unknown tokens into a sequence of byte tokens matching the original piece of text.\n",
      "  warnings.warn(\n"
     ]
    },
    {
     "data": {
      "text/plain": "                                                      en  \\\n0      Operator Thorns accompanies Rhodes Island to S...   \n1      When the sun started to set, the Ægirians, far...   \n2      Capone betrayed Gambino. Mostima rescued Bison...   \n3      Bison and Mostima, while wandering around seem...   \n4      Yith is being watched by a certain Liberi, and...   \n...                                                  ...   \n72024   Preparation is always the first step of victory.   \n72025  Now then, I will be officially transferring th...   \n72026  Subsequently, PRTS will collate all the releva...   \n72027  The operation has officially begun. I wish eve...   \n72028  May we bring hope to this Catastrophe-stricken...   \n\n                                                      ja  \\\n0                       ロドス一行と共にシエスタに来たソーンズは、一日の休日を謳歌する。   \n1           日が沈みゆく中、エーギル人は異郷のビーチに佇んでいた。程なくして、未知の敵と遭遇する——   \n2      カポネはガンビーノを裏切った。モスティマはバイソンを救い出した。そして鼠王は本当の姿を見せた...   \n3      悠々と街を歩くバイソンとモスティマは、飴屋の前を通りかかったところでマフィアに狙われてしまう...   \n4      イースはあるリーベリに監視されており、そしてモスティマは以前から鼠王の存在を知っていた。 再...   \n...                                                  ...   \n72024                           作戦前の周到な準備は、常に勝利への第一歩となる。   \n72025           じゃあ、危機契約————作戦コード「荒廃」に関して、正式にドクターに委任するよ。   \n72026  ここからはPRTSが関連資料の整理をしてくれるよ。もし何か分からないことがあったら管理画面で...   \n72027                                じゃあ始めよう。みんなどうか無事でね。   \n72028                        この多事多難な大地に、僕たちが希望をもたらしていこう。   \n\n                                                      zh  en_len  ja_len  \\\n0                                  干员棘刺随罗德岛来到汐斯塔，度过休闲一日。      19      22   \n1                          而当日落临近，离乡的阿戈尔人在沙滩旁，偶然遭遇了未知的敌人      31      30   \n2                    卡彭背叛了甘比诺。莫斯提马救下了拜松。鼠王露出了真面目。龙门晚风轻拂。      37      43   \n3      优哉游哉的拜松与莫斯提马路过了一家糖果店，却也在此时被黑手党盯上。为了顺利摆脱追踪，拜松跳上...      71      51   \n4      伊斯遭到了某位黎博利的监视，而莫斯提马也早已知晓鼠王存在。重新汇合的企鹅物流众人得到了大帝的...      58      45   \n...                                                  ...     ...     ...   \n72024                                 做好战前的准备永远都是胜利的第一步。      12      16   \n72025                         那么，危机合约————代号荒芜行动，正式转交给博士。      27      24   \n72026           PRTS会做好后续的相关资料整理工作，如果还有疑问博士可以在管理界面进行再确认。      29      26   \n72027                                    行动正式开始，祝大家一切顺利。      16      11   \n72028                                  愿我们能为这片多灾的大地带去希望。      13      18   \n\n       zh_len  \n0          19  \n1          25  \n2          32  \n3          53  \n4          46  \n...       ...  \n72024      11  \n72025      20  \n72026      22  \n72027      10  \n72028      15  \n\n[67765 rows x 6 columns]",
      "text/html": "<div>\n<style scoped>\n    .dataframe tbody tr th:only-of-type {\n        vertical-align: middle;\n    }\n\n    .dataframe tbody tr th {\n        vertical-align: top;\n    }\n\n    .dataframe thead th {\n        text-align: right;\n    }\n</style>\n<table border=\"1\" class=\"dataframe\">\n  <thead>\n    <tr style=\"text-align: right;\">\n      <th></th>\n      <th>en</th>\n      <th>ja</th>\n      <th>zh</th>\n      <th>en_len</th>\n      <th>ja_len</th>\n      <th>zh_len</th>\n    </tr>\n  </thead>\n  <tbody>\n    <tr>\n      <th>0</th>\n      <td>Operator Thorns accompanies Rhodes Island to S...</td>\n      <td>ロドス一行と共にシエスタに来たソーンズは、一日の休日を謳歌する。</td>\n      <td>干员棘刺随罗德岛来到汐斯塔，度过休闲一日。</td>\n      <td>19</td>\n      <td>22</td>\n      <td>19</td>\n    </tr>\n    <tr>\n      <th>1</th>\n      <td>When the sun started to set, the Ægirians, far...</td>\n      <td>日が沈みゆく中、エーギル人は異郷のビーチに佇んでいた。程なくして、未知の敵と遭遇する——</td>\n      <td>而当日落临近，离乡的阿戈尔人在沙滩旁，偶然遭遇了未知的敌人</td>\n      <td>31</td>\n      <td>30</td>\n      <td>25</td>\n    </tr>\n    <tr>\n      <th>2</th>\n      <td>Capone betrayed Gambino. Mostima rescued Bison...</td>\n      <td>カポネはガンビーノを裏切った。モスティマはバイソンを救い出した。そして鼠王は本当の姿を見せた...</td>\n      <td>卡彭背叛了甘比诺。莫斯提马救下了拜松。鼠王露出了真面目。龙门晚风轻拂。</td>\n      <td>37</td>\n      <td>43</td>\n      <td>32</td>\n    </tr>\n    <tr>\n      <th>3</th>\n      <td>Bison and Mostima, while wandering around seem...</td>\n      <td>悠々と街を歩くバイソンとモスティマは、飴屋の前を通りかかったところでマフィアに狙われてしまう...</td>\n      <td>优哉游哉的拜松与莫斯提马路过了一家糖果店，却也在此时被黑手党盯上。为了顺利摆脱追踪，拜松跳上...</td>\n      <td>71</td>\n      <td>51</td>\n      <td>53</td>\n    </tr>\n    <tr>\n      <th>4</th>\n      <td>Yith is being watched by a certain Liberi, and...</td>\n      <td>イースはあるリーベリに監視されており、そしてモスティマは以前から鼠王の存在を知っていた。 再...</td>\n      <td>伊斯遭到了某位黎博利的监视，而莫斯提马也早已知晓鼠王存在。重新汇合的企鹅物流众人得到了大帝的...</td>\n      <td>58</td>\n      <td>45</td>\n      <td>46</td>\n    </tr>\n    <tr>\n      <th>...</th>\n      <td>...</td>\n      <td>...</td>\n      <td>...</td>\n      <td>...</td>\n      <td>...</td>\n      <td>...</td>\n    </tr>\n    <tr>\n      <th>72024</th>\n      <td>Preparation is always the first step of victory.</td>\n      <td>作戦前の周到な準備は、常に勝利への第一歩となる。</td>\n      <td>做好战前的准备永远都是胜利的第一步。</td>\n      <td>12</td>\n      <td>16</td>\n      <td>11</td>\n    </tr>\n    <tr>\n      <th>72025</th>\n      <td>Now then, I will be officially transferring th...</td>\n      <td>じゃあ、危機契約————作戦コード「荒廃」に関して、正式にドクターに委任するよ。</td>\n      <td>那么，危机合约————代号荒芜行动，正式转交给博士。</td>\n      <td>27</td>\n      <td>24</td>\n      <td>20</td>\n    </tr>\n    <tr>\n      <th>72026</th>\n      <td>Subsequently, PRTS will collate all the releva...</td>\n      <td>ここからはPRTSが関連資料の整理をしてくれるよ。もし何か分からないことがあったら管理画面で...</td>\n      <td>PRTS会做好后续的相关资料整理工作，如果还有疑问博士可以在管理界面进行再确认。</td>\n      <td>29</td>\n      <td>26</td>\n      <td>22</td>\n    </tr>\n    <tr>\n      <th>72027</th>\n      <td>The operation has officially begun. I wish eve...</td>\n      <td>じゃあ始めよう。みんなどうか無事でね。</td>\n      <td>行动正式开始，祝大家一切顺利。</td>\n      <td>16</td>\n      <td>11</td>\n      <td>10</td>\n    </tr>\n    <tr>\n      <th>72028</th>\n      <td>May we bring hope to this Catastrophe-stricken...</td>\n      <td>この多事多難な大地に、僕たちが希望をもたらしていこう。</td>\n      <td>愿我们能为这片多灾的大地带去希望。</td>\n      <td>13</td>\n      <td>18</td>\n      <td>15</td>\n    </tr>\n  </tbody>\n</table>\n<p>67765 rows × 6 columns</p>\n</div>"
     },
     "execution_count": 8,
     "metadata": {},
     "output_type": "execute_result"
    }
   ],
   "source": [
    "# remove lines that tokens is more than 256 or less than 1\n",
    "from transformers import MT5TokenizerFast\n",
    "tokenizer = MT5TokenizerFast.from_pretrained('google/mt5-small')\n",
    "\n",
    "df['en_len'] = df['en'].apply(lambda x: len(tokenizer.tokenize(x)))\n",
    "df['ja_len'] = df['ja'].apply(lambda x: len(tokenizer.tokenize(x)))\n",
    "df['zh_len'] = df['zh'].apply(lambda x: len(tokenizer.tokenize(x)))\n",
    "df"
   ],
   "metadata": {
    "collapsed": false,
    "ExecuteTime": {
     "end_time": "2023-07-02T13:03:30.568135693Z",
     "start_time": "2023-07-02T13:03:11.633300875Z"
    }
   }
  },
  {
   "cell_type": "code",
   "execution_count": 9,
   "outputs": [
    {
     "data": {
      "text/plain": "                                                      en  \\\n0      Operator Thorns accompanies Rhodes Island to S...   \n1      When the sun started to set, the Ægirians, far...   \n2      Capone betrayed Gambino. Mostima rescued Bison...   \n3      Bison and Mostima, while wandering around seem...   \n4      Yith is being watched by a certain Liberi, and...   \n...                                                  ...   \n72024   Preparation is always the first step of victory.   \n72025  Now then, I will be officially transferring th...   \n72026  Subsequently, PRTS will collate all the releva...   \n72027  The operation has officially begun. I wish eve...   \n72028  May we bring hope to this Catastrophe-stricken...   \n\n                                                      ja  \\\n0                       ロドス一行と共にシエスタに来たソーンズは、一日の休日を謳歌する。   \n1           日が沈みゆく中、エーギル人は異郷のビーチに佇んでいた。程なくして、未知の敵と遭遇する——   \n2      カポネはガンビーノを裏切った。モスティマはバイソンを救い出した。そして鼠王は本当の姿を見せた...   \n3      悠々と街を歩くバイソンとモスティマは、飴屋の前を通りかかったところでマフィアに狙われてしまう...   \n4      イースはあるリーベリに監視されており、そしてモスティマは以前から鼠王の存在を知っていた。 再...   \n...                                                  ...   \n72024                           作戦前の周到な準備は、常に勝利への第一歩となる。   \n72025           じゃあ、危機契約————作戦コード「荒廃」に関して、正式にドクターに委任するよ。   \n72026  ここからはPRTSが関連資料の整理をしてくれるよ。もし何か分からないことがあったら管理画面で...   \n72027                                じゃあ始めよう。みんなどうか無事でね。   \n72028                        この多事多難な大地に、僕たちが希望をもたらしていこう。   \n\n                                                      zh  en_len  ja_len  \\\n0                                  干员棘刺随罗德岛来到汐斯塔，度过休闲一日。      19      22   \n1                          而当日落临近，离乡的阿戈尔人在沙滩旁，偶然遭遇了未知的敌人      31      30   \n2                    卡彭背叛了甘比诺。莫斯提马救下了拜松。鼠王露出了真面目。龙门晚风轻拂。      37      43   \n3      优哉游哉的拜松与莫斯提马路过了一家糖果店，却也在此时被黑手党盯上。为了顺利摆脱追踪，拜松跳上...      71      51   \n4      伊斯遭到了某位黎博利的监视，而莫斯提马也早已知晓鼠王存在。重新汇合的企鹅物流众人得到了大帝的...      58      45   \n...                                                  ...     ...     ...   \n72024                                 做好战前的准备永远都是胜利的第一步。      12      16   \n72025                         那么，危机合约————代号荒芜行动，正式转交给博士。      27      24   \n72026           PRTS会做好后续的相关资料整理工作，如果还有疑问博士可以在管理界面进行再确认。      29      26   \n72027                                    行动正式开始，祝大家一切顺利。      16      11   \n72028                                  愿我们能为这片多灾的大地带去希望。      13      18   \n\n       zh_len  \n0          19  \n1          25  \n2          32  \n3          53  \n4          46  \n...       ...  \n72024      11  \n72025      20  \n72026      22  \n72027      10  \n72028      15  \n\n[67650 rows x 6 columns]",
      "text/html": "<div>\n<style scoped>\n    .dataframe tbody tr th:only-of-type {\n        vertical-align: middle;\n    }\n\n    .dataframe tbody tr th {\n        vertical-align: top;\n    }\n\n    .dataframe thead th {\n        text-align: right;\n    }\n</style>\n<table border=\"1\" class=\"dataframe\">\n  <thead>\n    <tr style=\"text-align: right;\">\n      <th></th>\n      <th>en</th>\n      <th>ja</th>\n      <th>zh</th>\n      <th>en_len</th>\n      <th>ja_len</th>\n      <th>zh_len</th>\n    </tr>\n  </thead>\n  <tbody>\n    <tr>\n      <th>0</th>\n      <td>Operator Thorns accompanies Rhodes Island to S...</td>\n      <td>ロドス一行と共にシエスタに来たソーンズは、一日の休日を謳歌する。</td>\n      <td>干员棘刺随罗德岛来到汐斯塔，度过休闲一日。</td>\n      <td>19</td>\n      <td>22</td>\n      <td>19</td>\n    </tr>\n    <tr>\n      <th>1</th>\n      <td>When the sun started to set, the Ægirians, far...</td>\n      <td>日が沈みゆく中、エーギル人は異郷のビーチに佇んでいた。程なくして、未知の敵と遭遇する——</td>\n      <td>而当日落临近，离乡的阿戈尔人在沙滩旁，偶然遭遇了未知的敌人</td>\n      <td>31</td>\n      <td>30</td>\n      <td>25</td>\n    </tr>\n    <tr>\n      <th>2</th>\n      <td>Capone betrayed Gambino. Mostima rescued Bison...</td>\n      <td>カポネはガンビーノを裏切った。モスティマはバイソンを救い出した。そして鼠王は本当の姿を見せた...</td>\n      <td>卡彭背叛了甘比诺。莫斯提马救下了拜松。鼠王露出了真面目。龙门晚风轻拂。</td>\n      <td>37</td>\n      <td>43</td>\n      <td>32</td>\n    </tr>\n    <tr>\n      <th>3</th>\n      <td>Bison and Mostima, while wandering around seem...</td>\n      <td>悠々と街を歩くバイソンとモスティマは、飴屋の前を通りかかったところでマフィアに狙われてしまう...</td>\n      <td>优哉游哉的拜松与莫斯提马路过了一家糖果店，却也在此时被黑手党盯上。为了顺利摆脱追踪，拜松跳上...</td>\n      <td>71</td>\n      <td>51</td>\n      <td>53</td>\n    </tr>\n    <tr>\n      <th>4</th>\n      <td>Yith is being watched by a certain Liberi, and...</td>\n      <td>イースはあるリーベリに監視されており、そしてモスティマは以前から鼠王の存在を知っていた。 再...</td>\n      <td>伊斯遭到了某位黎博利的监视，而莫斯提马也早已知晓鼠王存在。重新汇合的企鹅物流众人得到了大帝的...</td>\n      <td>58</td>\n      <td>45</td>\n      <td>46</td>\n    </tr>\n    <tr>\n      <th>...</th>\n      <td>...</td>\n      <td>...</td>\n      <td>...</td>\n      <td>...</td>\n      <td>...</td>\n      <td>...</td>\n    </tr>\n    <tr>\n      <th>72024</th>\n      <td>Preparation is always the first step of victory.</td>\n      <td>作戦前の周到な準備は、常に勝利への第一歩となる。</td>\n      <td>做好战前的准备永远都是胜利的第一步。</td>\n      <td>12</td>\n      <td>16</td>\n      <td>11</td>\n    </tr>\n    <tr>\n      <th>72025</th>\n      <td>Now then, I will be officially transferring th...</td>\n      <td>じゃあ、危機契約————作戦コード「荒廃」に関して、正式にドクターに委任するよ。</td>\n      <td>那么，危机合约————代号荒芜行动，正式转交给博士。</td>\n      <td>27</td>\n      <td>24</td>\n      <td>20</td>\n    </tr>\n    <tr>\n      <th>72026</th>\n      <td>Subsequently, PRTS will collate all the releva...</td>\n      <td>ここからはPRTSが関連資料の整理をしてくれるよ。もし何か分からないことがあったら管理画面で...</td>\n      <td>PRTS会做好后续的相关资料整理工作，如果还有疑问博士可以在管理界面进行再确认。</td>\n      <td>29</td>\n      <td>26</td>\n      <td>22</td>\n    </tr>\n    <tr>\n      <th>72027</th>\n      <td>The operation has officially begun. I wish eve...</td>\n      <td>じゃあ始めよう。みんなどうか無事でね。</td>\n      <td>行动正式开始，祝大家一切顺利。</td>\n      <td>16</td>\n      <td>11</td>\n      <td>10</td>\n    </tr>\n    <tr>\n      <th>72028</th>\n      <td>May we bring hope to this Catastrophe-stricken...</td>\n      <td>この多事多難な大地に、僕たちが希望をもたらしていこう。</td>\n      <td>愿我们能为这片多灾的大地带去希望。</td>\n      <td>13</td>\n      <td>18</td>\n      <td>15</td>\n    </tr>\n  </tbody>\n</table>\n<p>67650 rows × 6 columns</p>\n</div>"
     },
     "execution_count": 9,
     "metadata": {},
     "output_type": "execute_result"
    }
   ],
   "source": [
    "df = df[df['en_len'] <= 256]\n",
    "df = df[df['ja_len'] <= 256]\n",
    "df = df[df['zh_len'] <= 256]\n",
    "df = df[df['en_len'] >= 1]\n",
    "df = df[df['ja_len'] >= 1]\n",
    "df = df[df['zh_len'] >= 1]\n",
    "df"
   ],
   "metadata": {
    "collapsed": false,
    "ExecuteTime": {
     "end_time": "2023-07-02T13:03:30.701160380Z",
     "start_time": "2023-07-02T13:03:30.575077362Z"
    }
   }
  },
  {
   "cell_type": "code",
   "execution_count": 10,
   "outputs": [
    {
     "name": "stderr",
     "output_type": "stream",
     "text": [
      "/tmp/ipykernel_5155/115076287.py:9: TqdmDeprecationWarning: This function will be removed in tqdm==5.0.0\n",
      "Please use `tqdm.notebook.tqdm` instead of `tqdm.tqdm_notebook`\n",
      "  for i, row in tqdm(enumerate(df.itertuples()), total=df.shape[0]):\n"
     ]
    },
    {
     "data": {
      "text/plain": "  0%|          | 0/67650 [00:00<?, ?it/s]",
      "application/vnd.jupyter.widget-view+json": {
       "version_major": 2,
       "version_minor": 0,
       "model_id": "abc908cff06146118c738a160d9f2bae"
      }
     },
     "metadata": {},
     "output_type": "display_data"
    },
    {
     "data": {
      "text/plain": "                                                      en  \\\n0      Operator Thorns accompanies Rhodes Island to S...   \n1      When the sun started to set, the Ægirians, far...   \n2      Capone betrayed Gambino. Mostima rescued Bison...   \n3      Bison and Mostima, while wandering around seem...   \n4      Yith is being watched by a certain Liberi, and...   \n...                                                  ...   \n72024   Preparation is always the first step of victory.   \n72025  Now then, I will be officially transferring th...   \n72026  Subsequently, PRTS will collate all the releva...   \n72027  The operation has officially begun. I wish eve...   \n72028  May we bring hope to this Catastrophe-stricken...   \n\n                                                      ja  \\\n0                       ロドス一行と共にシエスタに来たソーンズは、一日の休日を謳歌する。   \n1           日が沈みゆく中、エーギル人は異郷のビーチに佇んでいた。程なくして、未知の敵と遭遇する——   \n2      カポネはガンビーノを裏切った。モスティマはバイソンを救い出した。そして鼠王は本当の姿を見せた...   \n3      悠々と街を歩くバイソンとモスティマは、飴屋の前を通りかかったところでマフィアに狙われてしまう...   \n4      イースはあるリーベリに監視されており、そしてモスティマは以前から鼠王の存在を知っていた。 再...   \n...                                                  ...   \n72024                           作戦前の周到な準備は、常に勝利への第一歩となる。   \n72025           じゃあ、危機契約————作戦コード「荒廃」に関して、正式にドクターに委任するよ。   \n72026  ここからはPRTSが関連資料の整理をしてくれるよ。もし何か分からないことがあったら管理画面で...   \n72027                                じゃあ始めよう。みんなどうか無事でね。   \n72028                        この多事多難な大地に、僕たちが希望をもたらしていこう。   \n\n                                                      zh  en_len  ja_len  \\\n0                                  干员棘刺随罗德岛来到汐斯塔，度过休闲一日。      19      22   \n1                          而当日落临近，离乡的阿戈尔人在沙滩旁，偶然遭遇了未知的敌人      31      30   \n2                    卡彭背叛了甘比诺。莫斯提马救下了拜松。鼠王露出了真面目。龙门晚风轻拂。      37      43   \n3      优哉游哉的拜松与莫斯提马路过了一家糖果店，却也在此时被黑手党盯上。为了顺利摆脱追踪，拜松跳上...      71      51   \n4      伊斯遭到了某位黎博利的监视，而莫斯提马也早已知晓鼠王存在。重新汇合的企鹅物流众人得到了大帝的...      58      45   \n...                                                  ...     ...     ...   \n72024                                 做好战前的准备永远都是胜利的第一步。      12      16   \n72025                         那么，危机合约————代号荒芜行动，正式转交给博士。      27      24   \n72026           PRTS会做好后续的相关资料整理工作，如果还有疑问博士可以在管理界面进行再确认。      29      26   \n72027                                    行动正式开始，祝大家一切顺利。      16      11   \n72028                                  愿我们能为这片多灾的大地带去希望。      13      18   \n\n       zh_len     score  \n0          19  0.704038  \n1          25  0.692298  \n2          32  0.830798  \n3          53  0.781219  \n4          46  0.773155  \n...       ...       ...  \n72024      11  0.869367  \n72025      20  0.668203  \n72026      22  0.753541  \n72027      10  0.645475  \n72028      15  0.781899  \n\n[67650 rows x 7 columns]",
      "text/html": "<div>\n<style scoped>\n    .dataframe tbody tr th:only-of-type {\n        vertical-align: middle;\n    }\n\n    .dataframe tbody tr th {\n        vertical-align: top;\n    }\n\n    .dataframe thead th {\n        text-align: right;\n    }\n</style>\n<table border=\"1\" class=\"dataframe\">\n  <thead>\n    <tr style=\"text-align: right;\">\n      <th></th>\n      <th>en</th>\n      <th>ja</th>\n      <th>zh</th>\n      <th>en_len</th>\n      <th>ja_len</th>\n      <th>zh_len</th>\n      <th>score</th>\n    </tr>\n  </thead>\n  <tbody>\n    <tr>\n      <th>0</th>\n      <td>Operator Thorns accompanies Rhodes Island to S...</td>\n      <td>ロドス一行と共にシエスタに来たソーンズは、一日の休日を謳歌する。</td>\n      <td>干员棘刺随罗德岛来到汐斯塔，度过休闲一日。</td>\n      <td>19</td>\n      <td>22</td>\n      <td>19</td>\n      <td>0.704038</td>\n    </tr>\n    <tr>\n      <th>1</th>\n      <td>When the sun started to set, the Ægirians, far...</td>\n      <td>日が沈みゆく中、エーギル人は異郷のビーチに佇んでいた。程なくして、未知の敵と遭遇する——</td>\n      <td>而当日落临近，离乡的阿戈尔人在沙滩旁，偶然遭遇了未知的敌人</td>\n      <td>31</td>\n      <td>30</td>\n      <td>25</td>\n      <td>0.692298</td>\n    </tr>\n    <tr>\n      <th>2</th>\n      <td>Capone betrayed Gambino. Mostima rescued Bison...</td>\n      <td>カポネはガンビーノを裏切った。モスティマはバイソンを救い出した。そして鼠王は本当の姿を見せた...</td>\n      <td>卡彭背叛了甘比诺。莫斯提马救下了拜松。鼠王露出了真面目。龙门晚风轻拂。</td>\n      <td>37</td>\n      <td>43</td>\n      <td>32</td>\n      <td>0.830798</td>\n    </tr>\n    <tr>\n      <th>3</th>\n      <td>Bison and Mostima, while wandering around seem...</td>\n      <td>悠々と街を歩くバイソンとモスティマは、飴屋の前を通りかかったところでマフィアに狙われてしまう...</td>\n      <td>优哉游哉的拜松与莫斯提马路过了一家糖果店，却也在此时被黑手党盯上。为了顺利摆脱追踪，拜松跳上...</td>\n      <td>71</td>\n      <td>51</td>\n      <td>53</td>\n      <td>0.781219</td>\n    </tr>\n    <tr>\n      <th>4</th>\n      <td>Yith is being watched by a certain Liberi, and...</td>\n      <td>イースはあるリーベリに監視されており、そしてモスティマは以前から鼠王の存在を知っていた。 再...</td>\n      <td>伊斯遭到了某位黎博利的监视，而莫斯提马也早已知晓鼠王存在。重新汇合的企鹅物流众人得到了大帝的...</td>\n      <td>58</td>\n      <td>45</td>\n      <td>46</td>\n      <td>0.773155</td>\n    </tr>\n    <tr>\n      <th>...</th>\n      <td>...</td>\n      <td>...</td>\n      <td>...</td>\n      <td>...</td>\n      <td>...</td>\n      <td>...</td>\n      <td>...</td>\n    </tr>\n    <tr>\n      <th>72024</th>\n      <td>Preparation is always the first step of victory.</td>\n      <td>作戦前の周到な準備は、常に勝利への第一歩となる。</td>\n      <td>做好战前的准备永远都是胜利的第一步。</td>\n      <td>12</td>\n      <td>16</td>\n      <td>11</td>\n      <td>0.869367</td>\n    </tr>\n    <tr>\n      <th>72025</th>\n      <td>Now then, I will be officially transferring th...</td>\n      <td>じゃあ、危機契約————作戦コード「荒廃」に関して、正式にドクターに委任するよ。</td>\n      <td>那么，危机合约————代号荒芜行动，正式转交给博士。</td>\n      <td>27</td>\n      <td>24</td>\n      <td>20</td>\n      <td>0.668203</td>\n    </tr>\n    <tr>\n      <th>72026</th>\n      <td>Subsequently, PRTS will collate all the releva...</td>\n      <td>ここからはPRTSが関連資料の整理をしてくれるよ。もし何か分からないことがあったら管理画面で...</td>\n      <td>PRTS会做好后续的相关资料整理工作，如果还有疑问博士可以在管理界面进行再确认。</td>\n      <td>29</td>\n      <td>26</td>\n      <td>22</td>\n      <td>0.753541</td>\n    </tr>\n    <tr>\n      <th>72027</th>\n      <td>The operation has officially begun. I wish eve...</td>\n      <td>じゃあ始めよう。みんなどうか無事でね。</td>\n      <td>行动正式开始，祝大家一切顺利。</td>\n      <td>16</td>\n      <td>11</td>\n      <td>10</td>\n      <td>0.645475</td>\n    </tr>\n    <tr>\n      <th>72028</th>\n      <td>May we bring hope to this Catastrophe-stricken...</td>\n      <td>この多事多難な大地に、僕たちが希望をもたらしていこう。</td>\n      <td>愿我们能为这片多灾的大地带去希望。</td>\n      <td>13</td>\n      <td>18</td>\n      <td>15</td>\n      <td>0.781899</td>\n    </tr>\n  </tbody>\n</table>\n<p>67650 rows × 7 columns</p>\n</div>"
     },
     "execution_count": 10,
     "metadata": {},
     "output_type": "execute_result"
    }
   ],
   "source": [
    "# remove lines that LaBSE score is less than 0.6 or more than 0.99\n",
    "import numpy as np\n",
    "from sentence_transformers import SentenceTransformer\n",
    "model = SentenceTransformer('sentence-transformers/LaBSE').cuda()\n",
    "\n",
    "\n",
    "_batch, _scores = [], []\n",
    "_bs = 64\n",
    "for i, row in tqdm(enumerate(df.itertuples()), total=df.shape[0]):\n",
    "    inputs = [row.en, row.ja, row.zh]\n",
    "    _batch.extend(inputs)\n",
    "    if (i+1) % _bs == 0 or i == df.shape[0]-1:\n",
    "        embeddings = model.encode(_batch)\n",
    "        # calculate score between each pair\n",
    "        for j in range(embeddings.shape[0]//3):\n",
    "            _scores.append(np.average([\n",
    "                np.matmul(embeddings[j*3], embeddings[j*3+1].T),\n",
    "                np.matmul(embeddings[j*3], embeddings[j*3+2].T),\n",
    "                np.matmul(embeddings[j*3+1], embeddings[j*3+2].T)\n",
    "            ]))\n",
    "        _batch = []\n",
    "df = df.assign(score=_scores)\n",
    "df"
   ],
   "metadata": {
    "collapsed": false,
    "ExecuteTime": {
     "end_time": "2023-07-02T13:05:50.374719240Z",
     "start_time": "2023-07-02T13:03:30.665367797Z"
    }
   }
  },
  {
   "cell_type": "code",
   "execution_count": 11,
   "outputs": [
    {
     "data": {
      "text/plain": "<Figure size 640x480 with 1 Axes>",
      "image/png": "[encoded data removed]"
     },
     "metadata": {},
     "output_type": "display_data"
    }
   ],
   "source": [
    "# statistics score using matplotlib\n",
    "import matplotlib.pyplot as plt\n",
    "plt.hist(df['score'], bins=100)\n",
    "plt.show()"
   ],
   "metadata": {
    "collapsed": false,
    "ExecuteTime": {
     "end_time": "2023-07-02T13:05:51.504245943Z",
     "start_time": "2023-07-02T13:05:50.335496984Z"
    }
   }
  },
  {
   "cell_type": "code",
   "execution_count": 12,
   "outputs": [
    {
     "data": {
      "text/plain": "                                                      en  \\\n0      Operator Thorns accompanies Rhodes Island to S...   \n1      When the sun started to set, the Ægirians, far...   \n2      Capone betrayed Gambino. Mostima rescued Bison...   \n3      Bison and Mostima, while wandering around seem...   \n4      Yith is being watched by a certain Liberi, and...   \n...                                                  ...   \n72024   Preparation is always the first step of victory.   \n72025  Now then, I will be officially transferring th...   \n72026  Subsequently, PRTS will collate all the releva...   \n72027  The operation has officially begun. I wish eve...   \n72028  May we bring hope to this Catastrophe-stricken...   \n\n                                                      ja  \\\n0                       ロドス一行と共にシエスタに来たソーンズは、一日の休日を謳歌する。   \n1           日が沈みゆく中、エーギル人は異郷のビーチに佇んでいた。程なくして、未知の敵と遭遇する——   \n2      カポネはガンビーノを裏切った。モスティマはバイソンを救い出した。そして鼠王は本当の姿を見せた...   \n3      悠々と街を歩くバイソンとモスティマは、飴屋の前を通りかかったところでマフィアに狙われてしまう...   \n4      イースはあるリーベリに監視されており、そしてモスティマは以前から鼠王の存在を知っていた。 再...   \n...                                                  ...   \n72024                           作戦前の周到な準備は、常に勝利への第一歩となる。   \n72025           じゃあ、危機契約————作戦コード「荒廃」に関して、正式にドクターに委任するよ。   \n72026  ここからはPRTSが関連資料の整理をしてくれるよ。もし何か分からないことがあったら管理画面で...   \n72027                                じゃあ始めよう。みんなどうか無事でね。   \n72028                        この多事多難な大地に、僕たちが希望をもたらしていこう。   \n\n                                                      zh  en_len  ja_len  \\\n0                                  干员棘刺随罗德岛来到汐斯塔，度过休闲一日。      19      22   \n1                          而当日落临近，离乡的阿戈尔人在沙滩旁，偶然遭遇了未知的敌人      31      30   \n2                    卡彭背叛了甘比诺。莫斯提马救下了拜松。鼠王露出了真面目。龙门晚风轻拂。      37      43   \n3      优哉游哉的拜松与莫斯提马路过了一家糖果店，却也在此时被黑手党盯上。为了顺利摆脱追踪，拜松跳上...      71      51   \n4      伊斯遭到了某位黎博利的监视，而莫斯提马也早已知晓鼠王存在。重新汇合的企鹅物流众人得到了大帝的...      58      45   \n...                                                  ...     ...     ...   \n72024                                 做好战前的准备永远都是胜利的第一步。      12      16   \n72025                         那么，危机合约————代号荒芜行动，正式转交给博士。      27      24   \n72026           PRTS会做好后续的相关资料整理工作，如果还有疑问博士可以在管理界面进行再确认。      29      26   \n72027                                    行动正式开始，祝大家一切顺利。      16      11   \n72028                                  愿我们能为这片多灾的大地带去希望。      13      18   \n\n       zh_len     score  \n0          19  0.704038  \n1          25  0.692298  \n2          32  0.830798  \n3          53  0.781219  \n4          46  0.773155  \n...       ...       ...  \n72024      11  0.869367  \n72025      20  0.668203  \n72026      22  0.753541  \n72027      10  0.645475  \n72028      15  0.781899  \n\n[57191 rows x 7 columns]",
      "text/html": "<div>\n<style scoped>\n    .dataframe tbody tr th:only-of-type {\n        vertical-align: middle;\n    }\n\n    .dataframe tbody tr th {\n        vertical-align: top;\n    }\n\n    .dataframe thead th {\n        text-align: right;\n    }\n</style>\n<table border=\"1\" class=\"dataframe\">\n  <thead>\n    <tr style=\"text-align: right;\">\n      <th></th>\n      <th>en</th>\n      <th>ja</th>\n      <th>zh</th>\n      <th>en_len</th>\n      <th>ja_len</th>\n      <th>zh_len</th>\n      <th>score</th>\n    </tr>\n  </thead>\n  <tbody>\n    <tr>\n      <th>0</th>\n      <td>Operator Thorns accompanies Rhodes Island to S...</td>\n      <td>ロドス一行と共にシエスタに来たソーンズは、一日の休日を謳歌する。</td>\n      <td>干员棘刺随罗德岛来到汐斯塔，度过休闲一日。</td>\n      <td>19</td>\n      <td>22</td>\n      <td>19</td>\n      <td>0.704038</td>\n    </tr>\n    <tr>\n      <th>1</th>\n      <td>When the sun started to set, the Ægirians, far...</td>\n      <td>日が沈みゆく中、エーギル人は異郷のビーチに佇んでいた。程なくして、未知の敵と遭遇する——</td>\n      <td>而当日落临近，离乡的阿戈尔人在沙滩旁，偶然遭遇了未知的敌人</td>\n      <td>31</td>\n      <td>30</td>\n      <td>25</td>\n      <td>0.692298</td>\n    </tr>\n    <tr>\n      <th>2</th>\n      <td>Capone betrayed Gambino. Mostima rescued Bison...</td>\n      <td>カポネはガンビーノを裏切った。モスティマはバイソンを救い出した。そして鼠王は本当の姿を見せた...</td>\n      <td>卡彭背叛了甘比诺。莫斯提马救下了拜松。鼠王露出了真面目。龙门晚风轻拂。</td>\n      <td>37</td>\n      <td>43</td>\n      <td>32</td>\n      <td>0.830798</td>\n    </tr>\n    <tr>\n      <th>3</th>\n      <td>Bison and Mostima, while wandering around seem...</td>\n      <td>悠々と街を歩くバイソンとモスティマは、飴屋の前を通りかかったところでマフィアに狙われてしまう...</td>\n      <td>优哉游哉的拜松与莫斯提马路过了一家糖果店，却也在此时被黑手党盯上。为了顺利摆脱追踪，拜松跳上...</td>\n      <td>71</td>\n      <td>51</td>\n      <td>53</td>\n      <td>0.781219</td>\n    </tr>\n    <tr>\n      <th>4</th>\n      <td>Yith is being watched by a certain Liberi, and...</td>\n      <td>イースはあるリーベリに監視されており、そしてモスティマは以前から鼠王の存在を知っていた。 再...</td>\n      <td>伊斯遭到了某位黎博利的监视，而莫斯提马也早已知晓鼠王存在。重新汇合的企鹅物流众人得到了大帝的...</td>\n      <td>58</td>\n      <td>45</td>\n      <td>46</td>\n      <td>0.773155</td>\n    </tr>\n    <tr>\n      <th>...</th>\n      <td>...</td>\n      <td>...</td>\n      <td>...</td>\n      <td>...</td>\n      <td>...</td>\n      <td>...</td>\n      <td>...</td>\n    </tr>\n    <tr>\n      <th>72024</th>\n      <td>Preparation is always the first step of victory.</td>\n      <td>作戦前の周到な準備は、常に勝利への第一歩となる。</td>\n      <td>做好战前的准备永远都是胜利的第一步。</td>\n      <td>12</td>\n      <td>16</td>\n      <td>11</td>\n      <td>0.869367</td>\n    </tr>\n    <tr>\n      <th>72025</th>\n      <td>Now then, I will be officially transferring th...</td>\n      <td>じゃあ、危機契約————作戦コード「荒廃」に関して、正式にドクターに委任するよ。</td>\n      <td>那么，危机合约————代号荒芜行动，正式转交给博士。</td>\n      <td>27</td>\n      <td>24</td>\n      <td>20</td>\n      <td>0.668203</td>\n    </tr>\n    <tr>\n      <th>72026</th>\n      <td>Subsequently, PRTS will collate all the releva...</td>\n      <td>ここからはPRTSが関連資料の整理をしてくれるよ。もし何か分からないことがあったら管理画面で...</td>\n      <td>PRTS会做好后续的相关资料整理工作，如果还有疑问博士可以在管理界面进行再确认。</td>\n      <td>29</td>\n      <td>26</td>\n      <td>22</td>\n      <td>0.753541</td>\n    </tr>\n    <tr>\n      <th>72027</th>\n      <td>The operation has officially begun. I wish eve...</td>\n      <td>じゃあ始めよう。みんなどうか無事でね。</td>\n      <td>行动正式开始，祝大家一切顺利。</td>\n      <td>16</td>\n      <td>11</td>\n      <td>10</td>\n      <td>0.645475</td>\n    </tr>\n    <tr>\n      <th>72028</th>\n      <td>May we bring hope to this Catastrophe-stricken...</td>\n      <td>この多事多難な大地に、僕たちが希望をもたらしていこう。</td>\n      <td>愿我们能为这片多灾的大地带去希望。</td>\n      <td>13</td>\n      <td>18</td>\n      <td>15</td>\n      <td>0.781899</td>\n    </tr>\n  </tbody>\n</table>\n<p>57191 rows × 7 columns</p>\n</div>"
     },
     "execution_count": 12,
     "metadata": {},
     "output_type": "execute_result"
    }
   ],
   "source": [
    "# remove lines that LaBSE score is less than 0.6 or more than 0.99\n",
    "df = df[df['score'] >= 0.6]\n",
    "df = df[df['score'] <= 0.99]\n",
    "df"
   ],
   "metadata": {
    "collapsed": false,
    "ExecuteTime": {
     "end_time": "2023-07-02T13:05:51.593461469Z",
     "start_time": "2023-07-02T13:05:51.507526835Z"
    }
   }
  },
  {
   "cell_type": "code",
   "execution_count": 13,
   "outputs": [],
   "source": [
    "# drop len and score column\n",
    "df = df.drop(columns=['en_len', 'ja_len', 'zh_len', 'score'])\n",
    "# save to parquet\n",
    "df.to_parquet('parquet/ArknightsStory.parquet', index=False)"
   ],
   "metadata": {
    "collapsed": false,
    "ExecuteTime": {
     "end_time": "2023-07-02T13:05:51.772209238Z",
     "start_time": "2023-07-02T13:05:51.552523331Z"
    }
   }
  },
  {
   "cell_type": "code",
   "execution_count": 14,
   "outputs": [
    {
     "data": {
      "text/plain": "                                                      en  \\\n0      Operator Thorns accompanies Rhodes Island to S...   \n1      When the sun started to set, the Ægirians, far...   \n2      Capone betrayed Gambino. Mostima rescued Bison...   \n3      Bison and Mostima, while wandering around seem...   \n4      Yith is being watched by a certain Liberi, and...   \n...                                                  ...   \n57186   Preparation is always the first step of victory.   \n57187  Now then, I will be officially transferring th...   \n57188  Subsequently, PRTS will collate all the releva...   \n57189  The operation has officially begun. I wish eve...   \n57190  May we bring hope to this Catastrophe-stricken...   \n\n                                                      ja  \\\n0                       ロドス一行と共にシエスタに来たソーンズは、一日の休日を謳歌する。   \n1           日が沈みゆく中、エーギル人は異郷のビーチに佇んでいた。程なくして、未知の敵と遭遇する——   \n2      カポネはガンビーノを裏切った。モスティマはバイソンを救い出した。そして鼠王は本当の姿を見せた...   \n3      悠々と街を歩くバイソンとモスティマは、飴屋の前を通りかかったところでマフィアに狙われてしまう...   \n4      イースはあるリーベリに監視されており、そしてモスティマは以前から鼠王の存在を知っていた。 再...   \n...                                                  ...   \n57186                           作戦前の周到な準備は、常に勝利への第一歩となる。   \n57187           じゃあ、危機契約————作戦コード「荒廃」に関して、正式にドクターに委任するよ。   \n57188  ここからはPRTSが関連資料の整理をしてくれるよ。もし何か分からないことがあったら管理画面で...   \n57189                                じゃあ始めよう。みんなどうか無事でね。   \n57190                        この多事多難な大地に、僕たちが希望をもたらしていこう。   \n\n                                                      zh  \n0                                  干员棘刺随罗德岛来到汐斯塔，度过休闲一日。  \n1                          而当日落临近，离乡的阿戈尔人在沙滩旁，偶然遭遇了未知的敌人  \n2                    卡彭背叛了甘比诺。莫斯提马救下了拜松。鼠王露出了真面目。龙门晚风轻拂。  \n3      优哉游哉的拜松与莫斯提马路过了一家糖果店，却也在此时被黑手党盯上。为了顺利摆脱追踪，拜松跳上...  \n4      伊斯遭到了某位黎博利的监视，而莫斯提马也早已知晓鼠王存在。重新汇合的企鹅物流众人得到了大帝的...  \n...                                                  ...  \n57186                                 做好战前的准备永远都是胜利的第一步。  \n57187                         那么，危机合约————代号荒芜行动，正式转交给博士。  \n57188           PRTS会做好后续的相关资料整理工作，如果还有疑问博士可以在管理界面进行再确认。  \n57189                                    行动正式开始，祝大家一切顺利。  \n57190                                  愿我们能为这片多灾的大地带去希望。  \n\n[57191 rows x 3 columns]",
      "text/html": "<div>\n<style scoped>\n    .dataframe tbody tr th:only-of-type {\n        vertical-align: middle;\n    }\n\n    .dataframe tbody tr th {\n        vertical-align: top;\n    }\n\n    .dataframe thead th {\n        text-align: right;\n    }\n</style>\n<table border=\"1\" class=\"dataframe\">\n  <thead>\n    <tr style=\"text-align: right;\">\n      <th></th>\n      <th>en</th>\n      <th>ja</th>\n      <th>zh</th>\n    </tr>\n  </thead>\n  <tbody>\n    <tr>\n      <th>0</th>\n      <td>Operator Thorns accompanies Rhodes Island to S...</td>\n      <td>ロドス一行と共にシエスタに来たソーンズは、一日の休日を謳歌する。</td>\n      <td>干员棘刺随罗德岛来到汐斯塔，度过休闲一日。</td>\n    </tr>\n    <tr>\n      <th>1</th>\n      <td>When the sun started to set, the Ægirians, far...</td>\n      <td>日が沈みゆく中、エーギル人は異郷のビーチに佇んでいた。程なくして、未知の敵と遭遇する——</td>\n      <td>而当日落临近，离乡的阿戈尔人在沙滩旁，偶然遭遇了未知的敌人</td>\n    </tr>\n    <tr>\n      <th>2</th>\n      <td>Capone betrayed Gambino. Mostima rescued Bison...</td>\n      <td>カポネはガンビーノを裏切った。モスティマはバイソンを救い出した。そして鼠王は本当の姿を見せた...</td>\n      <td>卡彭背叛了甘比诺。莫斯提马救下了拜松。鼠王露出了真面目。龙门晚风轻拂。</td>\n    </tr>\n    <tr>\n      <th>3</th>\n      <td>Bison and Mostima, while wandering around seem...</td>\n      <td>悠々と街を歩くバイソンとモスティマは、飴屋の前を通りかかったところでマフィアに狙われてしまう...</td>\n      <td>优哉游哉的拜松与莫斯提马路过了一家糖果店，却也在此时被黑手党盯上。为了顺利摆脱追踪，拜松跳上...</td>\n    </tr>\n    <tr>\n      <th>4</th>\n      <td>Yith is being watched by a certain Liberi, and...</td>\n      <td>イースはあるリーベリに監視されており、そしてモスティマは以前から鼠王の存在を知っていた。 再...</td>\n      <td>伊斯遭到了某位黎博利的监视，而莫斯提马也早已知晓鼠王存在。重新汇合的企鹅物流众人得到了大帝的...</td>\n    </tr>\n    <tr>\n      <th>...</th>\n      <td>...</td>\n      <td>...</td>\n      <td>...</td>\n    </tr>\n    <tr>\n      <th>57186</th>\n      <td>Preparation is always the first step of victory.</td>\n      <td>作戦前の周到な準備は、常に勝利への第一歩となる。</td>\n      <td>做好战前的准备永远都是胜利的第一步。</td>\n    </tr>\n    <tr>\n      <th>57187</th>\n      <td>Now then, I will be officially transferring th...</td>\n      <td>じゃあ、危機契約————作戦コード「荒廃」に関して、正式にドクターに委任するよ。</td>\n      <td>那么，危机合约————代号荒芜行动，正式转交给博士。</td>\n    </tr>\n    <tr>\n      <th>57188</th>\n      <td>Subsequently, PRTS will collate all the releva...</td>\n      <td>ここからはPRTSが関連資料の整理をしてくれるよ。もし何か分からないことがあったら管理画面で...</td>\n      <td>PRTS会做好后续的相关资料整理工作，如果还有疑问博士可以在管理界面进行再确认。</td>\n    </tr>\n    <tr>\n      <th>57189</th>\n      <td>The operation has officially begun. I wish eve...</td>\n      <td>じゃあ始めよう。みんなどうか無事でね。</td>\n      <td>行动正式开始，祝大家一切顺利。</td>\n    </tr>\n    <tr>\n      <th>57190</th>\n      <td>May we bring hope to this Catastrophe-stricken...</td>\n      <td>この多事多難な大地に、僕たちが希望をもたらしていこう。</td>\n      <td>愿我们能为这片多灾的大地带去希望。</td>\n    </tr>\n  </tbody>\n</table>\n<p>57191 rows × 3 columns</p>\n</div>"
     },
     "execution_count": 14,
     "metadata": {},
     "output_type": "execute_result"
    }
   ],
   "source": [
    "# load parquet\n",
    "df = pd.read_parquet('parquet/ArknightsStory.parquet')\n",
    "df"
   ],
   "metadata": {
    "collapsed": false,
    "ExecuteTime": {
     "end_time": "2023-07-02T13:05:52.024720485Z",
     "start_time": "2023-07-02T13:05:51.775913782Z"
    }
   }
  }
 ],
 "metadata": {
  "kernelspec": {
   "display_name": "Python 3",
   "language": "python",
   "name": "python3"
  },
  "language_info": {
   "codemirror_mode": {
    "name": "ipython",
    "version": 2
   },
   "file_extension": ".py",
   "mimetype": "text/x-python",
   "name": "python",
   "nbconvert_exporter": "python",
   "pygments_lexer": "ipython2",
   "version": "2.7.6"
  }
 },
 "nbformat": 4,
 "nbformat_minor": 0
}
