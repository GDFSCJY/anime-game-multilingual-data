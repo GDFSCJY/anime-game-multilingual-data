{
 "cells": [
  {
   "cell_type": "code",
   "execution_count": 1,
   "metadata": {
    "collapsed": true,
    "ExecuteTime": {
     "end_time": "2023-07-09T09:47:51.026235584Z",
     "start_time": "2023-07-09T09:47:50.754196174Z"
    }
   },
   "outputs": [],
   "source": [
    "from glob import glob\n",
    "import os\n",
    "import pandas as pd\n",
    "from tqdm import tqdm_notebook as tqdm\n",
    "import re\n"
   ]
  },
  {
   "cell_type": "code",
   "execution_count": 2,
   "outputs": [
    {
     "name": "stderr",
     "output_type": "stream",
     "text": [
      "/tmp/ipykernel_20720/211421219.py:8: TqdmDeprecationWarning: This function will be removed in tqdm==5.0.0\n",
      "Please use `tqdm.notebook.tqdm` instead of `tqdm.tqdm_notebook`\n",
      "  for zh_file in tqdm(glob(f'{zh_story_path}/**/*.txt', recursive=True)):\n"
     ]
    },
    {
     "data": {
      "text/plain": "  0%|          | 0/3004 [00:00<?, ?it/s]",
      "application/vnd.jupyter.widget-view+json": {
       "version_major": 2,
       "version_minor": 0,
       "model_id": "bfe2b8b9dcc04b378223580d75a7175f"
      }
     },
     "metadata": {},
     "output_type": "display_data"
    },
    {
     "name": "stdout",
     "output_type": "stream",
     "text": [
      "Skip 597 files, 2407 files left.\n"
     ]
    }
   ],
   "source": [
    "# load all en ja zh json file paths\n",
    "en_story_path = 'GAMEDATA/ArknightsGameData/en_US/gamedata/story'\n",
    "ja_story_path = 'GAMEDATA/ArknightsGameData/ja_JP/gamedata/story'\n",
    "zh_story_path = 'GAMEDATA/ArknightsGameData/zh_CN/gamedata/story'\n",
    "\n",
    "skip_count = 0\n",
    "en_story_files, ja_story_files, zh_story_files = [], [], []\n",
    "for zh_file in tqdm(glob(f'{zh_story_path}/**/*.txt', recursive=True)):\n",
    "    en_file = zh_file.replace('zh_CN', 'en_US')\n",
    "    ja_file = zh_file.replace('zh_CN', 'ja_JP')\n",
    "    if not os.path.exists(en_file) or not os.path.exists(ja_file):\n",
    "        skip_count += 1\n",
    "        continue\n",
    "    en_story_files.append(en_file)\n",
    "    ja_story_files.append(ja_file)\n",
    "    zh_story_files.append(zh_file)\n",
    "\n",
    "print(f'Skip {skip_count} files, {len(en_story_files)} files left.')"
   ],
   "metadata": {
    "collapsed": false,
    "ExecuteTime": {
     "end_time": "2023-07-09T09:47:51.183683183Z",
     "start_time": "2023-07-09T09:47:51.031092618Z"
    }
   }
  },
  {
   "cell_type": "code",
   "execution_count": 3,
   "outputs": [
    {
     "name": "stderr",
     "output_type": "stream",
     "text": [
      "/tmp/ipykernel_20720/3244970516.py:20: TqdmDeprecationWarning: This function will be removed in tqdm==5.0.0\n",
      "Please use `tqdm.notebook.tqdm` instead of `tqdm.tqdm_notebook`\n",
      "  pbar = tqdm(zip(en_story_files, ja_story_files, zh_story_files), total=len(en_story_files))\n"
     ]
    },
    {
     "data": {
      "text/plain": "  0%|          | 0/2407 [00:00<?, ?it/s]",
      "application/vnd.jupyter.widget-view+json": {
       "version_major": 2,
       "version_minor": 0,
       "model_id": "116453a0a32848f4972774f22e014b70"
      }
     },
     "metadata": {},
     "output_type": "display_data"
    },
    {
     "name": "stdout",
     "output_type": "stream",
     "text": [
      "Warning: length of GAMEDATA/ArknightsGameData/en_US/gamedata/story/activities/act13d0/level_act13d0_st06.txt is not equal to GAMEDATA/ArknightsGameData/ja_JP/gamedata/story/activities/act13d0/level_act13d0_st06.txt or GAMEDATA/ArknightsGameData/zh_CN/gamedata/story/activities/act13d0/level_act13d0_st06.txt\n",
      "length of en: 345, ja: 345, zh: 338\n",
      "Warning: length of GAMEDATA/ArknightsGameData/en_US/gamedata/story/activities/act13d0/level_act13d0_st02.txt is not equal to GAMEDATA/ArknightsGameData/ja_JP/gamedata/story/activities/act13d0/level_act13d0_st02.txt or GAMEDATA/ArknightsGameData/zh_CN/gamedata/story/activities/act13d0/level_act13d0_st02.txt\n",
      "length of en: 339, ja: 339, zh: 324\n",
      "Warning: length of GAMEDATA/ArknightsGameData/en_US/gamedata/story/activities/act13d0/level_act13d0_st07.txt is not equal to GAMEDATA/ArknightsGameData/ja_JP/gamedata/story/activities/act13d0/level_act13d0_st07.txt or GAMEDATA/ArknightsGameData/zh_CN/gamedata/story/activities/act13d0/level_act13d0_st07.txt\n",
      "length of en: 428, ja: 428, zh: 427\n",
      "Warning: length of GAMEDATA/ArknightsGameData/en_US/gamedata/story/activities/act19side/level_act19side_01_end.txt is not equal to GAMEDATA/ArknightsGameData/ja_JP/gamedata/story/activities/act19side/level_act19side_01_end.txt or GAMEDATA/ArknightsGameData/zh_CN/gamedata/story/activities/act19side/level_act19side_01_end.txt\n",
      "length of en: 226, ja: 226, zh: 223\n",
      "Warning: length of GAMEDATA/ArknightsGameData/en_US/gamedata/story/activities/act19side/level_act19side_03_end.txt is not equal to GAMEDATA/ArknightsGameData/ja_JP/gamedata/story/activities/act19side/level_act19side_03_end.txt or GAMEDATA/ArknightsGameData/zh_CN/gamedata/story/activities/act19side/level_act19side_03_end.txt\n",
      "length of en: 214, ja: 214, zh: 213\n",
      "Warning: length of GAMEDATA/ArknightsGameData/en_US/gamedata/story/activities/act13side/training/training_act13side_02_d.txt is not equal to GAMEDATA/ArknightsGameData/ja_JP/gamedata/story/activities/act13side/training/training_act13side_02_d.txt or GAMEDATA/ArknightsGameData/zh_CN/gamedata/story/activities/act13side/training/training_act13side_02_d.txt\n",
      "length of en: 6, ja: 6, zh: 5\n",
      "Warning: length of GAMEDATA/ArknightsGameData/en_US/gamedata/story/activities/act13side/training/training_act13side_01_f.txt is not equal to GAMEDATA/ArknightsGameData/ja_JP/gamedata/story/activities/act13side/training/training_act13side_01_f.txt or GAMEDATA/ArknightsGameData/zh_CN/gamedata/story/activities/act13side/training/training_act13side_01_f.txt\n",
      "length of en: 6, ja: 6, zh: 5\n",
      "Warning: length of GAMEDATA/ArknightsGameData/en_US/gamedata/story/obt/memory/story_otter_1_1.txt is not equal to GAMEDATA/ArknightsGameData/ja_JP/gamedata/story/obt/memory/story_otter_1_1.txt or GAMEDATA/ArknightsGameData/zh_CN/gamedata/story/obt/memory/story_otter_1_1.txt\n",
      "length of en: 312, ja: 312, zh: 311\n",
      "Warning: length of GAMEDATA/ArknightsGameData/en_US/gamedata/story/obt/memory/story_aglina_1_2.txt is not equal to GAMEDATA/ArknightsGameData/ja_JP/gamedata/story/obt/memory/story_aglina_1_2.txt or GAMEDATA/ArknightsGameData/zh_CN/gamedata/story/obt/memory/story_aglina_1_2.txt\n",
      "length of en: 144, ja: 144, zh: 139\n",
      "Warning: length of GAMEDATA/ArknightsGameData/en_US/gamedata/story/obt/memory/story_fmout_1_1.txt is not equal to GAMEDATA/ArknightsGameData/ja_JP/gamedata/story/obt/memory/story_fmout_1_1.txt or GAMEDATA/ArknightsGameData/zh_CN/gamedata/story/obt/memory/story_fmout_1_1.txt\n",
      "length of en: 310, ja: 310, zh: 295\n",
      "Warning: length of GAMEDATA/ArknightsGameData/en_US/gamedata/story/obt/memory/story_aglina_1_1.txt is not equal to GAMEDATA/ArknightsGameData/ja_JP/gamedata/story/obt/memory/story_aglina_1_1.txt or GAMEDATA/ArknightsGameData/zh_CN/gamedata/story/obt/memory/story_aglina_1_1.txt\n",
      "length of en: 139, ja: 139, zh: 133\n",
      "Warning: length of GAMEDATA/ArknightsGameData/en_US/gamedata/story/obt/tutorial/level/guide_01_b.txt is not equal to GAMEDATA/ArknightsGameData/ja_JP/gamedata/story/obt/tutorial/level/guide_01_b.txt or GAMEDATA/ArknightsGameData/zh_CN/gamedata/story/obt/tutorial/level/guide_01_b.txt\n",
      "length of en: 42, ja: 42, zh: 45\n",
      "Warning: length of GAMEDATA/ArknightsGameData/en_US/gamedata/story/obt/rogue/month_chat_rogue_1_2/month_chat_rogue_1_2_2.txt is not equal to GAMEDATA/ArknightsGameData/ja_JP/gamedata/story/obt/rogue/month_chat_rogue_1_2/month_chat_rogue_1_2_2.txt or GAMEDATA/ArknightsGameData/zh_CN/gamedata/story/obt/rogue/month_chat_rogue_1_2/month_chat_rogue_1_2_2.txt\n",
      "length of en: 15, ja: 15, zh: 16\n",
      "Warning: length of GAMEDATA/ArknightsGameData/en_US/gamedata/story/obt/rogue/month_chat_rogue_1_2/month_chat_rogue_1_2_1.txt is not equal to GAMEDATA/ArknightsGameData/ja_JP/gamedata/story/obt/rogue/month_chat_rogue_1_2/month_chat_rogue_1_2_1.txt or GAMEDATA/ArknightsGameData/zh_CN/gamedata/story/obt/rogue/month_chat_rogue_1_2/month_chat_rogue_1_2_1.txt\n",
      "length of en: 17, ja: 17, zh: 18\n",
      "Warning: length of GAMEDATA/ArknightsGameData/en_US/gamedata/story/obt/rogue/month_chat_rogue_1_2/month_chat_rogue_1_2_3.txt is not equal to GAMEDATA/ArknightsGameData/ja_JP/gamedata/story/obt/rogue/month_chat_rogue_1_2/month_chat_rogue_1_2_3.txt or GAMEDATA/ArknightsGameData/zh_CN/gamedata/story/obt/rogue/month_chat_rogue_1_2/month_chat_rogue_1_2_3.txt\n",
      "length of en: 19, ja: 19, zh: 20\n"
     ]
    },
    {
     "data": {
      "text/plain": "                                                       en  \\\n0       In the Grand Knight Territory, Margaret asks a...   \n1       Deszcz the attorney's business trip is heavily...   \n2       Flametail and Ashlock head for border city Dzw...   \n3       Laying low in Dzwonek, Szewczyk gets dragged i...   \n4       His plot revealed, Czcibor heads down a path o...   \n...                                                   ...   \n173265  [Dialog(head=\"char_290_vigna\", delay=0.5)]It's...   \n173266  [Dialog(head=\"char_171_bldsk\", delay=0.5)]Of c...   \n173267  [Dialog(head=\"char_311_mudrok\", delay=1)]I wil...   \n173268  [Dialog(head=\"char_290_vigna\", delay=0.5)]I th...   \n173269  [Dialog(head=\"char_171_bldsk\", delay=0)]Wa—Wai...   \n\n                                                       ja  \\\n0       大騎士領内。祖父の墓参りから戻ったマーガレットが過去について老騎士らに問う。一方荒野では、旧...   \n1       車の故障により、弁護士デーシュットの予定は大幅に遅れていた。自分のせいで叩き売られようとして...   \n2       国境都市ズウォネクを訪れたフレイムテイルとアッシュロックは、現地の感染者が扇動されていること...   \n3       人目を忍ぶためズウォネクへ越してきたシェブチックは、学校帰りの息子を迎えに行く途中で爆発事件...   \n4       陰謀が暴かれ、後戻りできないことを悟った騎士団長シチボルは、自らの意地を通すことを決意する。...   \n...                                                   ...   \n173265  [Dialog(head=\"char_290_vigna\", delay=0.5)]こういう...   \n173266  [Dialog(head=\"char_171_bldsk\", delay=0.5)]もちろん...   \n173267  [Dialog(head=\"char_311_mudrok\", delay=1)]ブラッドブ...   \n173268  [Dialog(head=\"char_290_vigna\", delay=0.5)]あたしも...   \n173269  [Dialog(head=\"char_171_bldsk\", delay=0)]ま、待たぬか...   \n\n                                                       zh  \n0             大骑士领内，给祖父扫墓归来的玛嘉烈问起旧事。荒野上，告别了旧友的玛恩纳和托兰谈论前路。  \n1       由于车辆意外故障，律师黛丝特的行程严重耽搁。这个即将因她而被低价卖掉的村庄留宿她一晚，她看见...  \n2       焰尾和灰毫前往边境城市茨沃涅克，发现此地的感染者正受人煽动。唯一与她们友善沟通的感染者被迫背...  \n3                      搬到茨沃涅克避风头的瑟奇亚克只是去接儿子放学，却被卷入一场爆炸之中。  \n4            阴谋败露，自知没有回头路的骑士团长切斯柏一意孤行，而玛恩纳等在他前去拦截刺杀目标的路上。  \n...                                                   ...  \n173265  [Dialog(head=\"char_290_vigna\", delay=0.5)]想不到华...  \n173266  [Dialog(head=\"char_171_bldsk\", delay=0.5)]当然你们...  \n173267  [Dialog(head=\"char_311_mudrok\", delay=1)]血魔，我先...  \n173268  [Dialog(head=\"char_290_vigna\", delay=0.5)]我好像也...  \n173269  [Dialog(head=\"char_171_bldsk\", delay=0)]等，等等啊，...  \n\n[173270 rows x 3 columns]",
      "text/html": "<div>\n<style scoped>\n    .dataframe tbody tr th:only-of-type {\n        vertical-align: middle;\n    }\n\n    .dataframe tbody tr th {\n        vertical-align: top;\n    }\n\n    .dataframe thead th {\n        text-align: right;\n    }\n</style>\n<table border=\"1\" class=\"dataframe\">\n  <thead>\n    <tr style=\"text-align: right;\">\n      <th></th>\n      <th>en</th>\n      <th>ja</th>\n      <th>zh</th>\n    </tr>\n  </thead>\n  <tbody>\n    <tr>\n      <th>0</th>\n      <td>In the Grand Knight Territory, Margaret asks a...</td>\n      <td>大騎士領内。祖父の墓参りから戻ったマーガレットが過去について老騎士らに問う。一方荒野では、旧...</td>\n      <td>大骑士领内，给祖父扫墓归来的玛嘉烈问起旧事。荒野上，告别了旧友的玛恩纳和托兰谈论前路。</td>\n    </tr>\n    <tr>\n      <th>1</th>\n      <td>Deszcz the attorney's business trip is heavily...</td>\n      <td>車の故障により、弁護士デーシュットの予定は大幅に遅れていた。自分のせいで叩き売られようとして...</td>\n      <td>由于车辆意外故障，律师黛丝特的行程严重耽搁。这个即将因她而被低价卖掉的村庄留宿她一晚，她看见...</td>\n    </tr>\n    <tr>\n      <th>2</th>\n      <td>Flametail and Ashlock head for border city Dzw...</td>\n      <td>国境都市ズウォネクを訪れたフレイムテイルとアッシュロックは、現地の感染者が扇動されていること...</td>\n      <td>焰尾和灰毫前往边境城市茨沃涅克，发现此地的感染者正受人煽动。唯一与她们友善沟通的感染者被迫背...</td>\n    </tr>\n    <tr>\n      <th>3</th>\n      <td>Laying low in Dzwonek, Szewczyk gets dragged i...</td>\n      <td>人目を忍ぶためズウォネクへ越してきたシェブチックは、学校帰りの息子を迎えに行く途中で爆発事件...</td>\n      <td>搬到茨沃涅克避风头的瑟奇亚克只是去接儿子放学，却被卷入一场爆炸之中。</td>\n    </tr>\n    <tr>\n      <th>4</th>\n      <td>His plot revealed, Czcibor heads down a path o...</td>\n      <td>陰謀が暴かれ、後戻りできないことを悟った騎士団長シチボルは、自らの意地を通すことを決意する。...</td>\n      <td>阴谋败露，自知没有回头路的骑士团长切斯柏一意孤行，而玛恩纳等在他前去拦截刺杀目标的路上。</td>\n    </tr>\n    <tr>\n      <th>...</th>\n      <td>...</td>\n      <td>...</td>\n      <td>...</td>\n    </tr>\n    <tr>\n      <th>173265</th>\n      <td>[Dialog(head=\"char_290_vigna\", delay=0.5)]It's...</td>\n      <td>[Dialog(head=\"char_290_vigna\", delay=0.5)]こういう...</td>\n      <td>[Dialog(head=\"char_290_vigna\", delay=0.5)]想不到华...</td>\n    </tr>\n    <tr>\n      <th>173266</th>\n      <td>[Dialog(head=\"char_171_bldsk\", delay=0.5)]Of c...</td>\n      <td>[Dialog(head=\"char_171_bldsk\", delay=0.5)]もちろん...</td>\n      <td>[Dialog(head=\"char_171_bldsk\", delay=0.5)]当然你们...</td>\n    </tr>\n    <tr>\n      <th>173267</th>\n      <td>[Dialog(head=\"char_311_mudrok\", delay=1)]I wil...</td>\n      <td>[Dialog(head=\"char_311_mudrok\", delay=1)]ブラッドブ...</td>\n      <td>[Dialog(head=\"char_311_mudrok\", delay=1)]血魔，我先...</td>\n    </tr>\n    <tr>\n      <th>173268</th>\n      <td>[Dialog(head=\"char_290_vigna\", delay=0.5)]I th...</td>\n      <td>[Dialog(head=\"char_290_vigna\", delay=0.5)]あたしも...</td>\n      <td>[Dialog(head=\"char_290_vigna\", delay=0.5)]我好像也...</td>\n    </tr>\n    <tr>\n      <th>173269</th>\n      <td>[Dialog(head=\"char_171_bldsk\", delay=0)]Wa—Wai...</td>\n      <td>[Dialog(head=\"char_171_bldsk\", delay=0)]ま、待たぬか...</td>\n      <td>[Dialog(head=\"char_171_bldsk\", delay=0)]等，等等啊，...</td>\n    </tr>\n  </tbody>\n</table>\n<p>173270 rows × 3 columns</p>\n</div>"
     },
     "execution_count": 3,
     "metadata": {},
     "output_type": "execute_result"
    }
   ],
   "source": [
    "# load all en ja zh txt file into df\n",
    "# empty line should be removed\n",
    "# should remove lines like: [some word]\n",
    "regex = re.compile(r'^(\\[[^\\]]+\\][\\n]*)$')\n",
    "\n",
    "def read_file(file_path):\n",
    "    lines = []\n",
    "    with open(file_path, 'r', encoding='utf-8') as f:\n",
    "        for line in f.readlines():\n",
    "            line = line.strip()\n",
    "            if line == '':\n",
    "                continue\n",
    "            elif regex.match(line):\n",
    "                continue\n",
    "            lines.append(line)\n",
    "\n",
    "    return lines\n",
    "\n",
    "df = pd.DataFrame(columns=['en', 'ja', 'zh'])\n",
    "pbar = tqdm(zip(en_story_files, ja_story_files, zh_story_files), total=len(en_story_files))\n",
    "for en_file, ja_file, zh_file in pbar:\n",
    "    # show filename on progress bar\n",
    "    pbar.set_description(f'Processing {en_file}')\n",
    "\n",
    "    en_story_text = read_file(en_file)\n",
    "    ja_story_text = read_file(ja_file)\n",
    "    zh_story_text = read_file(zh_file)\n",
    "\n",
    "    if len(en_story_text) != len(ja_story_text) or len(en_story_text) != len(zh_story_text):\n",
    "        print(f'Warning: length of {en_file} is not equal to {ja_file} or {zh_file}')\n",
    "        print(f'length of en: {len(en_story_text)}, ja: {len(ja_story_text)}, zh: {len(zh_story_text)}')\n",
    "        continue\n",
    "\n",
    "\n",
    "    df =  pd.concat([\n",
    "        df, pd.DataFrame({\n",
    "            'en': en_story_text,\n",
    "            'ja': ja_story_text,\n",
    "            'zh': zh_story_text})\n",
    "    ], ignore_index=True)\n",
    "df"
   ],
   "metadata": {
    "collapsed": false,
    "ExecuteTime": {
     "end_time": "2023-07-09T09:48:07.082291690Z",
     "start_time": "2023-07-09T09:47:51.153443932Z"
    }
   }
  },
  {
   "cell_type": "code",
   "execution_count": 4,
   "outputs": [
    {
     "data": {
      "text/plain": "                                                       en  \\\n0       In the Grand Knight Territory, Margaret asks a...   \n1       Deszcz the attorney's business trip is heavily...   \n2       Flametail and Ashlock head for border city Dzw...   \n3       Laying low in Dzwonek, Szewczyk gets dragged i...   \n4       His plot revealed, Czcibor heads down a path o...   \n...                                                   ...   \n173265  [Dialog(head=\"char_290_vigna\", delay=0.5)]It's...   \n173266  [Dialog(head=\"char_171_bldsk\", delay=0.5)]Of c...   \n173267  [Dialog(head=\"char_311_mudrok\", delay=1)]I wil...   \n173268  [Dialog(head=\"char_290_vigna\", delay=0.5)]I th...   \n173269  [Dialog(head=\"char_171_bldsk\", delay=0)]Wa—Wai...   \n\n                                                       ja  \\\n0       大騎士領内。祖父の墓参りから戻ったマーガレットが過去について老騎士らに問う。一方荒野では、旧...   \n1       車の故障により、弁護士デーシュットの予定は大幅に遅れていた。自分のせいで叩き売られようとして...   \n2       国境都市ズウォネクを訪れたフレイムテイルとアッシュロックは、現地の感染者が扇動されていること...   \n3       人目を忍ぶためズウォネクへ越してきたシェブチックは、学校帰りの息子を迎えに行く途中で爆発事件...   \n4       陰謀が暴かれ、後戻りできないことを悟った騎士団長シチボルは、自らの意地を通すことを決意する。...   \n...                                                   ...   \n173265  [Dialog(head=\"char_290_vigna\", delay=0.5)]こういう...   \n173266  [Dialog(head=\"char_171_bldsk\", delay=0.5)]もちろん...   \n173267  [Dialog(head=\"char_311_mudrok\", delay=1)]ブラッドブ...   \n173268  [Dialog(head=\"char_290_vigna\", delay=0.5)]あたしも...   \n173269  [Dialog(head=\"char_171_bldsk\", delay=0)]ま、待たぬか...   \n\n                                                       zh  \n0             大骑士领内，给祖父扫墓归来的玛嘉烈问起旧事。荒野上，告别了旧友的玛恩纳和托兰谈论前路。  \n1       由于车辆意外故障，律师黛丝特的行程严重耽搁。这个即将因她而被低价卖掉的村庄留宿她一晚，她看见...  \n2       焰尾和灰毫前往边境城市茨沃涅克，发现此地的感染者正受人煽动。唯一与她们友善沟通的感染者被迫背...  \n3                      搬到茨沃涅克避风头的瑟奇亚克只是去接儿子放学，却被卷入一场爆炸之中。  \n4            阴谋败露，自知没有回头路的骑士团长切斯柏一意孤行，而玛恩纳等在他前去拦截刺杀目标的路上。  \n...                                                   ...  \n173265  [Dialog(head=\"char_290_vigna\", delay=0.5)]想不到华...  \n173266  [Dialog(head=\"char_171_bldsk\", delay=0.5)]当然你们...  \n173267  [Dialog(head=\"char_311_mudrok\", delay=1)]血魔，我先...  \n173268  [Dialog(head=\"char_290_vigna\", delay=0.5)]我好像也...  \n173269  [Dialog(head=\"char_171_bldsk\", delay=0)]等，等等啊，...  \n\n[166864 rows x 3 columns]",
      "text/html": "<div>\n<style scoped>\n    .dataframe tbody tr th:only-of-type {\n        vertical-align: middle;\n    }\n\n    .dataframe tbody tr th {\n        vertical-align: top;\n    }\n\n    .dataframe thead th {\n        text-align: right;\n    }\n</style>\n<table border=\"1\" class=\"dataframe\">\n  <thead>\n    <tr style=\"text-align: right;\">\n      <th></th>\n      <th>en</th>\n      <th>ja</th>\n      <th>zh</th>\n    </tr>\n  </thead>\n  <tbody>\n    <tr>\n      <th>0</th>\n      <td>In the Grand Knight Territory, Margaret asks a...</td>\n      <td>大騎士領内。祖父の墓参りから戻ったマーガレットが過去について老騎士らに問う。一方荒野では、旧...</td>\n      <td>大骑士领内，给祖父扫墓归来的玛嘉烈问起旧事。荒野上，告别了旧友的玛恩纳和托兰谈论前路。</td>\n    </tr>\n    <tr>\n      <th>1</th>\n      <td>Deszcz the attorney's business trip is heavily...</td>\n      <td>車の故障により、弁護士デーシュットの予定は大幅に遅れていた。自分のせいで叩き売られようとして...</td>\n      <td>由于车辆意外故障，律师黛丝特的行程严重耽搁。这个即将因她而被低价卖掉的村庄留宿她一晚，她看见...</td>\n    </tr>\n    <tr>\n      <th>2</th>\n      <td>Flametail and Ashlock head for border city Dzw...</td>\n      <td>国境都市ズウォネクを訪れたフレイムテイルとアッシュロックは、現地の感染者が扇動されていること...</td>\n      <td>焰尾和灰毫前往边境城市茨沃涅克，发现此地的感染者正受人煽动。唯一与她们友善沟通的感染者被迫背...</td>\n    </tr>\n    <tr>\n      <th>3</th>\n      <td>Laying low in Dzwonek, Szewczyk gets dragged i...</td>\n      <td>人目を忍ぶためズウォネクへ越してきたシェブチックは、学校帰りの息子を迎えに行く途中で爆発事件...</td>\n      <td>搬到茨沃涅克避风头的瑟奇亚克只是去接儿子放学，却被卷入一场爆炸之中。</td>\n    </tr>\n    <tr>\n      <th>4</th>\n      <td>His plot revealed, Czcibor heads down a path o...</td>\n      <td>陰謀が暴かれ、後戻りできないことを悟った騎士団長シチボルは、自らの意地を通すことを決意する。...</td>\n      <td>阴谋败露，自知没有回头路的骑士团长切斯柏一意孤行，而玛恩纳等在他前去拦截刺杀目标的路上。</td>\n    </tr>\n    <tr>\n      <th>...</th>\n      <td>...</td>\n      <td>...</td>\n      <td>...</td>\n    </tr>\n    <tr>\n      <th>173265</th>\n      <td>[Dialog(head=\"char_290_vigna\", delay=0.5)]It's...</td>\n      <td>[Dialog(head=\"char_290_vigna\", delay=0.5)]こういう...</td>\n      <td>[Dialog(head=\"char_290_vigna\", delay=0.5)]想不到华...</td>\n    </tr>\n    <tr>\n      <th>173266</th>\n      <td>[Dialog(head=\"char_171_bldsk\", delay=0.5)]Of c...</td>\n      <td>[Dialog(head=\"char_171_bldsk\", delay=0.5)]もちろん...</td>\n      <td>[Dialog(head=\"char_171_bldsk\", delay=0.5)]当然你们...</td>\n    </tr>\n    <tr>\n      <th>173267</th>\n      <td>[Dialog(head=\"char_311_mudrok\", delay=1)]I wil...</td>\n      <td>[Dialog(head=\"char_311_mudrok\", delay=1)]ブラッドブ...</td>\n      <td>[Dialog(head=\"char_311_mudrok\", delay=1)]血魔，我先...</td>\n    </tr>\n    <tr>\n      <th>173268</th>\n      <td>[Dialog(head=\"char_290_vigna\", delay=0.5)]I th...</td>\n      <td>[Dialog(head=\"char_290_vigna\", delay=0.5)]あたしも...</td>\n      <td>[Dialog(head=\"char_290_vigna\", delay=0.5)]我好像也...</td>\n    </tr>\n    <tr>\n      <th>173269</th>\n      <td>[Dialog(head=\"char_171_bldsk\", delay=0)]Wa—Wai...</td>\n      <td>[Dialog(head=\"char_171_bldsk\", delay=0)]ま、待たぬか...</td>\n      <td>[Dialog(head=\"char_171_bldsk\", delay=0)]等，等等啊，...</td>\n    </tr>\n  </tbody>\n</table>\n<p>166864 rows × 3 columns</p>\n</div>"
     },
     "execution_count": 4,
     "metadata": {},
     "output_type": "execute_result"
    }
   ],
   "source": [
    "# drop duplicate\n",
    "df = df.drop_duplicates(subset=['en', 'ja', 'zh'], keep='first')\n",
    "df"
   ],
   "metadata": {
    "collapsed": false,
    "ExecuteTime": {
     "end_time": "2023-07-09T09:48:07.373583628Z",
     "start_time": "2023-07-09T09:48:07.081772935Z"
    }
   }
  },
  {
   "cell_type": "code",
   "execution_count": 5,
   "outputs": [
    {
     "name": "stderr",
     "output_type": "stream",
     "text": [
      "/tmp/ipykernel_20720/3367292161.py:4: SettingWithCopyWarning: \n",
      "A value is trying to be set on a copy of a slice from a DataFrame.\n",
      "Try using .loc[row_indexer,col_indexer] = value instead\n",
      "\n",
      "See the caveats in the documentation: https://pandas.pydata.org/pandas-docs/stable/user_guide/indexing.html#returning-a-view-versus-a-copy\n",
      "  df['en'] = df['en'].apply(lambda x: regex.sub('', x))\n",
      "/tmp/ipykernel_20720/3367292161.py:5: SettingWithCopyWarning: \n",
      "A value is trying to be set on a copy of a slice from a DataFrame.\n",
      "Try using .loc[row_indexer,col_indexer] = value instead\n",
      "\n",
      "See the caveats in the documentation: https://pandas.pydata.org/pandas-docs/stable/user_guide/indexing.html#returning-a-view-versus-a-copy\n",
      "  df['ja'] = df['ja'].apply(lambda x: regex.sub('', x))\n",
      "/tmp/ipykernel_20720/3367292161.py:6: SettingWithCopyWarning: \n",
      "A value is trying to be set on a copy of a slice from a DataFrame.\n",
      "Try using .loc[row_indexer,col_indexer] = value instead\n",
      "\n",
      "See the caveats in the documentation: https://pandas.pydata.org/pandas-docs/stable/user_guide/indexing.html#returning-a-view-versus-a-copy\n",
      "  df['zh'] = df['zh'].apply(lambda x: regex.sub('', x))\n"
     ]
    },
    {
     "data": {
      "text/plain": "                                                       en  \\\n0       In the Grand Knight Territory, Margaret asks a...   \n1       Deszcz the attorney's business trip is heavily...   \n2       Flametail and Ashlock head for border city Dzw...   \n3       Laying low in Dzwonek, Szewczyk gets dragged i...   \n4       His plot revealed, Czcibor heads down a path o...   \n...                                                   ...   \n173265  It's weird to process you being all common-sen...   \n173266  Of course, if you're willing to sign on a disc...   \n173267         I will return to tend to my soil, Vampire.   \n173268  I think I gotta go to rehearsal too. Me and Mu...   \n173269  Wa—Wait, you can still participate, even if yo...   \n\n                                                       ja  \\\n0       大騎士領内。祖父の墓参りから戻ったマーガレットが過去について老騎士らに問う。一方荒野では、旧...   \n1       車の故障により、弁護士デーシュットの予定は大幅に遅れていた。自分のせいで叩き売られようとして...   \n2       国境都市ズウォネクを訪れたフレイムテイルとアッシュロックは、現地の感染者が扇動されていること...   \n3       人目を忍ぶためズウォネクへ越してきたシェブチックは、学校帰りの息子を迎えに行く途中で爆発事件...   \n4       陰謀が暴かれ、後戻りできないことを悟った騎士団長シチボルは、自らの意地を通すことを決意する。...   \n...                                                   ...   \n173265                      こういうことに関してワルファリン先生に常識があったなんて。   \n173266  もちろん、そなたらが免責事項にサインをして妾の実験に参加してくれるというのであれば、妾は断り...   \n173267                     ブラッドブルード、私は帰って沃土の世話をしなくてはならない。   \n173268                     あたしもリハーサルしなきゃ……マドロックさん、行きましょう。   \n173269                 ま、待たぬか！　サインはせずとも実験には参加してよいのだぞ、行くな！   \n\n                                                       zh  \n0             大骑士领内，给祖父扫墓归来的玛嘉烈问起旧事。荒野上，告别了旧友的玛恩纳和托兰谈论前路。  \n1       由于车辆意外故障，律师黛丝特的行程严重耽搁。这个即将因她而被低价卖掉的村庄留宿她一晚，她看见...  \n2       焰尾和灰毫前往边境城市茨沃涅克，发现此地的感染者正受人煽动。唯一与她们友善沟通的感染者被迫背...  \n3                      搬到茨沃涅克避风头的瑟奇亚克只是去接儿子放学，却被卷入一场爆炸之中。  \n4            阴谋败露，自知没有回头路的骑士团长切斯柏一意孤行，而玛恩纳等在他前去拦截刺杀目标的路上。  \n...                                                   ...  \n173265                                 想不到华法琳你在这方面还挺有常识的。  \n173266                当然你们要是愿意在免责声明上签下名字参加我的实验，我也是不会拒绝的啦。  \n173267                                      血魔，我先回去照料沃土了。  \n173268                                我好像也要排练来着，泥岩我们一起走吧。  \n173269                        等，等等啊，不签免责声明也可以直接来参加实验啊，别走！  \n\n[166864 rows x 3 columns]",
      "text/html": "<div>\n<style scoped>\n    .dataframe tbody tr th:only-of-type {\n        vertical-align: middle;\n    }\n\n    .dataframe tbody tr th {\n        vertical-align: top;\n    }\n\n    .dataframe thead th {\n        text-align: right;\n    }\n</style>\n<table border=\"1\" class=\"dataframe\">\n  <thead>\n    <tr style=\"text-align: right;\">\n      <th></th>\n      <th>en</th>\n      <th>ja</th>\n      <th>zh</th>\n    </tr>\n  </thead>\n  <tbody>\n    <tr>\n      <th>0</th>\n      <td>In the Grand Knight Territory, Margaret asks a...</td>\n      <td>大騎士領内。祖父の墓参りから戻ったマーガレットが過去について老騎士らに問う。一方荒野では、旧...</td>\n      <td>大骑士领内，给祖父扫墓归来的玛嘉烈问起旧事。荒野上，告别了旧友的玛恩纳和托兰谈论前路。</td>\n    </tr>\n    <tr>\n      <th>1</th>\n      <td>Deszcz the attorney's business trip is heavily...</td>\n      <td>車の故障により、弁護士デーシュットの予定は大幅に遅れていた。自分のせいで叩き売られようとして...</td>\n      <td>由于车辆意外故障，律师黛丝特的行程严重耽搁。这个即将因她而被低价卖掉的村庄留宿她一晚，她看见...</td>\n    </tr>\n    <tr>\n      <th>2</th>\n      <td>Flametail and Ashlock head for border city Dzw...</td>\n      <td>国境都市ズウォネクを訪れたフレイムテイルとアッシュロックは、現地の感染者が扇動されていること...</td>\n      <td>焰尾和灰毫前往边境城市茨沃涅克，发现此地的感染者正受人煽动。唯一与她们友善沟通的感染者被迫背...</td>\n    </tr>\n    <tr>\n      <th>3</th>\n      <td>Laying low in Dzwonek, Szewczyk gets dragged i...</td>\n      <td>人目を忍ぶためズウォネクへ越してきたシェブチックは、学校帰りの息子を迎えに行く途中で爆発事件...</td>\n      <td>搬到茨沃涅克避风头的瑟奇亚克只是去接儿子放学，却被卷入一场爆炸之中。</td>\n    </tr>\n    <tr>\n      <th>4</th>\n      <td>His plot revealed, Czcibor heads down a path o...</td>\n      <td>陰謀が暴かれ、後戻りできないことを悟った騎士団長シチボルは、自らの意地を通すことを決意する。...</td>\n      <td>阴谋败露，自知没有回头路的骑士团长切斯柏一意孤行，而玛恩纳等在他前去拦截刺杀目标的路上。</td>\n    </tr>\n    <tr>\n      <th>...</th>\n      <td>...</td>\n      <td>...</td>\n      <td>...</td>\n    </tr>\n    <tr>\n      <th>173265</th>\n      <td>It's weird to process you being all common-sen...</td>\n      <td>こういうことに関してワルファリン先生に常識があったなんて。</td>\n      <td>想不到华法琳你在这方面还挺有常识的。</td>\n    </tr>\n    <tr>\n      <th>173266</th>\n      <td>Of course, if you're willing to sign on a disc...</td>\n      <td>もちろん、そなたらが免責事項にサインをして妾の実験に参加してくれるというのであれば、妾は断り...</td>\n      <td>当然你们要是愿意在免责声明上签下名字参加我的实验，我也是不会拒绝的啦。</td>\n    </tr>\n    <tr>\n      <th>173267</th>\n      <td>I will return to tend to my soil, Vampire.</td>\n      <td>ブラッドブルード、私は帰って沃土の世話をしなくてはならない。</td>\n      <td>血魔，我先回去照料沃土了。</td>\n    </tr>\n    <tr>\n      <th>173268</th>\n      <td>I think I gotta go to rehearsal too. Me and Mu...</td>\n      <td>あたしもリハーサルしなきゃ……マドロックさん、行きましょう。</td>\n      <td>我好像也要排练来着，泥岩我们一起走吧。</td>\n    </tr>\n    <tr>\n      <th>173269</th>\n      <td>Wa—Wait, you can still participate, even if yo...</td>\n      <td>ま、待たぬか！　サインはせずとも実験には参加してよいのだぞ、行くな！</td>\n      <td>等，等等啊，不签免责声明也可以直接来参加实验啊，别走！</td>\n    </tr>\n  </tbody>\n</table>\n<p>166864 rows × 3 columns</p>\n</div>"
     },
     "execution_count": 5,
     "metadata": {},
     "output_type": "execute_result"
    }
   ],
   "source": [
    "# remove name tag of dialog\n",
    "# which is like: [...]   dialog, just keep dialog\n",
    "regex = re.compile(r'^(\\[[^\\]]+\\][ ]*)')\n",
    "df['en'] = df['en'].apply(lambda x: regex.sub('', x))\n",
    "df['ja'] = df['ja'].apply(lambda x: regex.sub('', x))\n",
    "df['zh'] = df['zh'].apply(lambda x: regex.sub('', x))\n",
    "df"
   ],
   "metadata": {
    "collapsed": false,
    "ExecuteTime": {
     "end_time": "2023-07-09T09:48:07.945083032Z",
     "start_time": "2023-07-09T09:48:07.378168935Z"
    }
   }
  },
  {
   "cell_type": "code",
   "execution_count": 6,
   "outputs": [
    {
     "data": {
      "text/plain": "                                                       en  \\\n0       In the Grand Knight Territory, Margaret asks a...   \n1       Deszcz the attorney's business trip is heavily...   \n2       Flametail and Ashlock head for border city Dzw...   \n3       Laying low in Dzwonek, Szewczyk gets dragged i...   \n4       His plot revealed, Czcibor heads down a path o...   \n...                                                   ...   \n173265  It's weird to process you being all common-sen...   \n173266  Of course, if you're willing to sign on a disc...   \n173267         I will return to tend to my soil, Vampire.   \n173268  I think I gotta go to rehearsal too. Me and Mu...   \n173269  Wa—Wait, you can still participate, even if yo...   \n\n                                                       ja  \\\n0       大騎士領内。祖父の墓参りから戻ったマーガレットが過去について老騎士らに問う。一方荒野では、旧...   \n1       車の故障により、弁護士デーシュットの予定は大幅に遅れていた。自分のせいで叩き売られようとして...   \n2       国境都市ズウォネクを訪れたフレイムテイルとアッシュロックは、現地の感染者が扇動されていること...   \n3       人目を忍ぶためズウォネクへ越してきたシェブチックは、学校帰りの息子を迎えに行く途中で爆発事件...   \n4       陰謀が暴かれ、後戻りできないことを悟った騎士団長シチボルは、自らの意地を通すことを決意する。...   \n...                                                   ...   \n173265                      こういうことに関してワルファリン先生に常識があったなんて。   \n173266  もちろん、そなたらが免責事項にサインをして妾の実験に参加してくれるというのであれば、妾は断り...   \n173267                     ブラッドブルード、私は帰って沃土の世話をしなくてはならない。   \n173268                     あたしもリハーサルしなきゃ……マドロックさん、行きましょう。   \n173269                 ま、待たぬか！　サインはせずとも実験には参加してよいのだぞ、行くな！   \n\n                                                       zh  \n0             大骑士领内，给祖父扫墓归来的玛嘉烈问起旧事。荒野上，告别了旧友的玛恩纳和托兰谈论前路。  \n1       由于车辆意外故障，律师黛丝特的行程严重耽搁。这个即将因她而被低价卖掉的村庄留宿她一晚，她看见...  \n2       焰尾和灰毫前往边境城市茨沃涅克，发现此地的感染者正受人煽动。唯一与她们友善沟通的感染者被迫背...  \n3                      搬到茨沃涅克避风头的瑟奇亚克只是去接儿子放学，却被卷入一场爆炸之中。  \n4            阴谋败露，自知没有回头路的骑士团长切斯柏一意孤行，而玛恩纳等在他前去拦截刺杀目标的路上。  \n...                                                   ...  \n173265                                 想不到华法琳你在这方面还挺有常识的。  \n173266                当然你们要是愿意在免责声明上签下名字参加我的实验，我也是不会拒绝的啦。  \n173267                                      血魔，我先回去照料沃土了。  \n173268                                我好像也要排练来着，泥岩我们一起走吧。  \n173269                        等，等等啊，不签免责声明也可以直接来参加实验啊，别走！  \n\n[164436 rows x 3 columns]",
      "text/html": "<div>\n<style scoped>\n    .dataframe tbody tr th:only-of-type {\n        vertical-align: middle;\n    }\n\n    .dataframe tbody tr th {\n        vertical-align: top;\n    }\n\n    .dataframe thead th {\n        text-align: right;\n    }\n</style>\n<table border=\"1\" class=\"dataframe\">\n  <thead>\n    <tr style=\"text-align: right;\">\n      <th></th>\n      <th>en</th>\n      <th>ja</th>\n      <th>zh</th>\n    </tr>\n  </thead>\n  <tbody>\n    <tr>\n      <th>0</th>\n      <td>In the Grand Knight Territory, Margaret asks a...</td>\n      <td>大騎士領内。祖父の墓参りから戻ったマーガレットが過去について老騎士らに問う。一方荒野では、旧...</td>\n      <td>大骑士领内，给祖父扫墓归来的玛嘉烈问起旧事。荒野上，告别了旧友的玛恩纳和托兰谈论前路。</td>\n    </tr>\n    <tr>\n      <th>1</th>\n      <td>Deszcz the attorney's business trip is heavily...</td>\n      <td>車の故障により、弁護士デーシュットの予定は大幅に遅れていた。自分のせいで叩き売られようとして...</td>\n      <td>由于车辆意外故障，律师黛丝特的行程严重耽搁。这个即将因她而被低价卖掉的村庄留宿她一晚，她看见...</td>\n    </tr>\n    <tr>\n      <th>2</th>\n      <td>Flametail and Ashlock head for border city Dzw...</td>\n      <td>国境都市ズウォネクを訪れたフレイムテイルとアッシュロックは、現地の感染者が扇動されていること...</td>\n      <td>焰尾和灰毫前往边境城市茨沃涅克，发现此地的感染者正受人煽动。唯一与她们友善沟通的感染者被迫背...</td>\n    </tr>\n    <tr>\n      <th>3</th>\n      <td>Laying low in Dzwonek, Szewczyk gets dragged i...</td>\n      <td>人目を忍ぶためズウォネクへ越してきたシェブチックは、学校帰りの息子を迎えに行く途中で爆発事件...</td>\n      <td>搬到茨沃涅克避风头的瑟奇亚克只是去接儿子放学，却被卷入一场爆炸之中。</td>\n    </tr>\n    <tr>\n      <th>4</th>\n      <td>His plot revealed, Czcibor heads down a path o...</td>\n      <td>陰謀が暴かれ、後戻りできないことを悟った騎士団長シチボルは、自らの意地を通すことを決意する。...</td>\n      <td>阴谋败露，自知没有回头路的骑士团长切斯柏一意孤行，而玛恩纳等在他前去拦截刺杀目标的路上。</td>\n    </tr>\n    <tr>\n      <th>...</th>\n      <td>...</td>\n      <td>...</td>\n      <td>...</td>\n    </tr>\n    <tr>\n      <th>173265</th>\n      <td>It's weird to process you being all common-sen...</td>\n      <td>こういうことに関してワルファリン先生に常識があったなんて。</td>\n      <td>想不到华法琳你在这方面还挺有常识的。</td>\n    </tr>\n    <tr>\n      <th>173266</th>\n      <td>Of course, if you're willing to sign on a disc...</td>\n      <td>もちろん、そなたらが免責事項にサインをして妾の実験に参加してくれるというのであれば、妾は断り...</td>\n      <td>当然你们要是愿意在免责声明上签下名字参加我的实验，我也是不会拒绝的啦。</td>\n    </tr>\n    <tr>\n      <th>173267</th>\n      <td>I will return to tend to my soil, Vampire.</td>\n      <td>ブラッドブルード、私は帰って沃土の世話をしなくてはならない。</td>\n      <td>血魔，我先回去照料沃土了。</td>\n    </tr>\n    <tr>\n      <th>173268</th>\n      <td>I think I gotta go to rehearsal too. Me and Mu...</td>\n      <td>あたしもリハーサルしなきゃ……マドロックさん、行きましょう。</td>\n      <td>我好像也要排练来着，泥岩我们一起走吧。</td>\n    </tr>\n    <tr>\n      <th>173269</th>\n      <td>Wa—Wait, you can still participate, even if yo...</td>\n      <td>ま、待たぬか！　サインはせずとも実験には参加してよいのだぞ、行くな！</td>\n      <td>等，等等啊，不签免责声明也可以直接来参加实验啊，别走！</td>\n    </tr>\n  </tbody>\n</table>\n<p>164436 rows × 3 columns</p>\n</div>"
     },
     "execution_count": 6,
     "metadata": {},
     "output_type": "execute_result"
    }
   ],
   "source": [
    "# remove row with only punctuation\n",
    "df = df[~df['en'].str.match(r'^[^\\w\\s]+$')]\n",
    "df = df[~df['ja'].str.match(r'^[^\\w\\s]+$')]\n",
    "df = df[~df['zh'].str.match(r'^[^\\w\\s]+$')]\n",
    "df"
   ],
   "metadata": {
    "collapsed": false,
    "ExecuteTime": {
     "end_time": "2023-07-09T09:48:08.212593285Z",
     "start_time": "2023-07-09T09:48:07.961285505Z"
    }
   }
  },
  {
   "cell_type": "code",
   "execution_count": 7,
   "outputs": [
    {
     "data": {
      "text/plain": "                                                       en  \\\n0       In the Grand Knight Territory, Margaret asks a...   \n1       Deszcz the attorney's business trip is heavily...   \n2       Flametail and Ashlock head for border city Dzw...   \n3       Laying low in Dzwonek, Szewczyk gets dragged i...   \n4       His plot revealed, Czcibor heads down a path o...   \n...                                                   ...   \n173265  It's weird to process you being all common-sen...   \n173266  Of course, if you're willing to sign on a disc...   \n173267         I will return to tend to my soil, Vampire.   \n173268  I think I gotta go to rehearsal too. Me and Mu...   \n173269  Wa—Wait, you can still participate, even if yo...   \n\n                                                       ja  \\\n0       大騎士領内。祖父の墓参りから戻ったマーガレットが過去について老騎士らに問う。一方荒野では、旧...   \n1       車の故障により、弁護士デーシュットの予定は大幅に遅れていた。自分のせいで叩き売られようとして...   \n2       国境都市ズウォネクを訪れたフレイムテイルとアッシュロックは、現地の感染者が扇動されていること...   \n3       人目を忍ぶためズウォネクへ越してきたシェブチックは、学校帰りの息子を迎えに行く途中で爆発事件...   \n4       陰謀が暴かれ、後戻りできないことを悟った騎士団長シチボルは、自らの意地を通すことを決意する。...   \n...                                                   ...   \n173265                      こういうことに関してワルファリン先生に常識があったなんて。   \n173266  もちろん、そなたらが免責事項にサインをして妾の実験に参加してくれるというのであれば、妾は断り...   \n173267                     ブラッドブルード、私は帰って沃土の世話をしなくてはならない。   \n173268                     あたしもリハーサルしなきゃ……マドロックさん、行きましょう。   \n173269                 ま、待たぬか！　サインはせずとも実験には参加してよいのだぞ、行くな！   \n\n                                                       zh  \n0             大骑士领内，给祖父扫墓归来的玛嘉烈问起旧事。荒野上，告别了旧友的玛恩纳和托兰谈论前路。  \n1       由于车辆意外故障，律师黛丝特的行程严重耽搁。这个即将因她而被低价卖掉的村庄留宿她一晚，她看见...  \n2       焰尾和灰毫前往边境城市茨沃涅克，发现此地的感染者正受人煽动。唯一与她们友善沟通的感染者被迫背...  \n3                      搬到茨沃涅克避风头的瑟奇亚克只是去接儿子放学，却被卷入一场爆炸之中。  \n4            阴谋败露，自知没有回头路的骑士团长切斯柏一意孤行，而玛恩纳等在他前去拦截刺杀目标的路上。  \n...                                                   ...  \n173265                                 想不到华法琳你在这方面还挺有常识的。  \n173266                当然你们要是愿意在免责声明上签下名字参加我的实验，我也是不会拒绝的啦。  \n173267                                      血魔，我先回去照料沃土了。  \n173268                                我好像也要排练来着，泥岩我们一起走吧。  \n173269                        等，等等啊，不签免责声明也可以直接来参加实验啊，别走！  \n\n[164431 rows x 3 columns]",
      "text/html": "<div>\n<style scoped>\n    .dataframe tbody tr th:only-of-type {\n        vertical-align: middle;\n    }\n\n    .dataframe tbody tr th {\n        vertical-align: top;\n    }\n\n    .dataframe thead th {\n        text-align: right;\n    }\n</style>\n<table border=\"1\" class=\"dataframe\">\n  <thead>\n    <tr style=\"text-align: right;\">\n      <th></th>\n      <th>en</th>\n      <th>ja</th>\n      <th>zh</th>\n    </tr>\n  </thead>\n  <tbody>\n    <tr>\n      <th>0</th>\n      <td>In the Grand Knight Territory, Margaret asks a...</td>\n      <td>大騎士領内。祖父の墓参りから戻ったマーガレットが過去について老騎士らに問う。一方荒野では、旧...</td>\n      <td>大骑士领内，给祖父扫墓归来的玛嘉烈问起旧事。荒野上，告别了旧友的玛恩纳和托兰谈论前路。</td>\n    </tr>\n    <tr>\n      <th>1</th>\n      <td>Deszcz the attorney's business trip is heavily...</td>\n      <td>車の故障により、弁護士デーシュットの予定は大幅に遅れていた。自分のせいで叩き売られようとして...</td>\n      <td>由于车辆意外故障，律师黛丝特的行程严重耽搁。这个即将因她而被低价卖掉的村庄留宿她一晚，她看见...</td>\n    </tr>\n    <tr>\n      <th>2</th>\n      <td>Flametail and Ashlock head for border city Dzw...</td>\n      <td>国境都市ズウォネクを訪れたフレイムテイルとアッシュロックは、現地の感染者が扇動されていること...</td>\n      <td>焰尾和灰毫前往边境城市茨沃涅克，发现此地的感染者正受人煽动。唯一与她们友善沟通的感染者被迫背...</td>\n    </tr>\n    <tr>\n      <th>3</th>\n      <td>Laying low in Dzwonek, Szewczyk gets dragged i...</td>\n      <td>人目を忍ぶためズウォネクへ越してきたシェブチックは、学校帰りの息子を迎えに行く途中で爆発事件...</td>\n      <td>搬到茨沃涅克避风头的瑟奇亚克只是去接儿子放学，却被卷入一场爆炸之中。</td>\n    </tr>\n    <tr>\n      <th>4</th>\n      <td>His plot revealed, Czcibor heads down a path o...</td>\n      <td>陰謀が暴かれ、後戻りできないことを悟った騎士団長シチボルは、自らの意地を通すことを決意する。...</td>\n      <td>阴谋败露，自知没有回头路的骑士团长切斯柏一意孤行，而玛恩纳等在他前去拦截刺杀目标的路上。</td>\n    </tr>\n    <tr>\n      <th>...</th>\n      <td>...</td>\n      <td>...</td>\n      <td>...</td>\n    </tr>\n    <tr>\n      <th>173265</th>\n      <td>It's weird to process you being all common-sen...</td>\n      <td>こういうことに関してワルファリン先生に常識があったなんて。</td>\n      <td>想不到华法琳你在这方面还挺有常识的。</td>\n    </tr>\n    <tr>\n      <th>173266</th>\n      <td>Of course, if you're willing to sign on a disc...</td>\n      <td>もちろん、そなたらが免責事項にサインをして妾の実験に参加してくれるというのであれば、妾は断り...</td>\n      <td>当然你们要是愿意在免责声明上签下名字参加我的实验，我也是不会拒绝的啦。</td>\n    </tr>\n    <tr>\n      <th>173267</th>\n      <td>I will return to tend to my soil, Vampire.</td>\n      <td>ブラッドブルード、私は帰って沃土の世話をしなくてはならない。</td>\n      <td>血魔，我先回去照料沃土了。</td>\n    </tr>\n    <tr>\n      <th>173268</th>\n      <td>I think I gotta go to rehearsal too. Me and Mu...</td>\n      <td>あたしもリハーサルしなきゃ……マドロックさん、行きましょう。</td>\n      <td>我好像也要排练来着，泥岩我们一起走吧。</td>\n    </tr>\n    <tr>\n      <th>173269</th>\n      <td>Wa—Wait, you can still participate, even if yo...</td>\n      <td>ま、待たぬか！　サインはせずとも実験には参加してよいのだぞ、行くな！</td>\n      <td>等，等等啊，不签免责声明也可以直接来参加实验啊，别走！</td>\n    </tr>\n  </tbody>\n</table>\n<p>164431 rows × 3 columns</p>\n</div>"
     },
     "execution_count": 7,
     "metadata": {},
     "output_type": "execute_result"
    }
   ],
   "source": [
    "# remove lines with only numbers\n",
    "df = df[~df['en'].str.match(r'^\\d+$')]\n",
    "df = df[~df['ja'].str.match(r'^\\d+$')]\n",
    "df = df[~df['zh'].str.match(r'^\\d+$')]\n",
    "df"
   ],
   "metadata": {
    "collapsed": false,
    "ExecuteTime": {
     "end_time": "2023-07-09T09:48:08.492649988Z",
     "start_time": "2023-07-09T09:48:08.250969291Z"
    }
   }
  },
  {
   "cell_type": "code",
   "execution_count": 8,
   "outputs": [
    {
     "name": "stderr",
     "output_type": "stream",
     "text": [
      "/home/toshihiko/anaconda3/envs/pytorch201/lib/python3.8/site-packages/transformers/convert_slow_tokenizer.py:454: UserWarning: The sentencepiece tokenizer that you are converting to a fast tokenizer uses the byte fallback option which is not implemented in the fast tokenizers. In practice this means that the fast version of the tokenizer can produce unknown tokens whereas the sentencepiece version would have converted these unknown tokens into a sequence of byte tokens matching the original piece of text.\n",
      "  warnings.warn(\n"
     ]
    },
    {
     "data": {
      "text/plain": "                                                       en  \\\n0       In the Grand Knight Territory, Margaret asks a...   \n1       Deszcz the attorney's business trip is heavily...   \n2       Flametail and Ashlock head for border city Dzw...   \n3       Laying low in Dzwonek, Szewczyk gets dragged i...   \n4       His plot revealed, Czcibor heads down a path o...   \n...                                                   ...   \n173265  It's weird to process you being all common-sen...   \n173266  Of course, if you're willing to sign on a disc...   \n173267         I will return to tend to my soil, Vampire.   \n173268  I think I gotta go to rehearsal too. Me and Mu...   \n173269  Wa—Wait, you can still participate, even if yo...   \n\n                                                       ja  \\\n0       大騎士領内。祖父の墓参りから戻ったマーガレットが過去について老騎士らに問う。一方荒野では、旧...   \n1       車の故障により、弁護士デーシュットの予定は大幅に遅れていた。自分のせいで叩き売られようとして...   \n2       国境都市ズウォネクを訪れたフレイムテイルとアッシュロックは、現地の感染者が扇動されていること...   \n3       人目を忍ぶためズウォネクへ越してきたシェブチックは、学校帰りの息子を迎えに行く途中で爆発事件...   \n4       陰謀が暴かれ、後戻りできないことを悟った騎士団長シチボルは、自らの意地を通すことを決意する。...   \n...                                                   ...   \n173265                      こういうことに関してワルファリン先生に常識があったなんて。   \n173266  もちろん、そなたらが免責事項にサインをして妾の実験に参加してくれるというのであれば、妾は断り...   \n173267                     ブラッドブルード、私は帰って沃土の世話をしなくてはならない。   \n173268                     あたしもリハーサルしなきゃ……マドロックさん、行きましょう。   \n173269                 ま、待たぬか！　サインはせずとも実験には参加してよいのだぞ、行くな！   \n\n                                                       zh  en_len  ja_len  \\\n0             大骑士领内，给祖父扫墓归来的玛嘉烈问起旧事。荒野上，告别了旧友的玛恩纳和托兰谈论前路。      59      59   \n1       由于车辆意外故障，律师黛丝特的行程严重耽搁。这个即将因她而被低价卖掉的村庄留宿她一晚，她看见...      67      41   \n2       焰尾和灰毫前往边境城市茨沃涅克，发现此地的感染者正受人煽动。唯一与她们友善沟通的感染者被迫背...      70      61   \n3                      搬到茨沃涅克避风头的瑟奇亚克只是去接儿子放学，却被卷入一场爆炸之中。      30      33   \n4            阴谋败露，自知没有回头路的骑士团长切斯柏一意孤行，而玛恩纳等在他前去拦截刺杀目标的路上。      35      51   \n...                                                   ...     ...     ...   \n173265                                 想不到华法琳你在这方面还挺有常识的。      18      13   \n173266                当然你们要是愿意在免责声明上签下名字参加我的实验，我也是不会拒绝的啦。      36      30   \n173267                                      血魔，我先回去照料沃土了。      13      18   \n173268                                我好像也要排练来着，泥岩我们一起走吧。      23      17   \n173269                        等，等等啊，不签免责声明也可以直接来参加实验啊，别走！      24      24   \n\n        zh_len  \n0           42  \n1           49  \n2           57  \n3           29  \n4           41  \n...        ...  \n173265      16  \n173266      24  \n173267      13  \n173268      16  \n173269      21  \n\n[164431 rows x 6 columns]",
      "text/html": "<div>\n<style scoped>\n    .dataframe tbody tr th:only-of-type {\n        vertical-align: middle;\n    }\n\n    .dataframe tbody tr th {\n        vertical-align: top;\n    }\n\n    .dataframe thead th {\n        text-align: right;\n    }\n</style>\n<table border=\"1\" class=\"dataframe\">\n  <thead>\n    <tr style=\"text-align: right;\">\n      <th></th>\n      <th>en</th>\n      <th>ja</th>\n      <th>zh</th>\n      <th>en_len</th>\n      <th>ja_len</th>\n      <th>zh_len</th>\n    </tr>\n  </thead>\n  <tbody>\n    <tr>\n      <th>0</th>\n      <td>In the Grand Knight Territory, Margaret asks a...</td>\n      <td>大騎士領内。祖父の墓参りから戻ったマーガレットが過去について老騎士らに問う。一方荒野では、旧...</td>\n      <td>大骑士领内，给祖父扫墓归来的玛嘉烈问起旧事。荒野上，告别了旧友的玛恩纳和托兰谈论前路。</td>\n      <td>59</td>\n      <td>59</td>\n      <td>42</td>\n    </tr>\n    <tr>\n      <th>1</th>\n      <td>Deszcz the attorney's business trip is heavily...</td>\n      <td>車の故障により、弁護士デーシュットの予定は大幅に遅れていた。自分のせいで叩き売られようとして...</td>\n      <td>由于车辆意外故障，律师黛丝特的行程严重耽搁。这个即将因她而被低价卖掉的村庄留宿她一晚，她看见...</td>\n      <td>67</td>\n      <td>41</td>\n      <td>49</td>\n    </tr>\n    <tr>\n      <th>2</th>\n      <td>Flametail and Ashlock head for border city Dzw...</td>\n      <td>国境都市ズウォネクを訪れたフレイムテイルとアッシュロックは、現地の感染者が扇動されていること...</td>\n      <td>焰尾和灰毫前往边境城市茨沃涅克，发现此地的感染者正受人煽动。唯一与她们友善沟通的感染者被迫背...</td>\n      <td>70</td>\n      <td>61</td>\n      <td>57</td>\n    </tr>\n    <tr>\n      <th>3</th>\n      <td>Laying low in Dzwonek, Szewczyk gets dragged i...</td>\n      <td>人目を忍ぶためズウォネクへ越してきたシェブチックは、学校帰りの息子を迎えに行く途中で爆発事件...</td>\n      <td>搬到茨沃涅克避风头的瑟奇亚克只是去接儿子放学，却被卷入一场爆炸之中。</td>\n      <td>30</td>\n      <td>33</td>\n      <td>29</td>\n    </tr>\n    <tr>\n      <th>4</th>\n      <td>His plot revealed, Czcibor heads down a path o...</td>\n      <td>陰謀が暴かれ、後戻りできないことを悟った騎士団長シチボルは、自らの意地を通すことを決意する。...</td>\n      <td>阴谋败露，自知没有回头路的骑士团长切斯柏一意孤行，而玛恩纳等在他前去拦截刺杀目标的路上。</td>\n      <td>35</td>\n      <td>51</td>\n      <td>41</td>\n    </tr>\n    <tr>\n      <th>...</th>\n      <td>...</td>\n      <td>...</td>\n      <td>...</td>\n      <td>...</td>\n      <td>...</td>\n      <td>...</td>\n    </tr>\n    <tr>\n      <th>173265</th>\n      <td>It's weird to process you being all common-sen...</td>\n      <td>こういうことに関してワルファリン先生に常識があったなんて。</td>\n      <td>想不到华法琳你在这方面还挺有常识的。</td>\n      <td>18</td>\n      <td>13</td>\n      <td>16</td>\n    </tr>\n    <tr>\n      <th>173266</th>\n      <td>Of course, if you're willing to sign on a disc...</td>\n      <td>もちろん、そなたらが免責事項にサインをして妾の実験に参加してくれるというのであれば、妾は断り...</td>\n      <td>当然你们要是愿意在免责声明上签下名字参加我的实验，我也是不会拒绝的啦。</td>\n      <td>36</td>\n      <td>30</td>\n      <td>24</td>\n    </tr>\n    <tr>\n      <th>173267</th>\n      <td>I will return to tend to my soil, Vampire.</td>\n      <td>ブラッドブルード、私は帰って沃土の世話をしなくてはならない。</td>\n      <td>血魔，我先回去照料沃土了。</td>\n      <td>13</td>\n      <td>18</td>\n      <td>13</td>\n    </tr>\n    <tr>\n      <th>173268</th>\n      <td>I think I gotta go to rehearsal too. Me and Mu...</td>\n      <td>あたしもリハーサルしなきゃ……マドロックさん、行きましょう。</td>\n      <td>我好像也要排练来着，泥岩我们一起走吧。</td>\n      <td>23</td>\n      <td>17</td>\n      <td>16</td>\n    </tr>\n    <tr>\n      <th>173269</th>\n      <td>Wa—Wait, you can still participate, even if yo...</td>\n      <td>ま、待たぬか！　サインはせずとも実験には参加してよいのだぞ、行くな！</td>\n      <td>等，等等啊，不签免责声明也可以直接来参加实验啊，别走！</td>\n      <td>24</td>\n      <td>24</td>\n      <td>21</td>\n    </tr>\n  </tbody>\n</table>\n<p>164431 rows × 6 columns</p>\n</div>"
     },
     "execution_count": 8,
     "metadata": {},
     "output_type": "execute_result"
    }
   ],
   "source": [
    "# remove lines that tokens is more than 256 or less than 1\n",
    "from transformers import MT5TokenizerFast\n",
    "tokenizer = MT5TokenizerFast.from_pretrained('google/mt5-small')\n",
    "\n",
    "df['en_len'] = df['en'].apply(lambda x: len(tokenizer.tokenize(x)))\n",
    "df['ja_len'] = df['ja'].apply(lambda x: len(tokenizer.tokenize(x)))\n",
    "df['zh_len'] = df['zh'].apply(lambda x: len(tokenizer.tokenize(x)))\n",
    "df"
   ],
   "metadata": {
    "collapsed": false,
    "ExecuteTime": {
     "end_time": "2023-07-09T09:48:50.758604177Z",
     "start_time": "2023-07-09T09:48:08.497431016Z"
    }
   }
  },
  {
   "cell_type": "code",
   "execution_count": 9,
   "outputs": [
    {
     "data": {
      "text/plain": "                                                       en  \\\n0       In the Grand Knight Territory, Margaret asks a...   \n1       Deszcz the attorney's business trip is heavily...   \n2       Flametail and Ashlock head for border city Dzw...   \n3       Laying low in Dzwonek, Szewczyk gets dragged i...   \n4       His plot revealed, Czcibor heads down a path o...   \n...                                                   ...   \n173265  It's weird to process you being all common-sen...   \n173266  Of course, if you're willing to sign on a disc...   \n173267         I will return to tend to my soil, Vampire.   \n173268  I think I gotta go to rehearsal too. Me and Mu...   \n173269  Wa—Wait, you can still participate, even if yo...   \n\n                                                       ja  \\\n0       大騎士領内。祖父の墓参りから戻ったマーガレットが過去について老騎士らに問う。一方荒野では、旧...   \n1       車の故障により、弁護士デーシュットの予定は大幅に遅れていた。自分のせいで叩き売られようとして...   \n2       国境都市ズウォネクを訪れたフレイムテイルとアッシュロックは、現地の感染者が扇動されていること...   \n3       人目を忍ぶためズウォネクへ越してきたシェブチックは、学校帰りの息子を迎えに行く途中で爆発事件...   \n4       陰謀が暴かれ、後戻りできないことを悟った騎士団長シチボルは、自らの意地を通すことを決意する。...   \n...                                                   ...   \n173265                      こういうことに関してワルファリン先生に常識があったなんて。   \n173266  もちろん、そなたらが免責事項にサインをして妾の実験に参加してくれるというのであれば、妾は断り...   \n173267                     ブラッドブルード、私は帰って沃土の世話をしなくてはならない。   \n173268                     あたしもリハーサルしなきゃ……マドロックさん、行きましょう。   \n173269                 ま、待たぬか！　サインはせずとも実験には参加してよいのだぞ、行くな！   \n\n                                                       zh  en_len  ja_len  \\\n0             大骑士领内，给祖父扫墓归来的玛嘉烈问起旧事。荒野上，告别了旧友的玛恩纳和托兰谈论前路。      59      59   \n1       由于车辆意外故障，律师黛丝特的行程严重耽搁。这个即将因她而被低价卖掉的村庄留宿她一晚，她看见...      67      41   \n2       焰尾和灰毫前往边境城市茨沃涅克，发现此地的感染者正受人煽动。唯一与她们友善沟通的感染者被迫背...      70      61   \n3                      搬到茨沃涅克避风头的瑟奇亚克只是去接儿子放学，却被卷入一场爆炸之中。      30      33   \n4            阴谋败露，自知没有回头路的骑士团长切斯柏一意孤行，而玛恩纳等在他前去拦截刺杀目标的路上。      35      51   \n...                                                   ...     ...     ...   \n173265                                 想不到华法琳你在这方面还挺有常识的。      18      13   \n173266                当然你们要是愿意在免责声明上签下名字参加我的实验，我也是不会拒绝的啦。      36      30   \n173267                                      血魔，我先回去照料沃土了。      13      18   \n173268                                我好像也要排练来着，泥岩我们一起走吧。      23      17   \n173269                        等，等等啊，不签免责声明也可以直接来参加实验啊，别走！      24      24   \n\n        zh_len  \n0           42  \n1           49  \n2           57  \n3           29  \n4           41  \n...        ...  \n173265      16  \n173266      24  \n173267      13  \n173268      16  \n173269      21  \n\n[164430 rows x 6 columns]",
      "text/html": "<div>\n<style scoped>\n    .dataframe tbody tr th:only-of-type {\n        vertical-align: middle;\n    }\n\n    .dataframe tbody tr th {\n        vertical-align: top;\n    }\n\n    .dataframe thead th {\n        text-align: right;\n    }\n</style>\n<table border=\"1\" class=\"dataframe\">\n  <thead>\n    <tr style=\"text-align: right;\">\n      <th></th>\n      <th>en</th>\n      <th>ja</th>\n      <th>zh</th>\n      <th>en_len</th>\n      <th>ja_len</th>\n      <th>zh_len</th>\n    </tr>\n  </thead>\n  <tbody>\n    <tr>\n      <th>0</th>\n      <td>In the Grand Knight Territory, Margaret asks a...</td>\n      <td>大騎士領内。祖父の墓参りから戻ったマーガレットが過去について老騎士らに問う。一方荒野では、旧...</td>\n      <td>大骑士领内，给祖父扫墓归来的玛嘉烈问起旧事。荒野上，告别了旧友的玛恩纳和托兰谈论前路。</td>\n      <td>59</td>\n      <td>59</td>\n      <td>42</td>\n    </tr>\n    <tr>\n      <th>1</th>\n      <td>Deszcz the attorney's business trip is heavily...</td>\n      <td>車の故障により、弁護士デーシュットの予定は大幅に遅れていた。自分のせいで叩き売られようとして...</td>\n      <td>由于车辆意外故障，律师黛丝特的行程严重耽搁。这个即将因她而被低价卖掉的村庄留宿她一晚，她看见...</td>\n      <td>67</td>\n      <td>41</td>\n      <td>49</td>\n    </tr>\n    <tr>\n      <th>2</th>\n      <td>Flametail and Ashlock head for border city Dzw...</td>\n      <td>国境都市ズウォネクを訪れたフレイムテイルとアッシュロックは、現地の感染者が扇動されていること...</td>\n      <td>焰尾和灰毫前往边境城市茨沃涅克，发现此地的感染者正受人煽动。唯一与她们友善沟通的感染者被迫背...</td>\n      <td>70</td>\n      <td>61</td>\n      <td>57</td>\n    </tr>\n    <tr>\n      <th>3</th>\n      <td>Laying low in Dzwonek, Szewczyk gets dragged i...</td>\n      <td>人目を忍ぶためズウォネクへ越してきたシェブチックは、学校帰りの息子を迎えに行く途中で爆発事件...</td>\n      <td>搬到茨沃涅克避风头的瑟奇亚克只是去接儿子放学，却被卷入一场爆炸之中。</td>\n      <td>30</td>\n      <td>33</td>\n      <td>29</td>\n    </tr>\n    <tr>\n      <th>4</th>\n      <td>His plot revealed, Czcibor heads down a path o...</td>\n      <td>陰謀が暴かれ、後戻りできないことを悟った騎士団長シチボルは、自らの意地を通すことを決意する。...</td>\n      <td>阴谋败露，自知没有回头路的骑士团长切斯柏一意孤行，而玛恩纳等在他前去拦截刺杀目标的路上。</td>\n      <td>35</td>\n      <td>51</td>\n      <td>41</td>\n    </tr>\n    <tr>\n      <th>...</th>\n      <td>...</td>\n      <td>...</td>\n      <td>...</td>\n      <td>...</td>\n      <td>...</td>\n      <td>...</td>\n    </tr>\n    <tr>\n      <th>173265</th>\n      <td>It's weird to process you being all common-sen...</td>\n      <td>こういうことに関してワルファリン先生に常識があったなんて。</td>\n      <td>想不到华法琳你在这方面还挺有常识的。</td>\n      <td>18</td>\n      <td>13</td>\n      <td>16</td>\n    </tr>\n    <tr>\n      <th>173266</th>\n      <td>Of course, if you're willing to sign on a disc...</td>\n      <td>もちろん、そなたらが免責事項にサインをして妾の実験に参加してくれるというのであれば、妾は断り...</td>\n      <td>当然你们要是愿意在免责声明上签下名字参加我的实验，我也是不会拒绝的啦。</td>\n      <td>36</td>\n      <td>30</td>\n      <td>24</td>\n    </tr>\n    <tr>\n      <th>173267</th>\n      <td>I will return to tend to my soil, Vampire.</td>\n      <td>ブラッドブルード、私は帰って沃土の世話をしなくてはならない。</td>\n      <td>血魔，我先回去照料沃土了。</td>\n      <td>13</td>\n      <td>18</td>\n      <td>13</td>\n    </tr>\n    <tr>\n      <th>173268</th>\n      <td>I think I gotta go to rehearsal too. Me and Mu...</td>\n      <td>あたしもリハーサルしなきゃ……マドロックさん、行きましょう。</td>\n      <td>我好像也要排练来着，泥岩我们一起走吧。</td>\n      <td>23</td>\n      <td>17</td>\n      <td>16</td>\n    </tr>\n    <tr>\n      <th>173269</th>\n      <td>Wa—Wait, you can still participate, even if yo...</td>\n      <td>ま、待たぬか！　サインはせずとも実験には参加してよいのだぞ、行くな！</td>\n      <td>等，等等啊，不签免责声明也可以直接来参加实验啊，别走！</td>\n      <td>24</td>\n      <td>24</td>\n      <td>21</td>\n    </tr>\n  </tbody>\n</table>\n<p>164430 rows × 6 columns</p>\n</div>"
     },
     "execution_count": 9,
     "metadata": {},
     "output_type": "execute_result"
    }
   ],
   "source": [
    "df = df[df['en_len'] <= 256]\n",
    "df = df[df['ja_len'] <= 256]\n",
    "df = df[df['zh_len'] <= 256]\n",
    "df = df[df['en_len'] >= 1]\n",
    "df = df[df['ja_len'] >= 1]\n",
    "df = df[df['zh_len'] >= 1]\n",
    "df"
   ],
   "metadata": {
    "collapsed": false,
    "ExecuteTime": {
     "end_time": "2023-07-09T09:48:50.830757042Z",
     "start_time": "2023-07-09T09:48:50.741102974Z"
    }
   }
  },
  {
   "cell_type": "code",
   "execution_count": 10,
   "outputs": [
    {
     "name": "stderr",
     "output_type": "stream",
     "text": [
      "/tmp/ipykernel_20720/115076287.py:9: TqdmDeprecationWarning: This function will be removed in tqdm==5.0.0\n",
      "Please use `tqdm.notebook.tqdm` instead of `tqdm.tqdm_notebook`\n",
      "  for i, row in tqdm(enumerate(df.itertuples()), total=df.shape[0]):\n"
     ]
    },
    {
     "data": {
      "text/plain": "  0%|          | 0/164430 [00:00<?, ?it/s]",
      "application/vnd.jupyter.widget-view+json": {
       "version_major": 2,
       "version_minor": 0,
       "model_id": "f1f95ea3ee4c480dbff28980d8b95323"
      }
     },
     "metadata": {},
     "output_type": "display_data"
    },
    {
     "data": {
      "text/plain": "                                                       en  \\\n0       In the Grand Knight Territory, Margaret asks a...   \n1       Deszcz the attorney's business trip is heavily...   \n2       Flametail and Ashlock head for border city Dzw...   \n3       Laying low in Dzwonek, Szewczyk gets dragged i...   \n4       His plot revealed, Czcibor heads down a path o...   \n...                                                   ...   \n173265  It's weird to process you being all common-sen...   \n173266  Of course, if you're willing to sign on a disc...   \n173267         I will return to tend to my soil, Vampire.   \n173268  I think I gotta go to rehearsal too. Me and Mu...   \n173269  Wa—Wait, you can still participate, even if yo...   \n\n                                                       ja  \\\n0       大騎士領内。祖父の墓参りから戻ったマーガレットが過去について老騎士らに問う。一方荒野では、旧...   \n1       車の故障により、弁護士デーシュットの予定は大幅に遅れていた。自分のせいで叩き売られようとして...   \n2       国境都市ズウォネクを訪れたフレイムテイルとアッシュロックは、現地の感染者が扇動されていること...   \n3       人目を忍ぶためズウォネクへ越してきたシェブチックは、学校帰りの息子を迎えに行く途中で爆発事件...   \n4       陰謀が暴かれ、後戻りできないことを悟った騎士団長シチボルは、自らの意地を通すことを決意する。...   \n...                                                   ...   \n173265                      こういうことに関してワルファリン先生に常識があったなんて。   \n173266  もちろん、そなたらが免責事項にサインをして妾の実験に参加してくれるというのであれば、妾は断り...   \n173267                     ブラッドブルード、私は帰って沃土の世話をしなくてはならない。   \n173268                     あたしもリハーサルしなきゃ……マドロックさん、行きましょう。   \n173269                 ま、待たぬか！　サインはせずとも実験には参加してよいのだぞ、行くな！   \n\n                                                       zh  en_len  ja_len  \\\n0             大骑士领内，给祖父扫墓归来的玛嘉烈问起旧事。荒野上，告别了旧友的玛恩纳和托兰谈论前路。      59      59   \n1       由于车辆意外故障，律师黛丝特的行程严重耽搁。这个即将因她而被低价卖掉的村庄留宿她一晚，她看见...      67      41   \n2       焰尾和灰毫前往边境城市茨沃涅克，发现此地的感染者正受人煽动。唯一与她们友善沟通的感染者被迫背...      70      61   \n3                      搬到茨沃涅克避风头的瑟奇亚克只是去接儿子放学，却被卷入一场爆炸之中。      30      33   \n4            阴谋败露，自知没有回头路的骑士团长切斯柏一意孤行，而玛恩纳等在他前去拦截刺杀目标的路上。      35      51   \n...                                                   ...     ...     ...   \n173265                                 想不到华法琳你在这方面还挺有常识的。      18      13   \n173266                当然你们要是愿意在免责声明上签下名字参加我的实验，我也是不会拒绝的啦。      36      30   \n173267                                      血魔，我先回去照料沃土了。      13      18   \n173268                                我好像也要排练来着，泥岩我们一起走吧。      23      17   \n173269                        等，等等啊，不签免责声明也可以直接来参加实验啊，别走！      24      24   \n\n        zh_len     score  \n0           42  0.806263  \n1           49  0.742803  \n2           57  0.740894  \n3           29  0.788314  \n4           41  0.683642  \n...        ...       ...  \n173265      16  0.457852  \n173266      24  0.807201  \n173267      13  0.576784  \n173268      16  0.605154  \n173269      21  0.702180  \n\n[164430 rows x 7 columns]",
      "text/html": "<div>\n<style scoped>\n    .dataframe tbody tr th:only-of-type {\n        vertical-align: middle;\n    }\n\n    .dataframe tbody tr th {\n        vertical-align: top;\n    }\n\n    .dataframe thead th {\n        text-align: right;\n    }\n</style>\n<table border=\"1\" class=\"dataframe\">\n  <thead>\n    <tr style=\"text-align: right;\">\n      <th></th>\n      <th>en</th>\n      <th>ja</th>\n      <th>zh</th>\n      <th>en_len</th>\n      <th>ja_len</th>\n      <th>zh_len</th>\n      <th>score</th>\n    </tr>\n  </thead>\n  <tbody>\n    <tr>\n      <th>0</th>\n      <td>In the Grand Knight Territory, Margaret asks a...</td>\n      <td>大騎士領内。祖父の墓参りから戻ったマーガレットが過去について老騎士らに問う。一方荒野では、旧...</td>\n      <td>大骑士领内，给祖父扫墓归来的玛嘉烈问起旧事。荒野上，告别了旧友的玛恩纳和托兰谈论前路。</td>\n      <td>59</td>\n      <td>59</td>\n      <td>42</td>\n      <td>0.806263</td>\n    </tr>\n    <tr>\n      <th>1</th>\n      <td>Deszcz the attorney's business trip is heavily...</td>\n      <td>車の故障により、弁護士デーシュットの予定は大幅に遅れていた。自分のせいで叩き売られようとして...</td>\n      <td>由于车辆意外故障，律师黛丝特的行程严重耽搁。这个即将因她而被低价卖掉的村庄留宿她一晚，她看见...</td>\n      <td>67</td>\n      <td>41</td>\n      <td>49</td>\n      <td>0.742803</td>\n    </tr>\n    <tr>\n      <th>2</th>\n      <td>Flametail and Ashlock head for border city Dzw...</td>\n      <td>国境都市ズウォネクを訪れたフレイムテイルとアッシュロックは、現地の感染者が扇動されていること...</td>\n      <td>焰尾和灰毫前往边境城市茨沃涅克，发现此地的感染者正受人煽动。唯一与她们友善沟通的感染者被迫背...</td>\n      <td>70</td>\n      <td>61</td>\n      <td>57</td>\n      <td>0.740894</td>\n    </tr>\n    <tr>\n      <th>3</th>\n      <td>Laying low in Dzwonek, Szewczyk gets dragged i...</td>\n      <td>人目を忍ぶためズウォネクへ越してきたシェブチックは、学校帰りの息子を迎えに行く途中で爆発事件...</td>\n      <td>搬到茨沃涅克避风头的瑟奇亚克只是去接儿子放学，却被卷入一场爆炸之中。</td>\n      <td>30</td>\n      <td>33</td>\n      <td>29</td>\n      <td>0.788314</td>\n    </tr>\n    <tr>\n      <th>4</th>\n      <td>His plot revealed, Czcibor heads down a path o...</td>\n      <td>陰謀が暴かれ、後戻りできないことを悟った騎士団長シチボルは、自らの意地を通すことを決意する。...</td>\n      <td>阴谋败露，自知没有回头路的骑士团长切斯柏一意孤行，而玛恩纳等在他前去拦截刺杀目标的路上。</td>\n      <td>35</td>\n      <td>51</td>\n      <td>41</td>\n      <td>0.683642</td>\n    </tr>\n    <tr>\n      <th>...</th>\n      <td>...</td>\n      <td>...</td>\n      <td>...</td>\n      <td>...</td>\n      <td>...</td>\n      <td>...</td>\n      <td>...</td>\n    </tr>\n    <tr>\n      <th>173265</th>\n      <td>It's weird to process you being all common-sen...</td>\n      <td>こういうことに関してワルファリン先生に常識があったなんて。</td>\n      <td>想不到华法琳你在这方面还挺有常识的。</td>\n      <td>18</td>\n      <td>13</td>\n      <td>16</td>\n      <td>0.457852</td>\n    </tr>\n    <tr>\n      <th>173266</th>\n      <td>Of course, if you're willing to sign on a disc...</td>\n      <td>もちろん、そなたらが免責事項にサインをして妾の実験に参加してくれるというのであれば、妾は断り...</td>\n      <td>当然你们要是愿意在免责声明上签下名字参加我的实验，我也是不会拒绝的啦。</td>\n      <td>36</td>\n      <td>30</td>\n      <td>24</td>\n      <td>0.807201</td>\n    </tr>\n    <tr>\n      <th>173267</th>\n      <td>I will return to tend to my soil, Vampire.</td>\n      <td>ブラッドブルード、私は帰って沃土の世話をしなくてはならない。</td>\n      <td>血魔，我先回去照料沃土了。</td>\n      <td>13</td>\n      <td>18</td>\n      <td>13</td>\n      <td>0.576784</td>\n    </tr>\n    <tr>\n      <th>173268</th>\n      <td>I think I gotta go to rehearsal too. Me and Mu...</td>\n      <td>あたしもリハーサルしなきゃ……マドロックさん、行きましょう。</td>\n      <td>我好像也要排练来着，泥岩我们一起走吧。</td>\n      <td>23</td>\n      <td>17</td>\n      <td>16</td>\n      <td>0.605154</td>\n    </tr>\n    <tr>\n      <th>173269</th>\n      <td>Wa—Wait, you can still participate, even if yo...</td>\n      <td>ま、待たぬか！　サインはせずとも実験には参加してよいのだぞ、行くな！</td>\n      <td>等，等等啊，不签免责声明也可以直接来参加实验啊，别走！</td>\n      <td>24</td>\n      <td>24</td>\n      <td>21</td>\n      <td>0.702180</td>\n    </tr>\n  </tbody>\n</table>\n<p>164430 rows × 7 columns</p>\n</div>"
     },
     "execution_count": 10,
     "metadata": {},
     "output_type": "execute_result"
    }
   ],
   "source": [
    "# remove lines that LaBSE score is less than 0.6 or more than 0.99\n",
    "import numpy as np\n",
    "from sentence_transformers import SentenceTransformer\n",
    "model = SentenceTransformer('sentence-transformers/LaBSE').cuda()\n",
    "\n",
    "\n",
    "_batch, _scores = [], []\n",
    "_bs = 64\n",
    "for i, row in tqdm(enumerate(df.itertuples()), total=df.shape[0]):\n",
    "    inputs = [row.en, row.ja, row.zh]\n",
    "    _batch.extend(inputs)\n",
    "    if (i+1) % _bs == 0 or i == df.shape[0]-1:\n",
    "        embeddings = model.encode(_batch)\n",
    "        # calculate score between each pair\n",
    "        for j in range(embeddings.shape[0]//3):\n",
    "            _scores.append(np.average([\n",
    "                np.matmul(embeddings[j*3], embeddings[j*3+1].T),\n",
    "                np.matmul(embeddings[j*3], embeddings[j*3+2].T),\n",
    "                np.matmul(embeddings[j*3+1], embeddings[j*3+2].T)\n",
    "            ]))\n",
    "        _batch = []\n",
    "df = df.assign(score=_scores)\n",
    "df"
   ],
   "metadata": {
    "collapsed": false,
    "ExecuteTime": {
     "end_time": "2023-07-09T09:54:44.405130188Z",
     "start_time": "2023-07-09T09:48:50.823743072Z"
    }
   }
  },
  {
   "cell_type": "code",
   "execution_count": 11,
   "outputs": [
    {
     "data": {
      "text/plain": "<Figure size 640x480 with 1 Axes>",
      "image/png": "[encoded data removed]"
     },
     "metadata": {},
     "output_type": "display_data"
    }
   ],
   "source": [
    "# statistics score using matplotlib\n",
    "import matplotlib.pyplot as plt\n",
    "plt.hist(df['score'], bins=100)\n",
    "plt.show()"
   ],
   "metadata": {
    "collapsed": false,
    "ExecuteTime": {
     "end_time": "2023-07-09T09:54:45.119844688Z",
     "start_time": "2023-07-09T09:54:44.403104328Z"
    }
   }
  },
  {
   "cell_type": "code",
   "execution_count": 12,
   "outputs": [
    {
     "data": {
      "text/plain": "                                                       en  \\\n0       In the Grand Knight Territory, Margaret asks a...   \n1       Deszcz the attorney's business trip is heavily...   \n2       Flametail and Ashlock head for border city Dzw...   \n3       Laying low in Dzwonek, Szewczyk gets dragged i...   \n4       His plot revealed, Czcibor heads down a path o...   \n...                                                   ...   \n173261  To a certain extent, it also sends a sort of m...   \n173262  Do you display your companionship in such a ma...   \n173266  Of course, if you're willing to sign on a disc...   \n173268  I think I gotta go to rehearsal too. Me and Mu...   \n173269  Wa—Wait, you can still participate, even if yo...   \n\n                                                       ja  \\\n0       大騎士領内。祖父の墓参りから戻ったマーガレットが過去について老騎士らに問う。一方荒野では、旧...   \n1       車の故障により、弁護士デーシュットの予定は大幅に遅れていた。自分のせいで叩き売られようとして...   \n2       国境都市ズウォネクを訪れたフレイムテイルとアッシュロックは、現地の感染者が扇動されていること...   \n3       人目を忍ぶためズウォネクへ越してきたシェブチックは、学校帰りの息子を迎えに行く途中で爆発事件...   \n4       陰謀が暴かれ、後戻りできないことを悟った騎士団長シチボルは、自らの意地を通すことを決意する。...   \n...                                                   ...   \n173261  そして他のブラッドブルードに「この者は妾の庇護を受けている」といったメッセージを伝える役割もある。   \n173262                     あなたもそういう方法で友情を表現するのか、ブラッドブルード？   \n173266  もちろん、そなたらが免責事項にサインをして妾の実験に参加してくれるというのであれば、妾は断り...   \n173268                     あたしもリハーサルしなきゃ……マドロックさん、行きましょう。   \n173269                 ま、待たぬか！　サインはせずとも実験には参加してよいのだぞ、行くな！   \n\n                                                       zh  en_len  ja_len  \\\n0             大骑士领内，给祖父扫墓归来的玛嘉烈问起旧事。荒野上，告别了旧友的玛恩纳和托兰谈论前路。      59      59   \n1       由于车辆意外故障，律师黛丝特的行程严重耽搁。这个即将因她而被低价卖掉的村庄留宿她一晚，她看见...      67      41   \n2       焰尾和灰毫前往边境城市茨沃涅克，发现此地的感染者正受人煽动。唯一与她们友善沟通的感染者被迫背...      70      61   \n3                      搬到茨沃涅克避风头的瑟奇亚克只是去接儿子放学，却被卷入一场爆炸之中。      30      33   \n4            阴谋败露，自知没有回头路的骑士团长切斯柏一意孤行，而玛恩纳等在他前去拦截刺杀目标的路上。      35      51   \n...                                                   ...     ...     ...   \n173261                    当然某种程度上，也向其他血魔传达了“此人受我保护”这样的讯息。      36      23   \n173262                                   你也用这种方式表现友谊吗，血魔？      19      14   \n173266                当然你们要是愿意在免责声明上签下名字参加我的实验，我也是不会拒绝的啦。      36      30   \n173268                                我好像也要排练来着，泥岩我们一起走吧。      23      17   \n173269                        等，等等啊，不签免责声明也可以直接来参加实验啊，别走！      24      24   \n\n        zh_len     score  \n0           42  0.806263  \n1           49  0.742803  \n2           57  0.740894  \n3           29  0.788314  \n4           41  0.683642  \n...        ...       ...  \n173261      26  0.684113  \n173262      14  0.748037  \n173266      24  0.807201  \n173268      16  0.605154  \n173269      21  0.702180  \n\n[139428 rows x 7 columns]",
      "text/html": "<div>\n<style scoped>\n    .dataframe tbody tr th:only-of-type {\n        vertical-align: middle;\n    }\n\n    .dataframe tbody tr th {\n        vertical-align: top;\n    }\n\n    .dataframe thead th {\n        text-align: right;\n    }\n</style>\n<table border=\"1\" class=\"dataframe\">\n  <thead>\n    <tr style=\"text-align: right;\">\n      <th></th>\n      <th>en</th>\n      <th>ja</th>\n      <th>zh</th>\n      <th>en_len</th>\n      <th>ja_len</th>\n      <th>zh_len</th>\n      <th>score</th>\n    </tr>\n  </thead>\n  <tbody>\n    <tr>\n      <th>0</th>\n      <td>In the Grand Knight Territory, Margaret asks a...</td>\n      <td>大騎士領内。祖父の墓参りから戻ったマーガレットが過去について老騎士らに問う。一方荒野では、旧...</td>\n      <td>大骑士领内，给祖父扫墓归来的玛嘉烈问起旧事。荒野上，告别了旧友的玛恩纳和托兰谈论前路。</td>\n      <td>59</td>\n      <td>59</td>\n      <td>42</td>\n      <td>0.806263</td>\n    </tr>\n    <tr>\n      <th>1</th>\n      <td>Deszcz the attorney's business trip is heavily...</td>\n      <td>車の故障により、弁護士デーシュットの予定は大幅に遅れていた。自分のせいで叩き売られようとして...</td>\n      <td>由于车辆意外故障，律师黛丝特的行程严重耽搁。这个即将因她而被低价卖掉的村庄留宿她一晚，她看见...</td>\n      <td>67</td>\n      <td>41</td>\n      <td>49</td>\n      <td>0.742803</td>\n    </tr>\n    <tr>\n      <th>2</th>\n      <td>Flametail and Ashlock head for border city Dzw...</td>\n      <td>国境都市ズウォネクを訪れたフレイムテイルとアッシュロックは、現地の感染者が扇動されていること...</td>\n      <td>焰尾和灰毫前往边境城市茨沃涅克，发现此地的感染者正受人煽动。唯一与她们友善沟通的感染者被迫背...</td>\n      <td>70</td>\n      <td>61</td>\n      <td>57</td>\n      <td>0.740894</td>\n    </tr>\n    <tr>\n      <th>3</th>\n      <td>Laying low in Dzwonek, Szewczyk gets dragged i...</td>\n      <td>人目を忍ぶためズウォネクへ越してきたシェブチックは、学校帰りの息子を迎えに行く途中で爆発事件...</td>\n      <td>搬到茨沃涅克避风头的瑟奇亚克只是去接儿子放学，却被卷入一场爆炸之中。</td>\n      <td>30</td>\n      <td>33</td>\n      <td>29</td>\n      <td>0.788314</td>\n    </tr>\n    <tr>\n      <th>4</th>\n      <td>His plot revealed, Czcibor heads down a path o...</td>\n      <td>陰謀が暴かれ、後戻りできないことを悟った騎士団長シチボルは、自らの意地を通すことを決意する。...</td>\n      <td>阴谋败露，自知没有回头路的骑士团长切斯柏一意孤行，而玛恩纳等在他前去拦截刺杀目标的路上。</td>\n      <td>35</td>\n      <td>51</td>\n      <td>41</td>\n      <td>0.683642</td>\n    </tr>\n    <tr>\n      <th>...</th>\n      <td>...</td>\n      <td>...</td>\n      <td>...</td>\n      <td>...</td>\n      <td>...</td>\n      <td>...</td>\n      <td>...</td>\n    </tr>\n    <tr>\n      <th>173261</th>\n      <td>To a certain extent, it also sends a sort of m...</td>\n      <td>そして他のブラッドブルードに「この者は妾の庇護を受けている」といったメッセージを伝える役割もある。</td>\n      <td>当然某种程度上，也向其他血魔传达了“此人受我保护”这样的讯息。</td>\n      <td>36</td>\n      <td>23</td>\n      <td>26</td>\n      <td>0.684113</td>\n    </tr>\n    <tr>\n      <th>173262</th>\n      <td>Do you display your companionship in such a ma...</td>\n      <td>あなたもそういう方法で友情を表現するのか、ブラッドブルード？</td>\n      <td>你也用这种方式表现友谊吗，血魔？</td>\n      <td>19</td>\n      <td>14</td>\n      <td>14</td>\n      <td>0.748037</td>\n    </tr>\n    <tr>\n      <th>173266</th>\n      <td>Of course, if you're willing to sign on a disc...</td>\n      <td>もちろん、そなたらが免責事項にサインをして妾の実験に参加してくれるというのであれば、妾は断り...</td>\n      <td>当然你们要是愿意在免责声明上签下名字参加我的实验，我也是不会拒绝的啦。</td>\n      <td>36</td>\n      <td>30</td>\n      <td>24</td>\n      <td>0.807201</td>\n    </tr>\n    <tr>\n      <th>173268</th>\n      <td>I think I gotta go to rehearsal too. Me and Mu...</td>\n      <td>あたしもリハーサルしなきゃ……マドロックさん、行きましょう。</td>\n      <td>我好像也要排练来着，泥岩我们一起走吧。</td>\n      <td>23</td>\n      <td>17</td>\n      <td>16</td>\n      <td>0.605154</td>\n    </tr>\n    <tr>\n      <th>173269</th>\n      <td>Wa—Wait, you can still participate, even if yo...</td>\n      <td>ま、待たぬか！　サインはせずとも実験には参加してよいのだぞ、行くな！</td>\n      <td>等，等等啊，不签免责声明也可以直接来参加实验啊，别走！</td>\n      <td>24</td>\n      <td>24</td>\n      <td>21</td>\n      <td>0.702180</td>\n    </tr>\n  </tbody>\n</table>\n<p>139428 rows × 7 columns</p>\n</div>"
     },
     "execution_count": 12,
     "metadata": {},
     "output_type": "execute_result"
    }
   ],
   "source": [
    "# remove lines that LaBSE score is less than 0.6 or more than 0.99\n",
    "df = df[df['score'] >= 0.6]\n",
    "df = df[df['score'] <= 0.99]\n",
    "df"
   ],
   "metadata": {
    "collapsed": false,
    "ExecuteTime": {
     "end_time": "2023-07-09T09:54:45.244925042Z",
     "start_time": "2023-07-09T09:54:45.125487453Z"
    }
   }
  },
  {
   "cell_type": "code",
   "execution_count": 13,
   "outputs": [],
   "source": [
    "# drop len and score column\n",
    "df = df.drop(columns=['en_len', 'ja_len', 'zh_len', 'score'])\n",
    "# save to parquet\n",
    "df.to_parquet('parquet/ArknightsStory.parquet', index=False)"
   ],
   "metadata": {
    "collapsed": false,
    "ExecuteTime": {
     "end_time": "2023-07-09T09:54:45.528825658Z",
     "start_time": "2023-07-09T09:54:45.185383568Z"
    }
   }
  },
  {
   "cell_type": "code",
   "execution_count": 14,
   "outputs": [
    {
     "data": {
      "text/plain": "                                                       en  \\\n0       In the Grand Knight Territory, Margaret asks a...   \n1       Deszcz the attorney's business trip is heavily...   \n2       Flametail and Ashlock head for border city Dzw...   \n3       Laying low in Dzwonek, Szewczyk gets dragged i...   \n4       His plot revealed, Czcibor heads down a path o...   \n...                                                   ...   \n139423  To a certain extent, it also sends a sort of m...   \n139424  Do you display your companionship in such a ma...   \n139425  Of course, if you're willing to sign on a disc...   \n139426  I think I gotta go to rehearsal too. Me and Mu...   \n139427  Wa—Wait, you can still participate, even if yo...   \n\n                                                       ja  \\\n0       大騎士領内。祖父の墓参りから戻ったマーガレットが過去について老騎士らに問う。一方荒野では、旧...   \n1       車の故障により、弁護士デーシュットの予定は大幅に遅れていた。自分のせいで叩き売られようとして...   \n2       国境都市ズウォネクを訪れたフレイムテイルとアッシュロックは、現地の感染者が扇動されていること...   \n3       人目を忍ぶためズウォネクへ越してきたシェブチックは、学校帰りの息子を迎えに行く途中で爆発事件...   \n4       陰謀が暴かれ、後戻りできないことを悟った騎士団長シチボルは、自らの意地を通すことを決意する。...   \n...                                                   ...   \n139423  そして他のブラッドブルードに「この者は妾の庇護を受けている」といったメッセージを伝える役割もある。   \n139424                     あなたもそういう方法で友情を表現するのか、ブラッドブルード？   \n139425  もちろん、そなたらが免責事項にサインをして妾の実験に参加してくれるというのであれば、妾は断り...   \n139426                     あたしもリハーサルしなきゃ……マドロックさん、行きましょう。   \n139427                 ま、待たぬか！　サインはせずとも実験には参加してよいのだぞ、行くな！   \n\n                                                       zh  \n0             大骑士领内，给祖父扫墓归来的玛嘉烈问起旧事。荒野上，告别了旧友的玛恩纳和托兰谈论前路。  \n1       由于车辆意外故障，律师黛丝特的行程严重耽搁。这个即将因她而被低价卖掉的村庄留宿她一晚，她看见...  \n2       焰尾和灰毫前往边境城市茨沃涅克，发现此地的感染者正受人煽动。唯一与她们友善沟通的感染者被迫背...  \n3                      搬到茨沃涅克避风头的瑟奇亚克只是去接儿子放学，却被卷入一场爆炸之中。  \n4            阴谋败露，自知没有回头路的骑士团长切斯柏一意孤行，而玛恩纳等在他前去拦截刺杀目标的路上。  \n...                                                   ...  \n139423                    当然某种程度上，也向其他血魔传达了“此人受我保护”这样的讯息。  \n139424                                   你也用这种方式表现友谊吗，血魔？  \n139425                当然你们要是愿意在免责声明上签下名字参加我的实验，我也是不会拒绝的啦。  \n139426                                我好像也要排练来着，泥岩我们一起走吧。  \n139427                        等，等等啊，不签免责声明也可以直接来参加实验啊，别走！  \n\n[139428 rows x 3 columns]",
      "text/html": "<div>\n<style scoped>\n    .dataframe tbody tr th:only-of-type {\n        vertical-align: middle;\n    }\n\n    .dataframe tbody tr th {\n        vertical-align: top;\n    }\n\n    .dataframe thead th {\n        text-align: right;\n    }\n</style>\n<table border=\"1\" class=\"dataframe\">\n  <thead>\n    <tr style=\"text-align: right;\">\n      <th></th>\n      <th>en</th>\n      <th>ja</th>\n      <th>zh</th>\n    </tr>\n  </thead>\n  <tbody>\n    <tr>\n      <th>0</th>\n      <td>In the Grand Knight Territory, Margaret asks a...</td>\n      <td>大騎士領内。祖父の墓参りから戻ったマーガレットが過去について老騎士らに問う。一方荒野では、旧...</td>\n      <td>大骑士领内，给祖父扫墓归来的玛嘉烈问起旧事。荒野上，告别了旧友的玛恩纳和托兰谈论前路。</td>\n    </tr>\n    <tr>\n      <th>1</th>\n      <td>Deszcz the attorney's business trip is heavily...</td>\n      <td>車の故障により、弁護士デーシュットの予定は大幅に遅れていた。自分のせいで叩き売られようとして...</td>\n      <td>由于车辆意外故障，律师黛丝特的行程严重耽搁。这个即将因她而被低价卖掉的村庄留宿她一晚，她看见...</td>\n    </tr>\n    <tr>\n      <th>2</th>\n      <td>Flametail and Ashlock head for border city Dzw...</td>\n      <td>国境都市ズウォネクを訪れたフレイムテイルとアッシュロックは、現地の感染者が扇動されていること...</td>\n      <td>焰尾和灰毫前往边境城市茨沃涅克，发现此地的感染者正受人煽动。唯一与她们友善沟通的感染者被迫背...</td>\n    </tr>\n    <tr>\n      <th>3</th>\n      <td>Laying low in Dzwonek, Szewczyk gets dragged i...</td>\n      <td>人目を忍ぶためズウォネクへ越してきたシェブチックは、学校帰りの息子を迎えに行く途中で爆発事件...</td>\n      <td>搬到茨沃涅克避风头的瑟奇亚克只是去接儿子放学，却被卷入一场爆炸之中。</td>\n    </tr>\n    <tr>\n      <th>4</th>\n      <td>His plot revealed, Czcibor heads down a path o...</td>\n      <td>陰謀が暴かれ、後戻りできないことを悟った騎士団長シチボルは、自らの意地を通すことを決意する。...</td>\n      <td>阴谋败露，自知没有回头路的骑士团长切斯柏一意孤行，而玛恩纳等在他前去拦截刺杀目标的路上。</td>\n    </tr>\n    <tr>\n      <th>...</th>\n      <td>...</td>\n      <td>...</td>\n      <td>...</td>\n    </tr>\n    <tr>\n      <th>139423</th>\n      <td>To a certain extent, it also sends a sort of m...</td>\n      <td>そして他のブラッドブルードに「この者は妾の庇護を受けている」といったメッセージを伝える役割もある。</td>\n      <td>当然某种程度上，也向其他血魔传达了“此人受我保护”这样的讯息。</td>\n    </tr>\n    <tr>\n      <th>139424</th>\n      <td>Do you display your companionship in such a ma...</td>\n      <td>あなたもそういう方法で友情を表現するのか、ブラッドブルード？</td>\n      <td>你也用这种方式表现友谊吗，血魔？</td>\n    </tr>\n    <tr>\n      <th>139425</th>\n      <td>Of course, if you're willing to sign on a disc...</td>\n      <td>もちろん、そなたらが免責事項にサインをして妾の実験に参加してくれるというのであれば、妾は断り...</td>\n      <td>当然你们要是愿意在免责声明上签下名字参加我的实验，我也是不会拒绝的啦。</td>\n    </tr>\n    <tr>\n      <th>139426</th>\n      <td>I think I gotta go to rehearsal too. Me and Mu...</td>\n      <td>あたしもリハーサルしなきゃ……マドロックさん、行きましょう。</td>\n      <td>我好像也要排练来着，泥岩我们一起走吧。</td>\n    </tr>\n    <tr>\n      <th>139427</th>\n      <td>Wa—Wait, you can still participate, even if yo...</td>\n      <td>ま、待たぬか！　サインはせずとも実験には参加してよいのだぞ、行くな！</td>\n      <td>等，等等啊，不签免责声明也可以直接来参加实验啊，别走！</td>\n    </tr>\n  </tbody>\n</table>\n<p>139428 rows × 3 columns</p>\n</div>"
     },
     "execution_count": 14,
     "metadata": {},
     "output_type": "execute_result"
    }
   ],
   "source": [
    "# load parquet\n",
    "df = pd.read_parquet('parquet/ArknightsStory.parquet')\n",
    "df"
   ],
   "metadata": {
    "collapsed": false,
    "ExecuteTime": {
     "end_time": "2023-07-09T09:54:45.922135854Z",
     "start_time": "2023-07-09T09:54:45.533807969Z"
    }
   }
  }
 ],
 "metadata": {
  "kernelspec": {
   "display_name": "Python 3",
   "language": "python",
   "name": "python3"
  },
  "language_info": {
   "codemirror_mode": {
    "name": "ipython",
    "version": 2
   },
   "file_extension": ".py",
   "mimetype": "text/x-python",
   "name": "python",
   "nbconvert_exporter": "python",
   "pygments_lexer": "ipython2",
   "version": "2.7.6"
  }
 },
 "nbformat": 4,
 "nbformat_minor": 0
}
