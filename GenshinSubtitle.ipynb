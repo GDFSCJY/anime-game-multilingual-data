{
 "cells": [
  {
   "cell_type": "code",
   "execution_count": 1,
   "metadata": {
    "collapsed": true,
    "ExecuteTime": {
     "end_time": "2023-07-09T10:33:38.577510212Z",
     "start_time": "2023-07-09T10:33:38.300573065Z"
    }
   },
   "outputs": [],
   "source": [
    "from glob import glob\n",
    "import os\n",
    "import pandas as pd\n",
    "from tqdm import tqdm_notebook as tqdm\n",
    "import re\n"
   ]
  },
  {
   "cell_type": "code",
   "execution_count": 2,
   "outputs": [
    {
     "name": "stderr",
     "output_type": "stream",
     "text": [
      "/tmp/ipykernel_23198/1107477232.py:7: TqdmDeprecationWarning: This function will be removed in tqdm==5.0.0\n",
      "Please use `tqdm.notebook.tqdm` instead of `tqdm.tqdm_notebook`\n",
      "  for zh_file in tqdm(os.listdir(zh_path), total=len(os.listdir(zh_path))):\n"
     ]
    },
    {
     "data": {
      "text/plain": "  0%|          | 0/220 [00:00<?, ?it/s]",
      "application/vnd.jupyter.widget-view+json": {
       "version_major": 2,
       "version_minor": 0,
       "model_id": "ef68452d36744e5b8f2b3b45d8fa1742"
      }
     },
     "metadata": {},
     "output_type": "display_data"
    },
    {
     "name": "stdout",
     "output_type": "stream",
     "text": [
      "Skip 8 files, 212 files left.\n"
     ]
    }
   ],
   "source": [
    "en_path = 'GAMEDATA/GenshinData/Subtitle/EN'\n",
    "ja_path = 'GAMEDATA/GenshinData/Subtitle/JP'\n",
    "zh_path = 'GAMEDATA/GenshinData/Subtitle/CHS'\n",
    "\n",
    "skip_count = 0\n",
    "en_files, ja_files, zh_files = [], [], []\n",
    "for zh_file in tqdm(os.listdir(zh_path), total=len(os.listdir(zh_path))):\n",
    "    en_file = os.path.join(en_path, zh_file.replace('CHS', 'EN'))\n",
    "    ja_file = os.path.join(ja_path, zh_file.replace('CHS', 'JP'))\n",
    "    zh_file = os.path.join(zh_path, zh_file)\n",
    "    if not os.path.exists(en_file) or not os.path.exists(ja_file):\n",
    "        skip_count += 1\n",
    "        continue\n",
    "\n",
    "    en_files.append(en_file)\n",
    "    ja_files.append(ja_file)\n",
    "    zh_files.append(zh_file)\n",
    "\n",
    "print(f'Skip {skip_count} files, {len(en_files)} files left.')"
   ],
   "metadata": {
    "collapsed": false,
    "ExecuteTime": {
     "end_time": "2023-07-09T10:33:38.650503946Z",
     "start_time": "2023-07-09T10:33:38.582508609Z"
    }
   }
  },
  {
   "cell_type": "code",
   "execution_count": 3,
   "outputs": [
    {
     "name": "stderr",
     "output_type": "stream",
     "text": [
      "/tmp/ipykernel_23198/3930110604.py:19: TqdmDeprecationWarning: This function will be removed in tqdm==5.0.0\n",
      "Please use `tqdm.notebook.tqdm` instead of `tqdm.tqdm_notebook`\n",
      "  pbar = tqdm(zip(en_files, ja_files, zh_files), total=len(en_files))\n"
     ]
    },
    {
     "data": {
      "text/plain": "  0%|          | 0/212 [00:00<?, ?it/s]",
      "application/vnd.jupyter.widget-view+json": {
       "version_major": 2,
       "version_minor": 0,
       "model_id": "4dac37cca69940ccb80085dcc0b71865"
      }
     },
     "metadata": {},
     "output_type": "display_data"
    },
    {
     "name": "stdout",
     "output_type": "stream",
     "text": [
      "Warning: length of GAMEDATA/AnimeGameData/Subtitle/EN/Cs_XLQ1110104_XiaoPersonal_EN.txt is not equal to GAMEDATA/AnimeGameData/Subtitle/JP/Cs_XLQ1110104_XiaoPersonal_JP.txt or GAMEDATA/AnimeGameData/Subtitle/CHS/Cs_XLQ1110104_XiaoPersonal_CHS.txt\n",
      "length of en: 20, ja: 30, zh: 20\n",
      "Warning: length of GAMEDATA/AnimeGameData/Subtitle/EN/Cs_Sumeru_AQ30130101_DofFG_Boy_EN.srt is not equal to GAMEDATA/AnimeGameData/Subtitle/JP/Cs_Sumeru_AQ30130101_DofFG_Boy_JP.srt or GAMEDATA/AnimeGameData/Subtitle/CHS/Cs_Sumeru_AQ30130101_DofFG_Boy_CHS.srt\n",
      "length of en: 4, ja: 5, zh: 4\n",
      "Warning: length of GAMEDATA/AnimeGameData/Subtitle/EN/Cs_Inazuma_EQ400551201_IRODORI_Suikou_EN.srt is not equal to GAMEDATA/AnimeGameData/Subtitle/JP/Cs_Inazuma_EQ400551201_IRODORI_Suikou_JP.srt or GAMEDATA/AnimeGameData/Subtitle/CHS/Cs_Inazuma_EQ400551201_IRODORI_Suikou_CHS.srt\n",
      "length of en: 8, ja: 10, zh: 8\n",
      "Warning: length of GAMEDATA/AnimeGameData/Subtitle/EN/Cs_Inazuma_AQ202004_ResistanceCharge_Boy_EN.txt is not equal to GAMEDATA/AnimeGameData/Subtitle/JP/Cs_Inazuma_AQ202004_ResistanceCharge_Boy_JP.txt or GAMEDATA/AnimeGameData/Subtitle/CHS/Cs_Inazuma_AQ202004_ResistanceCharge_Boy_CHS.txt\n",
      "length of en: 5, ja: 7, zh: 5\n",
      "Warning: length of GAMEDATA/AnimeGameData/Subtitle/EN/Cs_102205_AfterBattle_Boy_EN.srt is not equal to GAMEDATA/AnimeGameData/Subtitle/JP/Cs_102205_AfterBattle_Boy_JP.srt or GAMEDATA/AnimeGameData/Subtitle/CHS/Cs_102205_AfterBattle_Boy_CHS.srt\n",
      "length of en: 18, ja: 20, zh: 18\n",
      "Warning: length of GAMEDATA/AnimeGameData/Subtitle/EN/Cs_102205_AfterBattle_Girl_EN.txt is not equal to GAMEDATA/AnimeGameData/Subtitle/JP/Cs_102205_AfterBattle_Girl_JP.txt or GAMEDATA/AnimeGameData/Subtitle/CHS/Cs_102205_AfterBattle_Girl_CHS.txt\n",
      "length of en: 18, ja: 21, zh: 18\n",
      "Warning: length of GAMEDATA/AnimeGameData/Subtitle/EN/Cs_Inazuma_LQ1202618_IttoOniStroy02_EN.txt is not equal to GAMEDATA/AnimeGameData/Subtitle/JP/Cs_Inazuma_LQ1202618_IttoOniStroy02_JP.txt or GAMEDATA/AnimeGameData/Subtitle/CHS/Cs_Inazuma_LQ1202618_IttoOniStroy02_CHS.txt\n",
      "length of en: 27, ja: 36, zh: 27\n",
      "Warning: length of GAMEDATA/AnimeGameData/Subtitle/EN/Cs_Activity_4141307_Fenghuajie_Boy_EN.txt is not equal to GAMEDATA/AnimeGameData/Subtitle/JP/Cs_Activity_4141307_Fenghuajie_Boy_JP.txt or GAMEDATA/AnimeGameData/Subtitle/CHS/Cs_Activity_4141307_Fenghuajie_Boy_CHS.txt\n",
      "length of en: 22, ja: 23, zh: 23\n",
      "Warning: length of GAMEDATA/AnimeGameData/Subtitle/EN/Cs_LiYue_LQ10310301_BreakThroughSpace_Girl_EN.txt is not equal to GAMEDATA/AnimeGameData/Subtitle/JP/Cs_LiYue_LQ10310301_BreakThroughSpace_Girl_JP.txt or GAMEDATA/AnimeGameData/Subtitle/CHS/Cs_LiYue_LQ10310301_BreakThroughSpace_Girl_CHS.txt\n",
      "length of en: 29, ja: 24, zh: 30\n",
      "Warning: length of GAMEDATA/AnimeGameData/Subtitle/EN/Cs_GY11030_GYPersonal_EN.txt is not equal to GAMEDATA/AnimeGameData/Subtitle/JP/Cs_GY11030_GYPersonal_JP.txt or GAMEDATA/AnimeGameData/Subtitle/CHS/Cs_GY11030_GYPersonal_CHS.txt\n",
      "length of en: 21, ja: 23, zh: 21\n",
      "Warning: length of GAMEDATA/AnimeGameData/Subtitle/EN/Cs_200919_SHG_Boy_EN.srt is not equal to GAMEDATA/AnimeGameData/Subtitle/JP/Cs_200919_SHG_Boy_JP.srt or GAMEDATA/AnimeGameData/Subtitle/CHS/Cs_200919_SHG_Boy_CHS.srt\n",
      "length of en: 11, ja: 15, zh: 12\n",
      "Warning: length of GAMEDATA/AnimeGameData/Subtitle/EN/Cs_Liyue_EQ4009311_HDJ2_Girl_EN.srt is not equal to GAMEDATA/AnimeGameData/Subtitle/JP/Cs_Liyue_EQ4009311_HDJ2_Girl_JP.srt or GAMEDATA/AnimeGameData/Subtitle/CHS/Cs_Liyue_EQ4009311_HDJ2_Girl_CHS.srt\n",
      "length of en: 24, ja: 25, zh: 25\n",
      "Warning: length of GAMEDATA/AnimeGameData/Subtitle/EN/Cs_LiYue_LQ110261501_YelanStory_Girl_EN.srt is not equal to GAMEDATA/AnimeGameData/Subtitle/JP/Cs_LiYue_LQ110261501_YelanStory_Girl_JP.srt or GAMEDATA/AnimeGameData/Subtitle/CHS/Cs_LiYue_LQ110261501_YelanStory_Girl_CHS.srt\n",
      "length of en: 23, ja: 24, zh: 23\n",
      "Warning: length of GAMEDATA/AnimeGameData/Subtitle/EN/Cs_Inazuma_AQ202004_StatueDeprivedVision_Boy_EN.srt is not equal to GAMEDATA/AnimeGameData/Subtitle/JP/Cs_Inazuma_AQ202004_StatueDeprivedVision_Boy_JP.srt or GAMEDATA/AnimeGameData/Subtitle/CHS/Cs_Inazuma_AQ202004_StatueDeprivedVision_Boy_CHS.srt\n",
      "length of en: 16, ja: 15, zh: 16\n",
      "Warning: length of GAMEDATA/AnimeGameData/Subtitle/EN/Cs_LiYue_LQ10310301_BreakThroughSpace_Boy_EN.srt is not equal to GAMEDATA/AnimeGameData/Subtitle/JP/Cs_LiYue_LQ10310301_BreakThroughSpace_Boy_JP.srt or GAMEDATA/AnimeGameData/Subtitle/CHS/Cs_LiYue_LQ10310301_BreakThroughSpace_Boy_CHS.srt\n",
      "length of en: 29, ja: 23, zh: 30\n",
      "Warning: length of GAMEDATA/AnimeGameData/Subtitle/EN/Cs_Sumeru_AQ30161501_DT_Boy_EN.srt is not equal to GAMEDATA/AnimeGameData/Subtitle/JP/Cs_Sumeru_AQ30161501_DT_Boy_JP.srt or GAMEDATA/AnimeGameData/Subtitle/CHS/Cs_Sumeru_AQ30161501_DT_Boy_CHS.srt\n",
      "length of en: 33, ja: 35, zh: 33\n",
      "Warning: length of GAMEDATA/AnimeGameData/Subtitle/EN/Cs_Sumeru_LQ1302712_DCI_Boy_EN.srt is not equal to GAMEDATA/AnimeGameData/Subtitle/JP/Cs_Sumeru_LQ1302712_DCI_Boy_JP.srt or GAMEDATA/AnimeGameData/Subtitle/CHS/Cs_Sumeru_LQ1302712_DCI_Boy_CHS.srt\n",
      "length of en: 31, ja: 22, zh: 34\n",
      "Warning: length of GAMEDATA/AnimeGameData/Subtitle/EN/Cs_Inazuma_AQ202005_InazumaMucha_EN.txt is not equal to GAMEDATA/AnimeGameData/Subtitle/JP/Cs_Inazuma_AQ202005_InazumaMucha_JP.txt or GAMEDATA/AnimeGameData/Subtitle/CHS/Cs_Inazuma_AQ202005_InazumaMucha_CHS.txt\n",
      "length of en: 24, ja: 37, zh: 24\n",
      "Warning: length of GAMEDATA/AnimeGameData/Subtitle/EN/Cs_Inazuma_EQ4002207_ShikishogunRecalling_Girl_EN.txt is not equal to GAMEDATA/AnimeGameData/Subtitle/JP/Cs_Inazuma_EQ4002207_ShikishogunRecalling_Girl_JP.txt or GAMEDATA/AnimeGameData/Subtitle/CHS/Cs_Inazuma_EQ4002207_ShikishogunRecalling_Girl_CHS.txt\n",
      "length of en: 53, ja: 60, zh: 53\n",
      "Warning: length of GAMEDATA/AnimeGameData/Subtitle/EN/Cs_Sumeru_AQ302103_FOTD_Girl_EN.srt is not equal to GAMEDATA/AnimeGameData/Subtitle/JP/Cs_Sumeru_AQ302103_FOTD_Girl_JP.srt or GAMEDATA/AnimeGameData/Subtitle/CHS/Cs_Sumeru_AQ302103_FOTD_Girl_CHS.srt\n",
      "length of en: 12, ja: 8, zh: 12\n",
      "Warning: length of GAMEDATA/AnimeGameData/Subtitle/EN/Cs_200803_ShougunBossPart1_Girl_EN.srt is not equal to GAMEDATA/AnimeGameData/Subtitle/JP/Cs_200803_ShougunBossPart1_Girl_JP.srt or GAMEDATA/AnimeGameData/Subtitle/CHS/Cs_200803_ShougunBossPart1_Girl_CHS.srt\n",
      "length of en: 4, ja: 6, zh: 4\n",
      "Warning: length of GAMEDATA/AnimeGameData/Subtitle/EN/Cs_Inazuma_EQ400560901_IRODORI_Aoinookina_EN.txt is not equal to GAMEDATA/AnimeGameData/Subtitle/JP/Cs_Inazuma_EQ400560901_IRODORI_Aoinookina_JP.txt or GAMEDATA/AnimeGameData/Subtitle/CHS/Cs_Inazuma_EQ400560901_IRODORI_Aoinookina_CHS.txt\n",
      "length of en: 8, ja: 9, zh: 8\n",
      "Warning: length of GAMEDATA/AnimeGameData/Subtitle/EN/Cs_Sumeru_AQ30061401_ALPlay_Boy_EN.srt is not equal to GAMEDATA/AnimeGameData/Subtitle/JP/Cs_Sumeru_AQ30061401_ALPlay_Boy_JP.srt or GAMEDATA/AnimeGameData/Subtitle/CHS/Cs_Sumeru_AQ30061401_ALPlay_Boy_CHS.srt\n",
      "length of en: 22, ja: 17, zh: 22\n",
      "Warning: length of GAMEDATA/AnimeGameData/Subtitle/EN/Cs_Inazuma_AQ202006_InazumaEnding_EN.srt is not equal to GAMEDATA/AnimeGameData/Subtitle/JP/Cs_Inazuma_AQ202006_InazumaEnding_JP.srt or GAMEDATA/AnimeGameData/Subtitle/CHS/Cs_Inazuma_AQ202006_InazumaEnding_CHS.srt\n",
      "length of en: 14, ja: 19, zh: 14\n",
      "Warning: length of GAMEDATA/AnimeGameData/Subtitle/EN/Cs_MD_EQ400671001_KazuhaMemory_EN.txt is not equal to GAMEDATA/AnimeGameData/Subtitle/JP/Cs_MD_EQ400671001_KazuhaMemory_JP.txt or GAMEDATA/AnimeGameData/Subtitle/CHS/Cs_MD_EQ400671001_KazuhaMemory_CHS.txt\n",
      "length of en: 11, ja: 15, zh: 11\n",
      "Warning: length of GAMEDATA/AnimeGameData/Subtitle/EN/Cs_200919_SHG_Girl_EN.srt is not equal to GAMEDATA/AnimeGameData/Subtitle/JP/Cs_200919_SHG_Girl_JP.srt or GAMEDATA/AnimeGameData/Subtitle/CHS/Cs_200919_SHG_Girl_CHS.srt\n",
      "length of en: 11, ja: 15, zh: 12\n",
      "Warning: length of GAMEDATA/AnimeGameData/Subtitle/EN/Cs_Inazuma_AQ202004_StatueDeprivedVision_Girl_EN.txt is not equal to GAMEDATA/AnimeGameData/Subtitle/JP/Cs_Inazuma_AQ202004_StatueDeprivedVision_Girl_JP.txt or GAMEDATA/AnimeGameData/Subtitle/CHS/Cs_Inazuma_AQ202004_StatueDeprivedVision_Girl_CHS.txt\n",
      "length of en: 16, ja: 15, zh: 16\n",
      "Warning: length of GAMEDATA/AnimeGameData/Subtitle/EN/Cs_Liyue_EQ4009311_HDJ2_Boy_EN.srt is not equal to GAMEDATA/AnimeGameData/Subtitle/JP/Cs_Liyue_EQ4009311_HDJ2_Boy_JP.srt or GAMEDATA/AnimeGameData/Subtitle/CHS/Cs_Liyue_EQ4009311_HDJ2_Boy_CHS.srt\n",
      "length of en: 24, ja: 25, zh: 25\n",
      "Warning: length of GAMEDATA/AnimeGameData/Subtitle/EN/Cs_Inazuma_AQ202004_StatueDeprivedVision_Boy_EN.txt is not equal to GAMEDATA/AnimeGameData/Subtitle/JP/Cs_Inazuma_AQ202004_StatueDeprivedVision_Boy_JP.txt or GAMEDATA/AnimeGameData/Subtitle/CHS/Cs_Inazuma_AQ202004_StatueDeprivedVision_Boy_CHS.txt\n",
      "length of en: 16, ja: 15, zh: 16\n",
      "Warning: length of GAMEDATA/AnimeGameData/Subtitle/EN/Cs_Activity_4001103_Summertime_Girl_EN.txt is not equal to GAMEDATA/AnimeGameData/Subtitle/JP/Cs_Activity_4001103_Summertime_Girl_JP.txt or GAMEDATA/AnimeGameData/Subtitle/CHS/Cs_Activity_4001103_Summertime_Girl_CHS.txt\n",
      "length of en: 4, ja: 4, zh: 5\n",
      "Warning: length of GAMEDATA/AnimeGameData/Subtitle/EN/Cs_Activity_4141307_Fenghuajie_Boy_EN.srt is not equal to GAMEDATA/AnimeGameData/Subtitle/JP/Cs_Activity_4141307_Fenghuajie_Boy_JP.srt or GAMEDATA/AnimeGameData/Subtitle/CHS/Cs_Activity_4141307_Fenghuajie_Boy_CHS.srt\n",
      "length of en: 22, ja: 23, zh: 23\n",
      "Warning: length of GAMEDATA/AnimeGameData/Subtitle/EN/Cs_LiYue_EQ4003712_HdjFireworksShow_Girl_EN.srt is not equal to GAMEDATA/AnimeGameData/Subtitle/JP/Cs_LiYue_EQ4003712_HdjFireworksShow_Girl_JP.srt or GAMEDATA/AnimeGameData/Subtitle/CHS/Cs_LiYue_EQ4003712_HdjFireworksShow_Girl_CHS.srt\n",
      "length of en: 46, ja: 28, zh: 46\n",
      "Warning: length of GAMEDATA/AnimeGameData/Subtitle/EN/Cs_LiYue_AQ80070101_StopMechanismBig_Girl_EN.txt is not equal to GAMEDATA/AnimeGameData/Subtitle/JP/Cs_LiYue_AQ80070101_StopMechanismBig_Girl_JP.txt or GAMEDATA/AnimeGameData/Subtitle/CHS/Cs_LiYue_AQ80070101_StopMechanismBig_Girl_CHS.txt\n",
      "length of en: 9, ja: 10, zh: 9\n",
      "Warning: length of GAMEDATA/AnimeGameData/Subtitle/EN/Cs_Sumeru_EQ401101101_KP_EN.srt is not equal to GAMEDATA/AnimeGameData/Subtitle/JP/Cs_Sumeru_EQ401101101_KP_JP.srt or GAMEDATA/AnimeGameData/Subtitle/CHS/Cs_Sumeru_EQ401101101_KP_CHS.srt\n",
      "length of en: 36, ja: 46, zh: 36\n",
      "Warning: length of GAMEDATA/AnimeGameData/Subtitle/EN/Cs_Sumeru_AQ_30281101_NBS_Girl_EN.srt is not equal to GAMEDATA/AnimeGameData/Subtitle/JP/Cs_Sumeru_AQ_30281101_NBS_Girl_JP.srt or GAMEDATA/AnimeGameData/Subtitle/CHS/Cs_Sumeru_AQ_30281101_NBS_Girl_CHS.srt\n",
      "length of en: 17, ja: 16, zh: 17\n",
      "Warning: length of GAMEDATA/AnimeGameData/Subtitle/EN/Cs_GY11030_GYPersonal_EN.srt is not equal to GAMEDATA/AnimeGameData/Subtitle/JP/Cs_GY11030_GYPersonal_JP.srt or GAMEDATA/AnimeGameData/Subtitle/CHS/Cs_GY11030_GYPersonal_CHS.srt\n",
      "length of en: 21, ja: 22, zh: 21\n",
      "Warning: length of GAMEDATA/AnimeGameData/Subtitle/EN/Cs_Sumeru_AQ30170601_SOfS_EN.srt is not equal to GAMEDATA/AnimeGameData/Subtitle/JP/Cs_Sumeru_AQ30170601_SOfS_JP.srt or GAMEDATA/AnimeGameData/Subtitle/CHS/Cs_Sumeru_AQ30170601_SOfS_CHS.srt\n",
      "length of en: 21, ja: 32, zh: 21\n",
      "Warning: length of GAMEDATA/AnimeGameData/Subtitle/EN/Cs_Liyue_EQ4009306_HDJ1_EN.srt is not equal to GAMEDATA/AnimeGameData/Subtitle/JP/Cs_Liyue_EQ4009306_HDJ1_JP.srt or GAMEDATA/AnimeGameData/Subtitle/CHS/Cs_Liyue_EQ4009306_HDJ1_CHS.srt\n",
      "length of en: 33, ja: 28, zh: 33\n",
      "Warning: length of GAMEDATA/AnimeGameData/Subtitle/EN/Cs_Inazuma_EQ400551201_IRODORI_Suikou_EN.txt is not equal to GAMEDATA/AnimeGameData/Subtitle/JP/Cs_Inazuma_EQ400551201_IRODORI_Suikou_JP.txt or GAMEDATA/AnimeGameData/Subtitle/CHS/Cs_Inazuma_EQ400551201_IRODORI_Suikou_CHS.txt\n",
      "length of en: 8, ja: 11, zh: 8\n",
      "Warning: length of GAMEDATA/AnimeGameData/Subtitle/EN/Cs_LQ1101502_ShenheBattle_Girl_EN.srt is not equal to GAMEDATA/AnimeGameData/Subtitle/JP/Cs_LQ1101502_ShenheBattle_Girl_JP.srt or GAMEDATA/AnimeGameData/Subtitle/CHS/Cs_LQ1101502_ShenheBattle_Girl_CHS.srt\n",
      "length of en: 33, ja: 27, zh: 33\n",
      "Warning: length of GAMEDATA/AnimeGameData/Subtitle/EN/Cs_Inazuma_AQ202004_ResistanceCharge_Girl_EN.txt is not equal to GAMEDATA/AnimeGameData/Subtitle/JP/Cs_Inazuma_AQ202004_ResistanceCharge_Girl_JP.txt or GAMEDATA/AnimeGameData/Subtitle/CHS/Cs_Inazuma_AQ202004_ResistanceCharge_Girl_CHS.txt\n",
      "length of en: 5, ja: 7, zh: 5\n",
      "Warning: length of GAMEDATA/AnimeGameData/Subtitle/EN/Cs_LiYue_LQ10310601_FusheStory_EN.srt is not equal to GAMEDATA/AnimeGameData/Subtitle/JP/Cs_LiYue_LQ10310601_FusheStory_JP.srt or GAMEDATA/AnimeGameData/Subtitle/CHS/Cs_LiYue_LQ10310601_FusheStory_CHS.srt\n",
      "length of en: 52, ja: 64, zh: 52\n",
      "Warning: length of GAMEDATA/AnimeGameData/Subtitle/EN/Cs_LYAQ1112308_LongWangStroy_EN.srt is not equal to GAMEDATA/AnimeGameData/Subtitle/JP/Cs_LYAQ1112308_LongWangStroy_JP.srt or GAMEDATA/AnimeGameData/Subtitle/CHS/Cs_LYAQ1112308_LongWangStroy_CHS.srt\n",
      "length of en: 28, ja: 33, zh: 26\n",
      "Warning: length of GAMEDATA/AnimeGameData/Subtitle/EN/Cs_Inazuma_EQ4002207_ShikishogunRecalling_Girl_EN.srt is not equal to GAMEDATA/AnimeGameData/Subtitle/JP/Cs_Inazuma_EQ4002207_ShikishogunRecalling_Girl_JP.srt or GAMEDATA/AnimeGameData/Subtitle/CHS/Cs_Inazuma_EQ4002207_ShikishogunRecalling_Girl_CHS.srt\n",
      "length of en: 53, ja: 60, zh: 53\n",
      "Warning: length of GAMEDATA/AnimeGameData/Subtitle/EN/Cs_DQAQ200211_WanYeXianVideo_EN.txt is not equal to GAMEDATA/AnimeGameData/Subtitle/JP/Cs_DQAQ200211_WanYeXianVideo_JP.txt or GAMEDATA/AnimeGameData/Subtitle/CHS/Cs_DQAQ200211_WanYeXianVideo_CHS.txt\n",
      "length of en: 33, ja: 35, zh: 31\n",
      "Warning: length of GAMEDATA/AnimeGameData/Subtitle/EN/Cs_Inazuma_LQ1203105_YaeMiko_Girl_EN.srt is not equal to GAMEDATA/AnimeGameData/Subtitle/JP/Cs_Inazuma_LQ1203105_YaeMiko_Girl_JP.srt or GAMEDATA/AnimeGameData/Subtitle/CHS/Cs_Inazuma_LQ1203105_YaeMiko_Girl_CHS.srt\n",
      "length of en: 52, ja: 42, zh: 53\n",
      "Warning: length of GAMEDATA/AnimeGameData/Subtitle/EN/Cs_Inazuma_LQ1203105_YaeMiko_Girl_EN.txt is not equal to GAMEDATA/AnimeGameData/Subtitle/JP/Cs_Inazuma_LQ1203105_YaeMiko_Girl_JP.txt or GAMEDATA/AnimeGameData/Subtitle/CHS/Cs_Inazuma_LQ1203105_YaeMiko_Girl_CHS.txt\n",
      "length of en: 52, ja: 42, zh: 53\n",
      "Warning: length of GAMEDATA/AnimeGameData/Subtitle/EN/Cs_200806_ShougunBossPart2_Boy_EN.txt is not equal to GAMEDATA/AnimeGameData/Subtitle/JP/Cs_200806_ShougunBossPart2_Boy_JP.txt or GAMEDATA/AnimeGameData/Subtitle/CHS/Cs_200806_ShougunBossPart2_Boy_CHS.txt\n",
      "length of en: 4, ja: 7, zh: 4\n",
      "Warning: length of GAMEDATA/AnimeGameData/Subtitle/EN/Cs_Inazuma_AQ202004_StatueDeprivedVision_Girl_EN.srt is not equal to GAMEDATA/AnimeGameData/Subtitle/JP/Cs_Inazuma_AQ202004_StatueDeprivedVision_Girl_JP.srt or GAMEDATA/AnimeGameData/Subtitle/CHS/Cs_Inazuma_AQ202004_StatueDeprivedVision_Girl_CHS.srt\n",
      "length of en: 16, ja: 15, zh: 16\n",
      "Warning: length of GAMEDATA/AnimeGameData/Subtitle/EN/Cs_MD_EQ400761001_MonaDivination_EN.txt is not equal to GAMEDATA/AnimeGameData/Subtitle/JP/Cs_MD_EQ400761001_MonaDivination_JP.txt or GAMEDATA/AnimeGameData/Subtitle/CHS/Cs_MD_EQ400761001_MonaDivination_CHS.txt\n",
      "length of en: 13, ja: 25, zh: 13\n",
      "Warning: length of GAMEDATA/AnimeGameData/Subtitle/EN/Cs_Inazuma_AQ202005_InazumaMucha_EN.srt is not equal to GAMEDATA/AnimeGameData/Subtitle/JP/Cs_Inazuma_AQ202005_InazumaMucha_JP.srt or GAMEDATA/AnimeGameData/Subtitle/CHS/Cs_Inazuma_AQ202005_InazumaMucha_CHS.srt\n",
      "length of en: 24, ja: 36, zh: 24\n",
      "Warning: length of GAMEDATA/AnimeGameData/Subtitle/EN/Cs_XLQ1110104_XiaoPersonal_EN.srt is not equal to GAMEDATA/AnimeGameData/Subtitle/JP/Cs_XLQ1110104_XiaoPersonal_JP.srt or GAMEDATA/AnimeGameData/Subtitle/CHS/Cs_XLQ1110104_XiaoPersonal_CHS.srt\n",
      "length of en: 20, ja: 29, zh: 20\n",
      "Warning: length of GAMEDATA/AnimeGameData/Subtitle/EN/Cs_Sumeru_LQ130111201_EnODeGa_Girl_EN.srt is not equal to GAMEDATA/AnimeGameData/Subtitle/JP/Cs_Sumeru_LQ130111201_EnODeGa_Girl_JP.srt or GAMEDATA/AnimeGameData/Subtitle/CHS/Cs_Sumeru_LQ130111201_EnODeGa_Girl_CHS.srt\n",
      "length of en: 14, ja: 10, zh: 14\n",
      "Warning: length of GAMEDATA/AnimeGameData/Subtitle/EN/Cs_Sumeru_AQ_30281901_DM_EN.srt is not equal to GAMEDATA/AnimeGameData/Subtitle/JP/Cs_Sumeru_AQ_30281901_DM_JP.srt or GAMEDATA/AnimeGameData/Subtitle/CHS/Cs_Sumeru_AQ_30281901_DM_CHS.srt\n",
      "length of en: 41, ja: 30, zh: 41\n",
      "Warning: length of GAMEDATA/AnimeGameData/Subtitle/EN/Cs_Inazuma_EQ400571101_IRODORI_EN.txt is not equal to GAMEDATA/AnimeGameData/Subtitle/JP/Cs_Inazuma_EQ400571101_IRODORI_JP.txt or GAMEDATA/AnimeGameData/Subtitle/CHS/Cs_Inazuma_EQ400571101_IRODORI_CHS.txt\n",
      "length of en: 36, ja: 40, zh: 37\n",
      "Warning: length of GAMEDATA/AnimeGameData/Subtitle/EN/Cs_Liyue_LQ1102907_LC_EN.srt is not equal to GAMEDATA/AnimeGameData/Subtitle/JP/Cs_Liyue_LQ1102907_LC_JP.srt or GAMEDATA/AnimeGameData/Subtitle/CHS/Cs_Liyue_LQ1102907_LC_CHS.srt\n",
      "length of en: 52, ja: 56, zh: 52\n",
      "Warning: length of GAMEDATA/AnimeGameData/Subtitle/EN/Cs_DQAQ200211_WanYeXianVideo_EN.srt is not equal to GAMEDATA/AnimeGameData/Subtitle/JP/Cs_DQAQ200211_WanYeXianVideo_JP.srt or GAMEDATA/AnimeGameData/Subtitle/CHS/Cs_DQAQ200211_WanYeXianVideo_CHS.srt\n",
      "length of en: 32, ja: 34, zh: 31\n",
      "Warning: length of GAMEDATA/AnimeGameData/Subtitle/EN/Cs_Inazuma_LQ1200905_IttoOniStroy01_EN.srt is not equal to GAMEDATA/AnimeGameData/Subtitle/JP/Cs_Inazuma_LQ1200905_IttoOniStroy01_JP.srt or GAMEDATA/AnimeGameData/Subtitle/CHS/Cs_Inazuma_LQ1200905_IttoOniStroy01_CHS.srt\n",
      "length of en: 17, ja: 25, zh: 17\n",
      "Warning: length of GAMEDATA/AnimeGameData/Subtitle/EN/Cs_Inazuma_LQ1202615_IttoDungeonCrash_Girl_EN.srt is not equal to GAMEDATA/AnimeGameData/Subtitle/JP/Cs_Inazuma_LQ1202615_IttoDungeonCrash_Girl_JP.srt or GAMEDATA/AnimeGameData/Subtitle/CHS/Cs_Inazuma_LQ1202615_IttoDungeonCrash_Girl_CHS.srt\n",
      "length of en: 10, ja: 9, zh: 9\n",
      "Warning: length of GAMEDATA/AnimeGameData/Subtitle/EN/Cs_Sumeru_EQ4011905_LTWT_Girl_EN.srt is not equal to GAMEDATA/AnimeGameData/Subtitle/JP/Cs_Sumeru_EQ4011905_LTWT_Girl_JP.srt or GAMEDATA/AnimeGameData/Subtitle/CHS/Cs_Sumeru_EQ4011905_LTWT_Girl_CHS.srt\n",
      "length of en: 3, ja: 4, zh: 3\n",
      "Warning: length of GAMEDATA/AnimeGameData/Subtitle/EN/Cs_102205_AfterBattle_Boy_EN.txt is not equal to GAMEDATA/AnimeGameData/Subtitle/JP/Cs_102205_AfterBattle_Boy_JP.txt or GAMEDATA/AnimeGameData/Subtitle/CHS/Cs_102205_AfterBattle_Boy_CHS.txt\n",
      "length of en: 18, ja: 21, zh: 18\n",
      "Warning: length of GAMEDATA/AnimeGameData/Subtitle/EN/Cs_Inazuma_AQ202006_InazumaEnding_EN.txt is not equal to GAMEDATA/AnimeGameData/Subtitle/JP/Cs_Inazuma_AQ202006_InazumaEnding_JP.txt or GAMEDATA/AnimeGameData/Subtitle/CHS/Cs_Inazuma_AQ202006_InazumaEnding_CHS.txt\n",
      "length of en: 14, ja: 20, zh: 14\n",
      "Warning: length of GAMEDATA/AnimeGameData/Subtitle/EN/Cs_Inazuma_LQ1202615_IttoDungeonCrash_Boy_EN.srt is not equal to GAMEDATA/AnimeGameData/Subtitle/JP/Cs_Inazuma_LQ1202615_IttoDungeonCrash_Boy_JP.srt or GAMEDATA/AnimeGameData/Subtitle/CHS/Cs_Inazuma_LQ1202615_IttoDungeonCrash_Boy_CHS.srt\n",
      "length of en: 10, ja: 9, zh: 9\n",
      "Warning: length of GAMEDATA/AnimeGameData/Subtitle/EN/Cs_Inazuma_LQ1204208_TheSacredTree_Boy_EN.srt is not equal to GAMEDATA/AnimeGameData/Subtitle/JP/Cs_Inazuma_LQ1204208_TheSacredTree_Boy_JP.srt or GAMEDATA/AnimeGameData/Subtitle/CHS/Cs_Inazuma_LQ1204208_TheSacredTree_Boy_CHS.srt\n",
      "length of en: 41, ja: 30, zh: 43\n",
      "Warning: length of GAMEDATA/AnimeGameData/Subtitle/EN/Cs_LiYue_LQ110261501_YelanStory_Boy_EN.txt is not equal to GAMEDATA/AnimeGameData/Subtitle/JP/Cs_LiYue_LQ110261501_YelanStory_Boy_JP.txt or GAMEDATA/AnimeGameData/Subtitle/CHS/Cs_LiYue_LQ110261501_YelanStory_Boy_CHS.txt\n",
      "length of en: 23, ja: 25, zh: 23\n",
      "Warning: length of GAMEDATA/AnimeGameData/Subtitle/EN/Cs_Inazuma_AQ202004_ResistanceCharge_Boy_EN.srt is not equal to GAMEDATA/AnimeGameData/Subtitle/JP/Cs_Inazuma_AQ202004_ResistanceCharge_Boy_JP.srt or GAMEDATA/AnimeGameData/Subtitle/CHS/Cs_Inazuma_AQ202004_ResistanceCharge_Boy_CHS.srt\n",
      "length of en: 5, ja: 6, zh: 5\n",
      "Warning: length of GAMEDATA/AnimeGameData/Subtitle/EN/Cs_LiYue_LQ110261501_YelanStory_Girl_EN.txt is not equal to GAMEDATA/AnimeGameData/Subtitle/JP/Cs_LiYue_LQ110261501_YelanStory_Girl_JP.txt or GAMEDATA/AnimeGameData/Subtitle/CHS/Cs_LiYue_LQ110261501_YelanStory_Girl_CHS.txt\n",
      "length of en: 23, ja: 25, zh: 23\n",
      "Warning: length of GAMEDATA/AnimeGameData/Subtitle/EN/Cs_Activity_4141307_Fenghuajie_Girl_EN.txt is not equal to GAMEDATA/AnimeGameData/Subtitle/JP/Cs_Activity_4141307_Fenghuajie_Girl_JP.txt or GAMEDATA/AnimeGameData/Subtitle/CHS/Cs_Activity_4141307_Fenghuajie_Girl_CHS.txt\n",
      "length of en: 22, ja: 23, zh: 23\n",
      "Warning: length of GAMEDATA/AnimeGameData/Subtitle/EN/Cs_LQ1101502_ShenheBattle_Boy_EN.txt is not equal to GAMEDATA/AnimeGameData/Subtitle/JP/Cs_LQ1101502_ShenheBattle_Boy_JP.txt or GAMEDATA/AnimeGameData/Subtitle/CHS/Cs_LQ1101502_ShenheBattle_Boy_CHS.txt\n",
      "length of en: 33, ja: 27, zh: 33\n",
      "Warning: length of GAMEDATA/AnimeGameData/Subtitle/EN/Cs_Sumeru_AQ30220701_ALC_Girl_EN.srt is not equal to GAMEDATA/AnimeGameData/Subtitle/JP/Cs_Sumeru_AQ30220701_ALC_Girl_JP.srt or GAMEDATA/AnimeGameData/Subtitle/CHS/Cs_Sumeru_AQ30220701_ALC_Girl_CHS.srt\n",
      "length of en: 15, ja: 17, zh: 15\n",
      "Warning: length of GAMEDATA/AnimeGameData/Subtitle/EN/Cs_LiYue_LQ110261501_YelanStory_Boy_EN.srt is not equal to GAMEDATA/AnimeGameData/Subtitle/JP/Cs_LiYue_LQ110261501_YelanStory_Boy_JP.srt or GAMEDATA/AnimeGameData/Subtitle/CHS/Cs_LiYue_LQ110261501_YelanStory_Boy_CHS.srt\n",
      "length of en: 23, ja: 24, zh: 23\n",
      "Warning: length of GAMEDATA/AnimeGameData/Subtitle/EN/Cs_Inazuma_EQ400571101_IRODORI_EN.srt is not equal to GAMEDATA/AnimeGameData/Subtitle/JP/Cs_Inazuma_EQ400571101_IRODORI_JP.srt or GAMEDATA/AnimeGameData/Subtitle/CHS/Cs_Inazuma_EQ400571101_IRODORI_CHS.srt\n",
      "length of en: 36, ja: 39, zh: 37\n",
      "Warning: length of GAMEDATA/AnimeGameData/Subtitle/EN/Cs_Sumeru_LQ1302712_DCI_Girl_EN.srt is not equal to GAMEDATA/AnimeGameData/Subtitle/JP/Cs_Sumeru_LQ1302712_DCI_Girl_JP.srt or GAMEDATA/AnimeGameData/Subtitle/CHS/Cs_Sumeru_LQ1302712_DCI_Girl_CHS.srt\n",
      "length of en: 31, ja: 22, zh: 34\n",
      "Warning: length of GAMEDATA/AnimeGameData/Subtitle/EN/Cs_Sumeru_LQ130221401_NF_Boy_EN.srt is not equal to GAMEDATA/AnimeGameData/Subtitle/JP/Cs_Sumeru_LQ130221401_NF_Boy_JP.srt or GAMEDATA/AnimeGameData/Subtitle/CHS/Cs_Sumeru_LQ130221401_NF_Boy_CHS.srt\n",
      "length of en: 33, ja: 30, zh: 33\n",
      "Warning: length of GAMEDATA/AnimeGameData/Subtitle/EN/Cs_Sumeru_LQ130111201_EnODeGa_Boy_EN.srt is not equal to GAMEDATA/AnimeGameData/Subtitle/JP/Cs_Sumeru_LQ130111201_EnODeGa_Boy_JP.srt or GAMEDATA/AnimeGameData/Subtitle/CHS/Cs_Sumeru_LQ130111201_EnODeGa_Boy_CHS.srt\n",
      "length of en: 14, ja: 10, zh: 14\n",
      "Warning: length of GAMEDATA/AnimeGameData/Subtitle/EN/Cs_Sumeru_AQ_30281101_NBS_Boy_EN.srt is not equal to GAMEDATA/AnimeGameData/Subtitle/JP/Cs_Sumeru_AQ_30281101_NBS_Boy_JP.srt or GAMEDATA/AnimeGameData/Subtitle/CHS/Cs_Sumeru_AQ_30281101_NBS_Boy_CHS.srt\n",
      "length of en: 17, ja: 16, zh: 17\n",
      "Warning: length of GAMEDATA/AnimeGameData/Subtitle/EN/Cs_200806_ShougunBossPart2_Girl_EN.txt is not equal to GAMEDATA/AnimeGameData/Subtitle/JP/Cs_200806_ShougunBossPart2_Girl_JP.txt or GAMEDATA/AnimeGameData/Subtitle/CHS/Cs_200806_ShougunBossPart2_Girl_CHS.txt\n",
      "length of en: 4, ja: 7, zh: 4\n",
      "Warning: length of GAMEDATA/AnimeGameData/Subtitle/EN/Cs_200803_ShougunBossPart1_Girl_EN.txt is not equal to GAMEDATA/AnimeGameData/Subtitle/JP/Cs_200803_ShougunBossPart1_Girl_JP.txt or GAMEDATA/AnimeGameData/Subtitle/CHS/Cs_200803_ShougunBossPart1_Girl_CHS.txt\n",
      "length of en: 4, ja: 7, zh: 4\n",
      "Warning: length of GAMEDATA/AnimeGameData/Subtitle/EN/Cs_MD_EQ4002802_WinterCampAlbedoConfront_Girl_EN.txt is not equal to GAMEDATA/AnimeGameData/Subtitle/JP/Cs_MD_EQ4002802_WinterCampAlbedoConfront_Girl_JP.txt or GAMEDATA/AnimeGameData/Subtitle/CHS/Cs_MD_EQ4002802_WinterCampAlbedoConfront_Girl_CHS.txt\n",
      "length of en: 21, ja: 18, zh: 21\n",
      "Warning: length of GAMEDATA/AnimeGameData/Subtitle/EN/Cs_Inazuma_LQ1200905_IttoOniStroy01_EN.txt is not equal to GAMEDATA/AnimeGameData/Subtitle/JP/Cs_Inazuma_LQ1200905_IttoOniStroy01_JP.txt or GAMEDATA/AnimeGameData/Subtitle/CHS/Cs_Inazuma_LQ1200905_IttoOniStroy01_CHS.txt\n",
      "length of en: 17, ja: 25, zh: 17\n",
      "Warning: length of GAMEDATA/AnimeGameData/Subtitle/EN/Cs_Sumeru_AQ30130101_DofFG_Girl_EN.srt is not equal to GAMEDATA/AnimeGameData/Subtitle/JP/Cs_Sumeru_AQ30130101_DofFG_Girl_JP.srt or GAMEDATA/AnimeGameData/Subtitle/CHS/Cs_Sumeru_AQ30130101_DofFG_Girl_CHS.srt\n",
      "length of en: 4, ja: 5, zh: 4\n",
      "Warning: length of GAMEDATA/AnimeGameData/Subtitle/EN/Cs_Inazuma_LQ1204208_TheSacredTree_Girl_EN.txt is not equal to GAMEDATA/AnimeGameData/Subtitle/JP/Cs_Inazuma_LQ1204208_TheSacredTree_Girl_JP.txt or GAMEDATA/AnimeGameData/Subtitle/CHS/Cs_Inazuma_LQ1204208_TheSacredTree_Girl_CHS.txt\n",
      "length of en: 41, ja: 30, zh: 43\n",
      "Warning: length of GAMEDATA/AnimeGameData/Subtitle/EN/Cs_Activity_4141307_Fenghuajie_Girl_EN.srt is not equal to GAMEDATA/AnimeGameData/Subtitle/JP/Cs_Activity_4141307_Fenghuajie_Girl_JP.srt or GAMEDATA/AnimeGameData/Subtitle/CHS/Cs_Activity_4141307_Fenghuajie_Girl_CHS.srt\n",
      "length of en: 22, ja: 23, zh: 23\n",
      "Warning: length of GAMEDATA/AnimeGameData/Subtitle/EN/Cs_Sumeru_AQ_30310701_HB_Boy_EN.srt is not equal to GAMEDATA/AnimeGameData/Subtitle/JP/Cs_Sumeru_AQ_30310701_HB_Boy_JP.srt or GAMEDATA/AnimeGameData/Subtitle/CHS/Cs_Sumeru_AQ_30310701_HB_Boy_CHS.srt\n",
      "length of en: 19, ja: 17, zh: 19\n",
      "Warning: length of GAMEDATA/AnimeGameData/Subtitle/EN/Cs_LiYue_EQ4003712_HdjFireworksShow_Girl_EN.txt is not equal to GAMEDATA/AnimeGameData/Subtitle/JP/Cs_LiYue_EQ4003712_HdjFireworksShow_Girl_JP.txt or GAMEDATA/AnimeGameData/Subtitle/CHS/Cs_LiYue_EQ4003712_HdjFireworksShow_Girl_CHS.txt\n",
      "length of en: 46, ja: 28, zh: 46\n",
      "Warning: length of GAMEDATA/AnimeGameData/Subtitle/EN/Cs_MD_EQ4002802_WinterCampAlbedoConfront_Boy_EN.txt is not equal to GAMEDATA/AnimeGameData/Subtitle/JP/Cs_MD_EQ4002802_WinterCampAlbedoConfront_Boy_JP.txt or GAMEDATA/AnimeGameData/Subtitle/CHS/Cs_MD_EQ4002802_WinterCampAlbedoConfront_Boy_CHS.txt\n",
      "length of en: 21, ja: 18, zh: 21\n",
      "Warning: length of GAMEDATA/AnimeGameData/Subtitle/EN/Cs_Inazuma_LQ1204205_IntoTheVoid_Girl_EN.txt is not equal to GAMEDATA/AnimeGameData/Subtitle/JP/Cs_Inazuma_LQ1204205_IntoTheVoid_Girl_JP.txt or GAMEDATA/AnimeGameData/Subtitle/CHS/Cs_Inazuma_LQ1204205_IntoTheVoid_Girl_CHS.txt\n",
      "length of en: 7, ja: 5, zh: 8\n",
      "Warning: length of GAMEDATA/AnimeGameData/Subtitle/EN/Cs_EQAST4111412_ASTER_Lenard_EN.txt is not equal to GAMEDATA/AnimeGameData/Subtitle/JP/Cs_EQAST4111412_ASTER_Lenard_JP.txt or GAMEDATA/AnimeGameData/Subtitle/CHS/Cs_EQAST4111412_ASTER_Lenard_CHS.txt\n",
      "length of en: 35, ja: 37, zh: 37\n",
      "Warning: length of GAMEDATA/AnimeGameData/Subtitle/EN/Cs_Sumeru_AQ30220701_ALC_Boy_EN.srt is not equal to GAMEDATA/AnimeGameData/Subtitle/JP/Cs_Sumeru_AQ30220701_ALC_Boy_JP.srt or GAMEDATA/AnimeGameData/Subtitle/CHS/Cs_Sumeru_AQ30220701_ALC_Boy_CHS.srt\n",
      "length of en: 15, ja: 17, zh: 15\n",
      "Warning: length of GAMEDATA/AnimeGameData/Subtitle/EN/Cs_Inazuma_AQ202004_ResistanceCharge_Girl_EN.srt is not equal to GAMEDATA/AnimeGameData/Subtitle/JP/Cs_Inazuma_AQ202004_ResistanceCharge_Girl_JP.srt or GAMEDATA/AnimeGameData/Subtitle/CHS/Cs_Inazuma_AQ202004_ResistanceCharge_Girl_CHS.srt\n",
      "length of en: 5, ja: 6, zh: 5\n",
      "Warning: length of GAMEDATA/AnimeGameData/Subtitle/EN/Cs_Inazuma_LQ1204205_IntoTheVoid_Girl_EN.srt is not equal to GAMEDATA/AnimeGameData/Subtitle/JP/Cs_Inazuma_LQ1204205_IntoTheVoid_Girl_JP.srt or GAMEDATA/AnimeGameData/Subtitle/CHS/Cs_Inazuma_LQ1204205_IntoTheVoid_Girl_CHS.srt\n",
      "length of en: 7, ja: 5, zh: 8\n",
      "Warning: length of GAMEDATA/AnimeGameData/Subtitle/EN/Cs_MD_EQ400671001_KazuhaMemory_EN.srt is not equal to GAMEDATA/AnimeGameData/Subtitle/JP/Cs_MD_EQ400671001_KazuhaMemory_JP.srt or GAMEDATA/AnimeGameData/Subtitle/CHS/Cs_MD_EQ400671001_KazuhaMemory_CHS.srt\n",
      "length of en: 11, ja: 15, zh: 11\n",
      "Warning: length of GAMEDATA/AnimeGameData/Subtitle/EN/Cs_Sumeru_AQ302103_FOTD_Boy_EN.srt is not equal to GAMEDATA/AnimeGameData/Subtitle/JP/Cs_Sumeru_AQ302103_FOTD_Boy_JP.srt or GAMEDATA/AnimeGameData/Subtitle/CHS/Cs_Sumeru_AQ302103_FOTD_Boy_CHS.srt\n",
      "length of en: 12, ja: 8, zh: 12\n",
      "Warning: length of GAMEDATA/AnimeGameData/Subtitle/EN/Cs_Sumeru_EQ4011905_LTWT_Boy_EN.srt is not equal to GAMEDATA/AnimeGameData/Subtitle/JP/Cs_Sumeru_EQ4011905_LTWT_Boy_JP.srt or GAMEDATA/AnimeGameData/Subtitle/CHS/Cs_Sumeru_EQ4011905_LTWT_Boy_CHS.srt\n",
      "length of en: 3, ja: 4, zh: 3\n",
      "Warning: length of GAMEDATA/AnimeGameData/Subtitle/EN/Cs_Sumeru_LQ130221401_NF_Girl_EN.srt is not equal to GAMEDATA/AnimeGameData/Subtitle/JP/Cs_Sumeru_LQ130221401_NF_Girl_JP.srt or GAMEDATA/AnimeGameData/Subtitle/CHS/Cs_Sumeru_LQ130221401_NF_Girl_CHS.srt\n",
      "length of en: 33, ja: 30, zh: 33\n",
      "Warning: length of GAMEDATA/AnimeGameData/Subtitle/EN/Cs_MD_EQ400701001_XinyanPlay_EN.srt is not equal to GAMEDATA/AnimeGameData/Subtitle/JP/Cs_MD_EQ400701001_XinyanPlay_JP.srt or GAMEDATA/AnimeGameData/Subtitle/CHS/Cs_MD_EQ400701001_XinyanPlay_CHS.srt\n",
      "length of en: 1, ja: 3, zh: 1\n",
      "Warning: length of GAMEDATA/AnimeGameData/Subtitle/EN/Cs_Inazuma_LQ1202618_IttoOniStroy02_EN.srt is not equal to GAMEDATA/AnimeGameData/Subtitle/JP/Cs_Inazuma_LQ1202618_IttoOniStroy02_JP.srt or GAMEDATA/AnimeGameData/Subtitle/CHS/Cs_Inazuma_LQ1202618_IttoOniStroy02_CHS.srt\n",
      "length of en: 27, ja: 36, zh: 27\n",
      "Warning: length of GAMEDATA/AnimeGameData/Subtitle/EN/Cs_Sumeru_AQ_30280701_MS_Girl_EN.srt is not equal to GAMEDATA/AnimeGameData/Subtitle/JP/Cs_Sumeru_AQ_30280701_MS_Girl_JP.srt or GAMEDATA/AnimeGameData/Subtitle/CHS/Cs_Sumeru_AQ_30280701_MS_Girl_CHS.srt\n",
      "length of en: 19, ja: 21, zh: 19\n",
      "Warning: length of GAMEDATA/AnimeGameData/Subtitle/EN/Cs_MD_EQ400701001_XinyanPlay_EN.txt is not equal to GAMEDATA/AnimeGameData/Subtitle/JP/Cs_MD_EQ400701001_XinyanPlay_JP.txt or GAMEDATA/AnimeGameData/Subtitle/CHS/Cs_MD_EQ400701001_XinyanPlay_CHS.txt\n",
      "length of en: 1, ja: 3, zh: 1\n",
      "Warning: length of GAMEDATA/AnimeGameData/Subtitle/EN/Cs_EQAST4111412_ASTER_Lenard_EN.srt is not equal to GAMEDATA/AnimeGameData/Subtitle/JP/Cs_EQAST4111412_ASTER_Lenard_JP.srt or GAMEDATA/AnimeGameData/Subtitle/CHS/Cs_EQAST4111412_ASTER_Lenard_CHS.srt\n",
      "length of en: 35, ja: 37, zh: 37\n",
      "Warning: length of GAMEDATA/AnimeGameData/Subtitle/EN/Cs_200803_ShougunBossPart1_Boy_EN.txt is not equal to GAMEDATA/AnimeGameData/Subtitle/JP/Cs_200803_ShougunBossPart1_Boy_JP.txt or GAMEDATA/AnimeGameData/Subtitle/CHS/Cs_200803_ShougunBossPart1_Boy_CHS.txt\n",
      "length of en: 4, ja: 7, zh: 4\n",
      "Warning: length of GAMEDATA/AnimeGameData/Subtitle/EN/Cs_MD_EQ400731001_FischlFantasy_EN.txt is not equal to GAMEDATA/AnimeGameData/Subtitle/JP/Cs_MD_EQ400731001_FischlFantasy_JP.txt or GAMEDATA/AnimeGameData/Subtitle/CHS/Cs_MD_EQ400731001_FischlFantasy_CHS.txt\n",
      "length of en: 9, ja: 14, zh: 9\n",
      "Warning: length of GAMEDATA/AnimeGameData/Subtitle/EN/Cs_LiYue_EQ4003712_HdjFireworksShow_Boy_EN.txt is not equal to GAMEDATA/AnimeGameData/Subtitle/JP/Cs_LiYue_EQ4003712_HdjFireworksShow_Boy_JP.txt or GAMEDATA/AnimeGameData/Subtitle/CHS/Cs_LiYue_EQ4003712_HdjFireworksShow_Boy_CHS.txt\n",
      "length of en: 46, ja: 28, zh: 46\n",
      "Warning: length of GAMEDATA/AnimeGameData/Subtitle/EN/Cs_200803_ShougunBossPart1_Boy_EN.srt is not equal to GAMEDATA/AnimeGameData/Subtitle/JP/Cs_200803_ShougunBossPart1_Boy_JP.srt or GAMEDATA/AnimeGameData/Subtitle/CHS/Cs_200803_ShougunBossPart1_Boy_CHS.srt\n",
      "length of en: 4, ja: 6, zh: 4\n",
      "Warning: length of GAMEDATA/AnimeGameData/Subtitle/EN/Cs_Inazuma_LQ1202615_IttoDungeonCrash_Girl_EN.txt is not equal to GAMEDATA/AnimeGameData/Subtitle/JP/Cs_Inazuma_LQ1202615_IttoDungeonCrash_Girl_JP.txt or GAMEDATA/AnimeGameData/Subtitle/CHS/Cs_Inazuma_LQ1202615_IttoDungeonCrash_Girl_CHS.txt\n",
      "length of en: 10, ja: 9, zh: 9\n",
      "Warning: length of GAMEDATA/AnimeGameData/Subtitle/EN/Cs_200919_SHG_Boy_EN.txt is not equal to GAMEDATA/AnimeGameData/Subtitle/JP/Cs_200919_SHG_Boy_JP.txt or GAMEDATA/AnimeGameData/Subtitle/CHS/Cs_200919_SHG_Boy_CHS.txt\n",
      "length of en: 11, ja: 16, zh: 12\n",
      "Warning: length of GAMEDATA/AnimeGameData/Subtitle/EN/Cs_Inazuma_LQ1204208_TheSacredTree_Girl_EN.srt is not equal to GAMEDATA/AnimeGameData/Subtitle/JP/Cs_Inazuma_LQ1204208_TheSacredTree_Girl_JP.srt or GAMEDATA/AnimeGameData/Subtitle/CHS/Cs_Inazuma_LQ1204208_TheSacredTree_Girl_CHS.srt\n",
      "length of en: 41, ja: 30, zh: 43\n",
      "Warning: length of GAMEDATA/AnimeGameData/Subtitle/EN/Cs_Sumeru_EQ4010309_KWG_EN.srt is not equal to GAMEDATA/AnimeGameData/Subtitle/JP/Cs_Sumeru_EQ4010309_KWG_JP.srt or GAMEDATA/AnimeGameData/Subtitle/CHS/Cs_Sumeru_EQ4010309_KWG_CHS.srt\n",
      "length of en: 19, ja: 19, zh: 20\n",
      "Warning: length of GAMEDATA/AnimeGameData/Subtitle/EN/Cs_LQ1101502_ShenheBattle_Boy_EN.srt is not equal to GAMEDATA/AnimeGameData/Subtitle/JP/Cs_LQ1101502_ShenheBattle_Boy_JP.srt or GAMEDATA/AnimeGameData/Subtitle/CHS/Cs_LQ1101502_ShenheBattle_Boy_CHS.srt\n",
      "length of en: 33, ja: 27, zh: 33\n",
      "Warning: length of GAMEDATA/AnimeGameData/Subtitle/EN/Cs_MD_EQ4002802_WinterCampAlbedoConfront_Girl_EN.srt is not equal to GAMEDATA/AnimeGameData/Subtitle/JP/Cs_MD_EQ4002802_WinterCampAlbedoConfront_Girl_JP.srt or GAMEDATA/AnimeGameData/Subtitle/CHS/Cs_MD_EQ4002802_WinterCampAlbedoConfront_Girl_CHS.srt\n",
      "length of en: 21, ja: 18, zh: 21\n",
      "Warning: length of GAMEDATA/AnimeGameData/Subtitle/EN/Cs_LiYue_EQ4003712_HdjFireworksShow_Boy_EN.srt is not equal to GAMEDATA/AnimeGameData/Subtitle/JP/Cs_LiYue_EQ4003712_HdjFireworksShow_Boy_JP.srt or GAMEDATA/AnimeGameData/Subtitle/CHS/Cs_LiYue_EQ4003712_HdjFireworksShow_Boy_CHS.srt\n",
      "length of en: 46, ja: 28, zh: 46\n",
      "Warning: length of GAMEDATA/AnimeGameData/Subtitle/EN/Cs_Sumeru_AQ_30280901_SKP_Boy_EN.srt is not equal to GAMEDATA/AnimeGameData/Subtitle/JP/Cs_Sumeru_AQ_30280901_SKP_Boy_JP.srt or GAMEDATA/AnimeGameData/Subtitle/CHS/Cs_Sumeru_AQ_30280901_SKP_Boy_CHS.srt\n",
      "length of en: 26, ja: 34, zh: 26\n",
      "Warning: length of GAMEDATA/AnimeGameData/Subtitle/EN/Cs_LQ1101502_ShenheBattle_Girl_EN.txt is not equal to GAMEDATA/AnimeGameData/Subtitle/JP/Cs_LQ1101502_ShenheBattle_Girl_JP.txt or GAMEDATA/AnimeGameData/Subtitle/CHS/Cs_LQ1101502_ShenheBattle_Girl_CHS.txt\n",
      "length of en: 33, ja: 27, zh: 33\n",
      "Warning: length of GAMEDATA/AnimeGameData/Subtitle/EN/Cs_Inazuma_LQ1203105_YaeMiko_Boy_EN.srt is not equal to GAMEDATA/AnimeGameData/Subtitle/JP/Cs_Inazuma_LQ1203105_YaeMiko_Boy_JP.srt or GAMEDATA/AnimeGameData/Subtitle/CHS/Cs_Inazuma_LQ1203105_YaeMiko_Boy_CHS.srt\n",
      "length of en: 52, ja: 42, zh: 53\n",
      "Warning: length of GAMEDATA/AnimeGameData/Subtitle/EN/Cs_200919_SHG_Girl_EN.txt is not equal to GAMEDATA/AnimeGameData/Subtitle/JP/Cs_200919_SHG_Girl_JP.txt or GAMEDATA/AnimeGameData/Subtitle/CHS/Cs_200919_SHG_Girl_CHS.txt\n",
      "length of en: 11, ja: 16, zh: 12\n",
      "Warning: length of GAMEDATA/AnimeGameData/Subtitle/EN/Cs_Activity_4001103_Summertime_Boy_EN.txt is not equal to GAMEDATA/AnimeGameData/Subtitle/JP/Cs_Activity_4001103_Summertime_Boy_JP.txt or GAMEDATA/AnimeGameData/Subtitle/CHS/Cs_Activity_4001103_Summertime_Boy_CHS.txt\n",
      "length of en: 4, ja: 4, zh: 5\n",
      "Warning: length of GAMEDATA/AnimeGameData/Subtitle/EN/Cs_Sumeru_AQ_30280701_MS_Boy_EN.srt is not equal to GAMEDATA/AnimeGameData/Subtitle/JP/Cs_Sumeru_AQ_30280701_MS_Boy_JP.srt or GAMEDATA/AnimeGameData/Subtitle/CHS/Cs_Sumeru_AQ_30280701_MS_Boy_CHS.srt\n",
      "length of en: 19, ja: 21, zh: 19\n",
      "Warning: length of GAMEDATA/AnimeGameData/Subtitle/EN/Cs_102205_AfterBattle_Girl_EN.srt is not equal to GAMEDATA/AnimeGameData/Subtitle/JP/Cs_102205_AfterBattle_Girl_JP.srt or GAMEDATA/AnimeGameData/Subtitle/CHS/Cs_102205_AfterBattle_Girl_CHS.srt\n",
      "length of en: 18, ja: 20, zh: 18\n",
      "Warning: length of GAMEDATA/AnimeGameData/Subtitle/EN/Cs_Inazuma_LQ1204205_IntoTheVoid_Boy_EN.txt is not equal to GAMEDATA/AnimeGameData/Subtitle/JP/Cs_Inazuma_LQ1204205_IntoTheVoid_Boy_JP.txt or GAMEDATA/AnimeGameData/Subtitle/CHS/Cs_Inazuma_LQ1204205_IntoTheVoid_Boy_CHS.txt\n",
      "length of en: 7, ja: 5, zh: 8\n",
      "Warning: length of GAMEDATA/AnimeGameData/Subtitle/EN/Cs_MD_EQ400761001_MonaDivination_EN.srt is not equal to GAMEDATA/AnimeGameData/Subtitle/JP/Cs_MD_EQ400761001_MonaDivination_JP.srt or GAMEDATA/AnimeGameData/Subtitle/CHS/Cs_MD_EQ400761001_MonaDivination_CHS.srt\n",
      "length of en: 13, ja: 25, zh: 13\n",
      "Warning: length of GAMEDATA/AnimeGameData/Subtitle/EN/Cs_MD_EQ400800601_VinFes_Boy_EN.srt is not equal to GAMEDATA/AnimeGameData/Subtitle/JP/Cs_MD_EQ400800601_VinFes_Boy_JP.srt or GAMEDATA/AnimeGameData/Subtitle/CHS/Cs_MD_EQ400800601_VinFes_Boy_CHS.srt\n",
      "length of en: 30, ja: 18, zh: 30\n",
      "Warning: length of GAMEDATA/AnimeGameData/Subtitle/EN/Cs_Inazuma_LQ1202615_IttoDungeonCrash_Boy_EN.txt is not equal to GAMEDATA/AnimeGameData/Subtitle/JP/Cs_Inazuma_LQ1202615_IttoDungeonCrash_Boy_JP.txt or GAMEDATA/AnimeGameData/Subtitle/CHS/Cs_Inazuma_LQ1202615_IttoDungeonCrash_Boy_CHS.txt\n",
      "length of en: 10, ja: 9, zh: 9\n",
      "Warning: length of GAMEDATA/AnimeGameData/Subtitle/EN/Cs_Mengde_EQ400990601_FFW_EN.srt is not equal to GAMEDATA/AnimeGameData/Subtitle/JP/Cs_Mengde_EQ400990601_FFW_JP.srt or GAMEDATA/AnimeGameData/Subtitle/CHS/Cs_Mengde_EQ400990601_FFW_CHS.srt\n",
      "length of en: 24, ja: 29, zh: 24\n",
      "Warning: length of GAMEDATA/AnimeGameData/Subtitle/EN/Cs_Sumeru_AQ30161501_DT_Girl_EN.srt is not equal to GAMEDATA/AnimeGameData/Subtitle/JP/Cs_Sumeru_AQ30161501_DT_Girl_JP.srt or GAMEDATA/AnimeGameData/Subtitle/CHS/Cs_Sumeru_AQ30161501_DT_Girl_CHS.srt\n",
      "length of en: 33, ja: 35, zh: 33\n",
      "Warning: length of GAMEDATA/AnimeGameData/Subtitle/EN/Cs_LYAQ1112308_LongWangStroy_EN.txt is not equal to GAMEDATA/AnimeGameData/Subtitle/JP/Cs_LYAQ1112308_LongWangStroy_JP.txt or GAMEDATA/AnimeGameData/Subtitle/CHS/Cs_LYAQ1112308_LongWangStroy_CHS.txt\n",
      "length of en: 28, ja: 34, zh: 26\n",
      "Warning: length of GAMEDATA/AnimeGameData/Subtitle/EN/Cs_200806_ShougunBossPart2_Boy_EN.srt is not equal to GAMEDATA/AnimeGameData/Subtitle/JP/Cs_200806_ShougunBossPart2_Boy_JP.srt or GAMEDATA/AnimeGameData/Subtitle/CHS/Cs_200806_ShougunBossPart2_Boy_CHS.srt\n",
      "length of en: 4, ja: 6, zh: 4\n",
      "Warning: length of GAMEDATA/AnimeGameData/Subtitle/EN/Cs_Inazuma_EQ4002207_ShikishogunRecalling_Boy_EN.srt is not equal to GAMEDATA/AnimeGameData/Subtitle/JP/Cs_Inazuma_EQ4002207_ShikishogunRecalling_Boy_JP.srt or GAMEDATA/AnimeGameData/Subtitle/CHS/Cs_Inazuma_EQ4002207_ShikishogunRecalling_Boy_CHS.srt\n",
      "length of en: 53, ja: 60, zh: 53\n",
      "Warning: length of GAMEDATA/AnimeGameData/Subtitle/EN/Cs_Sumeru_AQ30061401_ALPlay_Girl_EN.srt is not equal to GAMEDATA/AnimeGameData/Subtitle/JP/Cs_Sumeru_AQ30061401_ALPlay_Girl_JP.srt or GAMEDATA/AnimeGameData/Subtitle/CHS/Cs_Sumeru_AQ30061401_ALPlay_Girl_CHS.srt\n",
      "length of en: 22, ja: 17, zh: 22\n",
      "Warning: length of GAMEDATA/AnimeGameData/Subtitle/EN/Cs_Inazuma_LQ1203105_YaeMiko_Boy_EN.txt is not equal to GAMEDATA/AnimeGameData/Subtitle/JP/Cs_Inazuma_LQ1203105_YaeMiko_Boy_JP.txt or GAMEDATA/AnimeGameData/Subtitle/CHS/Cs_Inazuma_LQ1203105_YaeMiko_Boy_CHS.txt\n",
      "length of en: 52, ja: 42, zh: 53\n",
      "Warning: length of GAMEDATA/AnimeGameData/Subtitle/EN/Cs_Sumeru_AQ_30310701_HB_Girl_EN.srt is not equal to GAMEDATA/AnimeGameData/Subtitle/JP/Cs_Sumeru_AQ_30310701_HB_Girl_JP.srt or GAMEDATA/AnimeGameData/Subtitle/CHS/Cs_Sumeru_AQ_30310701_HB_Girl_CHS.srt\n",
      "length of en: 19, ja: 17, zh: 19\n",
      "Warning: length of GAMEDATA/AnimeGameData/Subtitle/EN/Cs_LiYue_LQ10310301_BreakThroughSpace_Girl_EN.srt is not equal to GAMEDATA/AnimeGameData/Subtitle/JP/Cs_LiYue_LQ10310301_BreakThroughSpace_Girl_JP.srt or GAMEDATA/AnimeGameData/Subtitle/CHS/Cs_LiYue_LQ10310301_BreakThroughSpace_Girl_CHS.srt\n",
      "length of en: 29, ja: 23, zh: 30\n",
      "Warning: length of GAMEDATA/AnimeGameData/Subtitle/EN/Cs_Inazuma_LQ1204205_IntoTheVoid_Boy_EN.srt is not equal to GAMEDATA/AnimeGameData/Subtitle/JP/Cs_Inazuma_LQ1204205_IntoTheVoid_Boy_JP.srt or GAMEDATA/AnimeGameData/Subtitle/CHS/Cs_Inazuma_LQ1204205_IntoTheVoid_Boy_CHS.srt\n",
      "length of en: 7, ja: 5, zh: 8\n",
      "Warning: length of GAMEDATA/AnimeGameData/Subtitle/EN/Cs_Inazuma_EQ4002207_ShikishogunRecalling_Boy_EN.txt is not equal to GAMEDATA/AnimeGameData/Subtitle/JP/Cs_Inazuma_EQ4002207_ShikishogunRecalling_Boy_JP.txt or GAMEDATA/AnimeGameData/Subtitle/CHS/Cs_Inazuma_EQ4002207_ShikishogunRecalling_Boy_CHS.txt\n",
      "length of en: 53, ja: 60, zh: 53\n",
      "Warning: length of GAMEDATA/AnimeGameData/Subtitle/EN/Cs_MD_EQ400800601_VinFes_Girl_EN.srt is not equal to GAMEDATA/AnimeGameData/Subtitle/JP/Cs_MD_EQ400800601_VinFes_Girl_JP.srt or GAMEDATA/AnimeGameData/Subtitle/CHS/Cs_MD_EQ400800601_VinFes_Girl_CHS.srt\n",
      "length of en: 30, ja: 18, zh: 30\n",
      "Warning: length of GAMEDATA/AnimeGameData/Subtitle/EN/Cs_LiYue_AQ80070101_StopMechanismBig_Boy_EN.txt is not equal to GAMEDATA/AnimeGameData/Subtitle/JP/Cs_LiYue_AQ80070101_StopMechanismBig_Boy_JP.txt or GAMEDATA/AnimeGameData/Subtitle/CHS/Cs_LiYue_AQ80070101_StopMechanismBig_Boy_CHS.txt\n",
      "length of en: 9, ja: 10, zh: 9\n",
      "Warning: length of GAMEDATA/AnimeGameData/Subtitle/EN/Cs_MD_EQ400731001_FischlFantasy_EN.srt is not equal to GAMEDATA/AnimeGameData/Subtitle/JP/Cs_MD_EQ400731001_FischlFantasy_JP.srt or GAMEDATA/AnimeGameData/Subtitle/CHS/Cs_MD_EQ400731001_FischlFantasy_CHS.srt\n",
      "length of en: 9, ja: 14, zh: 9\n",
      "Warning: length of GAMEDATA/AnimeGameData/Subtitle/EN/Cs_LiYue_LQ10310301_BreakThroughSpace_Boy_EN.txt is not equal to GAMEDATA/AnimeGameData/Subtitle/JP/Cs_LiYue_LQ10310301_BreakThroughSpace_Boy_JP.txt or GAMEDATA/AnimeGameData/Subtitle/CHS/Cs_LiYue_LQ10310301_BreakThroughSpace_Boy_CHS.txt\n",
      "length of en: 29, ja: 24, zh: 30\n",
      "Warning: length of GAMEDATA/AnimeGameData/Subtitle/EN/Cs_Sumeru_AQ30221401_DinA_EN.srt is not equal to GAMEDATA/AnimeGameData/Subtitle/JP/Cs_Sumeru_AQ30221401_DinA_JP.srt or GAMEDATA/AnimeGameData/Subtitle/CHS/Cs_Sumeru_AQ30221401_DinA_CHS.srt\n",
      "length of en: 11, ja: 12, zh: 11\n",
      "Warning: length of GAMEDATA/AnimeGameData/Subtitle/EN/Cs_LiYue_LQ10310601_FusheStory_EN.txt is not equal to GAMEDATA/AnimeGameData/Subtitle/JP/Cs_LiYue_LQ10310601_FusheStory_JP.txt or GAMEDATA/AnimeGameData/Subtitle/CHS/Cs_LiYue_LQ10310601_FusheStory_CHS.txt\n",
      "length of en: 52, ja: 65, zh: 52\n",
      "Warning: length of GAMEDATA/AnimeGameData/Subtitle/EN/Cs_MD_EQ4002802_WinterCampAlbedoConfront_Boy_EN.srt is not equal to GAMEDATA/AnimeGameData/Subtitle/JP/Cs_MD_EQ4002802_WinterCampAlbedoConfront_Boy_JP.srt or GAMEDATA/AnimeGameData/Subtitle/CHS/Cs_MD_EQ4002802_WinterCampAlbedoConfront_Boy_CHS.srt\n",
      "length of en: 21, ja: 18, zh: 21\n",
      "Warning: length of GAMEDATA/AnimeGameData/Subtitle/EN/Cs_Inazuma_LQ1204208_TheSacredTree_Boy_EN.txt is not equal to GAMEDATA/AnimeGameData/Subtitle/JP/Cs_Inazuma_LQ1204208_TheSacredTree_Boy_JP.txt or GAMEDATA/AnimeGameData/Subtitle/CHS/Cs_Inazuma_LQ1204208_TheSacredTree_Boy_CHS.txt\n",
      "length of en: 41, ja: 30, zh: 43\n",
      "Warning: length of GAMEDATA/AnimeGameData/Subtitle/EN/Cs_Sumeru_AQ_30280901_SKP_Girl_EN.srt is not equal to GAMEDATA/AnimeGameData/Subtitle/JP/Cs_Sumeru_AQ_30280901_SKP_Girl_JP.srt or GAMEDATA/AnimeGameData/Subtitle/CHS/Cs_Sumeru_AQ_30280901_SKP_Girl_CHS.srt\n",
      "length of en: 26, ja: 34, zh: 26\n",
      "Warning: length of GAMEDATA/AnimeGameData/Subtitle/EN/Cs_200806_ShougunBossPart2_Girl_EN.srt is not equal to GAMEDATA/AnimeGameData/Subtitle/JP/Cs_200806_ShougunBossPart2_Girl_JP.srt or GAMEDATA/AnimeGameData/Subtitle/CHS/Cs_200806_ShougunBossPart2_Girl_CHS.srt\n",
      "length of en: 4, ja: 6, zh: 4\n"
     ]
    },
    {
     "data": {
      "text/plain": "                                                    en  \\\n0    Once, there was a glorious kingdom established...   \n1    From that kingdom came a crowned heir, tasked ...   \n2    The first crowned heir began her journey of se...   \n3    But she was deceived, and the memory of her no...   \n4    She now believed that she was the queen of the...   \n..                                                 ...   \n741      But the Lyre could no longer soothe his cries   \n742                                            Aether!   \n743                                    Wait, don't go!   \n744                              Give my brother back!   \n745                                                  .   \n\n                                      ja                       zh  \n0                      かつて 天空には栄光の王国があった           曾经，天上有一个荣光的王国。  \n1    国王は 王位継承者第一位に暗黒の国へと行き 創世の真珠を探すよう命じた  那国王派遣第一位王储去黑暗之国寻找创世的珍珠。  \n2                     こうして かの者は真珠を探す旅に出た       于是第一位王储走上了珍珠的追寻之路。  \n3                しかし彼女は騙され 自身の高貴さを忘れてしまう         但她却被欺骗，忘记了自己的高贵，  \n4             そして 自らを暗黒の国の王女だと思い込むようになった             以为自己是黑暗之国的王。  \n..                                   ...                      ...  \n741                     天空のライアーは 話せなくなった             天空之琴却已没有办法说话  \n742                                   空！                       空！  \n743                         待って…どうするつもり！                   等等…别走！  \n744                        よくも私のお兄ちゃんを——                  把我的哥哥——  \n745                                    .                        .  \n\n[746 rows x 3 columns]",
      "text/html": "<div>\n<style scoped>\n    .dataframe tbody tr th:only-of-type {\n        vertical-align: middle;\n    }\n\n    .dataframe tbody tr th {\n        vertical-align: top;\n    }\n\n    .dataframe thead th {\n        text-align: right;\n    }\n</style>\n<table border=\"1\" class=\"dataframe\">\n  <thead>\n    <tr style=\"text-align: right;\">\n      <th></th>\n      <th>en</th>\n      <th>ja</th>\n      <th>zh</th>\n    </tr>\n  </thead>\n  <tbody>\n    <tr>\n      <th>0</th>\n      <td>Once, there was a glorious kingdom established...</td>\n      <td>かつて 天空には栄光の王国があった</td>\n      <td>曾经，天上有一个荣光的王国。</td>\n    </tr>\n    <tr>\n      <th>1</th>\n      <td>From that kingdom came a crowned heir, tasked ...</td>\n      <td>国王は 王位継承者第一位に暗黒の国へと行き 創世の真珠を探すよう命じた</td>\n      <td>那国王派遣第一位王储去黑暗之国寻找创世的珍珠。</td>\n    </tr>\n    <tr>\n      <th>2</th>\n      <td>The first crowned heir began her journey of se...</td>\n      <td>こうして かの者は真珠を探す旅に出た</td>\n      <td>于是第一位王储走上了珍珠的追寻之路。</td>\n    </tr>\n    <tr>\n      <th>3</th>\n      <td>But she was deceived, and the memory of her no...</td>\n      <td>しかし彼女は騙され 自身の高貴さを忘れてしまう</td>\n      <td>但她却被欺骗，忘记了自己的高贵，</td>\n    </tr>\n    <tr>\n      <th>4</th>\n      <td>She now believed that she was the queen of the...</td>\n      <td>そして 自らを暗黒の国の王女だと思い込むようになった</td>\n      <td>以为自己是黑暗之国的王。</td>\n    </tr>\n    <tr>\n      <th>...</th>\n      <td>...</td>\n      <td>...</td>\n      <td>...</td>\n    </tr>\n    <tr>\n      <th>741</th>\n      <td>But the Lyre could no longer soothe his cries</td>\n      <td>天空のライアーは 話せなくなった</td>\n      <td>天空之琴却已没有办法说话</td>\n    </tr>\n    <tr>\n      <th>742</th>\n      <td>Aether!</td>\n      <td>空！</td>\n      <td>空！</td>\n    </tr>\n    <tr>\n      <th>743</th>\n      <td>Wait, don't go!</td>\n      <td>待って…どうするつもり！</td>\n      <td>等等…别走！</td>\n    </tr>\n    <tr>\n      <th>744</th>\n      <td>Give my brother back!</td>\n      <td>よくも私のお兄ちゃんを——</td>\n      <td>把我的哥哥——</td>\n    </tr>\n    <tr>\n      <th>745</th>\n      <td>.</td>\n      <td>.</td>\n      <td>.</td>\n    </tr>\n  </tbody>\n</table>\n<p>746 rows × 3 columns</p>\n</div>"
     },
     "execution_count": 3,
     "metadata": {},
     "output_type": "execute_result"
    }
   ],
   "source": [
    "# remove time stamp in srt\n",
    "time_regex = re.compile(r'\\d{2}:\\d{2}:\\d{2},\\d{3} --> \\d{2}:\\d{2}:\\d{2},\\d{3}')\n",
    "\n",
    "df = pd.DataFrame(columns=['en', 'ja', 'zh'])\n",
    "\n",
    "def read_file(file):\n",
    "    text = []\n",
    "    for line in open(file, 'r', encoding='utf-8'):\n",
    "        line = line.strip()\n",
    "        if line == '':\n",
    "            continue\n",
    "        if time_regex.match(line):\n",
    "            continue\n",
    "        if line.isdigit():\n",
    "            continue\n",
    "        text.append(line)\n",
    "    return text\n",
    "\n",
    "pbar = tqdm(zip(en_files, ja_files, zh_files), total=len(en_files))\n",
    "for en_file, ja_file, zh_file in pbar:\n",
    "    pbar.set_description(f'Processing {en_file}')\n",
    "\n",
    "    en_text = read_file(en_file)\n",
    "    ja_text = read_file(ja_file)\n",
    "    zh_text = read_file(zh_file)\n",
    "\n",
    "    if len(en_text) != len(ja_text) or len(en_text) != len(zh_text):\n",
    "        print(f'Warning: length of {en_file} is not equal to {ja_file} or {zh_file}')\n",
    "        print(f'length of en: {len(en_text)}, ja: {len(ja_text)}, zh: {len(zh_text)}')\n",
    "        continue\n",
    "\n",
    "    df = pd.concat([df, pd.DataFrame({'en': en_text, 'ja': ja_text, 'zh': zh_text})], ignore_index=True)\n",
    "\n",
    "df"
   ],
   "metadata": {
    "collapsed": false,
    "ExecuteTime": {
     "end_time": "2023-07-09T10:33:38.900300230Z",
     "start_time": "2023-07-09T10:33:38.662951283Z"
    }
   }
  },
  {
   "cell_type": "code",
   "execution_count": 4,
   "outputs": [
    {
     "data": {
      "text/plain": "                                                    en  \\\n0    Once, there was a glorious kingdom established...   \n1    From that kingdom came a crowned heir, tasked ...   \n2    The first crowned heir began her journey of se...   \n3    But she was deceived, and the memory of her no...   \n4    She now believed that she was the queen of the...   \n..                                                 ...   \n649                                *sigh* What a shame   \n670                                            Aether!   \n671                                    Wait, don't go!   \n672                              Give my brother back!   \n745                                                  .   \n\n                                      ja                       zh  \n0                      かつて 天空には栄光の王国があった           曾经，天上有一个荣光的王国。  \n1    国王は 王位継承者第一位に暗黒の国へと行き 創世の真珠を探すよう命じた  那国王派遣第一位王储去黑暗之国寻找创世的珍珠。  \n2                     こうして かの者は真珠を探す旅に出た       于是第一位王储走上了珍珠的追寻之路。  \n3                しかし彼女は騙され 自身の高貴さを忘れてしまう         但她却被欺骗，忘记了自己的高贵，  \n4             そして 自らを暗黒の国の王女だと思い込むようになった             以为自己是黑暗之国的王。  \n..                                   ...                      ...  \n649                               …実に遺憾だ                    …令人遗憾  \n670                                   空！                       空！  \n671                         待って…どうするつもり！                   等等…别走！  \n672                        よくも私のお兄ちゃんを——                  把我的哥哥——  \n745                                    .                        .  \n\n[362 rows x 3 columns]",
      "text/html": "<div>\n<style scoped>\n    .dataframe tbody tr th:only-of-type {\n        vertical-align: middle;\n    }\n\n    .dataframe tbody tr th {\n        vertical-align: top;\n    }\n\n    .dataframe thead th {\n        text-align: right;\n    }\n</style>\n<table border=\"1\" class=\"dataframe\">\n  <thead>\n    <tr style=\"text-align: right;\">\n      <th></th>\n      <th>en</th>\n      <th>ja</th>\n      <th>zh</th>\n    </tr>\n  </thead>\n  <tbody>\n    <tr>\n      <th>0</th>\n      <td>Once, there was a glorious kingdom established...</td>\n      <td>かつて 天空には栄光の王国があった</td>\n      <td>曾经，天上有一个荣光的王国。</td>\n    </tr>\n    <tr>\n      <th>1</th>\n      <td>From that kingdom came a crowned heir, tasked ...</td>\n      <td>国王は 王位継承者第一位に暗黒の国へと行き 創世の真珠を探すよう命じた</td>\n      <td>那国王派遣第一位王储去黑暗之国寻找创世的珍珠。</td>\n    </tr>\n    <tr>\n      <th>2</th>\n      <td>The first crowned heir began her journey of se...</td>\n      <td>こうして かの者は真珠を探す旅に出た</td>\n      <td>于是第一位王储走上了珍珠的追寻之路。</td>\n    </tr>\n    <tr>\n      <th>3</th>\n      <td>But she was deceived, and the memory of her no...</td>\n      <td>しかし彼女は騙され 自身の高貴さを忘れてしまう</td>\n      <td>但她却被欺骗，忘记了自己的高贵，</td>\n    </tr>\n    <tr>\n      <th>4</th>\n      <td>She now believed that she was the queen of the...</td>\n      <td>そして 自らを暗黒の国の王女だと思い込むようになった</td>\n      <td>以为自己是黑暗之国的王。</td>\n    </tr>\n    <tr>\n      <th>...</th>\n      <td>...</td>\n      <td>...</td>\n      <td>...</td>\n    </tr>\n    <tr>\n      <th>649</th>\n      <td>*sigh* What a shame</td>\n      <td>…実に遺憾だ</td>\n      <td>…令人遗憾</td>\n    </tr>\n    <tr>\n      <th>670</th>\n      <td>Aether!</td>\n      <td>空！</td>\n      <td>空！</td>\n    </tr>\n    <tr>\n      <th>671</th>\n      <td>Wait, don't go!</td>\n      <td>待って…どうするつもり！</td>\n      <td>等等…别走！</td>\n    </tr>\n    <tr>\n      <th>672</th>\n      <td>Give my brother back!</td>\n      <td>よくも私のお兄ちゃんを——</td>\n      <td>把我的哥哥——</td>\n    </tr>\n    <tr>\n      <th>745</th>\n      <td>.</td>\n      <td>.</td>\n      <td>.</td>\n    </tr>\n  </tbody>\n</table>\n<p>362 rows × 3 columns</p>\n</div>"
     },
     "execution_count": 4,
     "metadata": {},
     "output_type": "execute_result"
    }
   ],
   "source": [
    "# drop duplicate\n",
    "df = df.drop_duplicates(subset=['en', 'ja', 'zh'], keep='first')\n",
    "df"
   ],
   "metadata": {
    "collapsed": false,
    "ExecuteTime": {
     "end_time": "2023-07-09T10:33:38.900767400Z",
     "start_time": "2023-07-09T10:33:38.899643155Z"
    }
   }
  },
  {
   "cell_type": "code",
   "execution_count": 5,
   "outputs": [
    {
     "data": {
      "text/plain": "                                                    en  \\\n0    Once, there was a glorious kingdom established...   \n1    From that kingdom came a crowned heir, tasked ...   \n2    The first crowned heir began her journey of se...   \n3    But she was deceived, and the memory of her no...   \n4    She now believed that she was the queen of the...   \n..                                                 ...   \n648                     Before letting out a long sigh   \n649                                *sigh* What a shame   \n670                                            Aether!   \n671                                    Wait, don't go!   \n672                              Give my brother back!   \n\n                                      ja                       zh  \n0                      かつて 天空には栄光の王国があった           曾经，天上有一个荣光的王国。  \n1    国王は 王位継承者第一位に暗黒の国へと行き 創世の真珠を探すよう命じた  那国王派遣第一位王储去黑暗之国寻找创世的珍珠。  \n2                     こうして かの者は真珠を探す旅に出た       于是第一位王储走上了珍珠的追寻之路。  \n3                しかし彼女は騙され 自身の高貴さを忘れてしまう         但她却被欺骗，忘记了自己的高贵，  \n4             そして 自らを暗黒の国の王女だと思い込むようになった             以为自己是黑暗之国的王。  \n..                                   ...                      ...  \n648                             長い溜息をついた                   留下一声长叹  \n649                               …実に遺憾だ                    …令人遗憾  \n670                                   空！                       空！  \n671                         待って…どうするつもり！                   等等…别走！  \n672                        よくも私のお兄ちゃんを——                  把我的哥哥——  \n\n[361 rows x 3 columns]",
      "text/html": "<div>\n<style scoped>\n    .dataframe tbody tr th:only-of-type {\n        vertical-align: middle;\n    }\n\n    .dataframe tbody tr th {\n        vertical-align: top;\n    }\n\n    .dataframe thead th {\n        text-align: right;\n    }\n</style>\n<table border=\"1\" class=\"dataframe\">\n  <thead>\n    <tr style=\"text-align: right;\">\n      <th></th>\n      <th>en</th>\n      <th>ja</th>\n      <th>zh</th>\n    </tr>\n  </thead>\n  <tbody>\n    <tr>\n      <th>0</th>\n      <td>Once, there was a glorious kingdom established...</td>\n      <td>かつて 天空には栄光の王国があった</td>\n      <td>曾经，天上有一个荣光的王国。</td>\n    </tr>\n    <tr>\n      <th>1</th>\n      <td>From that kingdom came a crowned heir, tasked ...</td>\n      <td>国王は 王位継承者第一位に暗黒の国へと行き 創世の真珠を探すよう命じた</td>\n      <td>那国王派遣第一位王储去黑暗之国寻找创世的珍珠。</td>\n    </tr>\n    <tr>\n      <th>2</th>\n      <td>The first crowned heir began her journey of se...</td>\n      <td>こうして かの者は真珠を探す旅に出た</td>\n      <td>于是第一位王储走上了珍珠的追寻之路。</td>\n    </tr>\n    <tr>\n      <th>3</th>\n      <td>But she was deceived, and the memory of her no...</td>\n      <td>しかし彼女は騙され 自身の高貴さを忘れてしまう</td>\n      <td>但她却被欺骗，忘记了自己的高贵，</td>\n    </tr>\n    <tr>\n      <th>4</th>\n      <td>She now believed that she was the queen of the...</td>\n      <td>そして 自らを暗黒の国の王女だと思い込むようになった</td>\n      <td>以为自己是黑暗之国的王。</td>\n    </tr>\n    <tr>\n      <th>...</th>\n      <td>...</td>\n      <td>...</td>\n      <td>...</td>\n    </tr>\n    <tr>\n      <th>648</th>\n      <td>Before letting out a long sigh</td>\n      <td>長い溜息をついた</td>\n      <td>留下一声长叹</td>\n    </tr>\n    <tr>\n      <th>649</th>\n      <td>*sigh* What a shame</td>\n      <td>…実に遺憾だ</td>\n      <td>…令人遗憾</td>\n    </tr>\n    <tr>\n      <th>670</th>\n      <td>Aether!</td>\n      <td>空！</td>\n      <td>空！</td>\n    </tr>\n    <tr>\n      <th>671</th>\n      <td>Wait, don't go!</td>\n      <td>待って…どうするつもり！</td>\n      <td>等等…别走！</td>\n    </tr>\n    <tr>\n      <th>672</th>\n      <td>Give my brother back!</td>\n      <td>よくも私のお兄ちゃんを——</td>\n      <td>把我的哥哥——</td>\n    </tr>\n  </tbody>\n</table>\n<p>361 rows × 3 columns</p>\n</div>"
     },
     "execution_count": 5,
     "metadata": {},
     "output_type": "execute_result"
    }
   ],
   "source": [
    "# remove row with only punctuation\n",
    "df = df[~df['en'].str.match(r'^[^\\w\\s]+$')]\n",
    "df = df[~df['ja'].str.match(r'^[^\\w\\s]+$')]\n",
    "df = df[~df['zh'].str.match(r'^[^\\w\\s]+$')]\n",
    "df"
   ],
   "metadata": {
    "collapsed": false,
    "ExecuteTime": {
     "end_time": "2023-07-09T10:33:38.959462914Z",
     "start_time": "2023-07-09T10:33:38.900540879Z"
    }
   }
  },
  {
   "cell_type": "code",
   "execution_count": 6,
   "outputs": [
    {
     "data": {
      "text/plain": "                                                    en  \\\n0    Once, there was a glorious kingdom established...   \n1    From that kingdom came a crowned heir, tasked ...   \n2    The first crowned heir began her journey of se...   \n3    But she was deceived, and the memory of her no...   \n4    She now believed that she was the queen of the...   \n..                                                 ...   \n648                     Before letting out a long sigh   \n649                                *sigh* What a shame   \n670                                            Aether!   \n671                                    Wait, don't go!   \n672                              Give my brother back!   \n\n                                      ja                       zh  \n0                      かつて 天空には栄光の王国があった           曾经，天上有一个荣光的王国。  \n1    国王は 王位継承者第一位に暗黒の国へと行き 創世の真珠を探すよう命じた  那国王派遣第一位王储去黑暗之国寻找创世的珍珠。  \n2                     こうして かの者は真珠を探す旅に出た       于是第一位王储走上了珍珠的追寻之路。  \n3                しかし彼女は騙され 自身の高貴さを忘れてしまう         但她却被欺骗，忘记了自己的高贵，  \n4             そして 自らを暗黒の国の王女だと思い込むようになった             以为自己是黑暗之国的王。  \n..                                   ...                      ...  \n648                             長い溜息をついた                   留下一声长叹  \n649                               …実に遺憾だ                    …令人遗憾  \n670                                   空！                       空！  \n671                         待って…どうするつもり！                   等等…别走！  \n672                        よくも私のお兄ちゃんを——                  把我的哥哥——  \n\n[361 rows x 3 columns]",
      "text/html": "<div>\n<style scoped>\n    .dataframe tbody tr th:only-of-type {\n        vertical-align: middle;\n    }\n\n    .dataframe tbody tr th {\n        vertical-align: top;\n    }\n\n    .dataframe thead th {\n        text-align: right;\n    }\n</style>\n<table border=\"1\" class=\"dataframe\">\n  <thead>\n    <tr style=\"text-align: right;\">\n      <th></th>\n      <th>en</th>\n      <th>ja</th>\n      <th>zh</th>\n    </tr>\n  </thead>\n  <tbody>\n    <tr>\n      <th>0</th>\n      <td>Once, there was a glorious kingdom established...</td>\n      <td>かつて 天空には栄光の王国があった</td>\n      <td>曾经，天上有一个荣光的王国。</td>\n    </tr>\n    <tr>\n      <th>1</th>\n      <td>From that kingdom came a crowned heir, tasked ...</td>\n      <td>国王は 王位継承者第一位に暗黒の国へと行き 創世の真珠を探すよう命じた</td>\n      <td>那国王派遣第一位王储去黑暗之国寻找创世的珍珠。</td>\n    </tr>\n    <tr>\n      <th>2</th>\n      <td>The first crowned heir began her journey of se...</td>\n      <td>こうして かの者は真珠を探す旅に出た</td>\n      <td>于是第一位王储走上了珍珠的追寻之路。</td>\n    </tr>\n    <tr>\n      <th>3</th>\n      <td>But she was deceived, and the memory of her no...</td>\n      <td>しかし彼女は騙され 自身の高貴さを忘れてしまう</td>\n      <td>但她却被欺骗，忘记了自己的高贵，</td>\n    </tr>\n    <tr>\n      <th>4</th>\n      <td>She now believed that she was the queen of the...</td>\n      <td>そして 自らを暗黒の国の王女だと思い込むようになった</td>\n      <td>以为自己是黑暗之国的王。</td>\n    </tr>\n    <tr>\n      <th>...</th>\n      <td>...</td>\n      <td>...</td>\n      <td>...</td>\n    </tr>\n    <tr>\n      <th>648</th>\n      <td>Before letting out a long sigh</td>\n      <td>長い溜息をついた</td>\n      <td>留下一声长叹</td>\n    </tr>\n    <tr>\n      <th>649</th>\n      <td>*sigh* What a shame</td>\n      <td>…実に遺憾だ</td>\n      <td>…令人遗憾</td>\n    </tr>\n    <tr>\n      <th>670</th>\n      <td>Aether!</td>\n      <td>空！</td>\n      <td>空！</td>\n    </tr>\n    <tr>\n      <th>671</th>\n      <td>Wait, don't go!</td>\n      <td>待って…どうするつもり！</td>\n      <td>等等…别走！</td>\n    </tr>\n    <tr>\n      <th>672</th>\n      <td>Give my brother back!</td>\n      <td>よくも私のお兄ちゃんを——</td>\n      <td>把我的哥哥——</td>\n    </tr>\n  </tbody>\n</table>\n<p>361 rows × 3 columns</p>\n</div>"
     },
     "execution_count": 6,
     "metadata": {},
     "output_type": "execute_result"
    }
   ],
   "source": [
    "# remove lines with only numbers\n",
    "df = df[~df['en'].str.match(r'^\\d+$')]\n",
    "df = df[~df['ja'].str.match(r'^\\d+$')]\n",
    "df = df[~df['zh'].str.match(r'^\\d+$')]\n",
    "df"
   ],
   "metadata": {
    "collapsed": false,
    "ExecuteTime": {
     "end_time": "2023-07-09T10:33:38.960042485Z",
     "start_time": "2023-07-09T10:33:38.940723699Z"
    }
   }
  },
  {
   "cell_type": "code",
   "execution_count": 7,
   "outputs": [
    {
     "name": "stderr",
     "output_type": "stream",
     "text": [
      "/home/toshihiko/anaconda3/envs/pytorch201/lib/python3.8/site-packages/transformers/convert_slow_tokenizer.py:454: UserWarning: The sentencepiece tokenizer that you are converting to a fast tokenizer uses the byte fallback option which is not implemented in the fast tokenizers. In practice this means that the fast version of the tokenizer can produce unknown tokens whereas the sentencepiece version would have converted these unknown tokens into a sequence of byte tokens matching the original piece of text.\n",
      "  warnings.warn(\n"
     ]
    },
    {
     "data": {
      "text/plain": "                                                    en  \\\n0    Once, there was a glorious kingdom established...   \n1    From that kingdom came a crowned heir, tasked ...   \n2    The first crowned heir began her journey of se...   \n3    But she was deceived, and the memory of her no...   \n4    She now believed that she was the queen of the...   \n..                                                 ...   \n648                     Before letting out a long sigh   \n649                                *sigh* What a shame   \n670                                            Aether!   \n671                                    Wait, don't go!   \n672                              Give my brother back!   \n\n                                      ja                       zh  en_len  \\\n0                      かつて 天空には栄光の王国があった           曾经，天上有一个荣光的王国。      19   \n1    国王は 王位継承者第一位に暗黒の国へと行き 創世の真珠を探すよう命じた  那国王派遣第一位王储去黑暗之国寻找创世的珍珠。      29   \n2                     こうして かの者は真珠を探す旅に出た       于是第一位王储走上了珍珠的追寻之路。      19   \n3                しかし彼女は騙され 自身の高貴さを忘れてしまう         但她却被欺骗，忘记了自己的高贵，      17   \n4             そして 自らを暗黒の国の王女だと思い込むようになった             以为自己是黑暗之国的王。      16   \n..                                   ...                      ...     ...   \n648                             長い溜息をついた                   留下一声长叹      10   \n649                               …実に遺憾だ                    …令人遗憾       9   \n670                                   空！                       空！       3   \n671                         待って…どうするつもり！                   等等…别走！       7   \n672                        よくも私のお兄ちゃんを——                  把我的哥哥——       5   \n\n     ja_len  zh_len  \n0         9      11  \n1        27      21  \n2        11      15  \n3        10      15  \n4        14      10  \n..      ...     ...  \n648       6       5  \n649       5       4  \n670       3       3  \n671       6       6  \n672       9       5  \n\n[361 rows x 6 columns]",
      "text/html": "<div>\n<style scoped>\n    .dataframe tbody tr th:only-of-type {\n        vertical-align: middle;\n    }\n\n    .dataframe tbody tr th {\n        vertical-align: top;\n    }\n\n    .dataframe thead th {\n        text-align: right;\n    }\n</style>\n<table border=\"1\" class=\"dataframe\">\n  <thead>\n    <tr style=\"text-align: right;\">\n      <th></th>\n      <th>en</th>\n      <th>ja</th>\n      <th>zh</th>\n      <th>en_len</th>\n      <th>ja_len</th>\n      <th>zh_len</th>\n    </tr>\n  </thead>\n  <tbody>\n    <tr>\n      <th>0</th>\n      <td>Once, there was a glorious kingdom established...</td>\n      <td>かつて 天空には栄光の王国があった</td>\n      <td>曾经，天上有一个荣光的王国。</td>\n      <td>19</td>\n      <td>9</td>\n      <td>11</td>\n    </tr>\n    <tr>\n      <th>1</th>\n      <td>From that kingdom came a crowned heir, tasked ...</td>\n      <td>国王は 王位継承者第一位に暗黒の国へと行き 創世の真珠を探すよう命じた</td>\n      <td>那国王派遣第一位王储去黑暗之国寻找创世的珍珠。</td>\n      <td>29</td>\n      <td>27</td>\n      <td>21</td>\n    </tr>\n    <tr>\n      <th>2</th>\n      <td>The first crowned heir began her journey of se...</td>\n      <td>こうして かの者は真珠を探す旅に出た</td>\n      <td>于是第一位王储走上了珍珠的追寻之路。</td>\n      <td>19</td>\n      <td>11</td>\n      <td>15</td>\n    </tr>\n    <tr>\n      <th>3</th>\n      <td>But she was deceived, and the memory of her no...</td>\n      <td>しかし彼女は騙され 自身の高貴さを忘れてしまう</td>\n      <td>但她却被欺骗，忘记了自己的高贵，</td>\n      <td>17</td>\n      <td>10</td>\n      <td>15</td>\n    </tr>\n    <tr>\n      <th>4</th>\n      <td>She now believed that she was the queen of the...</td>\n      <td>そして 自らを暗黒の国の王女だと思い込むようになった</td>\n      <td>以为自己是黑暗之国的王。</td>\n      <td>16</td>\n      <td>14</td>\n      <td>10</td>\n    </tr>\n    <tr>\n      <th>...</th>\n      <td>...</td>\n      <td>...</td>\n      <td>...</td>\n      <td>...</td>\n      <td>...</td>\n      <td>...</td>\n    </tr>\n    <tr>\n      <th>648</th>\n      <td>Before letting out a long sigh</td>\n      <td>長い溜息をついた</td>\n      <td>留下一声长叹</td>\n      <td>10</td>\n      <td>6</td>\n      <td>5</td>\n    </tr>\n    <tr>\n      <th>649</th>\n      <td>*sigh* What a shame</td>\n      <td>…実に遺憾だ</td>\n      <td>…令人遗憾</td>\n      <td>9</td>\n      <td>5</td>\n      <td>4</td>\n    </tr>\n    <tr>\n      <th>670</th>\n      <td>Aether!</td>\n      <td>空！</td>\n      <td>空！</td>\n      <td>3</td>\n      <td>3</td>\n      <td>3</td>\n    </tr>\n    <tr>\n      <th>671</th>\n      <td>Wait, don't go!</td>\n      <td>待って…どうするつもり！</td>\n      <td>等等…别走！</td>\n      <td>7</td>\n      <td>6</td>\n      <td>6</td>\n    </tr>\n    <tr>\n      <th>672</th>\n      <td>Give my brother back!</td>\n      <td>よくも私のお兄ちゃんを——</td>\n      <td>把我的哥哥——</td>\n      <td>5</td>\n      <td>9</td>\n      <td>5</td>\n    </tr>\n  </tbody>\n</table>\n<p>361 rows × 6 columns</p>\n</div>"
     },
     "execution_count": 7,
     "metadata": {},
     "output_type": "execute_result"
    }
   ],
   "source": [
    "# remove lines that tokens is more than 256 or less than 1\n",
    "from transformers import MT5TokenizerFast\n",
    "tokenizer = MT5TokenizerFast.from_pretrained('google/mt5-small')\n",
    "\n",
    "df['en_len'] = df['en'].apply(lambda x: len(tokenizer.tokenize(x)))\n",
    "df['ja_len'] = df['ja'].apply(lambda x: len(tokenizer.tokenize(x)))\n",
    "df['zh_len'] = df['zh'].apply(lambda x: len(tokenizer.tokenize(x)))\n",
    "df"
   ],
   "metadata": {
    "collapsed": false,
    "ExecuteTime": {
     "end_time": "2023-07-09T10:33:40.689116452Z",
     "start_time": "2023-07-09T10:33:38.940969899Z"
    }
   }
  },
  {
   "cell_type": "code",
   "execution_count": 8,
   "outputs": [
    {
     "data": {
      "text/plain": "                                                    en  \\\n0    Once, there was a glorious kingdom established...   \n1    From that kingdom came a crowned heir, tasked ...   \n2    The first crowned heir began her journey of se...   \n3    But she was deceived, and the memory of her no...   \n4    She now believed that she was the queen of the...   \n..                                                 ...   \n648                     Before letting out a long sigh   \n649                                *sigh* What a shame   \n670                                            Aether!   \n671                                    Wait, don't go!   \n672                              Give my brother back!   \n\n                                      ja                       zh  en_len  \\\n0                      かつて 天空には栄光の王国があった           曾经，天上有一个荣光的王国。      19   \n1    国王は 王位継承者第一位に暗黒の国へと行き 創世の真珠を探すよう命じた  那国王派遣第一位王储去黑暗之国寻找创世的珍珠。      29   \n2                     こうして かの者は真珠を探す旅に出た       于是第一位王储走上了珍珠的追寻之路。      19   \n3                しかし彼女は騙され 自身の高貴さを忘れてしまう         但她却被欺骗，忘记了自己的高贵，      17   \n4             そして 自らを暗黒の国の王女だと思い込むようになった             以为自己是黑暗之国的王。      16   \n..                                   ...                      ...     ...   \n648                             長い溜息をついた                   留下一声长叹      10   \n649                               …実に遺憾だ                    …令人遗憾       9   \n670                                   空！                       空！       3   \n671                         待って…どうするつもり！                   等等…别走！       7   \n672                        よくも私のお兄ちゃんを——                  把我的哥哥——       5   \n\n     ja_len  zh_len  \n0         9      11  \n1        27      21  \n2        11      15  \n3        10      15  \n4        14      10  \n..      ...     ...  \n648       6       5  \n649       5       4  \n670       3       3  \n671       6       6  \n672       9       5  \n\n[361 rows x 6 columns]",
      "text/html": "<div>\n<style scoped>\n    .dataframe tbody tr th:only-of-type {\n        vertical-align: middle;\n    }\n\n    .dataframe tbody tr th {\n        vertical-align: top;\n    }\n\n    .dataframe thead th {\n        text-align: right;\n    }\n</style>\n<table border=\"1\" class=\"dataframe\">\n  <thead>\n    <tr style=\"text-align: right;\">\n      <th></th>\n      <th>en</th>\n      <th>ja</th>\n      <th>zh</th>\n      <th>en_len</th>\n      <th>ja_len</th>\n      <th>zh_len</th>\n    </tr>\n  </thead>\n  <tbody>\n    <tr>\n      <th>0</th>\n      <td>Once, there was a glorious kingdom established...</td>\n      <td>かつて 天空には栄光の王国があった</td>\n      <td>曾经，天上有一个荣光的王国。</td>\n      <td>19</td>\n      <td>9</td>\n      <td>11</td>\n    </tr>\n    <tr>\n      <th>1</th>\n      <td>From that kingdom came a crowned heir, tasked ...</td>\n      <td>国王は 王位継承者第一位に暗黒の国へと行き 創世の真珠を探すよう命じた</td>\n      <td>那国王派遣第一位王储去黑暗之国寻找创世的珍珠。</td>\n      <td>29</td>\n      <td>27</td>\n      <td>21</td>\n    </tr>\n    <tr>\n      <th>2</th>\n      <td>The first crowned heir began her journey of se...</td>\n      <td>こうして かの者は真珠を探す旅に出た</td>\n      <td>于是第一位王储走上了珍珠的追寻之路。</td>\n      <td>19</td>\n      <td>11</td>\n      <td>15</td>\n    </tr>\n    <tr>\n      <th>3</th>\n      <td>But she was deceived, and the memory of her no...</td>\n      <td>しかし彼女は騙され 自身の高貴さを忘れてしまう</td>\n      <td>但她却被欺骗，忘记了自己的高贵，</td>\n      <td>17</td>\n      <td>10</td>\n      <td>15</td>\n    </tr>\n    <tr>\n      <th>4</th>\n      <td>She now believed that she was the queen of the...</td>\n      <td>そして 自らを暗黒の国の王女だと思い込むようになった</td>\n      <td>以为自己是黑暗之国的王。</td>\n      <td>16</td>\n      <td>14</td>\n      <td>10</td>\n    </tr>\n    <tr>\n      <th>...</th>\n      <td>...</td>\n      <td>...</td>\n      <td>...</td>\n      <td>...</td>\n      <td>...</td>\n      <td>...</td>\n    </tr>\n    <tr>\n      <th>648</th>\n      <td>Before letting out a long sigh</td>\n      <td>長い溜息をついた</td>\n      <td>留下一声长叹</td>\n      <td>10</td>\n      <td>6</td>\n      <td>5</td>\n    </tr>\n    <tr>\n      <th>649</th>\n      <td>*sigh* What a shame</td>\n      <td>…実に遺憾だ</td>\n      <td>…令人遗憾</td>\n      <td>9</td>\n      <td>5</td>\n      <td>4</td>\n    </tr>\n    <tr>\n      <th>670</th>\n      <td>Aether!</td>\n      <td>空！</td>\n      <td>空！</td>\n      <td>3</td>\n      <td>3</td>\n      <td>3</td>\n    </tr>\n    <tr>\n      <th>671</th>\n      <td>Wait, don't go!</td>\n      <td>待って…どうするつもり！</td>\n      <td>等等…别走！</td>\n      <td>7</td>\n      <td>6</td>\n      <td>6</td>\n    </tr>\n    <tr>\n      <th>672</th>\n      <td>Give my brother back!</td>\n      <td>よくも私のお兄ちゃんを——</td>\n      <td>把我的哥哥——</td>\n      <td>5</td>\n      <td>9</td>\n      <td>5</td>\n    </tr>\n  </tbody>\n</table>\n<p>361 rows × 6 columns</p>\n</div>"
     },
     "execution_count": 8,
     "metadata": {},
     "output_type": "execute_result"
    }
   ],
   "source": [
    "df = df[df['en_len'] <= 256]\n",
    "df = df[df['ja_len'] <= 256]\n",
    "df = df[df['zh_len'] <= 256]\n",
    "df = df[df['en_len'] >= 1]\n",
    "df = df[df['ja_len'] >= 1]\n",
    "df = df[df['zh_len'] >= 1]\n",
    "df"
   ],
   "metadata": {
    "collapsed": false,
    "ExecuteTime": {
     "end_time": "2023-07-09T10:33:40.776873984Z",
     "start_time": "2023-07-09T10:33:40.699028244Z"
    }
   }
  },
  {
   "cell_type": "code",
   "execution_count": 9,
   "outputs": [
    {
     "name": "stderr",
     "output_type": "stream",
     "text": [
      "/tmp/ipykernel_23198/3787246084.py:9: TqdmDeprecationWarning: This function will be removed in tqdm==5.0.0\n",
      "Please use `tqdm.notebook.tqdm` instead of `tqdm.tqdm_notebook`\n",
      "  for i, row in tqdm(enumerate(df.itertuples()), total=df.shape[0]):\n"
     ]
    },
    {
     "data": {
      "text/plain": "  0%|          | 0/361 [00:00<?, ?it/s]",
      "application/vnd.jupyter.widget-view+json": {
       "version_major": 2,
       "version_minor": 0,
       "model_id": "090e74c38b19499394f04ed4d8ff22bb"
      }
     },
     "metadata": {},
     "output_type": "display_data"
    },
    {
     "data": {
      "text/plain": "                                                    en  \\\n0    Once, there was a glorious kingdom established...   \n1    From that kingdom came a crowned heir, tasked ...   \n2    The first crowned heir began her journey of se...   \n3    But she was deceived, and the memory of her no...   \n4    She now believed that she was the queen of the...   \n..                                                 ...   \n648                     Before letting out a long sigh   \n649                                *sigh* What a shame   \n670                                            Aether!   \n671                                    Wait, don't go!   \n672                              Give my brother back!   \n\n                                      ja                       zh  en_len  \\\n0                      かつて 天空には栄光の王国があった           曾经，天上有一个荣光的王国。      19   \n1    国王は 王位継承者第一位に暗黒の国へと行き 創世の真珠を探すよう命じた  那国王派遣第一位王储去黑暗之国寻找创世的珍珠。      29   \n2                     こうして かの者は真珠を探す旅に出た       于是第一位王储走上了珍珠的追寻之路。      19   \n3                しかし彼女は騙され 自身の高貴さを忘れてしまう         但她却被欺骗，忘记了自己的高贵，      17   \n4             そして 自らを暗黒の国の王女だと思い込むようになった             以为自己是黑暗之国的王。      16   \n..                                   ...                      ...     ...   \n648                             長い溜息をついた                   留下一声长叹      10   \n649                               …実に遺憾だ                    …令人遗憾       9   \n670                                   空！                       空！       3   \n671                         待って…どうするつもり！                   等等…别走！       7   \n672                        よくも私のお兄ちゃんを——                  把我的哥哥——       5   \n\n     ja_len  zh_len     score  \n0         9      11  0.791986  \n1        27      21  0.650342  \n2        11      15  0.639133  \n3        10      15  0.726780  \n4        14      10  0.634188  \n..      ...     ...       ...  \n648       6       5  0.463413  \n649       5       4  0.592082  \n670       3       3  0.762621  \n671       6       6  0.745137  \n672       9       5  0.695126  \n\n[361 rows x 7 columns]",
      "text/html": "<div>\n<style scoped>\n    .dataframe tbody tr th:only-of-type {\n        vertical-align: middle;\n    }\n\n    .dataframe tbody tr th {\n        vertical-align: top;\n    }\n\n    .dataframe thead th {\n        text-align: right;\n    }\n</style>\n<table border=\"1\" class=\"dataframe\">\n  <thead>\n    <tr style=\"text-align: right;\">\n      <th></th>\n      <th>en</th>\n      <th>ja</th>\n      <th>zh</th>\n      <th>en_len</th>\n      <th>ja_len</th>\n      <th>zh_len</th>\n      <th>score</th>\n    </tr>\n  </thead>\n  <tbody>\n    <tr>\n      <th>0</th>\n      <td>Once, there was a glorious kingdom established...</td>\n      <td>かつて 天空には栄光の王国があった</td>\n      <td>曾经，天上有一个荣光的王国。</td>\n      <td>19</td>\n      <td>9</td>\n      <td>11</td>\n      <td>0.791986</td>\n    </tr>\n    <tr>\n      <th>1</th>\n      <td>From that kingdom came a crowned heir, tasked ...</td>\n      <td>国王は 王位継承者第一位に暗黒の国へと行き 創世の真珠を探すよう命じた</td>\n      <td>那国王派遣第一位王储去黑暗之国寻找创世的珍珠。</td>\n      <td>29</td>\n      <td>27</td>\n      <td>21</td>\n      <td>0.650342</td>\n    </tr>\n    <tr>\n      <th>2</th>\n      <td>The first crowned heir began her journey of se...</td>\n      <td>こうして かの者は真珠を探す旅に出た</td>\n      <td>于是第一位王储走上了珍珠的追寻之路。</td>\n      <td>19</td>\n      <td>11</td>\n      <td>15</td>\n      <td>0.639133</td>\n    </tr>\n    <tr>\n      <th>3</th>\n      <td>But she was deceived, and the memory of her no...</td>\n      <td>しかし彼女は騙され 自身の高貴さを忘れてしまう</td>\n      <td>但她却被欺骗，忘记了自己的高贵，</td>\n      <td>17</td>\n      <td>10</td>\n      <td>15</td>\n      <td>0.726780</td>\n    </tr>\n    <tr>\n      <th>4</th>\n      <td>She now believed that she was the queen of the...</td>\n      <td>そして 自らを暗黒の国の王女だと思い込むようになった</td>\n      <td>以为自己是黑暗之国的王。</td>\n      <td>16</td>\n      <td>14</td>\n      <td>10</td>\n      <td>0.634188</td>\n    </tr>\n    <tr>\n      <th>...</th>\n      <td>...</td>\n      <td>...</td>\n      <td>...</td>\n      <td>...</td>\n      <td>...</td>\n      <td>...</td>\n      <td>...</td>\n    </tr>\n    <tr>\n      <th>648</th>\n      <td>Before letting out a long sigh</td>\n      <td>長い溜息をついた</td>\n      <td>留下一声长叹</td>\n      <td>10</td>\n      <td>6</td>\n      <td>5</td>\n      <td>0.463413</td>\n    </tr>\n    <tr>\n      <th>649</th>\n      <td>*sigh* What a shame</td>\n      <td>…実に遺憾だ</td>\n      <td>…令人遗憾</td>\n      <td>9</td>\n      <td>5</td>\n      <td>4</td>\n      <td>0.592082</td>\n    </tr>\n    <tr>\n      <th>670</th>\n      <td>Aether!</td>\n      <td>空！</td>\n      <td>空！</td>\n      <td>3</td>\n      <td>3</td>\n      <td>3</td>\n      <td>0.762621</td>\n    </tr>\n    <tr>\n      <th>671</th>\n      <td>Wait, don't go!</td>\n      <td>待って…どうするつもり！</td>\n      <td>等等…别走！</td>\n      <td>7</td>\n      <td>6</td>\n      <td>6</td>\n      <td>0.745137</td>\n    </tr>\n    <tr>\n      <th>672</th>\n      <td>Give my brother back!</td>\n      <td>よくも私のお兄ちゃんを——</td>\n      <td>把我的哥哥——</td>\n      <td>5</td>\n      <td>9</td>\n      <td>5</td>\n      <td>0.695126</td>\n    </tr>\n  </tbody>\n</table>\n<p>361 rows × 7 columns</p>\n</div>"
     },
     "execution_count": 9,
     "metadata": {},
     "output_type": "execute_result"
    }
   ],
   "source": [
    "# remove lines that LaBSE score is less than 0.6 or more than 0.99\n",
    "import numpy as np\n",
    "from sentence_transformers import SentenceTransformer\n",
    "\n",
    "model = SentenceTransformer('sentence-transformers/LaBSE').cuda()\n",
    "\n",
    "_batch, _scores = [], []\n",
    "_bs = 64\n",
    "for i, row in tqdm(enumerate(df.itertuples()), total=df.shape[0]):\n",
    "    inputs = [row.en, row.ja, row.zh]\n",
    "    _batch.extend(inputs)\n",
    "    if (i + 1) % _bs == 0 or i == df.shape[0] - 1:\n",
    "        embeddings = model.encode(_batch)\n",
    "        # calculate score between each pair\n",
    "        for j in range(embeddings.shape[0] // 3):\n",
    "            _scores.append(np.average([\n",
    "                np.matmul(embeddings[j * 3], embeddings[j * 3 + 1].T),\n",
    "                np.matmul(embeddings[j * 3], embeddings[j * 3 + 2].T),\n",
    "                np.matmul(embeddings[j * 3 + 1], embeddings[j * 3 + 2].T)\n",
    "            ]))\n",
    "        _batch = []\n",
    "df = df.assign(score=_scores)\n",
    "df"
   ],
   "metadata": {
    "collapsed": false,
    "ExecuteTime": {
     "end_time": "2023-07-09T10:33:49.509481122Z",
     "start_time": "2023-07-09T10:33:40.741950846Z"
    }
   }
  },
  {
   "cell_type": "code",
   "execution_count": 10,
   "outputs": [
    {
     "data": {
      "text/plain": "<Figure size 640x480 with 1 Axes>",
      "image/png": "[encoded data removed]"
     },
     "metadata": {},
     "output_type": "display_data"
    }
   ],
   "source": [
    "# statistics score using matplotlib\n",
    "import matplotlib.pyplot as plt\n",
    "plt.hist(df['score'], bins=100)\n",
    "plt.show()"
   ],
   "metadata": {
    "collapsed": false,
    "ExecuteTime": {
     "end_time": "2023-07-09T10:33:50.261408660Z",
     "start_time": "2023-07-09T10:33:49.508961226Z"
    }
   }
  },
  {
   "cell_type": "code",
   "execution_count": 11,
   "outputs": [
    {
     "data": {
      "text/plain": "                                                    en  \\\n0    Once, there was a glorious kingdom established...   \n1    From that kingdom came a crowned heir, tasked ...   \n2    The first crowned heir began her journey of se...   \n3    But she was deceived, and the memory of her no...   \n4    She now believed that she was the queen of the...   \n..                                                 ...   \n644                                            Alright   \n647  After putting down his hagoita, Kamai remained...   \n670                                            Aether!   \n671                                    Wait, don't go!   \n672                              Give my brother back!   \n\n                                      ja                       zh  en_len  \\\n0                      かつて 天空には栄光の王国があった           曾经，天上有一个荣光的王国。      19   \n1    国王は 王位継承者第一位に暗黒の国へと行き 創世の真珠を探すよう命じた  那国王派遣第一位王储去黑暗之国寻找创世的珍珠。      29   \n2                     こうして かの者は真珠を探す旅に出た       于是第一位王储走上了珍珠的追寻之路。      19   \n3                しかし彼女は騙され 自身の高貴さを忘れてしまう         但她却被欺骗，忘记了自己的高贵，      17   \n4             そして 自らを暗黒の国の王女だと思い込むようになった             以为自己是黑暗之国的王。      16   \n..                                   ...                      ...     ...   \n644                                それもよい                       也好       2   \n647                  鎌井様は羽子板を置いてしばらく黙り込み          放下羽子板后，镰井先生沉默许久      20   \n670                                   空！                       空！       3   \n671                         待って…どうするつもり！                   等等…别走！       7   \n672                        よくも私のお兄ちゃんを——                  把我的哥哥——       5   \n\n     ja_len  zh_len     score  \n0         9      11  0.791986  \n1        27      21  0.650342  \n2        11      15  0.639133  \n3        10      15  0.726780  \n4        14      10  0.634188  \n..      ...     ...       ...  \n644       3       3  0.747554  \n647      11      15  0.704898  \n670       3       3  0.762621  \n671       6       6  0.745137  \n672       9       5  0.695126  \n\n[170 rows x 7 columns]",
      "text/html": "<div>\n<style scoped>\n    .dataframe tbody tr th:only-of-type {\n        vertical-align: middle;\n    }\n\n    .dataframe tbody tr th {\n        vertical-align: top;\n    }\n\n    .dataframe thead th {\n        text-align: right;\n    }\n</style>\n<table border=\"1\" class=\"dataframe\">\n  <thead>\n    <tr style=\"text-align: right;\">\n      <th></th>\n      <th>en</th>\n      <th>ja</th>\n      <th>zh</th>\n      <th>en_len</th>\n      <th>ja_len</th>\n      <th>zh_len</th>\n      <th>score</th>\n    </tr>\n  </thead>\n  <tbody>\n    <tr>\n      <th>0</th>\n      <td>Once, there was a glorious kingdom established...</td>\n      <td>かつて 天空には栄光の王国があった</td>\n      <td>曾经，天上有一个荣光的王国。</td>\n      <td>19</td>\n      <td>9</td>\n      <td>11</td>\n      <td>0.791986</td>\n    </tr>\n    <tr>\n      <th>1</th>\n      <td>From that kingdom came a crowned heir, tasked ...</td>\n      <td>国王は 王位継承者第一位に暗黒の国へと行き 創世の真珠を探すよう命じた</td>\n      <td>那国王派遣第一位王储去黑暗之国寻找创世的珍珠。</td>\n      <td>29</td>\n      <td>27</td>\n      <td>21</td>\n      <td>0.650342</td>\n    </tr>\n    <tr>\n      <th>2</th>\n      <td>The first crowned heir began her journey of se...</td>\n      <td>こうして かの者は真珠を探す旅に出た</td>\n      <td>于是第一位王储走上了珍珠的追寻之路。</td>\n      <td>19</td>\n      <td>11</td>\n      <td>15</td>\n      <td>0.639133</td>\n    </tr>\n    <tr>\n      <th>3</th>\n      <td>But she was deceived, and the memory of her no...</td>\n      <td>しかし彼女は騙され 自身の高貴さを忘れてしまう</td>\n      <td>但她却被欺骗，忘记了自己的高贵，</td>\n      <td>17</td>\n      <td>10</td>\n      <td>15</td>\n      <td>0.726780</td>\n    </tr>\n    <tr>\n      <th>4</th>\n      <td>She now believed that she was the queen of the...</td>\n      <td>そして 自らを暗黒の国の王女だと思い込むようになった</td>\n      <td>以为自己是黑暗之国的王。</td>\n      <td>16</td>\n      <td>14</td>\n      <td>10</td>\n      <td>0.634188</td>\n    </tr>\n    <tr>\n      <th>...</th>\n      <td>...</td>\n      <td>...</td>\n      <td>...</td>\n      <td>...</td>\n      <td>...</td>\n      <td>...</td>\n      <td>...</td>\n    </tr>\n    <tr>\n      <th>644</th>\n      <td>Alright</td>\n      <td>それもよい</td>\n      <td>也好</td>\n      <td>2</td>\n      <td>3</td>\n      <td>3</td>\n      <td>0.747554</td>\n    </tr>\n    <tr>\n      <th>647</th>\n      <td>After putting down his hagoita, Kamai remained...</td>\n      <td>鎌井様は羽子板を置いてしばらく黙り込み</td>\n      <td>放下羽子板后，镰井先生沉默许久</td>\n      <td>20</td>\n      <td>11</td>\n      <td>15</td>\n      <td>0.704898</td>\n    </tr>\n    <tr>\n      <th>670</th>\n      <td>Aether!</td>\n      <td>空！</td>\n      <td>空！</td>\n      <td>3</td>\n      <td>3</td>\n      <td>3</td>\n      <td>0.762621</td>\n    </tr>\n    <tr>\n      <th>671</th>\n      <td>Wait, don't go!</td>\n      <td>待って…どうするつもり！</td>\n      <td>等等…别走！</td>\n      <td>7</td>\n      <td>6</td>\n      <td>6</td>\n      <td>0.745137</td>\n    </tr>\n    <tr>\n      <th>672</th>\n      <td>Give my brother back!</td>\n      <td>よくも私のお兄ちゃんを——</td>\n      <td>把我的哥哥——</td>\n      <td>5</td>\n      <td>9</td>\n      <td>5</td>\n      <td>0.695126</td>\n    </tr>\n  </tbody>\n</table>\n<p>170 rows × 7 columns</p>\n</div>"
     },
     "execution_count": 11,
     "metadata": {},
     "output_type": "execute_result"
    }
   ],
   "source": [
    "# remove lines that LaBSE score is less than 0.6 or more than 0.99\n",
    "df = df[df['score'] >= 0.6]\n",
    "df = df[df['score'] <= 0.99]\n",
    "df"
   ],
   "metadata": {
    "collapsed": false,
    "ExecuteTime": {
     "end_time": "2023-07-09T10:33:50.278779779Z",
     "start_time": "2023-07-09T10:33:50.270700239Z"
    }
   }
  },
  {
   "cell_type": "code",
   "execution_count": 12,
   "outputs": [
    {
     "data": {
      "text/plain": "                                                    en  \\\n0    Once, there was a glorious kingdom established...   \n1    From that kingdom came a crowned heir, tasked ...   \n2    The first crowned heir began her journey of se...   \n3    But she was deceived, and the memory of her no...   \n4    She now believed that she was the queen of the...   \n..                                                 ...   \n644                                            Alright   \n647  After putting down his hagoita, Kamai remained...   \n670                                            Aether!   \n671                                    Wait, don't go!   \n672                              Give my brother back!   \n\n                                      ja                       zh  en_len  \\\n0                      かつて 天空には栄光の王国があった           曾经，天上有一个荣光的王国。      19   \n1    国王は 王位継承者第一位に暗黒の国へと行き 創世の真珠を探すよう命じた  那国王派遣第一位王储去黑暗之国寻找创世的珍珠。      29   \n2                     こうして かの者は真珠を探す旅に出た       于是第一位王储走上了珍珠的追寻之路。      19   \n3                しかし彼女は騙され 自身の高貴さを忘れてしまう         但她却被欺骗，忘记了自己的高贵，      17   \n4             そして 自らを暗黒の国の王女だと思い込むようになった             以为自己是黑暗之国的王。      16   \n..                                   ...                      ...     ...   \n644                                それもよい                       也好       2   \n647                  鎌井様は羽子板を置いてしばらく黙り込み          放下羽子板后，镰井先生沉默许久      20   \n670                                   空！                       空！       3   \n671                         待って…どうするつもり！                   等等…别走！       7   \n672                        よくも私のお兄ちゃんを——                  把我的哥哥——       5   \n\n     ja_len  zh_len     score  \n0         9      11  0.791986  \n1        27      21  0.650342  \n2        11      15  0.639133  \n3        10      15  0.726780  \n4        14      10  0.634188  \n..      ...     ...       ...  \n644       3       3  0.747554  \n647      11      15  0.704898  \n670       3       3  0.762621  \n671       6       6  0.745137  \n672       9       5  0.695126  \n\n[170 rows x 7 columns]",
      "text/html": "<div>\n<style scoped>\n    .dataframe tbody tr th:only-of-type {\n        vertical-align: middle;\n    }\n\n    .dataframe tbody tr th {\n        vertical-align: top;\n    }\n\n    .dataframe thead th {\n        text-align: right;\n    }\n</style>\n<table border=\"1\" class=\"dataframe\">\n  <thead>\n    <tr style=\"text-align: right;\">\n      <th></th>\n      <th>en</th>\n      <th>ja</th>\n      <th>zh</th>\n      <th>en_len</th>\n      <th>ja_len</th>\n      <th>zh_len</th>\n      <th>score</th>\n    </tr>\n  </thead>\n  <tbody>\n    <tr>\n      <th>0</th>\n      <td>Once, there was a glorious kingdom established...</td>\n      <td>かつて 天空には栄光の王国があった</td>\n      <td>曾经，天上有一个荣光的王国。</td>\n      <td>19</td>\n      <td>9</td>\n      <td>11</td>\n      <td>0.791986</td>\n    </tr>\n    <tr>\n      <th>1</th>\n      <td>From that kingdom came a crowned heir, tasked ...</td>\n      <td>国王は 王位継承者第一位に暗黒の国へと行き 創世の真珠を探すよう命じた</td>\n      <td>那国王派遣第一位王储去黑暗之国寻找创世的珍珠。</td>\n      <td>29</td>\n      <td>27</td>\n      <td>21</td>\n      <td>0.650342</td>\n    </tr>\n    <tr>\n      <th>2</th>\n      <td>The first crowned heir began her journey of se...</td>\n      <td>こうして かの者は真珠を探す旅に出た</td>\n      <td>于是第一位王储走上了珍珠的追寻之路。</td>\n      <td>19</td>\n      <td>11</td>\n      <td>15</td>\n      <td>0.639133</td>\n    </tr>\n    <tr>\n      <th>3</th>\n      <td>But she was deceived, and the memory of her no...</td>\n      <td>しかし彼女は騙され 自身の高貴さを忘れてしまう</td>\n      <td>但她却被欺骗，忘记了自己的高贵，</td>\n      <td>17</td>\n      <td>10</td>\n      <td>15</td>\n      <td>0.726780</td>\n    </tr>\n    <tr>\n      <th>4</th>\n      <td>She now believed that she was the queen of the...</td>\n      <td>そして 自らを暗黒の国の王女だと思い込むようになった</td>\n      <td>以为自己是黑暗之国的王。</td>\n      <td>16</td>\n      <td>14</td>\n      <td>10</td>\n      <td>0.634188</td>\n    </tr>\n    <tr>\n      <th>...</th>\n      <td>...</td>\n      <td>...</td>\n      <td>...</td>\n      <td>...</td>\n      <td>...</td>\n      <td>...</td>\n      <td>...</td>\n    </tr>\n    <tr>\n      <th>644</th>\n      <td>Alright</td>\n      <td>それもよい</td>\n      <td>也好</td>\n      <td>2</td>\n      <td>3</td>\n      <td>3</td>\n      <td>0.747554</td>\n    </tr>\n    <tr>\n      <th>647</th>\n      <td>After putting down his hagoita, Kamai remained...</td>\n      <td>鎌井様は羽子板を置いてしばらく黙り込み</td>\n      <td>放下羽子板后，镰井先生沉默许久</td>\n      <td>20</td>\n      <td>11</td>\n      <td>15</td>\n      <td>0.704898</td>\n    </tr>\n    <tr>\n      <th>670</th>\n      <td>Aether!</td>\n      <td>空！</td>\n      <td>空！</td>\n      <td>3</td>\n      <td>3</td>\n      <td>3</td>\n      <td>0.762621</td>\n    </tr>\n    <tr>\n      <th>671</th>\n      <td>Wait, don't go!</td>\n      <td>待って…どうするつもり！</td>\n      <td>等等…别走！</td>\n      <td>7</td>\n      <td>6</td>\n      <td>6</td>\n      <td>0.745137</td>\n    </tr>\n    <tr>\n      <th>672</th>\n      <td>Give my brother back!</td>\n      <td>よくも私のお兄ちゃんを——</td>\n      <td>把我的哥哥——</td>\n      <td>5</td>\n      <td>9</td>\n      <td>5</td>\n      <td>0.695126</td>\n    </tr>\n  </tbody>\n</table>\n<p>170 rows × 7 columns</p>\n</div>"
     },
     "execution_count": 12,
     "metadata": {},
     "output_type": "execute_result"
    }
   ],
   "source": [
    "# replace「」to “”, 『』to ‘’ in zh\n",
    "df['zh'] = df['zh'].apply(lambda x: x.replace('「', '“'))\n",
    "df['zh'] = df['zh'].apply(lambda x: x.replace('」', '”'))\n",
    "df['zh'] = df['zh'].apply(lambda x: x.replace('『', '‘'))\n",
    "df['zh'] = df['zh'].apply(lambda x: x.replace('』', '’'))\n",
    "df"
   ],
   "metadata": {
    "collapsed": false,
    "ExecuteTime": {
     "end_time": "2023-07-09T10:33:50.325554475Z",
     "start_time": "2023-07-09T10:33:50.275754984Z"
    }
   }
  },
  {
   "cell_type": "code",
   "execution_count": 13,
   "outputs": [],
   "source": [
    "# drop len and score column\n",
    "df = df.drop(columns=['en_len', 'ja_len', 'zh_len', 'score'])\n",
    "# save to parquet\n",
    "df.to_parquet('parquet/GenshinSubtitle.parquet', index=False)"
   ],
   "metadata": {
    "collapsed": false,
    "ExecuteTime": {
     "end_time": "2023-07-09T10:33:50.391531996Z",
     "start_time": "2023-07-09T10:33:50.317457716Z"
    }
   }
  },
  {
   "cell_type": "code",
   "execution_count": 14,
   "outputs": [
    {
     "data": {
      "text/plain": "                                                    en  \\\n0    Once, there was a glorious kingdom established...   \n1    From that kingdom came a crowned heir, tasked ...   \n2    The first crowned heir began her journey of se...   \n3    But she was deceived, and the memory of her no...   \n4    She now believed that she was the queen of the...   \n..                                                 ...   \n165                                            Alright   \n166  After putting down his hagoita, Kamai remained...   \n167                                            Aether!   \n168                                    Wait, don't go!   \n169                              Give my brother back!   \n\n                                      ja                       zh  \n0                      かつて 天空には栄光の王国があった           曾经，天上有一个荣光的王国。  \n1    国王は 王位継承者第一位に暗黒の国へと行き 創世の真珠を探すよう命じた  那国王派遣第一位王储去黑暗之国寻找创世的珍珠。  \n2                     こうして かの者は真珠を探す旅に出た       于是第一位王储走上了珍珠的追寻之路。  \n3                しかし彼女は騙され 自身の高貴さを忘れてしまう         但她却被欺骗，忘记了自己的高贵，  \n4             そして 自らを暗黒の国の王女だと思い込むようになった             以为自己是黑暗之国的王。  \n..                                   ...                      ...  \n165                                それもよい                       也好  \n166                  鎌井様は羽子板を置いてしばらく黙り込み          放下羽子板后，镰井先生沉默许久  \n167                                   空！                       空！  \n168                         待って…どうするつもり！                   等等…别走！  \n169                        よくも私のお兄ちゃんを——                  把我的哥哥——  \n\n[170 rows x 3 columns]",
      "text/html": "<div>\n<style scoped>\n    .dataframe tbody tr th:only-of-type {\n        vertical-align: middle;\n    }\n\n    .dataframe tbody tr th {\n        vertical-align: top;\n    }\n\n    .dataframe thead th {\n        text-align: right;\n    }\n</style>\n<table border=\"1\" class=\"dataframe\">\n  <thead>\n    <tr style=\"text-align: right;\">\n      <th></th>\n      <th>en</th>\n      <th>ja</th>\n      <th>zh</th>\n    </tr>\n  </thead>\n  <tbody>\n    <tr>\n      <th>0</th>\n      <td>Once, there was a glorious kingdom established...</td>\n      <td>かつて 天空には栄光の王国があった</td>\n      <td>曾经，天上有一个荣光的王国。</td>\n    </tr>\n    <tr>\n      <th>1</th>\n      <td>From that kingdom came a crowned heir, tasked ...</td>\n      <td>国王は 王位継承者第一位に暗黒の国へと行き 創世の真珠を探すよう命じた</td>\n      <td>那国王派遣第一位王储去黑暗之国寻找创世的珍珠。</td>\n    </tr>\n    <tr>\n      <th>2</th>\n      <td>The first crowned heir began her journey of se...</td>\n      <td>こうして かの者は真珠を探す旅に出た</td>\n      <td>于是第一位王储走上了珍珠的追寻之路。</td>\n    </tr>\n    <tr>\n      <th>3</th>\n      <td>But she was deceived, and the memory of her no...</td>\n      <td>しかし彼女は騙され 自身の高貴さを忘れてしまう</td>\n      <td>但她却被欺骗，忘记了自己的高贵，</td>\n    </tr>\n    <tr>\n      <th>4</th>\n      <td>She now believed that she was the queen of the...</td>\n      <td>そして 自らを暗黒の国の王女だと思い込むようになった</td>\n      <td>以为自己是黑暗之国的王。</td>\n    </tr>\n    <tr>\n      <th>...</th>\n      <td>...</td>\n      <td>...</td>\n      <td>...</td>\n    </tr>\n    <tr>\n      <th>165</th>\n      <td>Alright</td>\n      <td>それもよい</td>\n      <td>也好</td>\n    </tr>\n    <tr>\n      <th>166</th>\n      <td>After putting down his hagoita, Kamai remained...</td>\n      <td>鎌井様は羽子板を置いてしばらく黙り込み</td>\n      <td>放下羽子板后，镰井先生沉默许久</td>\n    </tr>\n    <tr>\n      <th>167</th>\n      <td>Aether!</td>\n      <td>空！</td>\n      <td>空！</td>\n    </tr>\n    <tr>\n      <th>168</th>\n      <td>Wait, don't go!</td>\n      <td>待って…どうするつもり！</td>\n      <td>等等…别走！</td>\n    </tr>\n    <tr>\n      <th>169</th>\n      <td>Give my brother back!</td>\n      <td>よくも私のお兄ちゃんを——</td>\n      <td>把我的哥哥——</td>\n    </tr>\n  </tbody>\n</table>\n<p>170 rows × 3 columns</p>\n</div>"
     },
     "execution_count": 14,
     "metadata": {},
     "output_type": "execute_result"
    }
   ],
   "source": [
    "# load parquet\n",
    "df = pd.read_parquet('parquet/GenshinSubtitle.parquet')\n",
    "df"
   ],
   "metadata": {
    "collapsed": false,
    "ExecuteTime": {
     "end_time": "2023-07-09T10:33:50.391951391Z",
     "start_time": "2023-07-09T10:33:50.360653293Z"
    }
   }
  }
 ],
 "metadata": {
  "kernelspec": {
   "display_name": "Python 3",
   "language": "python",
   "name": "python3"
  },
  "language_info": {
   "codemirror_mode": {
    "name": "ipython",
    "version": 2
   },
   "file_extension": ".py",
   "mimetype": "text/x-python",
   "name": "python",
   "nbconvert_exporter": "python",
   "pygments_lexer": "ipython2",
   "version": "2.7.6"
  }
 },
 "nbformat": 4,
 "nbformat_minor": 0
}
