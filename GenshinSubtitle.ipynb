{
 "cells": [
  {
   "cell_type": "code",
   "execution_count": 1,
   "metadata": {
    "collapsed": true,
    "ExecuteTime": {
     "end_time": "2023-07-02T13:11:31.683152015Z",
     "start_time": "2023-07-02T13:11:31.405167524Z"
    }
   },
   "outputs": [],
   "source": [
    "from glob import glob\n",
    "import os\n",
    "import pandas as pd\n",
    "from tqdm import tqdm_notebook as tqdm\n",
    "import re\n"
   ]
  },
  {
   "cell_type": "code",
   "execution_count": 2,
   "outputs": [
    {
     "name": "stderr",
     "output_type": "stream",
     "text": [
      "/tmp/ipykernel_5705/2870086666.py:7: TqdmDeprecationWarning: This function will be removed in tqdm==5.0.0\n",
      "Please use `tqdm.notebook.tqdm` instead of `tqdm.tqdm_notebook`\n",
      "  for zh_file in tqdm(os.listdir(zh_path), total=len(os.listdir(zh_path))):\n"
     ]
    },
    {
     "data": {
      "text/plain": "  0%|          | 0/218 [00:00<?, ?it/s]",
      "application/vnd.jupyter.widget-view+json": {
       "version_major": 2,
       "version_minor": 0,
       "model_id": "99ca2e0d02c247ba8f07e270e7f1e9b9"
      }
     },
     "metadata": {},
     "output_type": "display_data"
    },
    {
     "name": "stdout",
     "output_type": "stream",
     "text": [
      "Skip 8 files, 210 files left.\n"
     ]
    }
   ],
   "source": [
    "en_path = 'GAMEDATA/GenshinData/Subtitle/EN'\n",
    "ja_path = 'GAMEDATA/GenshinData/Subtitle/JP'\n",
    "zh_path = 'GAMEDATA/GenshinData/Subtitle/CHS'\n",
    "\n",
    "skip_count = 0\n",
    "en_files, ja_files, zh_files = [], [], []\n",
    "for zh_file in tqdm(os.listdir(zh_path), total=len(os.listdir(zh_path))):\n",
    "    en_file = os.path.join(en_path, zh_file.replace('CHS', 'EN'))\n",
    "    ja_file = os.path.join(ja_path, zh_file.replace('CHS', 'JP'))\n",
    "    zh_file = os.path.join(zh_path, zh_file)\n",
    "    if not os.path.exists(en_file) or not os.path.exists(ja_file):\n",
    "        skip_count += 1\n",
    "        continue\n",
    "\n",
    "    en_files.append(en_file)\n",
    "    ja_files.append(ja_file)\n",
    "    zh_files.append(zh_file)\n",
    "\n",
    "print(f'Skip {skip_count} files, {len(en_files)} files left.')"
   ],
   "metadata": {
    "collapsed": false,
    "ExecuteTime": {
     "end_time": "2023-07-02T13:11:31.758719960Z",
     "start_time": "2023-07-02T13:11:31.689778266Z"
    }
   }
  },
  {
   "cell_type": "code",
   "execution_count": 3,
   "outputs": [
    {
     "name": "stderr",
     "output_type": "stream",
     "text": [
      "/tmp/ipykernel_5705/1350593726.py:7: TqdmDeprecationWarning: This function will be removed in tqdm==5.0.0\n",
      "Please use `tqdm.notebook.tqdm` instead of `tqdm.tqdm_notebook`\n",
      "  for en_file, ja_file, zh_file in tqdm(zip(en_files, ja_files, zh_files), total=len(en_files)):\n"
     ]
    },
    {
     "data": {
      "text/plain": "  0%|          | 0/210 [00:00<?, ?it/s]",
      "application/vnd.jupyter.widget-view+json": {
       "version_major": 2,
       "version_minor": 0,
       "model_id": "6f6e584cfd924270bcf596cadfbfca9e"
      }
     },
     "metadata": {},
     "output_type": "display_data"
    },
    {
     "name": "stdout",
     "output_type": "stream",
     "text": [
      "Skip 143 files\n"
     ]
    },
    {
     "data": {
      "text/plain": "                                                    en  \\\n0    Once, there was a glorious kingdom established...   \n1    From that kingdom came a crowned heir, tasked ...   \n2    The first crowned heir began her journey of se...   \n3    But she was deceived, and the memory of her no...   \n4    She now believed that she was the queen of the...   \n..                                                 ...   \n737      But the Lyre could no longer soothe his cries   \n738                                            Aether!   \n739                                    Wait, don't go!   \n740                              Give my brother back!   \n741                                                  .   \n\n                                      ja                       zh  \n0                      かつて 天空には栄光の王国があった           曾经，天上有一个荣光的王国。  \n1    国王は 王位継承者第一位に暗黒の国へと行き 創世の真珠を探すよう命じた  那国王派遣第一位王储去黑暗之国寻找创世的珍珠。  \n2                     こうして かの者は真珠を探す旅に出た       于是第一位王储走上了珍珠的追寻之路。  \n3                しかし彼女は騙され 自身の高貴さを忘れてしまう         但她却被欺骗，忘记了自己的高贵，  \n4             そして 自らを暗黒の国の王女だと思い込むようになった             以为自己是黑暗之国的王。  \n..                                   ...                      ...  \n737                     天空のライアーは 話せなくなった             天空之琴却已没有办法说话  \n738                                   空！                       空！  \n739                         待って…どうするつもり！                   等等…别走！  \n740                        よくも私のお兄ちゃんを——                  把我的哥哥——  \n741                                    .                        .  \n\n[742 rows x 3 columns]",
      "text/html": "<div>\n<style scoped>\n    .dataframe tbody tr th:only-of-type {\n        vertical-align: middle;\n    }\n\n    .dataframe tbody tr th {\n        vertical-align: top;\n    }\n\n    .dataframe thead th {\n        text-align: right;\n    }\n</style>\n<table border=\"1\" class=\"dataframe\">\n  <thead>\n    <tr style=\"text-align: right;\">\n      <th></th>\n      <th>en</th>\n      <th>ja</th>\n      <th>zh</th>\n    </tr>\n  </thead>\n  <tbody>\n    <tr>\n      <th>0</th>\n      <td>Once, there was a glorious kingdom established...</td>\n      <td>かつて 天空には栄光の王国があった</td>\n      <td>曾经，天上有一个荣光的王国。</td>\n    </tr>\n    <tr>\n      <th>1</th>\n      <td>From that kingdom came a crowned heir, tasked ...</td>\n      <td>国王は 王位継承者第一位に暗黒の国へと行き 創世の真珠を探すよう命じた</td>\n      <td>那国王派遣第一位王储去黑暗之国寻找创世的珍珠。</td>\n    </tr>\n    <tr>\n      <th>2</th>\n      <td>The first crowned heir began her journey of se...</td>\n      <td>こうして かの者は真珠を探す旅に出た</td>\n      <td>于是第一位王储走上了珍珠的追寻之路。</td>\n    </tr>\n    <tr>\n      <th>3</th>\n      <td>But she was deceived, and the memory of her no...</td>\n      <td>しかし彼女は騙され 自身の高貴さを忘れてしまう</td>\n      <td>但她却被欺骗，忘记了自己的高贵，</td>\n    </tr>\n    <tr>\n      <th>4</th>\n      <td>She now believed that she was the queen of the...</td>\n      <td>そして 自らを暗黒の国の王女だと思い込むようになった</td>\n      <td>以为自己是黑暗之国的王。</td>\n    </tr>\n    <tr>\n      <th>...</th>\n      <td>...</td>\n      <td>...</td>\n      <td>...</td>\n    </tr>\n    <tr>\n      <th>737</th>\n      <td>But the Lyre could no longer soothe his cries</td>\n      <td>天空のライアーは 話せなくなった</td>\n      <td>天空之琴却已没有办法说话</td>\n    </tr>\n    <tr>\n      <th>738</th>\n      <td>Aether!</td>\n      <td>空！</td>\n      <td>空！</td>\n    </tr>\n    <tr>\n      <th>739</th>\n      <td>Wait, don't go!</td>\n      <td>待って…どうするつもり！</td>\n      <td>等等…别走！</td>\n    </tr>\n    <tr>\n      <th>740</th>\n      <td>Give my brother back!</td>\n      <td>よくも私のお兄ちゃんを——</td>\n      <td>把我的哥哥——</td>\n    </tr>\n    <tr>\n      <th>741</th>\n      <td>.</td>\n      <td>.</td>\n      <td>.</td>\n    </tr>\n  </tbody>\n</table>\n<p>742 rows × 3 columns</p>\n</div>"
     },
     "execution_count": 3,
     "metadata": {},
     "output_type": "execute_result"
    }
   ],
   "source": [
    "# remove time stamp in srt\n",
    "time_regex = re.compile(r'\\d{2}:\\d{2}:\\d{2},\\d{3} --> \\d{2}:\\d{2}:\\d{2},\\d{3}')\n",
    "\n",
    "df = pd.DataFrame(columns=['en', 'ja', 'zh'])\n",
    "\n",
    "skip_count = 0\n",
    "for en_file, ja_file, zh_file in tqdm(zip(en_files, ja_files, zh_files), total=len(en_files)):\n",
    "    en_text, ja_text, zh_text = [], [], []\n",
    "    for line in open(en_file, 'r', encoding='utf-8'):\n",
    "        line = line.strip()\n",
    "        if line == '':\n",
    "            continue\n",
    "        if time_regex.match(line):\n",
    "            continue\n",
    "        if line.isdigit():\n",
    "            continue\n",
    "        en_text.append(line)\n",
    "    for line in open(ja_file, 'r', encoding='utf-8'):\n",
    "        line = line.strip()\n",
    "        if line == '':\n",
    "            continue\n",
    "        if time_regex.match(line):\n",
    "            continue\n",
    "        if line.isdigit():\n",
    "            continue\n",
    "        ja_text.append(line)\n",
    "    for line in open(zh_file, 'r', encoding='utf-8'):\n",
    "        line = line.strip()\n",
    "        if line == '':\n",
    "            continue\n",
    "        if time_regex.match(line):\n",
    "            continue\n",
    "        if line.isdigit():\n",
    "            continue\n",
    "        zh_text.append(line)\n",
    "\n",
    "    if len(en_text) != len(ja_text) or len(en_text) != len(zh_text):\n",
    "        skip_count += 1\n",
    "        continue\n",
    "    df = pd.concat([df, pd.DataFrame({'en': en_text, 'ja': ja_text, 'zh': zh_text})], ignore_index=True)\n",
    "\n",
    "print(f'Skip {skip_count} files')\n",
    "df"
   ],
   "metadata": {
    "collapsed": false,
    "ExecuteTime": {
     "end_time": "2023-07-02T13:11:31.932945569Z",
     "start_time": "2023-07-02T13:11:31.803103874Z"
    }
   }
  },
  {
   "cell_type": "code",
   "execution_count": 4,
   "outputs": [
    {
     "data": {
      "text/plain": "                                                    en  \\\n0    Once, there was a glorious kingdom established...   \n1    From that kingdom came a crowned heir, tasked ...   \n2    The first crowned heir began her journey of se...   \n3    But she was deceived, and the memory of her no...   \n4    She now believed that she was the queen of the...   \n..                                                 ...   \n645                                *sigh* What a shame   \n666                                            Aether!   \n667                                    Wait, don't go!   \n668                              Give my brother back!   \n741                                                  .   \n\n                                      ja                       zh  \n0                      かつて 天空には栄光の王国があった           曾经，天上有一个荣光的王国。  \n1    国王は 王位継承者第一位に暗黒の国へと行き 創世の真珠を探すよう命じた  那国王派遣第一位王储去黑暗之国寻找创世的珍珠。  \n2                     こうして かの者は真珠を探す旅に出た       于是第一位王储走上了珍珠的追寻之路。  \n3                しかし彼女は騙され 自身の高貴さを忘れてしまう         但她却被欺骗，忘记了自己的高贵，  \n4             そして 自らを暗黒の国の王女だと思い込むようになった             以为自己是黑暗之国的王。  \n..                                   ...                      ...  \n645                               …実に遺憾だ                    …令人遗憾  \n666                                   空！                       空！  \n667                         待って…どうするつもり！                   等等…别走！  \n668                        よくも私のお兄ちゃんを——                  把我的哥哥——  \n741                                    .                        .  \n\n[360 rows x 3 columns]",
      "text/html": "<div>\n<style scoped>\n    .dataframe tbody tr th:only-of-type {\n        vertical-align: middle;\n    }\n\n    .dataframe tbody tr th {\n        vertical-align: top;\n    }\n\n    .dataframe thead th {\n        text-align: right;\n    }\n</style>\n<table border=\"1\" class=\"dataframe\">\n  <thead>\n    <tr style=\"text-align: right;\">\n      <th></th>\n      <th>en</th>\n      <th>ja</th>\n      <th>zh</th>\n    </tr>\n  </thead>\n  <tbody>\n    <tr>\n      <th>0</th>\n      <td>Once, there was a glorious kingdom established...</td>\n      <td>かつて 天空には栄光の王国があった</td>\n      <td>曾经，天上有一个荣光的王国。</td>\n    </tr>\n    <tr>\n      <th>1</th>\n      <td>From that kingdom came a crowned heir, tasked ...</td>\n      <td>国王は 王位継承者第一位に暗黒の国へと行き 創世の真珠を探すよう命じた</td>\n      <td>那国王派遣第一位王储去黑暗之国寻找创世的珍珠。</td>\n    </tr>\n    <tr>\n      <th>2</th>\n      <td>The first crowned heir began her journey of se...</td>\n      <td>こうして かの者は真珠を探す旅に出た</td>\n      <td>于是第一位王储走上了珍珠的追寻之路。</td>\n    </tr>\n    <tr>\n      <th>3</th>\n      <td>But she was deceived, and the memory of her no...</td>\n      <td>しかし彼女は騙され 自身の高貴さを忘れてしまう</td>\n      <td>但她却被欺骗，忘记了自己的高贵，</td>\n    </tr>\n    <tr>\n      <th>4</th>\n      <td>She now believed that she was the queen of the...</td>\n      <td>そして 自らを暗黒の国の王女だと思い込むようになった</td>\n      <td>以为自己是黑暗之国的王。</td>\n    </tr>\n    <tr>\n      <th>...</th>\n      <td>...</td>\n      <td>...</td>\n      <td>...</td>\n    </tr>\n    <tr>\n      <th>645</th>\n      <td>*sigh* What a shame</td>\n      <td>…実に遺憾だ</td>\n      <td>…令人遗憾</td>\n    </tr>\n    <tr>\n      <th>666</th>\n      <td>Aether!</td>\n      <td>空！</td>\n      <td>空！</td>\n    </tr>\n    <tr>\n      <th>667</th>\n      <td>Wait, don't go!</td>\n      <td>待って…どうするつもり！</td>\n      <td>等等…别走！</td>\n    </tr>\n    <tr>\n      <th>668</th>\n      <td>Give my brother back!</td>\n      <td>よくも私のお兄ちゃんを——</td>\n      <td>把我的哥哥——</td>\n    </tr>\n    <tr>\n      <th>741</th>\n      <td>.</td>\n      <td>.</td>\n      <td>.</td>\n    </tr>\n  </tbody>\n</table>\n<p>360 rows × 3 columns</p>\n</div>"
     },
     "execution_count": 4,
     "metadata": {},
     "output_type": "execute_result"
    }
   ],
   "source": [
    "# drop duplicate\n",
    "df = df.drop_duplicates(subset=['en', 'ja', 'zh'], keep='first')\n",
    "df"
   ],
   "metadata": {
    "collapsed": false,
    "ExecuteTime": {
     "end_time": "2023-07-02T13:11:31.933539367Z",
     "start_time": "2023-07-02T13:11:31.858928099Z"
    }
   }
  },
  {
   "cell_type": "code",
   "execution_count": 5,
   "outputs": [
    {
     "data": {
      "text/plain": "                                                    en  \\\n0    Once, there was a glorious kingdom established...   \n1    From that kingdom came a crowned heir, tasked ...   \n2    The first crowned heir began her journey of se...   \n3    But she was deceived, and the memory of her no...   \n4    She now believed that she was the queen of the...   \n..                                                 ...   \n644                     Before letting out a long sigh   \n645                                *sigh* What a shame   \n666                                            Aether!   \n667                                    Wait, don't go!   \n668                              Give my brother back!   \n\n                                      ja                       zh  \n0                      かつて 天空には栄光の王国があった           曾经，天上有一个荣光的王国。  \n1    国王は 王位継承者第一位に暗黒の国へと行き 創世の真珠を探すよう命じた  那国王派遣第一位王储去黑暗之国寻找创世的珍珠。  \n2                     こうして かの者は真珠を探す旅に出た       于是第一位王储走上了珍珠的追寻之路。  \n3                しかし彼女は騙され 自身の高貴さを忘れてしまう         但她却被欺骗，忘记了自己的高贵，  \n4             そして 自らを暗黒の国の王女だと思い込むようになった             以为自己是黑暗之国的王。  \n..                                   ...                      ...  \n644                             長い溜息をついた                   留下一声长叹  \n645                               …実に遺憾だ                    …令人遗憾  \n666                                   空！                       空！  \n667                         待って…どうするつもり！                   等等…别走！  \n668                        よくも私のお兄ちゃんを——                  把我的哥哥——  \n\n[359 rows x 3 columns]",
      "text/html": "<div>\n<style scoped>\n    .dataframe tbody tr th:only-of-type {\n        vertical-align: middle;\n    }\n\n    .dataframe tbody tr th {\n        vertical-align: top;\n    }\n\n    .dataframe thead th {\n        text-align: right;\n    }\n</style>\n<table border=\"1\" class=\"dataframe\">\n  <thead>\n    <tr style=\"text-align: right;\">\n      <th></th>\n      <th>en</th>\n      <th>ja</th>\n      <th>zh</th>\n    </tr>\n  </thead>\n  <tbody>\n    <tr>\n      <th>0</th>\n      <td>Once, there was a glorious kingdom established...</td>\n      <td>かつて 天空には栄光の王国があった</td>\n      <td>曾经，天上有一个荣光的王国。</td>\n    </tr>\n    <tr>\n      <th>1</th>\n      <td>From that kingdom came a crowned heir, tasked ...</td>\n      <td>国王は 王位継承者第一位に暗黒の国へと行き 創世の真珠を探すよう命じた</td>\n      <td>那国王派遣第一位王储去黑暗之国寻找创世的珍珠。</td>\n    </tr>\n    <tr>\n      <th>2</th>\n      <td>The first crowned heir began her journey of se...</td>\n      <td>こうして かの者は真珠を探す旅に出た</td>\n      <td>于是第一位王储走上了珍珠的追寻之路。</td>\n    </tr>\n    <tr>\n      <th>3</th>\n      <td>But she was deceived, and the memory of her no...</td>\n      <td>しかし彼女は騙され 自身の高貴さを忘れてしまう</td>\n      <td>但她却被欺骗，忘记了自己的高贵，</td>\n    </tr>\n    <tr>\n      <th>4</th>\n      <td>She now believed that she was the queen of the...</td>\n      <td>そして 自らを暗黒の国の王女だと思い込むようになった</td>\n      <td>以为自己是黑暗之国的王。</td>\n    </tr>\n    <tr>\n      <th>...</th>\n      <td>...</td>\n      <td>...</td>\n      <td>...</td>\n    </tr>\n    <tr>\n      <th>644</th>\n      <td>Before letting out a long sigh</td>\n      <td>長い溜息をついた</td>\n      <td>留下一声长叹</td>\n    </tr>\n    <tr>\n      <th>645</th>\n      <td>*sigh* What a shame</td>\n      <td>…実に遺憾だ</td>\n      <td>…令人遗憾</td>\n    </tr>\n    <tr>\n      <th>666</th>\n      <td>Aether!</td>\n      <td>空！</td>\n      <td>空！</td>\n    </tr>\n    <tr>\n      <th>667</th>\n      <td>Wait, don't go!</td>\n      <td>待って…どうするつもり！</td>\n      <td>等等…别走！</td>\n    </tr>\n    <tr>\n      <th>668</th>\n      <td>Give my brother back!</td>\n      <td>よくも私のお兄ちゃんを——</td>\n      <td>把我的哥哥——</td>\n    </tr>\n  </tbody>\n</table>\n<p>359 rows × 3 columns</p>\n</div>"
     },
     "execution_count": 5,
     "metadata": {},
     "output_type": "execute_result"
    }
   ],
   "source": [
    "# remove row with only punctuation\n",
    "df = df[~df['en'].str.match(r'^[^\\w\\s]+$')]\n",
    "df = df[~df['ja'].str.match(r'^[^\\w\\s]+$')]\n",
    "df = df[~df['zh'].str.match(r'^[^\\w\\s]+$')]\n",
    "df"
   ],
   "metadata": {
    "collapsed": false,
    "ExecuteTime": {
     "end_time": "2023-07-02T13:11:31.934014100Z",
     "start_time": "2023-07-02T13:11:31.868851405Z"
    }
   }
  },
  {
   "cell_type": "code",
   "execution_count": 6,
   "outputs": [
    {
     "data": {
      "text/plain": "                                                    en  \\\n0    Once, there was a glorious kingdom established...   \n1    From that kingdom came a crowned heir, tasked ...   \n2    The first crowned heir began her journey of se...   \n3    But she was deceived, and the memory of her no...   \n4    She now believed that she was the queen of the...   \n..                                                 ...   \n644                     Before letting out a long sigh   \n645                                *sigh* What a shame   \n666                                            Aether!   \n667                                    Wait, don't go!   \n668                              Give my brother back!   \n\n                                      ja                       zh  \n0                      かつて 天空には栄光の王国があった           曾经，天上有一个荣光的王国。  \n1    国王は 王位継承者第一位に暗黒の国へと行き 創世の真珠を探すよう命じた  那国王派遣第一位王储去黑暗之国寻找创世的珍珠。  \n2                     こうして かの者は真珠を探す旅に出た       于是第一位王储走上了珍珠的追寻之路。  \n3                しかし彼女は騙され 自身の高貴さを忘れてしまう         但她却被欺骗，忘记了自己的高贵，  \n4             そして 自らを暗黒の国の王女だと思い込むようになった             以为自己是黑暗之国的王。  \n..                                   ...                      ...  \n644                             長い溜息をついた                   留下一声长叹  \n645                               …実に遺憾だ                    …令人遗憾  \n666                                   空！                       空！  \n667                         待って…どうするつもり！                   等等…别走！  \n668                        よくも私のお兄ちゃんを——                  把我的哥哥——  \n\n[359 rows x 3 columns]",
      "text/html": "<div>\n<style scoped>\n    .dataframe tbody tr th:only-of-type {\n        vertical-align: middle;\n    }\n\n    .dataframe tbody tr th {\n        vertical-align: top;\n    }\n\n    .dataframe thead th {\n        text-align: right;\n    }\n</style>\n<table border=\"1\" class=\"dataframe\">\n  <thead>\n    <tr style=\"text-align: right;\">\n      <th></th>\n      <th>en</th>\n      <th>ja</th>\n      <th>zh</th>\n    </tr>\n  </thead>\n  <tbody>\n    <tr>\n      <th>0</th>\n      <td>Once, there was a glorious kingdom established...</td>\n      <td>かつて 天空には栄光の王国があった</td>\n      <td>曾经，天上有一个荣光的王国。</td>\n    </tr>\n    <tr>\n      <th>1</th>\n      <td>From that kingdom came a crowned heir, tasked ...</td>\n      <td>国王は 王位継承者第一位に暗黒の国へと行き 創世の真珠を探すよう命じた</td>\n      <td>那国王派遣第一位王储去黑暗之国寻找创世的珍珠。</td>\n    </tr>\n    <tr>\n      <th>2</th>\n      <td>The first crowned heir began her journey of se...</td>\n      <td>こうして かの者は真珠を探す旅に出た</td>\n      <td>于是第一位王储走上了珍珠的追寻之路。</td>\n    </tr>\n    <tr>\n      <th>3</th>\n      <td>But she was deceived, and the memory of her no...</td>\n      <td>しかし彼女は騙され 自身の高貴さを忘れてしまう</td>\n      <td>但她却被欺骗，忘记了自己的高贵，</td>\n    </tr>\n    <tr>\n      <th>4</th>\n      <td>She now believed that she was the queen of the...</td>\n      <td>そして 自らを暗黒の国の王女だと思い込むようになった</td>\n      <td>以为自己是黑暗之国的王。</td>\n    </tr>\n    <tr>\n      <th>...</th>\n      <td>...</td>\n      <td>...</td>\n      <td>...</td>\n    </tr>\n    <tr>\n      <th>644</th>\n      <td>Before letting out a long sigh</td>\n      <td>長い溜息をついた</td>\n      <td>留下一声长叹</td>\n    </tr>\n    <tr>\n      <th>645</th>\n      <td>*sigh* What a shame</td>\n      <td>…実に遺憾だ</td>\n      <td>…令人遗憾</td>\n    </tr>\n    <tr>\n      <th>666</th>\n      <td>Aether!</td>\n      <td>空！</td>\n      <td>空！</td>\n    </tr>\n    <tr>\n      <th>667</th>\n      <td>Wait, don't go!</td>\n      <td>待って…どうするつもり！</td>\n      <td>等等…别走！</td>\n    </tr>\n    <tr>\n      <th>668</th>\n      <td>Give my brother back!</td>\n      <td>よくも私のお兄ちゃんを——</td>\n      <td>把我的哥哥——</td>\n    </tr>\n  </tbody>\n</table>\n<p>359 rows × 3 columns</p>\n</div>"
     },
     "execution_count": 6,
     "metadata": {},
     "output_type": "execute_result"
    }
   ],
   "source": [
    "# remove lines with only numbers\n",
    "df = df[~df['en'].str.match(r'^\\d+$')]\n",
    "df = df[~df['ja'].str.match(r'^\\d+$')]\n",
    "df = df[~df['zh'].str.match(r'^\\d+$')]\n",
    "df"
   ],
   "metadata": {
    "collapsed": false,
    "ExecuteTime": {
     "end_time": "2023-07-02T13:11:31.934379351Z",
     "start_time": "2023-07-02T13:11:31.881457240Z"
    }
   }
  },
  {
   "cell_type": "code",
   "execution_count": 7,
   "outputs": [
    {
     "name": "stderr",
     "output_type": "stream",
     "text": [
      "/home/toshihiko/anaconda3/envs/pytorch201/lib/python3.8/site-packages/transformers/convert_slow_tokenizer.py:454: UserWarning: The sentencepiece tokenizer that you are converting to a fast tokenizer uses the byte fallback option which is not implemented in the fast tokenizers. In practice this means that the fast version of the tokenizer can produce unknown tokens whereas the sentencepiece version would have converted these unknown tokens into a sequence of byte tokens matching the original piece of text.\n",
      "  warnings.warn(\n"
     ]
    },
    {
     "data": {
      "text/plain": "                                                    en  \\\n0    Once, there was a glorious kingdom established...   \n1    From that kingdom came a crowned heir, tasked ...   \n2    The first crowned heir began her journey of se...   \n3    But she was deceived, and the memory of her no...   \n4    She now believed that she was the queen of the...   \n..                                                 ...   \n644                     Before letting out a long sigh   \n645                                *sigh* What a shame   \n666                                            Aether!   \n667                                    Wait, don't go!   \n668                              Give my brother back!   \n\n                                      ja                       zh  en_len  \\\n0                      かつて 天空には栄光の王国があった           曾经，天上有一个荣光的王国。      19   \n1    国王は 王位継承者第一位に暗黒の国へと行き 創世の真珠を探すよう命じた  那国王派遣第一位王储去黑暗之国寻找创世的珍珠。      29   \n2                     こうして かの者は真珠を探す旅に出た       于是第一位王储走上了珍珠的追寻之路。      19   \n3                しかし彼女は騙され 自身の高貴さを忘れてしまう         但她却被欺骗，忘记了自己的高贵，      17   \n4             そして 自らを暗黒の国の王女だと思い込むようになった             以为自己是黑暗之国的王。      16   \n..                                   ...                      ...     ...   \n644                             長い溜息をついた                   留下一声长叹      10   \n645                               …実に遺憾だ                    …令人遗憾       9   \n666                                   空！                       空！       3   \n667                         待って…どうするつもり！                   等等…别走！       7   \n668                        よくも私のお兄ちゃんを——                  把我的哥哥——       5   \n\n     ja_len  zh_len  \n0         9      11  \n1        27      21  \n2        11      15  \n3        10      15  \n4        14      10  \n..      ...     ...  \n644       6       5  \n645       5       4  \n666       3       3  \n667       6       6  \n668       9       5  \n\n[359 rows x 6 columns]",
      "text/html": "<div>\n<style scoped>\n    .dataframe tbody tr th:only-of-type {\n        vertical-align: middle;\n    }\n\n    .dataframe tbody tr th {\n        vertical-align: top;\n    }\n\n    .dataframe thead th {\n        text-align: right;\n    }\n</style>\n<table border=\"1\" class=\"dataframe\">\n  <thead>\n    <tr style=\"text-align: right;\">\n      <th></th>\n      <th>en</th>\n      <th>ja</th>\n      <th>zh</th>\n      <th>en_len</th>\n      <th>ja_len</th>\n      <th>zh_len</th>\n    </tr>\n  </thead>\n  <tbody>\n    <tr>\n      <th>0</th>\n      <td>Once, there was a glorious kingdom established...</td>\n      <td>かつて 天空には栄光の王国があった</td>\n      <td>曾经，天上有一个荣光的王国。</td>\n      <td>19</td>\n      <td>9</td>\n      <td>11</td>\n    </tr>\n    <tr>\n      <th>1</th>\n      <td>From that kingdom came a crowned heir, tasked ...</td>\n      <td>国王は 王位継承者第一位に暗黒の国へと行き 創世の真珠を探すよう命じた</td>\n      <td>那国王派遣第一位王储去黑暗之国寻找创世的珍珠。</td>\n      <td>29</td>\n      <td>27</td>\n      <td>21</td>\n    </tr>\n    <tr>\n      <th>2</th>\n      <td>The first crowned heir began her journey of se...</td>\n      <td>こうして かの者は真珠を探す旅に出た</td>\n      <td>于是第一位王储走上了珍珠的追寻之路。</td>\n      <td>19</td>\n      <td>11</td>\n      <td>15</td>\n    </tr>\n    <tr>\n      <th>3</th>\n      <td>But she was deceived, and the memory of her no...</td>\n      <td>しかし彼女は騙され 自身の高貴さを忘れてしまう</td>\n      <td>但她却被欺骗，忘记了自己的高贵，</td>\n      <td>17</td>\n      <td>10</td>\n      <td>15</td>\n    </tr>\n    <tr>\n      <th>4</th>\n      <td>She now believed that she was the queen of the...</td>\n      <td>そして 自らを暗黒の国の王女だと思い込むようになった</td>\n      <td>以为自己是黑暗之国的王。</td>\n      <td>16</td>\n      <td>14</td>\n      <td>10</td>\n    </tr>\n    <tr>\n      <th>...</th>\n      <td>...</td>\n      <td>...</td>\n      <td>...</td>\n      <td>...</td>\n      <td>...</td>\n      <td>...</td>\n    </tr>\n    <tr>\n      <th>644</th>\n      <td>Before letting out a long sigh</td>\n      <td>長い溜息をついた</td>\n      <td>留下一声长叹</td>\n      <td>10</td>\n      <td>6</td>\n      <td>5</td>\n    </tr>\n    <tr>\n      <th>645</th>\n      <td>*sigh* What a shame</td>\n      <td>…実に遺憾だ</td>\n      <td>…令人遗憾</td>\n      <td>9</td>\n      <td>5</td>\n      <td>4</td>\n    </tr>\n    <tr>\n      <th>666</th>\n      <td>Aether!</td>\n      <td>空！</td>\n      <td>空！</td>\n      <td>3</td>\n      <td>3</td>\n      <td>3</td>\n    </tr>\n    <tr>\n      <th>667</th>\n      <td>Wait, don't go!</td>\n      <td>待って…どうするつもり！</td>\n      <td>等等…别走！</td>\n      <td>7</td>\n      <td>6</td>\n      <td>6</td>\n    </tr>\n    <tr>\n      <th>668</th>\n      <td>Give my brother back!</td>\n      <td>よくも私のお兄ちゃんを——</td>\n      <td>把我的哥哥——</td>\n      <td>5</td>\n      <td>9</td>\n      <td>5</td>\n    </tr>\n  </tbody>\n</table>\n<p>359 rows × 6 columns</p>\n</div>"
     },
     "execution_count": 7,
     "metadata": {},
     "output_type": "execute_result"
    }
   ],
   "source": [
    "# remove lines that tokens is more than 256 or less than 1\n",
    "from transformers import MT5TokenizerFast\n",
    "tokenizer = MT5TokenizerFast.from_pretrained('google/mt5-small')\n",
    "\n",
    "df['en_len'] = df['en'].apply(lambda x: len(tokenizer.tokenize(x)))\n",
    "df['ja_len'] = df['ja'].apply(lambda x: len(tokenizer.tokenize(x)))\n",
    "df['zh_len'] = df['zh'].apply(lambda x: len(tokenizer.tokenize(x)))\n",
    "df"
   ],
   "metadata": {
    "collapsed": false,
    "ExecuteTime": {
     "end_time": "2023-07-02T13:11:33.791367374Z",
     "start_time": "2023-07-02T13:11:31.894138467Z"
    }
   }
  },
  {
   "cell_type": "code",
   "execution_count": 8,
   "outputs": [
    {
     "data": {
      "text/plain": "                                                    en  \\\n0    Once, there was a glorious kingdom established...   \n1    From that kingdom came a crowned heir, tasked ...   \n2    The first crowned heir began her journey of se...   \n3    But she was deceived, and the memory of her no...   \n4    She now believed that she was the queen of the...   \n..                                                 ...   \n644                     Before letting out a long sigh   \n645                                *sigh* What a shame   \n666                                            Aether!   \n667                                    Wait, don't go!   \n668                              Give my brother back!   \n\n                                      ja                       zh  en_len  \\\n0                      かつて 天空には栄光の王国があった           曾经，天上有一个荣光的王国。      19   \n1    国王は 王位継承者第一位に暗黒の国へと行き 創世の真珠を探すよう命じた  那国王派遣第一位王储去黑暗之国寻找创世的珍珠。      29   \n2                     こうして かの者は真珠を探す旅に出た       于是第一位王储走上了珍珠的追寻之路。      19   \n3                しかし彼女は騙され 自身の高貴さを忘れてしまう         但她却被欺骗，忘记了自己的高贵，      17   \n4             そして 自らを暗黒の国の王女だと思い込むようになった             以为自己是黑暗之国的王。      16   \n..                                   ...                      ...     ...   \n644                             長い溜息をついた                   留下一声长叹      10   \n645                               …実に遺憾だ                    …令人遗憾       9   \n666                                   空！                       空！       3   \n667                         待って…どうするつもり！                   等等…别走！       7   \n668                        よくも私のお兄ちゃんを——                  把我的哥哥——       5   \n\n     ja_len  zh_len  \n0         9      11  \n1        27      21  \n2        11      15  \n3        10      15  \n4        14      10  \n..      ...     ...  \n644       6       5  \n645       5       4  \n666       3       3  \n667       6       6  \n668       9       5  \n\n[359 rows x 6 columns]",
      "text/html": "<div>\n<style scoped>\n    .dataframe tbody tr th:only-of-type {\n        vertical-align: middle;\n    }\n\n    .dataframe tbody tr th {\n        vertical-align: top;\n    }\n\n    .dataframe thead th {\n        text-align: right;\n    }\n</style>\n<table border=\"1\" class=\"dataframe\">\n  <thead>\n    <tr style=\"text-align: right;\">\n      <th></th>\n      <th>en</th>\n      <th>ja</th>\n      <th>zh</th>\n      <th>en_len</th>\n      <th>ja_len</th>\n      <th>zh_len</th>\n    </tr>\n  </thead>\n  <tbody>\n    <tr>\n      <th>0</th>\n      <td>Once, there was a glorious kingdom established...</td>\n      <td>かつて 天空には栄光の王国があった</td>\n      <td>曾经，天上有一个荣光的王国。</td>\n      <td>19</td>\n      <td>9</td>\n      <td>11</td>\n    </tr>\n    <tr>\n      <th>1</th>\n      <td>From that kingdom came a crowned heir, tasked ...</td>\n      <td>国王は 王位継承者第一位に暗黒の国へと行き 創世の真珠を探すよう命じた</td>\n      <td>那国王派遣第一位王储去黑暗之国寻找创世的珍珠。</td>\n      <td>29</td>\n      <td>27</td>\n      <td>21</td>\n    </tr>\n    <tr>\n      <th>2</th>\n      <td>The first crowned heir began her journey of se...</td>\n      <td>こうして かの者は真珠を探す旅に出た</td>\n      <td>于是第一位王储走上了珍珠的追寻之路。</td>\n      <td>19</td>\n      <td>11</td>\n      <td>15</td>\n    </tr>\n    <tr>\n      <th>3</th>\n      <td>But she was deceived, and the memory of her no...</td>\n      <td>しかし彼女は騙され 自身の高貴さを忘れてしまう</td>\n      <td>但她却被欺骗，忘记了自己的高贵，</td>\n      <td>17</td>\n      <td>10</td>\n      <td>15</td>\n    </tr>\n    <tr>\n      <th>4</th>\n      <td>She now believed that she was the queen of the...</td>\n      <td>そして 自らを暗黒の国の王女だと思い込むようになった</td>\n      <td>以为自己是黑暗之国的王。</td>\n      <td>16</td>\n      <td>14</td>\n      <td>10</td>\n    </tr>\n    <tr>\n      <th>...</th>\n      <td>...</td>\n      <td>...</td>\n      <td>...</td>\n      <td>...</td>\n      <td>...</td>\n      <td>...</td>\n    </tr>\n    <tr>\n      <th>644</th>\n      <td>Before letting out a long sigh</td>\n      <td>長い溜息をついた</td>\n      <td>留下一声长叹</td>\n      <td>10</td>\n      <td>6</td>\n      <td>5</td>\n    </tr>\n    <tr>\n      <th>645</th>\n      <td>*sigh* What a shame</td>\n      <td>…実に遺憾だ</td>\n      <td>…令人遗憾</td>\n      <td>9</td>\n      <td>5</td>\n      <td>4</td>\n    </tr>\n    <tr>\n      <th>666</th>\n      <td>Aether!</td>\n      <td>空！</td>\n      <td>空！</td>\n      <td>3</td>\n      <td>3</td>\n      <td>3</td>\n    </tr>\n    <tr>\n      <th>667</th>\n      <td>Wait, don't go!</td>\n      <td>待って…どうするつもり！</td>\n      <td>等等…别走！</td>\n      <td>7</td>\n      <td>6</td>\n      <td>6</td>\n    </tr>\n    <tr>\n      <th>668</th>\n      <td>Give my brother back!</td>\n      <td>よくも私のお兄ちゃんを——</td>\n      <td>把我的哥哥——</td>\n      <td>5</td>\n      <td>9</td>\n      <td>5</td>\n    </tr>\n  </tbody>\n</table>\n<p>359 rows × 6 columns</p>\n</div>"
     },
     "execution_count": 8,
     "metadata": {},
     "output_type": "execute_result"
    }
   ],
   "source": [
    "df = df[df['en_len'] <= 256]\n",
    "df = df[df['ja_len'] <= 256]\n",
    "df = df[df['zh_len'] <= 256]\n",
    "df = df[df['en_len'] >= 1]\n",
    "df = df[df['ja_len'] >= 1]\n",
    "df = df[df['zh_len'] >= 1]\n",
    "df"
   ],
   "metadata": {
    "collapsed": false,
    "ExecuteTime": {
     "end_time": "2023-07-02T13:11:33.803801539Z",
     "start_time": "2023-07-02T13:11:33.789928404Z"
    }
   }
  },
  {
   "cell_type": "code",
   "execution_count": 9,
   "outputs": [
    {
     "name": "stderr",
     "output_type": "stream",
     "text": [
      "/tmp/ipykernel_5705/3787246084.py:9: TqdmDeprecationWarning: This function will be removed in tqdm==5.0.0\n",
      "Please use `tqdm.notebook.tqdm` instead of `tqdm.tqdm_notebook`\n",
      "  for i, row in tqdm(enumerate(df.itertuples()), total=df.shape[0]):\n"
     ]
    },
    {
     "data": {
      "text/plain": "  0%|          | 0/359 [00:00<?, ?it/s]",
      "application/vnd.jupyter.widget-view+json": {
       "version_major": 2,
       "version_minor": 0,
       "model_id": "93e412c9e7ab4e89ba93d5d5d31297e1"
      }
     },
     "metadata": {},
     "output_type": "display_data"
    },
    {
     "data": {
      "text/plain": "                                                    en  \\\n0    Once, there was a glorious kingdom established...   \n1    From that kingdom came a crowned heir, tasked ...   \n2    The first crowned heir began her journey of se...   \n3    But she was deceived, and the memory of her no...   \n4    She now believed that she was the queen of the...   \n..                                                 ...   \n644                     Before letting out a long sigh   \n645                                *sigh* What a shame   \n666                                            Aether!   \n667                                    Wait, don't go!   \n668                              Give my brother back!   \n\n                                      ja                       zh  en_len  \\\n0                      かつて 天空には栄光の王国があった           曾经，天上有一个荣光的王国。      19   \n1    国王は 王位継承者第一位に暗黒の国へと行き 創世の真珠を探すよう命じた  那国王派遣第一位王储去黑暗之国寻找创世的珍珠。      29   \n2                     こうして かの者は真珠を探す旅に出た       于是第一位王储走上了珍珠的追寻之路。      19   \n3                しかし彼女は騙され 自身の高貴さを忘れてしまう         但她却被欺骗，忘记了自己的高贵，      17   \n4             そして 自らを暗黒の国の王女だと思い込むようになった             以为自己是黑暗之国的王。      16   \n..                                   ...                      ...     ...   \n644                             長い溜息をついた                   留下一声长叹      10   \n645                               …実に遺憾だ                    …令人遗憾       9   \n666                                   空！                       空！       3   \n667                         待って…どうするつもり！                   等等…别走！       7   \n668                        よくも私のお兄ちゃんを——                  把我的哥哥——       5   \n\n     ja_len  zh_len     score  \n0         9      11  0.791986  \n1        27      21  0.650342  \n2        11      15  0.639133  \n3        10      15  0.726780  \n4        14      10  0.634188  \n..      ...     ...       ...  \n644       6       5  0.463413  \n645       5       4  0.592082  \n666       3       3  0.762621  \n667       6       6  0.745137  \n668       9       5  0.695126  \n\n[359 rows x 7 columns]",
      "text/html": "<div>\n<style scoped>\n    .dataframe tbody tr th:only-of-type {\n        vertical-align: middle;\n    }\n\n    .dataframe tbody tr th {\n        vertical-align: top;\n    }\n\n    .dataframe thead th {\n        text-align: right;\n    }\n</style>\n<table border=\"1\" class=\"dataframe\">\n  <thead>\n    <tr style=\"text-align: right;\">\n      <th></th>\n      <th>en</th>\n      <th>ja</th>\n      <th>zh</th>\n      <th>en_len</th>\n      <th>ja_len</th>\n      <th>zh_len</th>\n      <th>score</th>\n    </tr>\n  </thead>\n  <tbody>\n    <tr>\n      <th>0</th>\n      <td>Once, there was a glorious kingdom established...</td>\n      <td>かつて 天空には栄光の王国があった</td>\n      <td>曾经，天上有一个荣光的王国。</td>\n      <td>19</td>\n      <td>9</td>\n      <td>11</td>\n      <td>0.791986</td>\n    </tr>\n    <tr>\n      <th>1</th>\n      <td>From that kingdom came a crowned heir, tasked ...</td>\n      <td>国王は 王位継承者第一位に暗黒の国へと行き 創世の真珠を探すよう命じた</td>\n      <td>那国王派遣第一位王储去黑暗之国寻找创世的珍珠。</td>\n      <td>29</td>\n      <td>27</td>\n      <td>21</td>\n      <td>0.650342</td>\n    </tr>\n    <tr>\n      <th>2</th>\n      <td>The first crowned heir began her journey of se...</td>\n      <td>こうして かの者は真珠を探す旅に出た</td>\n      <td>于是第一位王储走上了珍珠的追寻之路。</td>\n      <td>19</td>\n      <td>11</td>\n      <td>15</td>\n      <td>0.639133</td>\n    </tr>\n    <tr>\n      <th>3</th>\n      <td>But she was deceived, and the memory of her no...</td>\n      <td>しかし彼女は騙され 自身の高貴さを忘れてしまう</td>\n      <td>但她却被欺骗，忘记了自己的高贵，</td>\n      <td>17</td>\n      <td>10</td>\n      <td>15</td>\n      <td>0.726780</td>\n    </tr>\n    <tr>\n      <th>4</th>\n      <td>She now believed that she was the queen of the...</td>\n      <td>そして 自らを暗黒の国の王女だと思い込むようになった</td>\n      <td>以为自己是黑暗之国的王。</td>\n      <td>16</td>\n      <td>14</td>\n      <td>10</td>\n      <td>0.634188</td>\n    </tr>\n    <tr>\n      <th>...</th>\n      <td>...</td>\n      <td>...</td>\n      <td>...</td>\n      <td>...</td>\n      <td>...</td>\n      <td>...</td>\n      <td>...</td>\n    </tr>\n    <tr>\n      <th>644</th>\n      <td>Before letting out a long sigh</td>\n      <td>長い溜息をついた</td>\n      <td>留下一声长叹</td>\n      <td>10</td>\n      <td>6</td>\n      <td>5</td>\n      <td>0.463413</td>\n    </tr>\n    <tr>\n      <th>645</th>\n      <td>*sigh* What a shame</td>\n      <td>…実に遺憾だ</td>\n      <td>…令人遗憾</td>\n      <td>9</td>\n      <td>5</td>\n      <td>4</td>\n      <td>0.592082</td>\n    </tr>\n    <tr>\n      <th>666</th>\n      <td>Aether!</td>\n      <td>空！</td>\n      <td>空！</td>\n      <td>3</td>\n      <td>3</td>\n      <td>3</td>\n      <td>0.762621</td>\n    </tr>\n    <tr>\n      <th>667</th>\n      <td>Wait, don't go!</td>\n      <td>待って…どうするつもり！</td>\n      <td>等等…别走！</td>\n      <td>7</td>\n      <td>6</td>\n      <td>6</td>\n      <td>0.745137</td>\n    </tr>\n    <tr>\n      <th>668</th>\n      <td>Give my brother back!</td>\n      <td>よくも私のお兄ちゃんを——</td>\n      <td>把我的哥哥——</td>\n      <td>5</td>\n      <td>9</td>\n      <td>5</td>\n      <td>0.695126</td>\n    </tr>\n  </tbody>\n</table>\n<p>359 rows × 7 columns</p>\n</div>"
     },
     "execution_count": 9,
     "metadata": {},
     "output_type": "execute_result"
    }
   ],
   "source": [
    "# remove lines that LaBSE score is less than 0.6 or more than 0.99\n",
    "import numpy as np\n",
    "from sentence_transformers import SentenceTransformer\n",
    "\n",
    "model = SentenceTransformer('sentence-transformers/LaBSE').cuda()\n",
    "\n",
    "_batch, _scores = [], []\n",
    "_bs = 64\n",
    "for i, row in tqdm(enumerate(df.itertuples()), total=df.shape[0]):\n",
    "    inputs = [row.en, row.ja, row.zh]\n",
    "    _batch.extend(inputs)\n",
    "    if (i + 1) % _bs == 0 or i == df.shape[0] - 1:\n",
    "        embeddings = model.encode(_batch)\n",
    "        # calculate score between each pair\n",
    "        for j in range(embeddings.shape[0] // 3):\n",
    "            _scores.append(np.average([\n",
    "                np.matmul(embeddings[j * 3], embeddings[j * 3 + 1].T),\n",
    "                np.matmul(embeddings[j * 3], embeddings[j * 3 + 2].T),\n",
    "                np.matmul(embeddings[j * 3 + 1], embeddings[j * 3 + 2].T)\n",
    "            ]))\n",
    "        _batch = []\n",
    "df = df.assign(score=_scores)\n",
    "df"
   ],
   "metadata": {
    "collapsed": false,
    "ExecuteTime": {
     "end_time": "2023-07-02T13:11:42.890223286Z",
     "start_time": "2023-07-02T13:11:33.801653570Z"
    }
   }
  },
  {
   "cell_type": "code",
   "execution_count": 10,
   "outputs": [
    {
     "data": {
      "text/plain": "<Figure size 640x480 with 1 Axes>",
      "image/png": "[encoded data removed]"
     },
     "metadata": {},
     "output_type": "display_data"
    }
   ],
   "source": [
    "# statistics score using matplotlib\n",
    "import matplotlib.pyplot as plt\n",
    "plt.hist(df['score'], bins=100)\n",
    "plt.show()"
   ],
   "metadata": {
    "collapsed": false,
    "ExecuteTime": {
     "end_time": "2023-07-02T13:11:43.614243655Z",
     "start_time": "2023-07-02T13:11:42.892818226Z"
    }
   }
  },
  {
   "cell_type": "code",
   "execution_count": 11,
   "outputs": [
    {
     "data": {
      "text/plain": "                                                    en  \\\n0    Once, there was a glorious kingdom established...   \n1    From that kingdom came a crowned heir, tasked ...   \n2    The first crowned heir began her journey of se...   \n3    But she was deceived, and the memory of her no...   \n4    She now believed that she was the queen of the...   \n..                                                 ...   \n640                                            Alright   \n643  After putting down his hagoita, Kamai remained...   \n666                                            Aether!   \n667                                    Wait, don't go!   \n668                              Give my brother back!   \n\n                                      ja                       zh  en_len  \\\n0                      かつて 天空には栄光の王国があった           曾经，天上有一个荣光的王国。      19   \n1    国王は 王位継承者第一位に暗黒の国へと行き 創世の真珠を探すよう命じた  那国王派遣第一位王储去黑暗之国寻找创世的珍珠。      29   \n2                     こうして かの者は真珠を探す旅に出た       于是第一位王储走上了珍珠的追寻之路。      19   \n3                しかし彼女は騙され 自身の高貴さを忘れてしまう         但她却被欺骗，忘记了自己的高贵，      17   \n4             そして 自らを暗黒の国の王女だと思い込むようになった             以为自己是黑暗之国的王。      16   \n..                                   ...                      ...     ...   \n640                                それもよい                       也好       2   \n643                  鎌井様は羽子板を置いてしばらく黙り込み          放下羽子板后，镰井先生沉默许久      20   \n666                                   空！                       空！       3   \n667                         待って…どうするつもり！                   等等…别走！       7   \n668                        よくも私のお兄ちゃんを——                  把我的哥哥——       5   \n\n     ja_len  zh_len     score  \n0         9      11  0.791986  \n1        27      21  0.650342  \n2        11      15  0.639133  \n3        10      15  0.726780  \n4        14      10  0.634188  \n..      ...     ...       ...  \n640       3       3  0.747554  \n643      11      15  0.704898  \n666       3       3  0.762621  \n667       6       6  0.745137  \n668       9       5  0.695126  \n\n[168 rows x 7 columns]",
      "text/html": "<div>\n<style scoped>\n    .dataframe tbody tr th:only-of-type {\n        vertical-align: middle;\n    }\n\n    .dataframe tbody tr th {\n        vertical-align: top;\n    }\n\n    .dataframe thead th {\n        text-align: right;\n    }\n</style>\n<table border=\"1\" class=\"dataframe\">\n  <thead>\n    <tr style=\"text-align: right;\">\n      <th></th>\n      <th>en</th>\n      <th>ja</th>\n      <th>zh</th>\n      <th>en_len</th>\n      <th>ja_len</th>\n      <th>zh_len</th>\n      <th>score</th>\n    </tr>\n  </thead>\n  <tbody>\n    <tr>\n      <th>0</th>\n      <td>Once, there was a glorious kingdom established...</td>\n      <td>かつて 天空には栄光の王国があった</td>\n      <td>曾经，天上有一个荣光的王国。</td>\n      <td>19</td>\n      <td>9</td>\n      <td>11</td>\n      <td>0.791986</td>\n    </tr>\n    <tr>\n      <th>1</th>\n      <td>From that kingdom came a crowned heir, tasked ...</td>\n      <td>国王は 王位継承者第一位に暗黒の国へと行き 創世の真珠を探すよう命じた</td>\n      <td>那国王派遣第一位王储去黑暗之国寻找创世的珍珠。</td>\n      <td>29</td>\n      <td>27</td>\n      <td>21</td>\n      <td>0.650342</td>\n    </tr>\n    <tr>\n      <th>2</th>\n      <td>The first crowned heir began her journey of se...</td>\n      <td>こうして かの者は真珠を探す旅に出た</td>\n      <td>于是第一位王储走上了珍珠的追寻之路。</td>\n      <td>19</td>\n      <td>11</td>\n      <td>15</td>\n      <td>0.639133</td>\n    </tr>\n    <tr>\n      <th>3</th>\n      <td>But she was deceived, and the memory of her no...</td>\n      <td>しかし彼女は騙され 自身の高貴さを忘れてしまう</td>\n      <td>但她却被欺骗，忘记了自己的高贵，</td>\n      <td>17</td>\n      <td>10</td>\n      <td>15</td>\n      <td>0.726780</td>\n    </tr>\n    <tr>\n      <th>4</th>\n      <td>She now believed that she was the queen of the...</td>\n      <td>そして 自らを暗黒の国の王女だと思い込むようになった</td>\n      <td>以为自己是黑暗之国的王。</td>\n      <td>16</td>\n      <td>14</td>\n      <td>10</td>\n      <td>0.634188</td>\n    </tr>\n    <tr>\n      <th>...</th>\n      <td>...</td>\n      <td>...</td>\n      <td>...</td>\n      <td>...</td>\n      <td>...</td>\n      <td>...</td>\n      <td>...</td>\n    </tr>\n    <tr>\n      <th>640</th>\n      <td>Alright</td>\n      <td>それもよい</td>\n      <td>也好</td>\n      <td>2</td>\n      <td>3</td>\n      <td>3</td>\n      <td>0.747554</td>\n    </tr>\n    <tr>\n      <th>643</th>\n      <td>After putting down his hagoita, Kamai remained...</td>\n      <td>鎌井様は羽子板を置いてしばらく黙り込み</td>\n      <td>放下羽子板后，镰井先生沉默许久</td>\n      <td>20</td>\n      <td>11</td>\n      <td>15</td>\n      <td>0.704898</td>\n    </tr>\n    <tr>\n      <th>666</th>\n      <td>Aether!</td>\n      <td>空！</td>\n      <td>空！</td>\n      <td>3</td>\n      <td>3</td>\n      <td>3</td>\n      <td>0.762621</td>\n    </tr>\n    <tr>\n      <th>667</th>\n      <td>Wait, don't go!</td>\n      <td>待って…どうするつもり！</td>\n      <td>等等…别走！</td>\n      <td>7</td>\n      <td>6</td>\n      <td>6</td>\n      <td>0.745137</td>\n    </tr>\n    <tr>\n      <th>668</th>\n      <td>Give my brother back!</td>\n      <td>よくも私のお兄ちゃんを——</td>\n      <td>把我的哥哥——</td>\n      <td>5</td>\n      <td>9</td>\n      <td>5</td>\n      <td>0.695126</td>\n    </tr>\n  </tbody>\n</table>\n<p>168 rows × 7 columns</p>\n</div>"
     },
     "execution_count": 11,
     "metadata": {},
     "output_type": "execute_result"
    }
   ],
   "source": [
    "# remove lines that LaBSE score is less than 0.6 or more than 0.99\n",
    "df = df[df['score'] >= 0.6]\n",
    "df = df[df['score'] <= 0.99]\n",
    "df"
   ],
   "metadata": {
    "collapsed": false,
    "ExecuteTime": {
     "end_time": "2023-07-02T13:11:43.682959784Z",
     "start_time": "2023-07-02T13:11:43.628807951Z"
    }
   }
  },
  {
   "cell_type": "code",
   "execution_count": 12,
   "outputs": [
    {
     "data": {
      "text/plain": "                                                    en  \\\n0    Once, there was a glorious kingdom established...   \n1    From that kingdom came a crowned heir, tasked ...   \n2    The first crowned heir began her journey of se...   \n3    But she was deceived, and the memory of her no...   \n4    She now believed that she was the queen of the...   \n..                                                 ...   \n640                                            Alright   \n643  After putting down his hagoita, Kamai remained...   \n666                                            Aether!   \n667                                    Wait, don't go!   \n668                              Give my brother back!   \n\n                                      ja                       zh  en_len  \\\n0                      かつて 天空には栄光の王国があった           曾经，天上有一个荣光的王国。      19   \n1    国王は 王位継承者第一位に暗黒の国へと行き 創世の真珠を探すよう命じた  那国王派遣第一位王储去黑暗之国寻找创世的珍珠。      29   \n2                     こうして かの者は真珠を探す旅に出た       于是第一位王储走上了珍珠的追寻之路。      19   \n3                しかし彼女は騙され 自身の高貴さを忘れてしまう         但她却被欺骗，忘记了自己的高贵，      17   \n4             そして 自らを暗黒の国の王女だと思い込むようになった             以为自己是黑暗之国的王。      16   \n..                                   ...                      ...     ...   \n640                                それもよい                       也好       2   \n643                  鎌井様は羽子板を置いてしばらく黙り込み          放下羽子板后，镰井先生沉默许久      20   \n666                                   空！                       空！       3   \n667                         待って…どうするつもり！                   等等…别走！       7   \n668                        よくも私のお兄ちゃんを——                  把我的哥哥——       5   \n\n     ja_len  zh_len     score  \n0         9      11  0.791986  \n1        27      21  0.650342  \n2        11      15  0.639133  \n3        10      15  0.726780  \n4        14      10  0.634188  \n..      ...     ...       ...  \n640       3       3  0.747554  \n643      11      15  0.704898  \n666       3       3  0.762621  \n667       6       6  0.745137  \n668       9       5  0.695126  \n\n[168 rows x 7 columns]",
      "text/html": "<div>\n<style scoped>\n    .dataframe tbody tr th:only-of-type {\n        vertical-align: middle;\n    }\n\n    .dataframe tbody tr th {\n        vertical-align: top;\n    }\n\n    .dataframe thead th {\n        text-align: right;\n    }\n</style>\n<table border=\"1\" class=\"dataframe\">\n  <thead>\n    <tr style=\"text-align: right;\">\n      <th></th>\n      <th>en</th>\n      <th>ja</th>\n      <th>zh</th>\n      <th>en_len</th>\n      <th>ja_len</th>\n      <th>zh_len</th>\n      <th>score</th>\n    </tr>\n  </thead>\n  <tbody>\n    <tr>\n      <th>0</th>\n      <td>Once, there was a glorious kingdom established...</td>\n      <td>かつて 天空には栄光の王国があった</td>\n      <td>曾经，天上有一个荣光的王国。</td>\n      <td>19</td>\n      <td>9</td>\n      <td>11</td>\n      <td>0.791986</td>\n    </tr>\n    <tr>\n      <th>1</th>\n      <td>From that kingdom came a crowned heir, tasked ...</td>\n      <td>国王は 王位継承者第一位に暗黒の国へと行き 創世の真珠を探すよう命じた</td>\n      <td>那国王派遣第一位王储去黑暗之国寻找创世的珍珠。</td>\n      <td>29</td>\n      <td>27</td>\n      <td>21</td>\n      <td>0.650342</td>\n    </tr>\n    <tr>\n      <th>2</th>\n      <td>The first crowned heir began her journey of se...</td>\n      <td>こうして かの者は真珠を探す旅に出た</td>\n      <td>于是第一位王储走上了珍珠的追寻之路。</td>\n      <td>19</td>\n      <td>11</td>\n      <td>15</td>\n      <td>0.639133</td>\n    </tr>\n    <tr>\n      <th>3</th>\n      <td>But she was deceived, and the memory of her no...</td>\n      <td>しかし彼女は騙され 自身の高貴さを忘れてしまう</td>\n      <td>但她却被欺骗，忘记了自己的高贵，</td>\n      <td>17</td>\n      <td>10</td>\n      <td>15</td>\n      <td>0.726780</td>\n    </tr>\n    <tr>\n      <th>4</th>\n      <td>She now believed that she was the queen of the...</td>\n      <td>そして 自らを暗黒の国の王女だと思い込むようになった</td>\n      <td>以为自己是黑暗之国的王。</td>\n      <td>16</td>\n      <td>14</td>\n      <td>10</td>\n      <td>0.634188</td>\n    </tr>\n    <tr>\n      <th>...</th>\n      <td>...</td>\n      <td>...</td>\n      <td>...</td>\n      <td>...</td>\n      <td>...</td>\n      <td>...</td>\n      <td>...</td>\n    </tr>\n    <tr>\n      <th>640</th>\n      <td>Alright</td>\n      <td>それもよい</td>\n      <td>也好</td>\n      <td>2</td>\n      <td>3</td>\n      <td>3</td>\n      <td>0.747554</td>\n    </tr>\n    <tr>\n      <th>643</th>\n      <td>After putting down his hagoita, Kamai remained...</td>\n      <td>鎌井様は羽子板を置いてしばらく黙り込み</td>\n      <td>放下羽子板后，镰井先生沉默许久</td>\n      <td>20</td>\n      <td>11</td>\n      <td>15</td>\n      <td>0.704898</td>\n    </tr>\n    <tr>\n      <th>666</th>\n      <td>Aether!</td>\n      <td>空！</td>\n      <td>空！</td>\n      <td>3</td>\n      <td>3</td>\n      <td>3</td>\n      <td>0.762621</td>\n    </tr>\n    <tr>\n      <th>667</th>\n      <td>Wait, don't go!</td>\n      <td>待って…どうするつもり！</td>\n      <td>等等…别走！</td>\n      <td>7</td>\n      <td>6</td>\n      <td>6</td>\n      <td>0.745137</td>\n    </tr>\n    <tr>\n      <th>668</th>\n      <td>Give my brother back!</td>\n      <td>よくも私のお兄ちゃんを——</td>\n      <td>把我的哥哥——</td>\n      <td>5</td>\n      <td>9</td>\n      <td>5</td>\n      <td>0.695126</td>\n    </tr>\n  </tbody>\n</table>\n<p>168 rows × 7 columns</p>\n</div>"
     },
     "execution_count": 12,
     "metadata": {},
     "output_type": "execute_result"
    }
   ],
   "source": [
    "# replace「」to “”, 『』to ‘’ in zh\n",
    "df['zh'] = df['zh'].apply(lambda x: x.replace('「', '“'))\n",
    "df['zh'] = df['zh'].apply(lambda x: x.replace('」', '”'))\n",
    "df['zh'] = df['zh'].apply(lambda x: x.replace('『', '‘'))\n",
    "df['zh'] = df['zh'].apply(lambda x: x.replace('』', '’'))\n",
    "df"
   ],
   "metadata": {
    "collapsed": false,
    "ExecuteTime": {
     "end_time": "2023-07-02T13:11:43.683312892Z",
     "start_time": "2023-07-02T13:11:43.672059560Z"
    }
   }
  },
  {
   "cell_type": "code",
   "execution_count": 13,
   "outputs": [],
   "source": [
    "# drop len and score column\n",
    "df = df.drop(columns=['en_len', 'ja_len', 'zh_len', 'score'])\n",
    "# save to parquet\n",
    "df.to_parquet('parquet/GenshinSubtitle.parquet', index=False)"
   ],
   "metadata": {
    "collapsed": false,
    "ExecuteTime": {
     "end_time": "2023-07-02T13:11:43.762163479Z",
     "start_time": "2023-07-02T13:11:43.672516060Z"
    }
   }
  },
  {
   "cell_type": "code",
   "execution_count": 14,
   "outputs": [
    {
     "data": {
      "text/plain": "                                                    en  \\\n0    Once, there was a glorious kingdom established...   \n1    From that kingdom came a crowned heir, tasked ...   \n2    The first crowned heir began her journey of se...   \n3    But she was deceived, and the memory of her no...   \n4    She now believed that she was the queen of the...   \n..                                                 ...   \n163                                            Alright   \n164  After putting down his hagoita, Kamai remained...   \n165                                            Aether!   \n166                                    Wait, don't go!   \n167                              Give my brother back!   \n\n                                      ja                       zh  \n0                      かつて 天空には栄光の王国があった           曾经，天上有一个荣光的王国。  \n1    国王は 王位継承者第一位に暗黒の国へと行き 創世の真珠を探すよう命じた  那国王派遣第一位王储去黑暗之国寻找创世的珍珠。  \n2                     こうして かの者は真珠を探す旅に出た       于是第一位王储走上了珍珠的追寻之路。  \n3                しかし彼女は騙され 自身の高貴さを忘れてしまう         但她却被欺骗，忘记了自己的高贵，  \n4             そして 自らを暗黒の国の王女だと思い込むようになった             以为自己是黑暗之国的王。  \n..                                   ...                      ...  \n163                                それもよい                       也好  \n164                  鎌井様は羽子板を置いてしばらく黙り込み          放下羽子板后，镰井先生沉默许久  \n165                                   空！                       空！  \n166                         待って…どうするつもり！                   等等…别走！  \n167                        よくも私のお兄ちゃんを——                  把我的哥哥——  \n\n[168 rows x 3 columns]",
      "text/html": "<div>\n<style scoped>\n    .dataframe tbody tr th:only-of-type {\n        vertical-align: middle;\n    }\n\n    .dataframe tbody tr th {\n        vertical-align: top;\n    }\n\n    .dataframe thead th {\n        text-align: right;\n    }\n</style>\n<table border=\"1\" class=\"dataframe\">\n  <thead>\n    <tr style=\"text-align: right;\">\n      <th></th>\n      <th>en</th>\n      <th>ja</th>\n      <th>zh</th>\n    </tr>\n  </thead>\n  <tbody>\n    <tr>\n      <th>0</th>\n      <td>Once, there was a glorious kingdom established...</td>\n      <td>かつて 天空には栄光の王国があった</td>\n      <td>曾经，天上有一个荣光的王国。</td>\n    </tr>\n    <tr>\n      <th>1</th>\n      <td>From that kingdom came a crowned heir, tasked ...</td>\n      <td>国王は 王位継承者第一位に暗黒の国へと行き 創世の真珠を探すよう命じた</td>\n      <td>那国王派遣第一位王储去黑暗之国寻找创世的珍珠。</td>\n    </tr>\n    <tr>\n      <th>2</th>\n      <td>The first crowned heir began her journey of se...</td>\n      <td>こうして かの者は真珠を探す旅に出た</td>\n      <td>于是第一位王储走上了珍珠的追寻之路。</td>\n    </tr>\n    <tr>\n      <th>3</th>\n      <td>But she was deceived, and the memory of her no...</td>\n      <td>しかし彼女は騙され 自身の高貴さを忘れてしまう</td>\n      <td>但她却被欺骗，忘记了自己的高贵，</td>\n    </tr>\n    <tr>\n      <th>4</th>\n      <td>She now believed that she was the queen of the...</td>\n      <td>そして 自らを暗黒の国の王女だと思い込むようになった</td>\n      <td>以为自己是黑暗之国的王。</td>\n    </tr>\n    <tr>\n      <th>...</th>\n      <td>...</td>\n      <td>...</td>\n      <td>...</td>\n    </tr>\n    <tr>\n      <th>163</th>\n      <td>Alright</td>\n      <td>それもよい</td>\n      <td>也好</td>\n    </tr>\n    <tr>\n      <th>164</th>\n      <td>After putting down his hagoita, Kamai remained...</td>\n      <td>鎌井様は羽子板を置いてしばらく黙り込み</td>\n      <td>放下羽子板后，镰井先生沉默许久</td>\n    </tr>\n    <tr>\n      <th>165</th>\n      <td>Aether!</td>\n      <td>空！</td>\n      <td>空！</td>\n    </tr>\n    <tr>\n      <th>166</th>\n      <td>Wait, don't go!</td>\n      <td>待って…どうするつもり！</td>\n      <td>等等…别走！</td>\n    </tr>\n    <tr>\n      <th>167</th>\n      <td>Give my brother back!</td>\n      <td>よくも私のお兄ちゃんを——</td>\n      <td>把我的哥哥——</td>\n    </tr>\n  </tbody>\n</table>\n<p>168 rows × 3 columns</p>\n</div>"
     },
     "execution_count": 14,
     "metadata": {},
     "output_type": "execute_result"
    }
   ],
   "source": [
    "# load parquet\n",
    "df = pd.read_parquet('parquet/GenshinSubtitle.parquet')\n",
    "df"
   ],
   "metadata": {
    "collapsed": false,
    "ExecuteTime": {
     "end_time": "2023-07-02T13:11:43.770996587Z",
     "start_time": "2023-07-02T13:11:43.715089044Z"
    }
   }
  }
 ],
 "metadata": {
  "kernelspec": {
   "display_name": "Python 3",
   "language": "python",
   "name": "python3"
  },
  "language_info": {
   "codemirror_mode": {
    "name": "ipython",
    "version": 2
   },
   "file_extension": ".py",
   "mimetype": "text/x-python",
   "name": "python",
   "nbconvert_exporter": "python",
   "pygments_lexer": "ipython2",
   "version": "2.7.6"
  }
 },
 "nbformat": 4,
 "nbformat_minor": 0
}
