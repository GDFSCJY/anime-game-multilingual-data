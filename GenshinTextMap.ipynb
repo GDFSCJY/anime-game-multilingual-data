{
 "cells": [
  {
   "cell_type": "code",
   "execution_count": 1,
   "metadata": {
    "collapsed": true,
    "ExecuteTime": {
     "end_time": "2023-07-02T13:12:45.465837684Z",
     "start_time": "2023-07-02T13:12:45.168559301Z"
    }
   },
   "outputs": [],
   "source": [
    "from glob import glob\n",
    "import json\n",
    "import os\n",
    "import pandas as pd\n",
    "from tqdm import tqdm_notebook as tqdm\n",
    "import re\n"
   ]
  },
  {
   "cell_type": "code",
   "execution_count": 2,
   "outputs": [
    {
     "data": {
      "text/plain": "             index                                                 en  \\\n0       1016061400                                       Googol Chair   \n1       1030047192  A masquerade mask worn by the old aristocrats ...   \n2       1032808920                                Sweet-Flower Medaka   \n3       1035217368                               Unlock Hangout Event   \n4       1046135256                                             Paimon   \n...            ...                                                ...   \n370698  4054733106                                                NaN   \n370699   909274418                                                NaN   \n370700  1694647939                                                NaN   \n370701   834192003                                                NaN   \n370702  3859925209                                                NaN   \n\n                                                    ja  \\\n0                                              グーゴル·イス   \n1       モンドの旧貴族が舞踏会に使用していた仮面、空洞となった目の縁は今でも昔の光景を見つめている。   \n2                                             スイートグッピー   \n3                                            デートイベント開放   \n4                                                 パイモン   \n...                                                ...   \n370698                                             NaN   \n370699                                             NaN   \n370700                                             NaN   \n370701                                             NaN   \n370702                                             NaN   \n\n                                                 zh  \n0                                             古高尔椅子  \n1                 曾经属于旧日蒙德贵族的舞会面具，那空洞的眼眶依旧凝望着昔日的盛景。  \n2                                              甜甜花鳉  \n3                                            解锁邀约事件  \n4                                                派蒙  \n...                                             ...  \n370698                          （test）准备好了，那现在就过去吧。  \n370699  我家周围这些蔬果什么的，临走就摘些吧。反正我年纪大了，也吃不完。$UNRELEASED  \n370700                                 (test)  起点UI  \n370701                                   (test)观察木板  \n370702                          清理元素紊乱点4$UNRELEASED  \n\n[370703 rows x 4 columns]",
      "text/html": "<div>\n<style scoped>\n    .dataframe tbody tr th:only-of-type {\n        vertical-align: middle;\n    }\n\n    .dataframe tbody tr th {\n        vertical-align: top;\n    }\n\n    .dataframe thead th {\n        text-align: right;\n    }\n</style>\n<table border=\"1\" class=\"dataframe\">\n  <thead>\n    <tr style=\"text-align: right;\">\n      <th></th>\n      <th>index</th>\n      <th>en</th>\n      <th>ja</th>\n      <th>zh</th>\n    </tr>\n  </thead>\n  <tbody>\n    <tr>\n      <th>0</th>\n      <td>1016061400</td>\n      <td>Googol Chair</td>\n      <td>グーゴル·イス</td>\n      <td>古高尔椅子</td>\n    </tr>\n    <tr>\n      <th>1</th>\n      <td>1030047192</td>\n      <td>A masquerade mask worn by the old aristocrats ...</td>\n      <td>モンドの旧貴族が舞踏会に使用していた仮面、空洞となった目の縁は今でも昔の光景を見つめている。</td>\n      <td>曾经属于旧日蒙德贵族的舞会面具，那空洞的眼眶依旧凝望着昔日的盛景。</td>\n    </tr>\n    <tr>\n      <th>2</th>\n      <td>1032808920</td>\n      <td>Sweet-Flower Medaka</td>\n      <td>スイートグッピー</td>\n      <td>甜甜花鳉</td>\n    </tr>\n    <tr>\n      <th>3</th>\n      <td>1035217368</td>\n      <td>Unlock Hangout Event</td>\n      <td>デートイベント開放</td>\n      <td>解锁邀约事件</td>\n    </tr>\n    <tr>\n      <th>4</th>\n      <td>1046135256</td>\n      <td>Paimon</td>\n      <td>パイモン</td>\n      <td>派蒙</td>\n    </tr>\n    <tr>\n      <th>...</th>\n      <td>...</td>\n      <td>...</td>\n      <td>...</td>\n      <td>...</td>\n    </tr>\n    <tr>\n      <th>370698</th>\n      <td>4054733106</td>\n      <td>NaN</td>\n      <td>NaN</td>\n      <td>（test）准备好了，那现在就过去吧。</td>\n    </tr>\n    <tr>\n      <th>370699</th>\n      <td>909274418</td>\n      <td>NaN</td>\n      <td>NaN</td>\n      <td>我家周围这些蔬果什么的，临走就摘些吧。反正我年纪大了，也吃不完。$UNRELEASED</td>\n    </tr>\n    <tr>\n      <th>370700</th>\n      <td>1694647939</td>\n      <td>NaN</td>\n      <td>NaN</td>\n      <td>(test)  起点UI</td>\n    </tr>\n    <tr>\n      <th>370701</th>\n      <td>834192003</td>\n      <td>NaN</td>\n      <td>NaN</td>\n      <td>(test)观察木板</td>\n    </tr>\n    <tr>\n      <th>370702</th>\n      <td>3859925209</td>\n      <td>NaN</td>\n      <td>NaN</td>\n      <td>清理元素紊乱点4$UNRELEASED</td>\n    </tr>\n  </tbody>\n</table>\n<p>370703 rows × 4 columns</p>\n</div>"
     },
     "execution_count": 2,
     "metadata": {},
     "output_type": "execute_result"
    }
   ],
   "source": [
    "# load all en ja zh json file paths\n",
    "en_text_map_path = 'GAMEDATA/GenshinData/TextMap/TextMapEN.json'\n",
    "ja_text_map_path = 'GAMEDATA/GenshinData/TextMap/TextMapJP.json'\n",
    "zh_text_map_path = 'GAMEDATA/GenshinData/TextMap/TextMapCHS.json'\n",
    "\n",
    "# read json file and append to df\n",
    "# json format: {index: text}\n",
    "with open(en_text_map_path, 'r', encoding='utf-8') as f:\n",
    "    en_text_map = pd.DataFrame(json.load(f).items(), columns=['index', 'en'])\n",
    "with open(ja_text_map_path, 'r', encoding='utf-8') as f:\n",
    "    ja_text_map = pd.DataFrame(json.load(f).items(), columns=['index', 'ja'])\n",
    "with open(zh_text_map_path, 'r', encoding='utf-8') as f:\n",
    "    zh_text_map = pd.DataFrame(json.load(f).items(), columns=['index', 'zh'])\n",
    "\n",
    "# merge all df\n",
    "df = pd.merge(en_text_map, ja_text_map, on='index', how='outer')\n",
    "df = pd.merge(df, zh_text_map, on='index', how='outer')\n",
    "df"
   ],
   "metadata": {
    "collapsed": false,
    "ExecuteTime": {
     "end_time": "2023-07-02T13:12:48.046994284Z",
     "start_time": "2023-07-02T13:12:45.471875836Z"
    }
   }
  },
  {
   "cell_type": "code",
   "execution_count": 3,
   "outputs": [
    {
     "data": {
      "text/plain": "                                                       en  \\\n0                                            Googol Chair   \n1       A masquerade mask worn by the old aristocrats ...   \n2                                     Sweet-Flower Medaka   \n3                                    Unlock Hangout Event   \n4                                                  Paimon   \n...                                                   ...   \n358969  This was once used in adepti arts to lower the...   \n358972  Inspiration Collection Progress for \"Parting\":...   \n358973         What could he be up to? Let's investigate!   \n358976  The Ministry of Civil Affairs has specifically...   \n358985  Now, in addition to that thank-you message, th...   \n\n                                                       ja  \\\n0                                                 グーゴル·イス   \n1          モンドの旧貴族が舞踏会に使用していた仮面、空洞となった目の縁は今でも昔の光景を見つめている。   \n2                                                スイートグッピー   \n3                                               デートイベント開放   \n4                                                    パイモン   \n...                                                   ...   \n358969             仙人儀式で周りの温度を下げるために置いていたが、まだここに残されていたとは…   \n358972                                「別離」アイデア素材の収集進捗：{0}   \n358973                アイツが一体なにしてたか気になるな。この辺りに手がかりがないか探そう。   \n358976  璃月総務司から層岩巨淵に派遣された特別な行政人員。\\n主な仕事は、層岩巨淵が封鎖している間の...   \n358985                                        そうだ、お礼の他にも…   \n\n                                                       zh  \n0                                                   古高尔椅子  \n1                       曾经属于旧日蒙德贵族的舞会面具，那空洞的眼眶依旧凝望着昔日的盛景。  \n2                                                    甜甜花鳉  \n3                                                  解锁邀约事件  \n4                                                      派蒙  \n...                                                   ...  \n358969                     当初在仙家仪式中用于降低周围环境的温度，居然现在还没被摘走…  \n358972                                   「别离」灵感素材收集进度：{0}  \n358973                         那个人究竟在做什么？我们在周围调查一下，找找线索吧。  \n358976  璃月总务司派驻层岩巨渊的特别行政人员。\\n主要负责维护层岩巨渊在封锁中的秩序，保障驻留人员的...  \n358985                                      对了，除了道谢以外，还有…  \n\n[245927 rows x 3 columns]",
      "text/html": "<div>\n<style scoped>\n    .dataframe tbody tr th:only-of-type {\n        vertical-align: middle;\n    }\n\n    .dataframe tbody tr th {\n        vertical-align: top;\n    }\n\n    .dataframe thead th {\n        text-align: right;\n    }\n</style>\n<table border=\"1\" class=\"dataframe\">\n  <thead>\n    <tr style=\"text-align: right;\">\n      <th></th>\n      <th>en</th>\n      <th>ja</th>\n      <th>zh</th>\n    </tr>\n  </thead>\n  <tbody>\n    <tr>\n      <th>0</th>\n      <td>Googol Chair</td>\n      <td>グーゴル·イス</td>\n      <td>古高尔椅子</td>\n    </tr>\n    <tr>\n      <th>1</th>\n      <td>A masquerade mask worn by the old aristocrats ...</td>\n      <td>モンドの旧貴族が舞踏会に使用していた仮面、空洞となった目の縁は今でも昔の光景を見つめている。</td>\n      <td>曾经属于旧日蒙德贵族的舞会面具，那空洞的眼眶依旧凝望着昔日的盛景。</td>\n    </tr>\n    <tr>\n      <th>2</th>\n      <td>Sweet-Flower Medaka</td>\n      <td>スイートグッピー</td>\n      <td>甜甜花鳉</td>\n    </tr>\n    <tr>\n      <th>3</th>\n      <td>Unlock Hangout Event</td>\n      <td>デートイベント開放</td>\n      <td>解锁邀约事件</td>\n    </tr>\n    <tr>\n      <th>4</th>\n      <td>Paimon</td>\n      <td>パイモン</td>\n      <td>派蒙</td>\n    </tr>\n    <tr>\n      <th>...</th>\n      <td>...</td>\n      <td>...</td>\n      <td>...</td>\n    </tr>\n    <tr>\n      <th>358969</th>\n      <td>This was once used in adepti arts to lower the...</td>\n      <td>仙人儀式で周りの温度を下げるために置いていたが、まだここに残されていたとは…</td>\n      <td>当初在仙家仪式中用于降低周围环境的温度，居然现在还没被摘走…</td>\n    </tr>\n    <tr>\n      <th>358972</th>\n      <td>Inspiration Collection Progress for \"Parting\":...</td>\n      <td>「別離」アイデア素材の収集進捗：{0}</td>\n      <td>「别离」灵感素材收集进度：{0}</td>\n    </tr>\n    <tr>\n      <th>358973</th>\n      <td>What could he be up to? Let's investigate!</td>\n      <td>アイツが一体なにしてたか気になるな。この辺りに手がかりがないか探そう。</td>\n      <td>那个人究竟在做什么？我们在周围调查一下，找找线索吧。</td>\n    </tr>\n    <tr>\n      <th>358976</th>\n      <td>The Ministry of Civil Affairs has specifically...</td>\n      <td>璃月総務司から層岩巨淵に派遣された特別な行政人員。\\n主な仕事は、層岩巨淵が封鎖している間の...</td>\n      <td>璃月总务司派驻层岩巨渊的特别行政人员。\\n主要负责维护层岩巨渊在封锁中的秩序，保障驻留人员的...</td>\n    </tr>\n    <tr>\n      <th>358985</th>\n      <td>Now, in addition to that thank-you message, th...</td>\n      <td>そうだ、お礼の他にも…</td>\n      <td>对了，除了道谢以外，还有…</td>\n    </tr>\n  </tbody>\n</table>\n<p>245927 rows × 3 columns</p>\n</div>"
     },
     "execution_count": 3,
     "metadata": {},
     "output_type": "execute_result"
    }
   ],
   "source": [
    "# drop duplicate\n",
    "df = df.drop_duplicates(subset=['en', 'ja', 'zh'], keep='first')\n",
    "# remove empty lines and nan\n",
    "df = df[df['en'] != '']\n",
    "df = df[df['ja'] != '']\n",
    "df = df[df['zh'] != '']\n",
    "df = df.dropna()\n",
    "# drop index column\n",
    "df = df.drop(columns=['index'])\n",
    "df"
   ],
   "metadata": {
    "collapsed": false,
    "ExecuteTime": {
     "end_time": "2023-07-02T13:12:49.019467340Z",
     "start_time": "2023-07-02T13:12:48.191074318Z"
    }
   }
  },
  {
   "cell_type": "code",
   "execution_count": 4,
   "outputs": [
    {
     "data": {
      "text/plain": "                                                       en  \\\n0                                            Googol Chair   \n1       A masquerade mask worn by the old aristocrats ...   \n2                                     Sweet-Flower Medaka   \n3                                    Unlock Hangout Event   \n4                                                  Paimon   \n...                                                   ...   \n358969  This was once used in adepti arts to lower the...   \n358972  Inspiration Collection Progress for \"Parting\":...   \n358973         What could he be up to? Let's investigate!   \n358976  The Ministry of Civil Affairs has specifically...   \n358985  Now, in addition to that thank-you message, th...   \n\n                                                       ja  \\\n0                                                 グーゴル·イス   \n1          モンドの旧貴族が舞踏会に使用していた仮面、空洞となった目の縁は今でも昔の光景を見つめている。   \n2                                                スイートグッピー   \n3                                               デートイベント開放   \n4                                                    パイモン   \n...                                                   ...   \n358969             仙人儀式で周りの温度を下げるために置いていたが、まだここに残されていたとは…   \n358972                                「別離」アイデア素材の収集進捗：{0}   \n358973                アイツが一体なにしてたか気になるな。この辺りに手がかりがないか探そう。   \n358976  璃月総務司から層岩巨淵に派遣された特別な行政人員。\\n主な仕事は、層岩巨淵が封鎖している間の...   \n358985                                        そうだ、お礼の他にも…   \n\n                                                       zh  \n0                                                   古高尔椅子  \n1                       曾经属于旧日蒙德贵族的舞会面具，那空洞的眼眶依旧凝望着昔日的盛景。  \n2                                                    甜甜花鳉  \n3                                                  解锁邀约事件  \n4                                                      派蒙  \n...                                                   ...  \n358969                     当初在仙家仪式中用于降低周围环境的温度，居然现在还没被摘走…  \n358972                                   「别离」灵感素材收集进度：{0}  \n358973                         那个人究竟在做什么？我们在周围调查一下，找找线索吧。  \n358976  璃月总务司派驻层岩巨渊的特别行政人员。\\n主要负责维护层岩巨渊在封锁中的秩序，保障驻留人员的...  \n358985                                      对了，除了道谢以外，还有…  \n\n[245927 rows x 3 columns]",
      "text/html": "<div>\n<style scoped>\n    .dataframe tbody tr th:only-of-type {\n        vertical-align: middle;\n    }\n\n    .dataframe tbody tr th {\n        vertical-align: top;\n    }\n\n    .dataframe thead th {\n        text-align: right;\n    }\n</style>\n<table border=\"1\" class=\"dataframe\">\n  <thead>\n    <tr style=\"text-align: right;\">\n      <th></th>\n      <th>en</th>\n      <th>ja</th>\n      <th>zh</th>\n    </tr>\n  </thead>\n  <tbody>\n    <tr>\n      <th>0</th>\n      <td>Googol Chair</td>\n      <td>グーゴル·イス</td>\n      <td>古高尔椅子</td>\n    </tr>\n    <tr>\n      <th>1</th>\n      <td>A masquerade mask worn by the old aristocrats ...</td>\n      <td>モンドの旧貴族が舞踏会に使用していた仮面、空洞となった目の縁は今でも昔の光景を見つめている。</td>\n      <td>曾经属于旧日蒙德贵族的舞会面具，那空洞的眼眶依旧凝望着昔日的盛景。</td>\n    </tr>\n    <tr>\n      <th>2</th>\n      <td>Sweet-Flower Medaka</td>\n      <td>スイートグッピー</td>\n      <td>甜甜花鳉</td>\n    </tr>\n    <tr>\n      <th>3</th>\n      <td>Unlock Hangout Event</td>\n      <td>デートイベント開放</td>\n      <td>解锁邀约事件</td>\n    </tr>\n    <tr>\n      <th>4</th>\n      <td>Paimon</td>\n      <td>パイモン</td>\n      <td>派蒙</td>\n    </tr>\n    <tr>\n      <th>...</th>\n      <td>...</td>\n      <td>...</td>\n      <td>...</td>\n    </tr>\n    <tr>\n      <th>358969</th>\n      <td>This was once used in adepti arts to lower the...</td>\n      <td>仙人儀式で周りの温度を下げるために置いていたが、まだここに残されていたとは…</td>\n      <td>当初在仙家仪式中用于降低周围环境的温度，居然现在还没被摘走…</td>\n    </tr>\n    <tr>\n      <th>358972</th>\n      <td>Inspiration Collection Progress for \"Parting\":...</td>\n      <td>「別離」アイデア素材の収集進捗：{0}</td>\n      <td>「别离」灵感素材收集进度：{0}</td>\n    </tr>\n    <tr>\n      <th>358973</th>\n      <td>What could he be up to? Let's investigate!</td>\n      <td>アイツが一体なにしてたか気になるな。この辺りに手がかりがないか探そう。</td>\n      <td>那个人究竟在做什么？我们在周围调查一下，找找线索吧。</td>\n    </tr>\n    <tr>\n      <th>358976</th>\n      <td>The Ministry of Civil Affairs has specifically...</td>\n      <td>璃月総務司から層岩巨淵に派遣された特別な行政人員。\\n主な仕事は、層岩巨淵が封鎖している間の...</td>\n      <td>璃月总务司派驻层岩巨渊的特别行政人员。\\n主要负责维护层岩巨渊在封锁中的秩序，保障驻留人员的...</td>\n    </tr>\n    <tr>\n      <th>358985</th>\n      <td>Now, in addition to that thank-you message, th...</td>\n      <td>そうだ、お礼の他にも…</td>\n      <td>对了，除了道谢以外，还有…</td>\n    </tr>\n  </tbody>\n</table>\n<p>245927 rows × 3 columns</p>\n</div>"
     },
     "execution_count": 4,
     "metadata": {},
     "output_type": "execute_result"
    }
   ],
   "source": [
    "# remove html tag\n",
    "df['en'] = df['en'].apply(lambda x: re.sub(r'<[^>]*?>', '', str(x)))\n",
    "df['ja'] = df['ja'].apply(lambda x: re.sub(r'<[^>]*?>', '', str(x)))\n",
    "df['zh'] = df['zh'].apply(lambda x: re.sub(r'<[^>]*?>', '', str(x)))\n",
    "df"
   ],
   "metadata": {
    "collapsed": false,
    "ExecuteTime": {
     "end_time": "2023-07-02T13:12:49.927896548Z",
     "start_time": "2023-07-02T13:12:49.277947997Z"
    }
   }
  },
  {
   "cell_type": "code",
   "execution_count": 5,
   "outputs": [
    {
     "name": "stderr",
     "output_type": "stream",
     "text": [
      "/tmp/ipykernel_5838/3780974281.py:5: TqdmDeprecationWarning: This function will be removed in tqdm==5.0.0\n",
      "Please use `tqdm.notebook.tqdm` instead of `tqdm.tqdm_notebook`\n",
      "  for i, row in tqdm(enumerate(df.itertuples()), total=df.shape[0]):\n"
     ]
    },
    {
     "data": {
      "text/plain": "  0%|          | 0/245927 [00:00<?, ?it/s]",
      "application/vnd.jupyter.widget-view+json": {
       "version_major": 2,
       "version_minor": 0,
       "model_id": "42c1ca820b7d4914bf92798f0c4f1a35"
      }
     },
     "metadata": {},
     "output_type": "display_data"
    },
    {
     "name": "stdout",
     "output_type": "stream",
     "text": [
      "drop 6861 rows\n"
     ]
    },
    {
     "data": {
      "text/plain": "                                                       en  \\\n0                                            Googol Chair   \n1       A masquerade mask worn by the old aristocrats ...   \n2                                     Sweet-Flower Medaka   \n3                                    Unlock Hangout Event   \n4                                                  Paimon   \n...                                                   ...   \n264012                        {0} {1} required. Continue?   \n264013             Corrosion Resistance increased to {0}.   \n264014  The Bokuso Box is now able to disperse the gre...   \n264015  The Ministry of Civil Affairs has specifically...   \n264016  Their main duties are to maintain the sealed s...   \n\n                                                    ja  \\\n0                                              グーゴル·イス   \n1       モンドの旧貴族が舞踏会に使用していた仮面、空洞となった目の縁は今でも昔の光景を見つめている。   \n2                                             スイートグッピー   \n3                                            デートイベント開放   \n4                                                 パイモン   \n...                                                ...   \n264012                           {1}を{0}個消費して、活性化しますか？   \n264013                                   侵食耐性が{0}にアップ。   \n264014                   睦疎の箱は最も強力な黒霧を消散することができるようになる。   \n264015                       璃月総務司から層岩巨淵に派遣された特別な行政人員。   \n264016          主な仕事は、層岩巨淵が封鎖している間の秩序維持と、駐在人員の物資確保である。   \n\n                                       zh  \n0                                   古高尔椅子  \n1       曾经属于旧日蒙德贵族的舞会面具，那空洞的眼眶依旧凝望着昔日的盛景。  \n2                                    甜甜花鳉  \n3                                  解锁邀约事件  \n4                                      派蒙  \n...                                   ...  \n264012               激活将消耗{0}个{1}，是否确认激活？  \n264013                       抗侵蚀强度提升至{0}。  \n264014                     睦疏之匣可驱散最强大的黑雾。  \n264015                璃月总务司派驻层岩巨渊的特别行政人员。  \n264016     主要负责维护层岩巨渊在封锁中的秩序，保障驻留人员的后勤补给。  \n\n[264016 rows x 3 columns]",
      "text/html": "<div>\n<style scoped>\n    .dataframe tbody tr th:only-of-type {\n        vertical-align: middle;\n    }\n\n    .dataframe tbody tr th {\n        vertical-align: top;\n    }\n\n    .dataframe thead th {\n        text-align: right;\n    }\n</style>\n<table border=\"1\" class=\"dataframe\">\n  <thead>\n    <tr style=\"text-align: right;\">\n      <th></th>\n      <th>en</th>\n      <th>ja</th>\n      <th>zh</th>\n    </tr>\n  </thead>\n  <tbody>\n    <tr>\n      <th>0</th>\n      <td>Googol Chair</td>\n      <td>グーゴル·イス</td>\n      <td>古高尔椅子</td>\n    </tr>\n    <tr>\n      <th>1</th>\n      <td>A masquerade mask worn by the old aristocrats ...</td>\n      <td>モンドの旧貴族が舞踏会に使用していた仮面、空洞となった目の縁は今でも昔の光景を見つめている。</td>\n      <td>曾经属于旧日蒙德贵族的舞会面具，那空洞的眼眶依旧凝望着昔日的盛景。</td>\n    </tr>\n    <tr>\n      <th>2</th>\n      <td>Sweet-Flower Medaka</td>\n      <td>スイートグッピー</td>\n      <td>甜甜花鳉</td>\n    </tr>\n    <tr>\n      <th>3</th>\n      <td>Unlock Hangout Event</td>\n      <td>デートイベント開放</td>\n      <td>解锁邀约事件</td>\n    </tr>\n    <tr>\n      <th>4</th>\n      <td>Paimon</td>\n      <td>パイモン</td>\n      <td>派蒙</td>\n    </tr>\n    <tr>\n      <th>...</th>\n      <td>...</td>\n      <td>...</td>\n      <td>...</td>\n    </tr>\n    <tr>\n      <th>264012</th>\n      <td>{0} {1} required. Continue?</td>\n      <td>{1}を{0}個消費して、活性化しますか？</td>\n      <td>激活将消耗{0}个{1}，是否确认激活？</td>\n    </tr>\n    <tr>\n      <th>264013</th>\n      <td>Corrosion Resistance increased to {0}.</td>\n      <td>侵食耐性が{0}にアップ。</td>\n      <td>抗侵蚀强度提升至{0}。</td>\n    </tr>\n    <tr>\n      <th>264014</th>\n      <td>The Bokuso Box is now able to disperse the gre...</td>\n      <td>睦疎の箱は最も強力な黒霧を消散することができるようになる。</td>\n      <td>睦疏之匣可驱散最强大的黑雾。</td>\n    </tr>\n    <tr>\n      <th>264015</th>\n      <td>The Ministry of Civil Affairs has specifically...</td>\n      <td>璃月総務司から層岩巨淵に派遣された特別な行政人員。</td>\n      <td>璃月总务司派驻层岩巨渊的特别行政人员。</td>\n    </tr>\n    <tr>\n      <th>264016</th>\n      <td>Their main duties are to maintain the sealed s...</td>\n      <td>主な仕事は、層岩巨淵が封鎖している間の秩序維持と、駐在人員の物資確保である。</td>\n      <td>主要负责维护层岩巨渊在封锁中的秩序，保障驻留人员的后勤补给。</td>\n    </tr>\n  </tbody>\n</table>\n<p>264016 rows × 3 columns</p>\n</div>"
     },
     "execution_count": 5,
     "metadata": {},
     "output_type": "execute_result"
    }
   ],
   "source": [
    "# split text by \\n\n",
    "# check if number \\n is the same for all languages\n",
    "# if not, just keep it not split\n",
    "drop_count = 0\n",
    "for i, row in tqdm(enumerate(df.itertuples()), total=df.shape[0]):\n",
    "    en, ja, zh = row.en, row.ja, row.zh\n",
    "    if not r'\\n' in en or not r'\\n' in ja or not r'\\n' in zh:\n",
    "        continue\n",
    "    en_split = en.split(r'\\n')\n",
    "    ja_split = ja.split(r'\\n')\n",
    "    zh_split = zh.split(r'\\n')\n",
    "    if len(en_split) == len(ja_split) == len(zh_split):\n",
    "        # append to df\n",
    "        df = pd.concat([df, pd.DataFrame({'en': en_split, 'ja': ja_split, 'zh': zh_split})], ignore_index=True)\n",
    "        # drop\n",
    "        df = df.drop(index=i)\n",
    "        drop_count += 1\n",
    "\n",
    "print(f'drop {drop_count} rows')\n",
    "df"
   ],
   "metadata": {
    "collapsed": false,
    "ExecuteTime": {
     "end_time": "2023-07-02T13:20:39.732688583Z",
     "start_time": "2023-07-02T13:12:49.929582560Z"
    }
   }
  },
  {
   "cell_type": "code",
   "execution_count": 6,
   "outputs": [
    {
     "data": {
      "text/plain": "                                                       en  \\\n0                                            Googol Chair   \n1       A masquerade mask worn by the old aristocrats ...   \n2                                     Sweet-Flower Medaka   \n3                                    Unlock Hangout Event   \n4                                                  Paimon   \n...                                                   ...   \n264012                        {0} {1} required. Continue?   \n264013             Corrosion Resistance increased to {0}.   \n264014  The Bokuso Box is now able to disperse the gre...   \n264015  The Ministry of Civil Affairs has specifically...   \n264016  Their main duties are to maintain the sealed s...   \n\n                                                    ja  \\\n0                                              グーゴル·イス   \n1       モンドの旧貴族が舞踏会に使用していた仮面、空洞となった目の縁は今でも昔の光景を見つめている。   \n2                                             スイートグッピー   \n3                                            デートイベント開放   \n4                                                 パイモン   \n...                                                ...   \n264012                           {1}を{0}個消費して、活性化しますか？   \n264013                                   侵食耐性が{0}にアップ。   \n264014                   睦疎の箱は最も強力な黒霧を消散することができるようになる。   \n264015                       璃月総務司から層岩巨淵に派遣された特別な行政人員。   \n264016          主な仕事は、層岩巨淵が封鎖している間の秩序維持と、駐在人員の物資確保である。   \n\n                                       zh  \n0                                   古高尔椅子  \n1       曾经属于旧日蒙德贵族的舞会面具，那空洞的眼眶依旧凝望着昔日的盛景。  \n2                                    甜甜花鳉  \n3                                  解锁邀约事件  \n4                                      派蒙  \n...                                   ...  \n264012               激活将消耗{0}个{1}，是否确认激活？  \n264013                       抗侵蚀强度提升至{0}。  \n264014                     睦疏之匣可驱散最强大的黑雾。  \n264015                璃月总务司派驻层岩巨渊的特别行政人员。  \n264016     主要负责维护层岩巨渊在封锁中的秩序，保障驻留人员的后勤补给。  \n\n[264016 rows x 3 columns]",
      "text/html": "<div>\n<style scoped>\n    .dataframe tbody tr th:only-of-type {\n        vertical-align: middle;\n    }\n\n    .dataframe tbody tr th {\n        vertical-align: top;\n    }\n\n    .dataframe thead th {\n        text-align: right;\n    }\n</style>\n<table border=\"1\" class=\"dataframe\">\n  <thead>\n    <tr style=\"text-align: right;\">\n      <th></th>\n      <th>en</th>\n      <th>ja</th>\n      <th>zh</th>\n    </tr>\n  </thead>\n  <tbody>\n    <tr>\n      <th>0</th>\n      <td>Googol Chair</td>\n      <td>グーゴル·イス</td>\n      <td>古高尔椅子</td>\n    </tr>\n    <tr>\n      <th>1</th>\n      <td>A masquerade mask worn by the old aristocrats ...</td>\n      <td>モンドの旧貴族が舞踏会に使用していた仮面、空洞となった目の縁は今でも昔の光景を見つめている。</td>\n      <td>曾经属于旧日蒙德贵族的舞会面具，那空洞的眼眶依旧凝望着昔日的盛景。</td>\n    </tr>\n    <tr>\n      <th>2</th>\n      <td>Sweet-Flower Medaka</td>\n      <td>スイートグッピー</td>\n      <td>甜甜花鳉</td>\n    </tr>\n    <tr>\n      <th>3</th>\n      <td>Unlock Hangout Event</td>\n      <td>デートイベント開放</td>\n      <td>解锁邀约事件</td>\n    </tr>\n    <tr>\n      <th>4</th>\n      <td>Paimon</td>\n      <td>パイモン</td>\n      <td>派蒙</td>\n    </tr>\n    <tr>\n      <th>...</th>\n      <td>...</td>\n      <td>...</td>\n      <td>...</td>\n    </tr>\n    <tr>\n      <th>264012</th>\n      <td>{0} {1} required. Continue?</td>\n      <td>{1}を{0}個消費して、活性化しますか？</td>\n      <td>激活将消耗{0}个{1}，是否确认激活？</td>\n    </tr>\n    <tr>\n      <th>264013</th>\n      <td>Corrosion Resistance increased to {0}.</td>\n      <td>侵食耐性が{0}にアップ。</td>\n      <td>抗侵蚀强度提升至{0}。</td>\n    </tr>\n    <tr>\n      <th>264014</th>\n      <td>The Bokuso Box is now able to disperse the gre...</td>\n      <td>睦疎の箱は最も強力な黒霧を消散することができるようになる。</td>\n      <td>睦疏之匣可驱散最强大的黑雾。</td>\n    </tr>\n    <tr>\n      <th>264015</th>\n      <td>The Ministry of Civil Affairs has specifically...</td>\n      <td>璃月総務司から層岩巨淵に派遣された特別な行政人員。</td>\n      <td>璃月总务司派驻层岩巨渊的特别行政人员。</td>\n    </tr>\n    <tr>\n      <th>264016</th>\n      <td>Their main duties are to maintain the sealed s...</td>\n      <td>主な仕事は、層岩巨淵が封鎖している間の秩序維持と、駐在人員の物資確保である。</td>\n      <td>主要负责维护层岩巨渊在封锁中的秩序，保障驻留人员的后勤补给。</td>\n    </tr>\n  </tbody>\n</table>\n<p>264016 rows × 3 columns</p>\n</div>"
     },
     "execution_count": 6,
     "metadata": {},
     "output_type": "execute_result"
    }
   ],
   "source": [
    "# remove \\n\n",
    "df['en'] = df['en'].apply(lambda x: re.sub(r'\\\\n', '', str(x)))\n",
    "df['ja'] = df['ja'].apply(lambda x: re.sub(r'\\\\n', '', str(x)))\n",
    "df['zh'] = df['zh'].apply(lambda x: re.sub(r'\\\\n', '', str(x)))\n",
    "df"
   ],
   "metadata": {
    "collapsed": false,
    "ExecuteTime": {
     "end_time": "2023-07-02T13:20:40.667829596Z",
     "start_time": "2023-07-02T13:20:39.701614450Z"
    }
   }
  },
  {
   "cell_type": "code",
   "execution_count": 7,
   "outputs": [
    {
     "data": {
      "text/plain": "                                                       en  \\\n0                                            Googol Chair   \n1       A masquerade mask worn by the old aristocrats ...   \n2                                     Sweet-Flower Medaka   \n3                                    Unlock Hangout Event   \n4                                                  Paimon   \n...                                                   ...   \n264012                        {0} {1} required. Continue?   \n264013             Corrosion Resistance increased to {0}.   \n264014  The Bokuso Box is now able to disperse the gre...   \n264015  The Ministry of Civil Affairs has specifically...   \n264016  Their main duties are to maintain the sealed s...   \n\n                                                    ja  \\\n0                                              グーゴル·イス   \n1       モンドの旧貴族が舞踏会に使用していた仮面、空洞となった目の縁は今でも昔の光景を見つめている。   \n2                                             スイートグッピー   \n3                                            デートイベント開放   \n4                                                 パイモン   \n...                                                ...   \n264012                           {1}を{0}個消費して、活性化しますか？   \n264013                                   侵食耐性が{0}にアップ。   \n264014                   睦疎の箱は最も強力な黒霧を消散することができるようになる。   \n264015                       璃月総務司から層岩巨淵に派遣された特別な行政人員。   \n264016          主な仕事は、層岩巨淵が封鎖している間の秩序維持と、駐在人員の物資確保である。   \n\n                                       zh  \n0                                   古高尔椅子  \n1       曾经属于旧日蒙德贵族的舞会面具，那空洞的眼眶依旧凝望着昔日的盛景。  \n2                                    甜甜花鳉  \n3                                  解锁邀约事件  \n4                                      派蒙  \n...                                   ...  \n264012               激活将消耗{0}个{1}，是否确认激活？  \n264013                       抗侵蚀强度提升至{0}。  \n264014                     睦疏之匣可驱散最强大的黑雾。  \n264015                璃月总务司派驻层岩巨渊的特别行政人员。  \n264016     主要负责维护层岩巨渊在封锁中的秩序，保障驻留人员的后勤补给。  \n\n[263777 rows x 3 columns]",
      "text/html": "<div>\n<style scoped>\n    .dataframe tbody tr th:only-of-type {\n        vertical-align: middle;\n    }\n\n    .dataframe tbody tr th {\n        vertical-align: top;\n    }\n\n    .dataframe thead th {\n        text-align: right;\n    }\n</style>\n<table border=\"1\" class=\"dataframe\">\n  <thead>\n    <tr style=\"text-align: right;\">\n      <th></th>\n      <th>en</th>\n      <th>ja</th>\n      <th>zh</th>\n    </tr>\n  </thead>\n  <tbody>\n    <tr>\n      <th>0</th>\n      <td>Googol Chair</td>\n      <td>グーゴル·イス</td>\n      <td>古高尔椅子</td>\n    </tr>\n    <tr>\n      <th>1</th>\n      <td>A masquerade mask worn by the old aristocrats ...</td>\n      <td>モンドの旧貴族が舞踏会に使用していた仮面、空洞となった目の縁は今でも昔の光景を見つめている。</td>\n      <td>曾经属于旧日蒙德贵族的舞会面具，那空洞的眼眶依旧凝望着昔日的盛景。</td>\n    </tr>\n    <tr>\n      <th>2</th>\n      <td>Sweet-Flower Medaka</td>\n      <td>スイートグッピー</td>\n      <td>甜甜花鳉</td>\n    </tr>\n    <tr>\n      <th>3</th>\n      <td>Unlock Hangout Event</td>\n      <td>デートイベント開放</td>\n      <td>解锁邀约事件</td>\n    </tr>\n    <tr>\n      <th>4</th>\n      <td>Paimon</td>\n      <td>パイモン</td>\n      <td>派蒙</td>\n    </tr>\n    <tr>\n      <th>...</th>\n      <td>...</td>\n      <td>...</td>\n      <td>...</td>\n    </tr>\n    <tr>\n      <th>264012</th>\n      <td>{0} {1} required. Continue?</td>\n      <td>{1}を{0}個消費して、活性化しますか？</td>\n      <td>激活将消耗{0}个{1}，是否确认激活？</td>\n    </tr>\n    <tr>\n      <th>264013</th>\n      <td>Corrosion Resistance increased to {0}.</td>\n      <td>侵食耐性が{0}にアップ。</td>\n      <td>抗侵蚀强度提升至{0}。</td>\n    </tr>\n    <tr>\n      <th>264014</th>\n      <td>The Bokuso Box is now able to disperse the gre...</td>\n      <td>睦疎の箱は最も強力な黒霧を消散することができるようになる。</td>\n      <td>睦疏之匣可驱散最强大的黑雾。</td>\n    </tr>\n    <tr>\n      <th>264015</th>\n      <td>The Ministry of Civil Affairs has specifically...</td>\n      <td>璃月総務司から層岩巨淵に派遣された特別な行政人員。</td>\n      <td>璃月总务司派驻层岩巨渊的特别行政人员。</td>\n    </tr>\n    <tr>\n      <th>264016</th>\n      <td>Their main duties are to maintain the sealed s...</td>\n      <td>主な仕事は、層岩巨淵が封鎖している間の秩序維持と、駐在人員の物資確保である。</td>\n      <td>主要负责维护层岩巨渊在封锁中的秩序，保障驻留人员的后勤补给。</td>\n    </tr>\n  </tbody>\n</table>\n<p>263777 rows × 3 columns</p>\n</div>"
     },
     "execution_count": 7,
     "metadata": {},
     "output_type": "execute_result"
    }
   ],
   "source": [
    "# remove row with only punctuation\n",
    "df = df[~df['en'].str.match(r'^[^\\w\\s]+$')]\n",
    "df = df[~df['ja'].str.match(r'^[^\\w\\s]+$')]\n",
    "df = df[~df['zh'].str.match(r'^[^\\w\\s]+$')]\n",
    "df"
   ],
   "metadata": {
    "collapsed": false,
    "ExecuteTime": {
     "end_time": "2023-07-02T13:20:41.119283875Z",
     "start_time": "2023-07-02T13:20:40.678591289Z"
    }
   }
  },
  {
   "cell_type": "code",
   "execution_count": 8,
   "outputs": [
    {
     "data": {
      "text/plain": "                                                       en  \\\n0                                            Googol Chair   \n1       A masquerade mask worn by the old aristocrats ...   \n2                                     Sweet-Flower Medaka   \n3                                    Unlock Hangout Event   \n4                                                  Paimon   \n...                                                   ...   \n264012                        {0} {1} required. Continue?   \n264013             Corrosion Resistance increased to {0}.   \n264014  The Bokuso Box is now able to disperse the gre...   \n264015  The Ministry of Civil Affairs has specifically...   \n264016  Their main duties are to maintain the sealed s...   \n\n                                                    ja  \\\n0                                              グーゴル·イス   \n1       モンドの旧貴族が舞踏会に使用していた仮面、空洞となった目の縁は今でも昔の光景を見つめている。   \n2                                             スイートグッピー   \n3                                            デートイベント開放   \n4                                                 パイモン   \n...                                                ...   \n264012                           {1}を{0}個消費して、活性化しますか？   \n264013                                   侵食耐性が{0}にアップ。   \n264014                   睦疎の箱は最も強力な黒霧を消散することができるようになる。   \n264015                       璃月総務司から層岩巨淵に派遣された特別な行政人員。   \n264016          主な仕事は、層岩巨淵が封鎖している間の秩序維持と、駐在人員の物資確保である。   \n\n                                       zh  \n0                                   古高尔椅子  \n1       曾经属于旧日蒙德贵族的舞会面具，那空洞的眼眶依旧凝望着昔日的盛景。  \n2                                    甜甜花鳉  \n3                                  解锁邀约事件  \n4                                      派蒙  \n...                                   ...  \n264012               激活将消耗{0}个{1}，是否确认激活？  \n264013                       抗侵蚀强度提升至{0}。  \n264014                     睦疏之匣可驱散最强大的黑雾。  \n264015                璃月总务司派驻层岩巨渊的特别行政人员。  \n264016     主要负责维护层岩巨渊在封锁中的秩序，保障驻留人员的后勤补给。  \n\n[263728 rows x 3 columns]",
      "text/html": "<div>\n<style scoped>\n    .dataframe tbody tr th:only-of-type {\n        vertical-align: middle;\n    }\n\n    .dataframe tbody tr th {\n        vertical-align: top;\n    }\n\n    .dataframe thead th {\n        text-align: right;\n    }\n</style>\n<table border=\"1\" class=\"dataframe\">\n  <thead>\n    <tr style=\"text-align: right;\">\n      <th></th>\n      <th>en</th>\n      <th>ja</th>\n      <th>zh</th>\n    </tr>\n  </thead>\n  <tbody>\n    <tr>\n      <th>0</th>\n      <td>Googol Chair</td>\n      <td>グーゴル·イス</td>\n      <td>古高尔椅子</td>\n    </tr>\n    <tr>\n      <th>1</th>\n      <td>A masquerade mask worn by the old aristocrats ...</td>\n      <td>モンドの旧貴族が舞踏会に使用していた仮面、空洞となった目の縁は今でも昔の光景を見つめている。</td>\n      <td>曾经属于旧日蒙德贵族的舞会面具，那空洞的眼眶依旧凝望着昔日的盛景。</td>\n    </tr>\n    <tr>\n      <th>2</th>\n      <td>Sweet-Flower Medaka</td>\n      <td>スイートグッピー</td>\n      <td>甜甜花鳉</td>\n    </tr>\n    <tr>\n      <th>3</th>\n      <td>Unlock Hangout Event</td>\n      <td>デートイベント開放</td>\n      <td>解锁邀约事件</td>\n    </tr>\n    <tr>\n      <th>4</th>\n      <td>Paimon</td>\n      <td>パイモン</td>\n      <td>派蒙</td>\n    </tr>\n    <tr>\n      <th>...</th>\n      <td>...</td>\n      <td>...</td>\n      <td>...</td>\n    </tr>\n    <tr>\n      <th>264012</th>\n      <td>{0} {1} required. Continue?</td>\n      <td>{1}を{0}個消費して、活性化しますか？</td>\n      <td>激活将消耗{0}个{1}，是否确认激活？</td>\n    </tr>\n    <tr>\n      <th>264013</th>\n      <td>Corrosion Resistance increased to {0}.</td>\n      <td>侵食耐性が{0}にアップ。</td>\n      <td>抗侵蚀强度提升至{0}。</td>\n    </tr>\n    <tr>\n      <th>264014</th>\n      <td>The Bokuso Box is now able to disperse the gre...</td>\n      <td>睦疎の箱は最も強力な黒霧を消散することができるようになる。</td>\n      <td>睦疏之匣可驱散最强大的黑雾。</td>\n    </tr>\n    <tr>\n      <th>264015</th>\n      <td>The Ministry of Civil Affairs has specifically...</td>\n      <td>璃月総務司から層岩巨淵に派遣された特別な行政人員。</td>\n      <td>璃月总务司派驻层岩巨渊的特别行政人员。</td>\n    </tr>\n    <tr>\n      <th>264016</th>\n      <td>Their main duties are to maintain the sealed s...</td>\n      <td>主な仕事は、層岩巨淵が封鎖している間の秩序維持と、駐在人員の物資確保である。</td>\n      <td>主要负责维护层岩巨渊在封锁中的秩序，保障驻留人员的后勤补给。</td>\n    </tr>\n  </tbody>\n</table>\n<p>263728 rows × 3 columns</p>\n</div>"
     },
     "execution_count": 8,
     "metadata": {},
     "output_type": "execute_result"
    }
   ],
   "source": [
    "# remove lines with only numbers\n",
    "df = df[~df['en'].str.match(r'^\\d+$')]\n",
    "df = df[~df['ja'].str.match(r'^\\d+$')]\n",
    "df = df[~df['zh'].str.match(r'^\\d+$')]\n",
    "df"
   ],
   "metadata": {
    "collapsed": false,
    "ExecuteTime": {
     "end_time": "2023-07-02T13:20:41.656049687Z",
     "start_time": "2023-07-02T13:20:41.159070936Z"
    }
   }
  },
  {
   "cell_type": "code",
   "execution_count": 9,
   "outputs": [
    {
     "name": "stderr",
     "output_type": "stream",
     "text": [
      "/home/toshihiko/anaconda3/envs/pytorch201/lib/python3.8/site-packages/transformers/convert_slow_tokenizer.py:454: UserWarning: The sentencepiece tokenizer that you are converting to a fast tokenizer uses the byte fallback option which is not implemented in the fast tokenizers. In practice this means that the fast version of the tokenizer can produce unknown tokens whereas the sentencepiece version would have converted these unknown tokens into a sequence of byte tokens matching the original piece of text.\n",
      "  warnings.warn(\n"
     ]
    },
    {
     "data": {
      "text/plain": "                                                       en  \\\n0                                            Googol Chair   \n1       A masquerade mask worn by the old aristocrats ...   \n2                                     Sweet-Flower Medaka   \n3                                    Unlock Hangout Event   \n4                                                  Paimon   \n...                                                   ...   \n264012                        {0} {1} required. Continue?   \n264013             Corrosion Resistance increased to {0}.   \n264014  The Bokuso Box is now able to disperse the gre...   \n264015  The Ministry of Civil Affairs has specifically...   \n264016  Their main duties are to maintain the sealed s...   \n\n                                                    ja  \\\n0                                              グーゴル·イス   \n1       モンドの旧貴族が舞踏会に使用していた仮面、空洞となった目の縁は今でも昔の光景を見つめている。   \n2                                             スイートグッピー   \n3                                            デートイベント開放   \n4                                                 パイモン   \n...                                                ...   \n264012                           {1}を{0}個消費して、活性化しますか？   \n264013                                   侵食耐性が{0}にアップ。   \n264014                   睦疎の箱は最も強力な黒霧を消散することができるようになる。   \n264015                       璃月総務司から層岩巨淵に派遣された特別な行政人員。   \n264016          主な仕事は、層岩巨淵が封鎖している間の秩序維持と、駐在人員の物資確保である。   \n\n                                       zh  en_len  ja_len  zh_len  \n0                                   古高尔椅子       3       6       5  \n1       曾经属于旧日蒙德贵族的舞会面具，那空洞的眼眶依旧凝望着昔日的盛景。      33      30      30  \n2                                    甜甜花鳉       5       5       5  \n3                                  解锁邀约事件       5       4       6  \n4                                      派蒙       2       3       3  \n...                                   ...     ...     ...     ...  \n264012               激活将消耗{0}个{1}，是否确认激活？       9      13      16  \n264013                       抗侵蚀强度提升至{0}。      10      10      10  \n264014                     睦疏之匣可驱散最强大的黑雾。      17      17      13  \n264015                璃月总务司派驻层岩巨渊的特别行政人员。      18      17      17  \n264016     主要负责维护层岩巨渊在封锁中的秩序，保障驻留人员的后勤补给。      33      27      23  \n\n[263728 rows x 6 columns]",
      "text/html": "<div>\n<style scoped>\n    .dataframe tbody tr th:only-of-type {\n        vertical-align: middle;\n    }\n\n    .dataframe tbody tr th {\n        vertical-align: top;\n    }\n\n    .dataframe thead th {\n        text-align: right;\n    }\n</style>\n<table border=\"1\" class=\"dataframe\">\n  <thead>\n    <tr style=\"text-align: right;\">\n      <th></th>\n      <th>en</th>\n      <th>ja</th>\n      <th>zh</th>\n      <th>en_len</th>\n      <th>ja_len</th>\n      <th>zh_len</th>\n    </tr>\n  </thead>\n  <tbody>\n    <tr>\n      <th>0</th>\n      <td>Googol Chair</td>\n      <td>グーゴル·イス</td>\n      <td>古高尔椅子</td>\n      <td>3</td>\n      <td>6</td>\n      <td>5</td>\n    </tr>\n    <tr>\n      <th>1</th>\n      <td>A masquerade mask worn by the old aristocrats ...</td>\n      <td>モンドの旧貴族が舞踏会に使用していた仮面、空洞となった目の縁は今でも昔の光景を見つめている。</td>\n      <td>曾经属于旧日蒙德贵族的舞会面具，那空洞的眼眶依旧凝望着昔日的盛景。</td>\n      <td>33</td>\n      <td>30</td>\n      <td>30</td>\n    </tr>\n    <tr>\n      <th>2</th>\n      <td>Sweet-Flower Medaka</td>\n      <td>スイートグッピー</td>\n      <td>甜甜花鳉</td>\n      <td>5</td>\n      <td>5</td>\n      <td>5</td>\n    </tr>\n    <tr>\n      <th>3</th>\n      <td>Unlock Hangout Event</td>\n      <td>デートイベント開放</td>\n      <td>解锁邀约事件</td>\n      <td>5</td>\n      <td>4</td>\n      <td>6</td>\n    </tr>\n    <tr>\n      <th>4</th>\n      <td>Paimon</td>\n      <td>パイモン</td>\n      <td>派蒙</td>\n      <td>2</td>\n      <td>3</td>\n      <td>3</td>\n    </tr>\n    <tr>\n      <th>...</th>\n      <td>...</td>\n      <td>...</td>\n      <td>...</td>\n      <td>...</td>\n      <td>...</td>\n      <td>...</td>\n    </tr>\n    <tr>\n      <th>264012</th>\n      <td>{0} {1} required. Continue?</td>\n      <td>{1}を{0}個消費して、活性化しますか？</td>\n      <td>激活将消耗{0}个{1}，是否确认激活？</td>\n      <td>9</td>\n      <td>13</td>\n      <td>16</td>\n    </tr>\n    <tr>\n      <th>264013</th>\n      <td>Corrosion Resistance increased to {0}.</td>\n      <td>侵食耐性が{0}にアップ。</td>\n      <td>抗侵蚀强度提升至{0}。</td>\n      <td>10</td>\n      <td>10</td>\n      <td>10</td>\n    </tr>\n    <tr>\n      <th>264014</th>\n      <td>The Bokuso Box is now able to disperse the gre...</td>\n      <td>睦疎の箱は最も強力な黒霧を消散することができるようになる。</td>\n      <td>睦疏之匣可驱散最强大的黑雾。</td>\n      <td>17</td>\n      <td>17</td>\n      <td>13</td>\n    </tr>\n    <tr>\n      <th>264015</th>\n      <td>The Ministry of Civil Affairs has specifically...</td>\n      <td>璃月総務司から層岩巨淵に派遣された特別な行政人員。</td>\n      <td>璃月总务司派驻层岩巨渊的特别行政人员。</td>\n      <td>18</td>\n      <td>17</td>\n      <td>17</td>\n    </tr>\n    <tr>\n      <th>264016</th>\n      <td>Their main duties are to maintain the sealed s...</td>\n      <td>主な仕事は、層岩巨淵が封鎖している間の秩序維持と、駐在人員の物資確保である。</td>\n      <td>主要负责维护层岩巨渊在封锁中的秩序，保障驻留人员的后勤补给。</td>\n      <td>33</td>\n      <td>27</td>\n      <td>23</td>\n    </tr>\n  </tbody>\n</table>\n<p>263728 rows × 6 columns</p>\n</div>"
     },
     "execution_count": 9,
     "metadata": {},
     "output_type": "execute_result"
    }
   ],
   "source": [
    "# remove lines that tokens is more than 256 or less than 1\n",
    "from transformers import MT5TokenizerFast\n",
    "tokenizer = MT5TokenizerFast.from_pretrained('google/mt5-small')\n",
    "\n",
    "df['en_len'] = df['en'].apply(lambda x: len(tokenizer.tokenize(x)))\n",
    "df['ja_len'] = df['ja'].apply(lambda x: len(tokenizer.tokenize(x)))\n",
    "df['zh_len'] = df['zh'].apply(lambda x: len(tokenizer.tokenize(x)))\n",
    "df"
   ],
   "metadata": {
    "collapsed": false,
    "ExecuteTime": {
     "end_time": "2023-07-02T13:21:55.655267152Z",
     "start_time": "2023-07-02T13:20:41.658090574Z"
    }
   }
  },
  {
   "cell_type": "code",
   "execution_count": 10,
   "outputs": [
    {
     "data": {
      "text/plain": "                                                       en  \\\n0                                            Googol Chair   \n1       A masquerade mask worn by the old aristocrats ...   \n2                                     Sweet-Flower Medaka   \n3                                    Unlock Hangout Event   \n4                                                  Paimon   \n...                                                   ...   \n264012                        {0} {1} required. Continue?   \n264013             Corrosion Resistance increased to {0}.   \n264014  The Bokuso Box is now able to disperse the gre...   \n264015  The Ministry of Civil Affairs has specifically...   \n264016  Their main duties are to maintain the sealed s...   \n\n                                                    ja  \\\n0                                              グーゴル·イス   \n1       モンドの旧貴族が舞踏会に使用していた仮面、空洞となった目の縁は今でも昔の光景を見つめている。   \n2                                             スイートグッピー   \n3                                            デートイベント開放   \n4                                                 パイモン   \n...                                                ...   \n264012                           {1}を{0}個消費して、活性化しますか？   \n264013                                   侵食耐性が{0}にアップ。   \n264014                   睦疎の箱は最も強力な黒霧を消散することができるようになる。   \n264015                       璃月総務司から層岩巨淵に派遣された特別な行政人員。   \n264016          主な仕事は、層岩巨淵が封鎖している間の秩序維持と、駐在人員の物資確保である。   \n\n                                       zh  en_len  ja_len  zh_len  \n0                                   古高尔椅子       3       6       5  \n1       曾经属于旧日蒙德贵族的舞会面具，那空洞的眼眶依旧凝望着昔日的盛景。      33      30      30  \n2                                    甜甜花鳉       5       5       5  \n3                                  解锁邀约事件       5       4       6  \n4                                      派蒙       2       3       3  \n...                                   ...     ...     ...     ...  \n264012               激活将消耗{0}个{1}，是否确认激活？       9      13      16  \n264013                       抗侵蚀强度提升至{0}。      10      10      10  \n264014                     睦疏之匣可驱散最强大的黑雾。      17      17      13  \n264015                璃月总务司派驻层岩巨渊的特别行政人员。      18      17      17  \n264016     主要负责维护层岩巨渊在封锁中的秩序，保障驻留人员的后勤补给。      33      27      23  \n\n[261848 rows x 6 columns]",
      "text/html": "<div>\n<style scoped>\n    .dataframe tbody tr th:only-of-type {\n        vertical-align: middle;\n    }\n\n    .dataframe tbody tr th {\n        vertical-align: top;\n    }\n\n    .dataframe thead th {\n        text-align: right;\n    }\n</style>\n<table border=\"1\" class=\"dataframe\">\n  <thead>\n    <tr style=\"text-align: right;\">\n      <th></th>\n      <th>en</th>\n      <th>ja</th>\n      <th>zh</th>\n      <th>en_len</th>\n      <th>ja_len</th>\n      <th>zh_len</th>\n    </tr>\n  </thead>\n  <tbody>\n    <tr>\n      <th>0</th>\n      <td>Googol Chair</td>\n      <td>グーゴル·イス</td>\n      <td>古高尔椅子</td>\n      <td>3</td>\n      <td>6</td>\n      <td>5</td>\n    </tr>\n    <tr>\n      <th>1</th>\n      <td>A masquerade mask worn by the old aristocrats ...</td>\n      <td>モンドの旧貴族が舞踏会に使用していた仮面、空洞となった目の縁は今でも昔の光景を見つめている。</td>\n      <td>曾经属于旧日蒙德贵族的舞会面具，那空洞的眼眶依旧凝望着昔日的盛景。</td>\n      <td>33</td>\n      <td>30</td>\n      <td>30</td>\n    </tr>\n    <tr>\n      <th>2</th>\n      <td>Sweet-Flower Medaka</td>\n      <td>スイートグッピー</td>\n      <td>甜甜花鳉</td>\n      <td>5</td>\n      <td>5</td>\n      <td>5</td>\n    </tr>\n    <tr>\n      <th>3</th>\n      <td>Unlock Hangout Event</td>\n      <td>デートイベント開放</td>\n      <td>解锁邀约事件</td>\n      <td>5</td>\n      <td>4</td>\n      <td>6</td>\n    </tr>\n    <tr>\n      <th>4</th>\n      <td>Paimon</td>\n      <td>パイモン</td>\n      <td>派蒙</td>\n      <td>2</td>\n      <td>3</td>\n      <td>3</td>\n    </tr>\n    <tr>\n      <th>...</th>\n      <td>...</td>\n      <td>...</td>\n      <td>...</td>\n      <td>...</td>\n      <td>...</td>\n      <td>...</td>\n    </tr>\n    <tr>\n      <th>264012</th>\n      <td>{0} {1} required. Continue?</td>\n      <td>{1}を{0}個消費して、活性化しますか？</td>\n      <td>激活将消耗{0}个{1}，是否确认激活？</td>\n      <td>9</td>\n      <td>13</td>\n      <td>16</td>\n    </tr>\n    <tr>\n      <th>264013</th>\n      <td>Corrosion Resistance increased to {0}.</td>\n      <td>侵食耐性が{0}にアップ。</td>\n      <td>抗侵蚀强度提升至{0}。</td>\n      <td>10</td>\n      <td>10</td>\n      <td>10</td>\n    </tr>\n    <tr>\n      <th>264014</th>\n      <td>The Bokuso Box is now able to disperse the gre...</td>\n      <td>睦疎の箱は最も強力な黒霧を消散することができるようになる。</td>\n      <td>睦疏之匣可驱散最强大的黑雾。</td>\n      <td>17</td>\n      <td>17</td>\n      <td>13</td>\n    </tr>\n    <tr>\n      <th>264015</th>\n      <td>The Ministry of Civil Affairs has specifically...</td>\n      <td>璃月総務司から層岩巨淵に派遣された特別な行政人員。</td>\n      <td>璃月总务司派驻层岩巨渊的特别行政人员。</td>\n      <td>18</td>\n      <td>17</td>\n      <td>17</td>\n    </tr>\n    <tr>\n      <th>264016</th>\n      <td>Their main duties are to maintain the sealed s...</td>\n      <td>主な仕事は、層岩巨淵が封鎖している間の秩序維持と、駐在人員の物資確保である。</td>\n      <td>主要负责维护层岩巨渊在封锁中的秩序，保障驻留人员的后勤补给。</td>\n      <td>33</td>\n      <td>27</td>\n      <td>23</td>\n    </tr>\n  </tbody>\n</table>\n<p>261848 rows × 6 columns</p>\n</div>"
     },
     "execution_count": 10,
     "metadata": {},
     "output_type": "execute_result"
    }
   ],
   "source": [
    "df = df[df['en_len'] <= 256]\n",
    "df = df[df['ja_len'] <= 256]\n",
    "df = df[df['zh_len'] <= 256]\n",
    "df = df[df['en_len'] >= 1]\n",
    "df = df[df['ja_len'] >= 1]\n",
    "df = df[df['zh_len'] >= 1]\n",
    "df"
   ],
   "metadata": {
    "collapsed": false,
    "ExecuteTime": {
     "end_time": "2023-07-02T13:21:55.739186056Z",
     "start_time": "2023-07-02T13:21:55.578340263Z"
    }
   }
  },
  {
   "cell_type": "code",
   "execution_count": 11,
   "outputs": [
    {
     "name": "stderr",
     "output_type": "stream",
     "text": [
      "/tmp/ipykernel_5838/115076287.py:9: TqdmDeprecationWarning: This function will be removed in tqdm==5.0.0\n",
      "Please use `tqdm.notebook.tqdm` instead of `tqdm.tqdm_notebook`\n",
      "  for i, row in tqdm(enumerate(df.itertuples()), total=df.shape[0]):\n"
     ]
    },
    {
     "data": {
      "text/plain": "  0%|          | 0/261848 [00:00<?, ?it/s]",
      "application/vnd.jupyter.widget-view+json": {
       "version_major": 2,
       "version_minor": 0,
       "model_id": "03d6f1ffca9847759b167cec83f43f01"
      }
     },
     "metadata": {},
     "output_type": "display_data"
    },
    {
     "data": {
      "text/plain": "                                                       en  \\\n0                                            Googol Chair   \n1       A masquerade mask worn by the old aristocrats ...   \n2                                     Sweet-Flower Medaka   \n3                                    Unlock Hangout Event   \n4                                                  Paimon   \n...                                                   ...   \n264012                        {0} {1} required. Continue?   \n264013             Corrosion Resistance increased to {0}.   \n264014  The Bokuso Box is now able to disperse the gre...   \n264015  The Ministry of Civil Affairs has specifically...   \n264016  Their main duties are to maintain the sealed s...   \n\n                                                    ja  \\\n0                                              グーゴル·イス   \n1       モンドの旧貴族が舞踏会に使用していた仮面、空洞となった目の縁は今でも昔の光景を見つめている。   \n2                                             スイートグッピー   \n3                                            デートイベント開放   \n4                                                 パイモン   \n...                                                ...   \n264012                           {1}を{0}個消費して、活性化しますか？   \n264013                                   侵食耐性が{0}にアップ。   \n264014                   睦疎の箱は最も強力な黒霧を消散することができるようになる。   \n264015                       璃月総務司から層岩巨淵に派遣された特別な行政人員。   \n264016          主な仕事は、層岩巨淵が封鎖している間の秩序維持と、駐在人員の物資確保である。   \n\n                                       zh  en_len  ja_len  zh_len     score  \n0                                   古高尔椅子       3       6       5  0.658794  \n1       曾经属于旧日蒙德贵族的舞会面具，那空洞的眼眶依旧凝望着昔日的盛景。      33      30      30  0.699381  \n2                                    甜甜花鳉       5       5       5  0.433426  \n3                                  解锁邀约事件       5       4       6  0.713721  \n4                                      派蒙       2       3       3  0.858970  \n...                                   ...     ...     ...     ...       ...  \n264012               激活将消耗{0}个{1}，是否确认激活？       9      13      16  0.780608  \n264013                       抗侵蚀强度提升至{0}。      10      10      10  0.906608  \n264014                     睦疏之匣可驱散最强大的黑雾。      17      17      13  0.730138  \n264015                璃月总务司派驻层岩巨渊的特别行政人员。      18      17      17  0.549008  \n264016     主要负责维护层岩巨渊在封锁中的秩序，保障驻留人员的后勤补给。      33      27      23  0.708158  \n\n[261848 rows x 7 columns]",
      "text/html": "<div>\n<style scoped>\n    .dataframe tbody tr th:only-of-type {\n        vertical-align: middle;\n    }\n\n    .dataframe tbody tr th {\n        vertical-align: top;\n    }\n\n    .dataframe thead th {\n        text-align: right;\n    }\n</style>\n<table border=\"1\" class=\"dataframe\">\n  <thead>\n    <tr style=\"text-align: right;\">\n      <th></th>\n      <th>en</th>\n      <th>ja</th>\n      <th>zh</th>\n      <th>en_len</th>\n      <th>ja_len</th>\n      <th>zh_len</th>\n      <th>score</th>\n    </tr>\n  </thead>\n  <tbody>\n    <tr>\n      <th>0</th>\n      <td>Googol Chair</td>\n      <td>グーゴル·イス</td>\n      <td>古高尔椅子</td>\n      <td>3</td>\n      <td>6</td>\n      <td>5</td>\n      <td>0.658794</td>\n    </tr>\n    <tr>\n      <th>1</th>\n      <td>A masquerade mask worn by the old aristocrats ...</td>\n      <td>モンドの旧貴族が舞踏会に使用していた仮面、空洞となった目の縁は今でも昔の光景を見つめている。</td>\n      <td>曾经属于旧日蒙德贵族的舞会面具，那空洞的眼眶依旧凝望着昔日的盛景。</td>\n      <td>33</td>\n      <td>30</td>\n      <td>30</td>\n      <td>0.699381</td>\n    </tr>\n    <tr>\n      <th>2</th>\n      <td>Sweet-Flower Medaka</td>\n      <td>スイートグッピー</td>\n      <td>甜甜花鳉</td>\n      <td>5</td>\n      <td>5</td>\n      <td>5</td>\n      <td>0.433426</td>\n    </tr>\n    <tr>\n      <th>3</th>\n      <td>Unlock Hangout Event</td>\n      <td>デートイベント開放</td>\n      <td>解锁邀约事件</td>\n      <td>5</td>\n      <td>4</td>\n      <td>6</td>\n      <td>0.713721</td>\n    </tr>\n    <tr>\n      <th>4</th>\n      <td>Paimon</td>\n      <td>パイモン</td>\n      <td>派蒙</td>\n      <td>2</td>\n      <td>3</td>\n      <td>3</td>\n      <td>0.858970</td>\n    </tr>\n    <tr>\n      <th>...</th>\n      <td>...</td>\n      <td>...</td>\n      <td>...</td>\n      <td>...</td>\n      <td>...</td>\n      <td>...</td>\n      <td>...</td>\n    </tr>\n    <tr>\n      <th>264012</th>\n      <td>{0} {1} required. Continue?</td>\n      <td>{1}を{0}個消費して、活性化しますか？</td>\n      <td>激活将消耗{0}个{1}，是否确认激活？</td>\n      <td>9</td>\n      <td>13</td>\n      <td>16</td>\n      <td>0.780608</td>\n    </tr>\n    <tr>\n      <th>264013</th>\n      <td>Corrosion Resistance increased to {0}.</td>\n      <td>侵食耐性が{0}にアップ。</td>\n      <td>抗侵蚀强度提升至{0}。</td>\n      <td>10</td>\n      <td>10</td>\n      <td>10</td>\n      <td>0.906608</td>\n    </tr>\n    <tr>\n      <th>264014</th>\n      <td>The Bokuso Box is now able to disperse the gre...</td>\n      <td>睦疎の箱は最も強力な黒霧を消散することができるようになる。</td>\n      <td>睦疏之匣可驱散最强大的黑雾。</td>\n      <td>17</td>\n      <td>17</td>\n      <td>13</td>\n      <td>0.730138</td>\n    </tr>\n    <tr>\n      <th>264015</th>\n      <td>The Ministry of Civil Affairs has specifically...</td>\n      <td>璃月総務司から層岩巨淵に派遣された特別な行政人員。</td>\n      <td>璃月总务司派驻层岩巨渊的特别行政人员。</td>\n      <td>18</td>\n      <td>17</td>\n      <td>17</td>\n      <td>0.549008</td>\n    </tr>\n    <tr>\n      <th>264016</th>\n      <td>Their main duties are to maintain the sealed s...</td>\n      <td>主な仕事は、層岩巨淵が封鎖している間の秩序維持と、駐在人員の物資確保である。</td>\n      <td>主要负责维护层岩巨渊在封锁中的秩序，保障驻留人员的后勤补给。</td>\n      <td>33</td>\n      <td>27</td>\n      <td>23</td>\n      <td>0.708158</td>\n    </tr>\n  </tbody>\n</table>\n<p>261848 rows × 7 columns</p>\n</div>"
     },
     "execution_count": 11,
     "metadata": {},
     "output_type": "execute_result"
    }
   ],
   "source": [
    "# remove lines that LaBSE score is less than 0.6 or more than 0.99\n",
    "import numpy as np\n",
    "from sentence_transformers import SentenceTransformer\n",
    "model = SentenceTransformer('sentence-transformers/LaBSE').cuda()\n",
    "\n",
    "\n",
    "_batch, _scores = [], []\n",
    "_bs = 64\n",
    "for i, row in tqdm(enumerate(df.itertuples()), total=df.shape[0]):\n",
    "    inputs = [row.en, row.ja, row.zh]\n",
    "    _batch.extend(inputs)\n",
    "    if (i+1) % _bs == 0 or i == df.shape[0]-1:\n",
    "        embeddings = model.encode(_batch)\n",
    "        # calculate score between each pair\n",
    "        for j in range(embeddings.shape[0]//3):\n",
    "            _scores.append(np.average([\n",
    "                np.matmul(embeddings[j*3], embeddings[j*3+1].T),\n",
    "                np.matmul(embeddings[j*3], embeddings[j*3+2].T),\n",
    "                np.matmul(embeddings[j*3+1], embeddings[j*3+2].T)\n",
    "            ]))\n",
    "        _batch = []\n",
    "df = df.assign(score=_scores)\n",
    "df"
   ],
   "metadata": {
    "collapsed": false,
    "ExecuteTime": {
     "end_time": "2023-07-02T13:32:58.343484314Z",
     "start_time": "2023-07-02T13:21:55.726236453Z"
    }
   }
  },
  {
   "cell_type": "code",
   "execution_count": 12,
   "outputs": [
    {
     "data": {
      "text/plain": "<Figure size 640x480 with 1 Axes>",
      "image/png": "[encoded data removed]"
     },
     "metadata": {},
     "output_type": "display_data"
    }
   ],
   "source": [
    "# statistics score using matplotlib\n",
    "import matplotlib.pyplot as plt\n",
    "plt.hist(df['score'], bins=100)\n",
    "plt.show()"
   ],
   "metadata": {
    "collapsed": false,
    "ExecuteTime": {
     "end_time": "2023-07-02T13:32:59.098216111Z",
     "start_time": "2023-07-02T13:32:58.341177435Z"
    }
   }
  },
  {
   "cell_type": "code",
   "execution_count": 13,
   "outputs": [
    {
     "data": {
      "text/plain": "                                                       en  \\\n0                                            Googol Chair   \n1       A masquerade mask worn by the old aristocrats ...   \n3                                    Unlock Hangout Event   \n4                                                  Paimon   \n6       Barbara is the Deaconess of the Church of Favo...   \n...                                                   ...   \n264008                                     The Cage-Maker   \n264012                        {0} {1} required. Continue?   \n264013             Corrosion Resistance increased to {0}.   \n264014  The Bokuso Box is now able to disperse the gre...   \n264016  Their main duties are to maintain the sealed s...   \n\n                                                       ja  \\\n0                                                 グーゴル·イス   \n1          モンドの旧貴族が舞踏会に使用していた仮面、空洞となった目の縁は今でも昔の光景を見つめている。   \n3                                               デートイベント開放   \n4                                                    パイモン   \n6       バーバラは西風教会の祈祷牧師であり、モンドのアイドルでもある。「バーバラに会うと、気分が良く...   \n...                                                   ...   \n264008                                              「籠作り」   \n264012                              {1}を{0}個消費して、活性化しますか？   \n264013                                      侵食耐性が{0}にアップ。   \n264014                      睦疎の箱は最も強力な黒霧を消散することができるようになる。   \n264016             主な仕事は、層岩巨淵が封鎖している間の秩序維持と、駐在人員の物資確保である。   \n\n                                                       zh  en_len  ja_len  \\\n0                                                   古高尔椅子       3       6   \n1                       曾经属于旧日蒙德贵族的舞会面具，那空洞的眼眶依旧凝望着昔日的盛景。      33      30   \n3                                                  解锁邀约事件       5       4   \n4                                                      派蒙       2       3   \n6       芭芭拉是西风教会的祈礼牧师，同时也是蒙德城的闪耀偶像。「只要看到芭芭拉，心情就能变好。」——...     135      91   \n...                                                   ...     ...     ...   \n264008                                              「造笼师」       5       4   \n264012                               激活将消耗{0}个{1}，是否确认激活？       9      13   \n264013                                       抗侵蚀强度提升至{0}。      10      10   \n264014                                     睦疏之匣可驱散最强大的黑雾。      17      17   \n264016                     主要负责维护层岩巨渊在封锁中的秩序，保障驻留人员的后勤补给。      33      27   \n\n        zh_len     score  \n0            5  0.658794  \n1           30  0.699381  \n3            6  0.713721  \n4            3  0.858970  \n6          104  0.796881  \n...        ...       ...  \n264008       5  0.661044  \n264012      16  0.780608  \n264013      10  0.906608  \n264014      13  0.730138  \n264016      23  0.708158  \n\n[221107 rows x 7 columns]",
      "text/html": "<div>\n<style scoped>\n    .dataframe tbody tr th:only-of-type {\n        vertical-align: middle;\n    }\n\n    .dataframe tbody tr th {\n        vertical-align: top;\n    }\n\n    .dataframe thead th {\n        text-align: right;\n    }\n</style>\n<table border=\"1\" class=\"dataframe\">\n  <thead>\n    <tr style=\"text-align: right;\">\n      <th></th>\n      <th>en</th>\n      <th>ja</th>\n      <th>zh</th>\n      <th>en_len</th>\n      <th>ja_len</th>\n      <th>zh_len</th>\n      <th>score</th>\n    </tr>\n  </thead>\n  <tbody>\n    <tr>\n      <th>0</th>\n      <td>Googol Chair</td>\n      <td>グーゴル·イス</td>\n      <td>古高尔椅子</td>\n      <td>3</td>\n      <td>6</td>\n      <td>5</td>\n      <td>0.658794</td>\n    </tr>\n    <tr>\n      <th>1</th>\n      <td>A masquerade mask worn by the old aristocrats ...</td>\n      <td>モンドの旧貴族が舞踏会に使用していた仮面、空洞となった目の縁は今でも昔の光景を見つめている。</td>\n      <td>曾经属于旧日蒙德贵族的舞会面具，那空洞的眼眶依旧凝望着昔日的盛景。</td>\n      <td>33</td>\n      <td>30</td>\n      <td>30</td>\n      <td>0.699381</td>\n    </tr>\n    <tr>\n      <th>3</th>\n      <td>Unlock Hangout Event</td>\n      <td>デートイベント開放</td>\n      <td>解锁邀约事件</td>\n      <td>5</td>\n      <td>4</td>\n      <td>6</td>\n      <td>0.713721</td>\n    </tr>\n    <tr>\n      <th>4</th>\n      <td>Paimon</td>\n      <td>パイモン</td>\n      <td>派蒙</td>\n      <td>2</td>\n      <td>3</td>\n      <td>3</td>\n      <td>0.858970</td>\n    </tr>\n    <tr>\n      <th>6</th>\n      <td>Barbara is the Deaconess of the Church of Favo...</td>\n      <td>バーバラは西風教会の祈祷牧師であり、モンドのアイドルでもある。「バーバラに会うと、気分が良く...</td>\n      <td>芭芭拉是西风教会的祈礼牧师，同时也是蒙德城的闪耀偶像。「只要看到芭芭拉，心情就能变好。」——...</td>\n      <td>135</td>\n      <td>91</td>\n      <td>104</td>\n      <td>0.796881</td>\n    </tr>\n    <tr>\n      <th>...</th>\n      <td>...</td>\n      <td>...</td>\n      <td>...</td>\n      <td>...</td>\n      <td>...</td>\n      <td>...</td>\n      <td>...</td>\n    </tr>\n    <tr>\n      <th>264008</th>\n      <td>The Cage-Maker</td>\n      <td>「籠作り」</td>\n      <td>「造笼师」</td>\n      <td>5</td>\n      <td>4</td>\n      <td>5</td>\n      <td>0.661044</td>\n    </tr>\n    <tr>\n      <th>264012</th>\n      <td>{0} {1} required. Continue?</td>\n      <td>{1}を{0}個消費して、活性化しますか？</td>\n      <td>激活将消耗{0}个{1}，是否确认激活？</td>\n      <td>9</td>\n      <td>13</td>\n      <td>16</td>\n      <td>0.780608</td>\n    </tr>\n    <tr>\n      <th>264013</th>\n      <td>Corrosion Resistance increased to {0}.</td>\n      <td>侵食耐性が{0}にアップ。</td>\n      <td>抗侵蚀强度提升至{0}。</td>\n      <td>10</td>\n      <td>10</td>\n      <td>10</td>\n      <td>0.906608</td>\n    </tr>\n    <tr>\n      <th>264014</th>\n      <td>The Bokuso Box is now able to disperse the gre...</td>\n      <td>睦疎の箱は最も強力な黒霧を消散することができるようになる。</td>\n      <td>睦疏之匣可驱散最强大的黑雾。</td>\n      <td>17</td>\n      <td>17</td>\n      <td>13</td>\n      <td>0.730138</td>\n    </tr>\n    <tr>\n      <th>264016</th>\n      <td>Their main duties are to maintain the sealed s...</td>\n      <td>主な仕事は、層岩巨淵が封鎖している間の秩序維持と、駐在人員の物資確保である。</td>\n      <td>主要负责维护层岩巨渊在封锁中的秩序，保障驻留人员的后勤补给。</td>\n      <td>33</td>\n      <td>27</td>\n      <td>23</td>\n      <td>0.708158</td>\n    </tr>\n  </tbody>\n</table>\n<p>221107 rows × 7 columns</p>\n</div>"
     },
     "execution_count": 13,
     "metadata": {},
     "output_type": "execute_result"
    }
   ],
   "source": [
    "# remove lines that LaBSE score is less than 0.6 or more than 0.99\n",
    "df = df[df['score'] >= 0.6]\n",
    "df = df[df['score'] <= 0.99]\n",
    "df"
   ],
   "metadata": {
    "collapsed": false,
    "ExecuteTime": {
     "end_time": "2023-07-02T13:32:59.186069469Z",
     "start_time": "2023-07-02T13:32:59.098568481Z"
    }
   }
  },
  {
   "cell_type": "code",
   "execution_count": 14,
   "outputs": [
    {
     "data": {
      "text/plain": "                                                       en  \\\n0                                            Googol Chair   \n1       A masquerade mask worn by the old aristocrats ...   \n3                                    Unlock Hangout Event   \n4                                                  Paimon   \n6       Barbara is the Deaconess of the Church of Favo...   \n...                                                   ...   \n264008                                     The Cage-Maker   \n264012                        {0} {1} required. Continue?   \n264013             Corrosion Resistance increased to {0}.   \n264014  The Bokuso Box is now able to disperse the gre...   \n264016  Their main duties are to maintain the sealed s...   \n\n                                                       ja  \\\n0                                                 グーゴル·イス   \n1          モンドの旧貴族が舞踏会に使用していた仮面、空洞となった目の縁は今でも昔の光景を見つめている。   \n3                                               デートイベント開放   \n4                                                    パイモン   \n6       バーバラは西風教会の祈祷牧師であり、モンドのアイドルでもある。「バーバラに会うと、気分が良く...   \n...                                                   ...   \n264008                                              「籠作り」   \n264012                              {1}を{0}個消費して、活性化しますか？   \n264013                                      侵食耐性が{0}にアップ。   \n264014                      睦疎の箱は最も強力な黒霧を消散することができるようになる。   \n264016             主な仕事は、層岩巨淵が封鎖している間の秩序維持と、駐在人員の物資確保である。   \n\n                                                       zh  en_len  ja_len  \\\n0                                                   古高尔椅子       3       6   \n1                       曾经属于旧日蒙德贵族的舞会面具，那空洞的眼眶依旧凝望着昔日的盛景。      33      30   \n3                                                  解锁邀约事件       5       4   \n4                                                      派蒙       2       3   \n6       芭芭拉是西风教会的祈礼牧师，同时也是蒙德城的闪耀偶像。“只要看到芭芭拉，心情就能变好。”——...     135      91   \n...                                                   ...     ...     ...   \n264008                                              “造笼师”       5       4   \n264012                               激活将消耗{0}个{1}，是否确认激活？       9      13   \n264013                                       抗侵蚀强度提升至{0}。      10      10   \n264014                                     睦疏之匣可驱散最强大的黑雾。      17      17   \n264016                     主要负责维护层岩巨渊在封锁中的秩序，保障驻留人员的后勤补给。      33      27   \n\n        zh_len     score  \n0            5  0.658794  \n1           30  0.699381  \n3            6  0.713721  \n4            3  0.858970  \n6          104  0.796881  \n...        ...       ...  \n264008       5  0.661044  \n264012      16  0.780608  \n264013      10  0.906608  \n264014      13  0.730138  \n264016      23  0.708158  \n\n[221107 rows x 7 columns]",
      "text/html": "<div>\n<style scoped>\n    .dataframe tbody tr th:only-of-type {\n        vertical-align: middle;\n    }\n\n    .dataframe tbody tr th {\n        vertical-align: top;\n    }\n\n    .dataframe thead th {\n        text-align: right;\n    }\n</style>\n<table border=\"1\" class=\"dataframe\">\n  <thead>\n    <tr style=\"text-align: right;\">\n      <th></th>\n      <th>en</th>\n      <th>ja</th>\n      <th>zh</th>\n      <th>en_len</th>\n      <th>ja_len</th>\n      <th>zh_len</th>\n      <th>score</th>\n    </tr>\n  </thead>\n  <tbody>\n    <tr>\n      <th>0</th>\n      <td>Googol Chair</td>\n      <td>グーゴル·イス</td>\n      <td>古高尔椅子</td>\n      <td>3</td>\n      <td>6</td>\n      <td>5</td>\n      <td>0.658794</td>\n    </tr>\n    <tr>\n      <th>1</th>\n      <td>A masquerade mask worn by the old aristocrats ...</td>\n      <td>モンドの旧貴族が舞踏会に使用していた仮面、空洞となった目の縁は今でも昔の光景を見つめている。</td>\n      <td>曾经属于旧日蒙德贵族的舞会面具，那空洞的眼眶依旧凝望着昔日的盛景。</td>\n      <td>33</td>\n      <td>30</td>\n      <td>30</td>\n      <td>0.699381</td>\n    </tr>\n    <tr>\n      <th>3</th>\n      <td>Unlock Hangout Event</td>\n      <td>デートイベント開放</td>\n      <td>解锁邀约事件</td>\n      <td>5</td>\n      <td>4</td>\n      <td>6</td>\n      <td>0.713721</td>\n    </tr>\n    <tr>\n      <th>4</th>\n      <td>Paimon</td>\n      <td>パイモン</td>\n      <td>派蒙</td>\n      <td>2</td>\n      <td>3</td>\n      <td>3</td>\n      <td>0.858970</td>\n    </tr>\n    <tr>\n      <th>6</th>\n      <td>Barbara is the Deaconess of the Church of Favo...</td>\n      <td>バーバラは西風教会の祈祷牧師であり、モンドのアイドルでもある。「バーバラに会うと、気分が良く...</td>\n      <td>芭芭拉是西风教会的祈礼牧师，同时也是蒙德城的闪耀偶像。“只要看到芭芭拉，心情就能变好。”——...</td>\n      <td>135</td>\n      <td>91</td>\n      <td>104</td>\n      <td>0.796881</td>\n    </tr>\n    <tr>\n      <th>...</th>\n      <td>...</td>\n      <td>...</td>\n      <td>...</td>\n      <td>...</td>\n      <td>...</td>\n      <td>...</td>\n      <td>...</td>\n    </tr>\n    <tr>\n      <th>264008</th>\n      <td>The Cage-Maker</td>\n      <td>「籠作り」</td>\n      <td>“造笼师”</td>\n      <td>5</td>\n      <td>4</td>\n      <td>5</td>\n      <td>0.661044</td>\n    </tr>\n    <tr>\n      <th>264012</th>\n      <td>{0} {1} required. Continue?</td>\n      <td>{1}を{0}個消費して、活性化しますか？</td>\n      <td>激活将消耗{0}个{1}，是否确认激活？</td>\n      <td>9</td>\n      <td>13</td>\n      <td>16</td>\n      <td>0.780608</td>\n    </tr>\n    <tr>\n      <th>264013</th>\n      <td>Corrosion Resistance increased to {0}.</td>\n      <td>侵食耐性が{0}にアップ。</td>\n      <td>抗侵蚀强度提升至{0}。</td>\n      <td>10</td>\n      <td>10</td>\n      <td>10</td>\n      <td>0.906608</td>\n    </tr>\n    <tr>\n      <th>264014</th>\n      <td>The Bokuso Box is now able to disperse the gre...</td>\n      <td>睦疎の箱は最も強力な黒霧を消散することができるようになる。</td>\n      <td>睦疏之匣可驱散最强大的黑雾。</td>\n      <td>17</td>\n      <td>17</td>\n      <td>13</td>\n      <td>0.730138</td>\n    </tr>\n    <tr>\n      <th>264016</th>\n      <td>Their main duties are to maintain the sealed s...</td>\n      <td>主な仕事は、層岩巨淵が封鎖している間の秩序維持と、駐在人員の物資確保である。</td>\n      <td>主要负责维护层岩巨渊在封锁中的秩序，保障驻留人员的后勤补给。</td>\n      <td>33</td>\n      <td>27</td>\n      <td>23</td>\n      <td>0.708158</td>\n    </tr>\n  </tbody>\n</table>\n<p>221107 rows × 7 columns</p>\n</div>"
     },
     "execution_count": 14,
     "metadata": {},
     "output_type": "execute_result"
    }
   ],
   "source": [
    "# replace「」to “”, 『』to ‘’ in zh\n",
    "df['zh'] = df['zh'].apply(lambda x: x.replace('「', '“'))\n",
    "df['zh'] = df['zh'].apply(lambda x: x.replace('」', '”'))\n",
    "df['zh'] = df['zh'].apply(lambda x: x.replace('『', '‘'))\n",
    "df['zh'] = df['zh'].apply(lambda x: x.replace('』', '’'))\n",
    "df"
   ],
   "metadata": {
    "collapsed": false,
    "ExecuteTime": {
     "end_time": "2023-07-02T13:32:59.439904742Z",
     "start_time": "2023-07-02T13:32:59.183711552Z"
    }
   }
  },
  {
   "cell_type": "code",
   "execution_count": 15,
   "outputs": [],
   "source": [
    "# drop len and score column\n",
    "df = df.drop(columns=['en_len', 'ja_len', 'zh_len', 'score'])\n",
    "# save to parquet\n",
    "df.to_parquet('parquet/GenshinTextMap.parquet', index=False)"
   ],
   "metadata": {
    "collapsed": false,
    "ExecuteTime": {
     "end_time": "2023-07-02T13:33:00.031759393Z",
     "start_time": "2023-07-02T13:32:59.442119677Z"
    }
   }
  },
  {
   "cell_type": "code",
   "execution_count": 16,
   "outputs": [
    {
     "data": {
      "text/plain": "                                                       en  \\\n0                                            Googol Chair   \n1       A masquerade mask worn by the old aristocrats ...   \n2                                    Unlock Hangout Event   \n3                                                  Paimon   \n4       Barbara is the Deaconess of the Church of Favo...   \n...                                                   ...   \n221102                                     The Cage-Maker   \n221103                        {0} {1} required. Continue?   \n221104             Corrosion Resistance increased to {0}.   \n221105  The Bokuso Box is now able to disperse the gre...   \n221106  Their main duties are to maintain the sealed s...   \n\n                                                       ja  \\\n0                                                 グーゴル·イス   \n1          モンドの旧貴族が舞踏会に使用していた仮面、空洞となった目の縁は今でも昔の光景を見つめている。   \n2                                               デートイベント開放   \n3                                                    パイモン   \n4       バーバラは西風教会の祈祷牧師であり、モンドのアイドルでもある。「バーバラに会うと、気分が良く...   \n...                                                   ...   \n221102                                              「籠作り」   \n221103                              {1}を{0}個消費して、活性化しますか？   \n221104                                      侵食耐性が{0}にアップ。   \n221105                      睦疎の箱は最も強力な黒霧を消散することができるようになる。   \n221106             主な仕事は、層岩巨淵が封鎖している間の秩序維持と、駐在人員の物資確保である。   \n\n                                                       zh  \n0                                                   古高尔椅子  \n1                       曾经属于旧日蒙德贵族的舞会面具，那空洞的眼眶依旧凝望着昔日的盛景。  \n2                                                  解锁邀约事件  \n3                                                      派蒙  \n4       芭芭拉是西风教会的祈礼牧师，同时也是蒙德城的闪耀偶像。“只要看到芭芭拉，心情就能变好。”——...  \n...                                                   ...  \n221102                                              “造笼师”  \n221103                               激活将消耗{0}个{1}，是否确认激活？  \n221104                                       抗侵蚀强度提升至{0}。  \n221105                                     睦疏之匣可驱散最强大的黑雾。  \n221106                     主要负责维护层岩巨渊在封锁中的秩序，保障驻留人员的后勤补给。  \n\n[221107 rows x 3 columns]",
      "text/html": "<div>\n<style scoped>\n    .dataframe tbody tr th:only-of-type {\n        vertical-align: middle;\n    }\n\n    .dataframe tbody tr th {\n        vertical-align: top;\n    }\n\n    .dataframe thead th {\n        text-align: right;\n    }\n</style>\n<table border=\"1\" class=\"dataframe\">\n  <thead>\n    <tr style=\"text-align: right;\">\n      <th></th>\n      <th>en</th>\n      <th>ja</th>\n      <th>zh</th>\n    </tr>\n  </thead>\n  <tbody>\n    <tr>\n      <th>0</th>\n      <td>Googol Chair</td>\n      <td>グーゴル·イス</td>\n      <td>古高尔椅子</td>\n    </tr>\n    <tr>\n      <th>1</th>\n      <td>A masquerade mask worn by the old aristocrats ...</td>\n      <td>モンドの旧貴族が舞踏会に使用していた仮面、空洞となった目の縁は今でも昔の光景を見つめている。</td>\n      <td>曾经属于旧日蒙德贵族的舞会面具，那空洞的眼眶依旧凝望着昔日的盛景。</td>\n    </tr>\n    <tr>\n      <th>2</th>\n      <td>Unlock Hangout Event</td>\n      <td>デートイベント開放</td>\n      <td>解锁邀约事件</td>\n    </tr>\n    <tr>\n      <th>3</th>\n      <td>Paimon</td>\n      <td>パイモン</td>\n      <td>派蒙</td>\n    </tr>\n    <tr>\n      <th>4</th>\n      <td>Barbara is the Deaconess of the Church of Favo...</td>\n      <td>バーバラは西風教会の祈祷牧師であり、モンドのアイドルでもある。「バーバラに会うと、気分が良く...</td>\n      <td>芭芭拉是西风教会的祈礼牧师，同时也是蒙德城的闪耀偶像。“只要看到芭芭拉，心情就能变好。”——...</td>\n    </tr>\n    <tr>\n      <th>...</th>\n      <td>...</td>\n      <td>...</td>\n      <td>...</td>\n    </tr>\n    <tr>\n      <th>221102</th>\n      <td>The Cage-Maker</td>\n      <td>「籠作り」</td>\n      <td>“造笼师”</td>\n    </tr>\n    <tr>\n      <th>221103</th>\n      <td>{0} {1} required. Continue?</td>\n      <td>{1}を{0}個消費して、活性化しますか？</td>\n      <td>激活将消耗{0}个{1}，是否确认激活？</td>\n    </tr>\n    <tr>\n      <th>221104</th>\n      <td>Corrosion Resistance increased to {0}.</td>\n      <td>侵食耐性が{0}にアップ。</td>\n      <td>抗侵蚀强度提升至{0}。</td>\n    </tr>\n    <tr>\n      <th>221105</th>\n      <td>The Bokuso Box is now able to disperse the gre...</td>\n      <td>睦疎の箱は最も強力な黒霧を消散することができるようになる。</td>\n      <td>睦疏之匣可驱散最强大的黑雾。</td>\n    </tr>\n    <tr>\n      <th>221106</th>\n      <td>Their main duties are to maintain the sealed s...</td>\n      <td>主な仕事は、層岩巨淵が封鎖している間の秩序維持と、駐在人員の物資確保である。</td>\n      <td>主要负责维护层岩巨渊在封锁中的秩序，保障驻留人员的后勤补给。</td>\n    </tr>\n  </tbody>\n</table>\n<p>221107 rows × 3 columns</p>\n</div>"
     },
     "execution_count": 16,
     "metadata": {},
     "output_type": "execute_result"
    }
   ],
   "source": [
    "# load parquet\n",
    "df = pd.read_parquet('parquet/GenshinTextMap.parquet')\n",
    "df"
   ],
   "metadata": {
    "collapsed": false,
    "ExecuteTime": {
     "end_time": "2023-07-02T13:33:00.488831681Z",
     "start_time": "2023-07-02T13:33:00.033690265Z"
    }
   }
  }
 ],
 "metadata": {
  "kernelspec": {
   "display_name": "Python 3",
   "language": "python",
   "name": "python3"
  },
  "language_info": {
   "codemirror_mode": {
    "name": "ipython",
    "version": 2
   },
   "file_extension": ".py",
   "mimetype": "text/x-python",
   "name": "python",
   "nbconvert_exporter": "python",
   "pygments_lexer": "ipython2",
   "version": "2.7.6"
  }
 },
 "nbformat": 4,
 "nbformat_minor": 0
}
