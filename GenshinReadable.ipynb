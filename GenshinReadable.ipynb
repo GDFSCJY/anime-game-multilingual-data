{
 "cells": [
  {
   "cell_type": "code",
   "execution_count": 1,
   "metadata": {
    "collapsed": true,
    "ExecuteTime": {
     "end_time": "2023-07-09T10:27:43.768127057Z",
     "start_time": "2023-07-09T10:27:43.507293321Z"
    }
   },
   "outputs": [],
   "source": [
    "from glob import glob\n",
    "import os\n",
    "import pandas as pd\n",
    "from tqdm import tqdm_notebook as tqdm\n",
    "import re\n"
   ]
  },
  {
   "cell_type": "code",
   "execution_count": 2,
   "outputs": [
    {
     "name": "stderr",
     "output_type": "stream",
     "text": [
      "/tmp/ipykernel_22935/2497917625.py:7: TqdmDeprecationWarning: This function will be removed in tqdm==5.0.0\n",
      "Please use `tqdm.notebook.tqdm` instead of `tqdm.tqdm_notebook`\n",
      "  for zh_file in tqdm(os.listdir(zh_path), total=len(os.listdir(zh_path))):\n"
     ]
    },
    {
     "data": {
      "text/plain": "  0%|          | 0/1037 [00:00<?, ?it/s]",
      "application/vnd.jupyter.widget-view+json": {
       "version_major": 2,
       "version_minor": 0,
       "model_id": "93502dbd12bd4e338fc9e30c19cbb506"
      }
     },
     "metadata": {},
     "output_type": "display_data"
    },
    {
     "name": "stdout",
     "output_type": "stream",
     "text": [
      "Skip 0 files, 1037 files left.\n"
     ]
    }
   ],
   "source": [
    "en_path = 'GAMEDATA/GenshinData/Readable/EN'\n",
    "ja_path = 'GAMEDATA/GenshinData/Readable/JP'\n",
    "zh_path = 'GAMEDATA/GenshinData/Readable/CHS'\n",
    "\n",
    "skip_count = 0\n",
    "en_files, ja_files, zh_files = [], [], []\n",
    "for zh_file in tqdm(os.listdir(zh_path), total=len(os.listdir(zh_path))):\n",
    "    en_file = os.path.join(en_path, zh_file.split('.')[0] + '_EN.txt')\n",
    "    ja_file = os.path.join(ja_path, zh_file.split('.')[0] + '_JP.txt')\n",
    "    zh_file = os.path.join(zh_path, zh_file)\n",
    "    if not os.path.exists(en_file) or not os.path.exists(ja_file):\n",
    "        skip_count += 1\n",
    "        continue\n",
    "    en_files.append(en_file)\n",
    "    ja_files.append(ja_file)\n",
    "    zh_files.append(zh_file)\n",
    "\n",
    "print(f'Skip {skip_count} files, {len(en_files)} files left.')"
   ],
   "metadata": {
    "collapsed": false,
    "ExecuteTime": {
     "end_time": "2023-07-09T10:27:45.447933299Z",
     "start_time": "2023-07-09T10:27:45.291477530Z"
    }
   }
  },
  {
   "cell_type": "code",
   "execution_count": 3,
   "outputs": [
    {
     "name": "stderr",
     "output_type": "stream",
     "text": [
      "/tmp/ipykernel_22935/1664099712.py:12: TqdmDeprecationWarning: This function will be removed in tqdm==5.0.0\n",
      "Please use `tqdm.notebook.tqdm` instead of `tqdm.tqdm_notebook`\n",
      "  pbar = tqdm(zip(en_files, ja_files, zh_files), total=len(en_files))\n"
     ]
    },
    {
     "data": {
      "text/plain": "  0%|          | 0/1037 [00:00<?, ?it/s]",
      "application/vnd.jupyter.widget-view+json": {
       "version_major": 2,
       "version_minor": 0,
       "model_id": "7f2118653b41490eba616673647fbc46"
      }
     },
     "metadata": {},
     "output_type": "display_data"
    },
    {
     "name": "stdout",
     "output_type": "stream",
     "text": [
      "Warning: length of GAMEDATA/AnimeGameData/Readable/EN/Book173_EN.txt is not equal to GAMEDATA/AnimeGameData/Readable/JP/Book173_JP.txt or GAMEDATA/AnimeGameData/Readable/CHS/Book173.txt\n",
      "length of en: 1, ja: 0, zh: 1\n",
      "Warning: length of GAMEDATA/AnimeGameData/Readable/EN/Book613_EN.txt is not equal to GAMEDATA/AnimeGameData/Readable/JP/Book613_JP.txt or GAMEDATA/AnimeGameData/Readable/CHS/Book613.txt\n",
      "length of en: 9, ja: 8, zh: 8\n",
      "Warning: length of GAMEDATA/AnimeGameData/Readable/EN/Book223_EN.txt is not equal to GAMEDATA/AnimeGameData/Readable/JP/Book223_JP.txt or GAMEDATA/AnimeGameData/Readable/CHS/Book223.txt\n",
      "length of en: 1, ja: 0, zh: 1\n",
      "Warning: length of GAMEDATA/AnimeGameData/Readable/EN/Book366_EN.txt is not equal to GAMEDATA/AnimeGameData/Readable/JP/Book366_JP.txt or GAMEDATA/AnimeGameData/Readable/CHS/Book366.txt\n",
      "length of en: 5, ja: 4, zh: 5\n"
     ]
    },
    {
     "data": {
      "text/plain": "                                                      en  \\\n0      The long-wandering eccentric no longer thinks ...   \n1      But when he closes his eyes, he can still see ...   \n2                            The kind young deputy said:   \n3      \"This gold ornament is a proof of identity gra...   \n4      \"But as you travel the world, please bear this...   \n...                                                  ...   \n12834  Sangonomiya was once an ocean abyss, until the...   \n12835  The inhabitants of Watatsumi call themselves t...   \n12836  During the Archon War, Her Excellency the Almi...   \n12837  The war was brutal, and brought great sufferin...   \n12838  Thereafter, Sangonomiya sent envoys to announc...   \n\n                                                      ja  \\\n0                         長年放浪してきた傾奇者は、もうそのことを思い出さないだろう。   \n1                              しかし目を閉じると、たたら砂の月夜や炉火が見える。   \n2                                         若く、心優しい副官が言った。   \n3                             「この金の飾りは、将軍から授かった身分の証である。」   \n4                                 「世を渡り歩く時、やむを得ない場合を除き、」   \n...                                                  ...   \n12834  珊瑚宮は、最初は海溝だった。大蛇が渡来した際、渦が巻き上がった珊瑚が島になった。故に珊瑚宮の...   \n12835  海祇の人は海民と自称し、大蛇オロバシノミコトを祀る。海祇島に将軍奉行の位がなく、神宮を最高権...   \n12836  往年魔神の混戦中、雷電大御所将軍様が稲妻全土を平定した。皆ひれ伏し、各々の地を治めた。事を起...   \n12837  過酷な戦で民が苦しんだ。今のヤシオリ島で激しい戦闘が行われ、双方の被害が甚大だった。大御所殿...   \n12838                     この後、珊瑚宮は降伏し、稲妻幕府を大宗主とするようになった。   \n\n                                                      zh  \n0                                       流浪多年的倾奇者已不会再想起它，  \n1                                  但闭上双眼，却仍能看到踏鞴砂的月夜与炉火。  \n2                                              年轻仁厚的副官说：  \n3                                      「这金饰是将军大人所赐身份之证，」  \n4                                      「但你行走世间时，若非万不得已，」  \n...                                                  ...  \n12834  珊瑚宫者，初为海渊，后有大蛇渡来，盘桓而升涡流，塑珊瑚而成岛。是故珊瑚宫人名之「海祇岛」，盖...  \n12835  海祇之人自称海民，奉大蛇远吕羽氏尊。海祇岛以神宫为高府，无将军奉行之畴。大小事务仰赖诸巫女，...  \n12836  往年魔神混战，雷电大御所将军殿下定稻妻全土于一元，众皆震悚俯首，各安其位，或有直遭殄灭，再无...  \n12837  战事酷烈，民生惨苦。两方鏖战今八酝岛，皆多有伤亡，大御所殿下之爱将天狗笹百合亦陨落其间。大蛇...  \n12838                           自此以后，珊瑚宫遣使降服，尊稻妻幕府为大宗主也。  \n\n[12839 rows x 3 columns]",
      "text/html": "<div>\n<style scoped>\n    .dataframe tbody tr th:only-of-type {\n        vertical-align: middle;\n    }\n\n    .dataframe tbody tr th {\n        vertical-align: top;\n    }\n\n    .dataframe thead th {\n        text-align: right;\n    }\n</style>\n<table border=\"1\" class=\"dataframe\">\n  <thead>\n    <tr style=\"text-align: right;\">\n      <th></th>\n      <th>en</th>\n      <th>ja</th>\n      <th>zh</th>\n    </tr>\n  </thead>\n  <tbody>\n    <tr>\n      <th>0</th>\n      <td>The long-wandering eccentric no longer thinks ...</td>\n      <td>長年放浪してきた傾奇者は、もうそのことを思い出さないだろう。</td>\n      <td>流浪多年的倾奇者已不会再想起它，</td>\n    </tr>\n    <tr>\n      <th>1</th>\n      <td>But when he closes his eyes, he can still see ...</td>\n      <td>しかし目を閉じると、たたら砂の月夜や炉火が見える。</td>\n      <td>但闭上双眼，却仍能看到踏鞴砂的月夜与炉火。</td>\n    </tr>\n    <tr>\n      <th>2</th>\n      <td>The kind young deputy said:</td>\n      <td>若く、心優しい副官が言った。</td>\n      <td>年轻仁厚的副官说：</td>\n    </tr>\n    <tr>\n      <th>3</th>\n      <td>\"This gold ornament is a proof of identity gra...</td>\n      <td>「この金の飾りは、将軍から授かった身分の証である。」</td>\n      <td>「这金饰是将军大人所赐身份之证，」</td>\n    </tr>\n    <tr>\n      <th>4</th>\n      <td>\"But as you travel the world, please bear this...</td>\n      <td>「世を渡り歩く時、やむを得ない場合を除き、」</td>\n      <td>「但你行走世间时，若非万不得已，」</td>\n    </tr>\n    <tr>\n      <th>...</th>\n      <td>...</td>\n      <td>...</td>\n      <td>...</td>\n    </tr>\n    <tr>\n      <th>12834</th>\n      <td>Sangonomiya was once an ocean abyss, until the...</td>\n      <td>珊瑚宮は、最初は海溝だった。大蛇が渡来した際、渦が巻き上がった珊瑚が島になった。故に珊瑚宮の...</td>\n      <td>珊瑚宫者，初为海渊，后有大蛇渡来，盘桓而升涡流，塑珊瑚而成岛。是故珊瑚宫人名之「海祇岛」，盖...</td>\n    </tr>\n    <tr>\n      <th>12835</th>\n      <td>The inhabitants of Watatsumi call themselves t...</td>\n      <td>海祇の人は海民と自称し、大蛇オロバシノミコトを祀る。海祇島に将軍奉行の位がなく、神宮を最高権...</td>\n      <td>海祇之人自称海民，奉大蛇远吕羽氏尊。海祇岛以神宫为高府，无将军奉行之畴。大小事务仰赖诸巫女，...</td>\n    </tr>\n    <tr>\n      <th>12836</th>\n      <td>During the Archon War, Her Excellency the Almi...</td>\n      <td>往年魔神の混戦中、雷電大御所将軍様が稲妻全土を平定した。皆ひれ伏し、各々の地を治めた。事を起...</td>\n      <td>往年魔神混战，雷电大御所将军殿下定稻妻全土于一元，众皆震悚俯首，各安其位，或有直遭殄灭，再无...</td>\n    </tr>\n    <tr>\n      <th>12837</th>\n      <td>The war was brutal, and brought great sufferin...</td>\n      <td>過酷な戦で民が苦しんだ。今のヤシオリ島で激しい戦闘が行われ、双方の被害が甚大だった。大御所殿...</td>\n      <td>战事酷烈，民生惨苦。两方鏖战今八酝岛，皆多有伤亡，大御所殿下之爱将天狗笹百合亦陨落其间。大蛇...</td>\n    </tr>\n    <tr>\n      <th>12838</th>\n      <td>Thereafter, Sangonomiya sent envoys to announc...</td>\n      <td>この後、珊瑚宮は降伏し、稲妻幕府を大宗主とするようになった。</td>\n      <td>自此以后，珊瑚宫遣使降服，尊稻妻幕府为大宗主也。</td>\n    </tr>\n  </tbody>\n</table>\n<p>12839 rows × 3 columns</p>\n</div>"
     },
     "execution_count": 3,
     "metadata": {},
     "output_type": "execute_result"
    }
   ],
   "source": [
    "df = pd.DataFrame(columns=['en', 'ja', 'zh'])\n",
    "\n",
    "def read_file(file):\n",
    "    text = []\n",
    "    for line in open(file, 'r', encoding='utf-8'):\n",
    "        line = line.strip()\n",
    "        if line == '':\n",
    "            continue\n",
    "        text.append(line)\n",
    "    return text\n",
    "\n",
    "pbar = tqdm(zip(en_files, ja_files, zh_files), total=len(en_files))\n",
    "for en_file, ja_file, zh_file in pbar:\n",
    "    pbar.set_description(f'Processing {en_file}')\n",
    "\n",
    "    en_text = read_file(en_file)\n",
    "    ja_text = read_file(ja_file)\n",
    "    zh_text = read_file(zh_file)\n",
    "\n",
    "    if len(en_text) != len(ja_text) or len(en_text) != len(zh_text):\n",
    "        print(f'Warning: length of {en_file} is not equal to {ja_file} or {zh_file}')\n",
    "        print(f'length of en: {len(en_text)}, ja: {len(ja_text)}, zh: {len(zh_text)}')\n",
    "        continue\n",
    "\n",
    "    df = pd.concat([df, pd.DataFrame({'en': en_text, 'ja': ja_text, 'zh': zh_text})], ignore_index=True)\n",
    "\n",
    "df"
   ],
   "metadata": {
    "collapsed": false,
    "ExecuteTime": {
     "end_time": "2023-07-09T10:27:53.341620322Z",
     "start_time": "2023-07-09T10:27:51.608690732Z"
    }
   }
  },
  {
   "cell_type": "code",
   "execution_count": 4,
   "outputs": [
    {
     "data": {
      "text/plain": "                                                      en  \\\n0      The long-wandering eccentric no longer thinks ...   \n1      But when he closes his eyes, he can still see ...   \n2                            The kind young deputy said:   \n3      \"This gold ornament is a proof of identity gra...   \n4      \"But as you travel the world, please bear this...   \n...                                                  ...   \n12834  Sangonomiya was once an ocean abyss, until the...   \n12835  The inhabitants of Watatsumi call themselves t...   \n12836  During the Archon War, Her Excellency the Almi...   \n12837  The war was brutal, and brought great sufferin...   \n12838  Thereafter, Sangonomiya sent envoys to announc...   \n\n                                                      ja  \\\n0                         長年放浪してきた傾奇者は、もうそのことを思い出さないだろう。   \n1                              しかし目を閉じると、たたら砂の月夜や炉火が見える。   \n2                                         若く、心優しい副官が言った。   \n3                             「この金の飾りは、将軍から授かった身分の証である。」   \n4                                 「世を渡り歩く時、やむを得ない場合を除き、」   \n...                                                  ...   \n12834  珊瑚宮は、最初は海溝だった。大蛇が渡来した際、渦が巻き上がった珊瑚が島になった。故に珊瑚宮の...   \n12835  海祇の人は海民と自称し、大蛇オロバシノミコトを祀る。海祇島に将軍奉行の位がなく、神宮を最高権...   \n12836  往年魔神の混戦中、雷電大御所将軍様が稲妻全土を平定した。皆ひれ伏し、各々の地を治めた。事を起...   \n12837  過酷な戦で民が苦しんだ。今のヤシオリ島で激しい戦闘が行われ、双方の被害が甚大だった。大御所殿...   \n12838                     この後、珊瑚宮は降伏し、稲妻幕府を大宗主とするようになった。   \n\n                                                      zh  \n0                                       流浪多年的倾奇者已不会再想起它，  \n1                                  但闭上双眼，却仍能看到踏鞴砂的月夜与炉火。  \n2                                              年轻仁厚的副官说：  \n3                                      「这金饰是将军大人所赐身份之证，」  \n4                                      「但你行走世间时，若非万不得已，」  \n...                                                  ...  \n12834  珊瑚宫者，初为海渊，后有大蛇渡来，盘桓而升涡流，塑珊瑚而成岛。是故珊瑚宫人名之「海祇岛」，盖...  \n12835  海祇之人自称海民，奉大蛇远吕羽氏尊。海祇岛以神宫为高府，无将军奉行之畴。大小事务仰赖诸巫女，...  \n12836  往年魔神混战，雷电大御所将军殿下定稻妻全土于一元，众皆震悚俯首，各安其位，或有直遭殄灭，再无...  \n12837  战事酷烈，民生惨苦。两方鏖战今八酝岛，皆多有伤亡，大御所殿下之爱将天狗笹百合亦陨落其间。大蛇...  \n12838                           自此以后，珊瑚宫遣使降服，尊稻妻幕府为大宗主也。  \n\n[11906 rows x 3 columns]",
      "text/html": "<div>\n<style scoped>\n    .dataframe tbody tr th:only-of-type {\n        vertical-align: middle;\n    }\n\n    .dataframe tbody tr th {\n        vertical-align: top;\n    }\n\n    .dataframe thead th {\n        text-align: right;\n    }\n</style>\n<table border=\"1\" class=\"dataframe\">\n  <thead>\n    <tr style=\"text-align: right;\">\n      <th></th>\n      <th>en</th>\n      <th>ja</th>\n      <th>zh</th>\n    </tr>\n  </thead>\n  <tbody>\n    <tr>\n      <th>0</th>\n      <td>The long-wandering eccentric no longer thinks ...</td>\n      <td>長年放浪してきた傾奇者は、もうそのことを思い出さないだろう。</td>\n      <td>流浪多年的倾奇者已不会再想起它，</td>\n    </tr>\n    <tr>\n      <th>1</th>\n      <td>But when he closes his eyes, he can still see ...</td>\n      <td>しかし目を閉じると、たたら砂の月夜や炉火が見える。</td>\n      <td>但闭上双眼，却仍能看到踏鞴砂的月夜与炉火。</td>\n    </tr>\n    <tr>\n      <th>2</th>\n      <td>The kind young deputy said:</td>\n      <td>若く、心優しい副官が言った。</td>\n      <td>年轻仁厚的副官说：</td>\n    </tr>\n    <tr>\n      <th>3</th>\n      <td>\"This gold ornament is a proof of identity gra...</td>\n      <td>「この金の飾りは、将軍から授かった身分の証である。」</td>\n      <td>「这金饰是将军大人所赐身份之证，」</td>\n    </tr>\n    <tr>\n      <th>4</th>\n      <td>\"But as you travel the world, please bear this...</td>\n      <td>「世を渡り歩く時、やむを得ない場合を除き、」</td>\n      <td>「但你行走世间时，若非万不得已，」</td>\n    </tr>\n    <tr>\n      <th>...</th>\n      <td>...</td>\n      <td>...</td>\n      <td>...</td>\n    </tr>\n    <tr>\n      <th>12834</th>\n      <td>Sangonomiya was once an ocean abyss, until the...</td>\n      <td>珊瑚宮は、最初は海溝だった。大蛇が渡来した際、渦が巻き上がった珊瑚が島になった。故に珊瑚宮の...</td>\n      <td>珊瑚宫者，初为海渊，后有大蛇渡来，盘桓而升涡流，塑珊瑚而成岛。是故珊瑚宫人名之「海祇岛」，盖...</td>\n    </tr>\n    <tr>\n      <th>12835</th>\n      <td>The inhabitants of Watatsumi call themselves t...</td>\n      <td>海祇の人は海民と自称し、大蛇オロバシノミコトを祀る。海祇島に将軍奉行の位がなく、神宮を最高権...</td>\n      <td>海祇之人自称海民，奉大蛇远吕羽氏尊。海祇岛以神宫为高府，无将军奉行之畴。大小事务仰赖诸巫女，...</td>\n    </tr>\n    <tr>\n      <th>12836</th>\n      <td>During the Archon War, Her Excellency the Almi...</td>\n      <td>往年魔神の混戦中、雷電大御所将軍様が稲妻全土を平定した。皆ひれ伏し、各々の地を治めた。事を起...</td>\n      <td>往年魔神混战，雷电大御所将军殿下定稻妻全土于一元，众皆震悚俯首，各安其位，或有直遭殄灭，再无...</td>\n    </tr>\n    <tr>\n      <th>12837</th>\n      <td>The war was brutal, and brought great sufferin...</td>\n      <td>過酷な戦で民が苦しんだ。今のヤシオリ島で激しい戦闘が行われ、双方の被害が甚大だった。大御所殿...</td>\n      <td>战事酷烈，民生惨苦。两方鏖战今八酝岛，皆多有伤亡，大御所殿下之爱将天狗笹百合亦陨落其间。大蛇...</td>\n    </tr>\n    <tr>\n      <th>12838</th>\n      <td>Thereafter, Sangonomiya sent envoys to announc...</td>\n      <td>この後、珊瑚宮は降伏し、稲妻幕府を大宗主とするようになった。</td>\n      <td>自此以后，珊瑚宫遣使降服，尊稻妻幕府为大宗主也。</td>\n    </tr>\n  </tbody>\n</table>\n<p>11906 rows × 3 columns</p>\n</div>"
     },
     "execution_count": 4,
     "metadata": {},
     "output_type": "execute_result"
    }
   ],
   "source": [
    "# drop duplicate\n",
    "df = df.drop_duplicates(subset=['en', 'ja', 'zh'], keep='first')\n",
    "df"
   ],
   "metadata": {
    "collapsed": false,
    "ExecuteTime": {
     "end_time": "2023-07-09T10:28:03.862425861Z",
     "start_time": "2023-07-09T10:28:03.809136762Z"
    }
   }
  },
  {
   "cell_type": "code",
   "execution_count": 5,
   "outputs": [
    {
     "name": "stderr",
     "output_type": "stream",
     "text": [
      "/tmp/ipykernel_22935/1995334252.py:2: SettingWithCopyWarning: \n",
      "A value is trying to be set on a copy of a slice from a DataFrame.\n",
      "Try using .loc[row_indexer,col_indexer] = value instead\n",
      "\n",
      "See the caveats in the documentation: https://pandas.pydata.org/pandas-docs/stable/user_guide/indexing.html#returning-a-view-versus-a-copy\n",
      "  df['en'] = df['en'].apply(lambda x: re.sub(r'<[^>]*?>', '', x))\n",
      "/tmp/ipykernel_22935/1995334252.py:3: SettingWithCopyWarning: \n",
      "A value is trying to be set on a copy of a slice from a DataFrame.\n",
      "Try using .loc[row_indexer,col_indexer] = value instead\n",
      "\n",
      "See the caveats in the documentation: https://pandas.pydata.org/pandas-docs/stable/user_guide/indexing.html#returning-a-view-versus-a-copy\n",
      "  df['ja'] = df['ja'].apply(lambda x: re.sub(r'<[^>]*?>', '', x))\n",
      "/tmp/ipykernel_22935/1995334252.py:4: SettingWithCopyWarning: \n",
      "A value is trying to be set on a copy of a slice from a DataFrame.\n",
      "Try using .loc[row_indexer,col_indexer] = value instead\n",
      "\n",
      "See the caveats in the documentation: https://pandas.pydata.org/pandas-docs/stable/user_guide/indexing.html#returning-a-view-versus-a-copy\n",
      "  df['zh'] = df['zh'].apply(lambda x: re.sub(r'<[^>]*?>', '', x))\n"
     ]
    },
    {
     "data": {
      "text/plain": "                                                      en  \\\n0      The long-wandering eccentric no longer thinks ...   \n1      But when he closes his eyes, he can still see ...   \n2                            The kind young deputy said:   \n3      \"This gold ornament is a proof of identity gra...   \n4      \"But as you travel the world, please bear this...   \n...                                                  ...   \n12834  Sangonomiya was once an ocean abyss, until the...   \n12835  The inhabitants of Watatsumi call themselves t...   \n12836  During the Archon War, Her Excellency the Almi...   \n12837  The war was brutal, and brought great sufferin...   \n12838  Thereafter, Sangonomiya sent envoys to announc...   \n\n                                                      ja  \\\n0                         長年放浪してきた傾奇者は、もうそのことを思い出さないだろう。   \n1                              しかし目を閉じると、たたら砂の月夜や炉火が見える。   \n2                                         若く、心優しい副官が言った。   \n3                             「この金の飾りは、将軍から授かった身分の証である。」   \n4                                 「世を渡り歩く時、やむを得ない場合を除き、」   \n...                                                  ...   \n12834  珊瑚宮は、最初は海溝だった。大蛇が渡来した際、渦が巻き上がった珊瑚が島になった。故に珊瑚宮の...   \n12835  海祇の人は海民と自称し、大蛇オロバシノミコトを祀る。海祇島に将軍奉行の位がなく、神宮を最高権...   \n12836  往年魔神の混戦中、雷電大御所将軍様が稲妻全土を平定した。皆ひれ伏し、各々の地を治めた。事を起...   \n12837  過酷な戦で民が苦しんだ。今のヤシオリ島で激しい戦闘が行われ、双方の被害が甚大だった。大御所殿...   \n12838                     この後、珊瑚宮は降伏し、稲妻幕府を大宗主とするようになった。   \n\n                                                      zh  \n0                                       流浪多年的倾奇者已不会再想起它，  \n1                                  但闭上双眼，却仍能看到踏鞴砂的月夜与炉火。  \n2                                              年轻仁厚的副官说：  \n3                                      「这金饰是将军大人所赐身份之证，」  \n4                                      「但你行走世间时，若非万不得已，」  \n...                                                  ...  \n12834  珊瑚宫者，初为海渊，后有大蛇渡来，盘桓而升涡流，塑珊瑚而成岛。是故珊瑚宫人名之「海祇岛」，盖...  \n12835  海祇之人自称海民，奉大蛇远吕羽氏尊。海祇岛以神宫为高府，无将军奉行之畴。大小事务仰赖诸巫女，...  \n12836  往年魔神混战，雷电大御所将军殿下定稻妻全土于一元，众皆震悚俯首，各安其位，或有直遭殄灭，再无...  \n12837  战事酷烈，民生惨苦。两方鏖战今八酝岛，皆多有伤亡，大御所殿下之爱将天狗笹百合亦陨落其间。大蛇...  \n12838                           自此以后，珊瑚宫遣使降服，尊稻妻幕府为大宗主也。  \n\n[11906 rows x 3 columns]",
      "text/html": "<div>\n<style scoped>\n    .dataframe tbody tr th:only-of-type {\n        vertical-align: middle;\n    }\n\n    .dataframe tbody tr th {\n        vertical-align: top;\n    }\n\n    .dataframe thead th {\n        text-align: right;\n    }\n</style>\n<table border=\"1\" class=\"dataframe\">\n  <thead>\n    <tr style=\"text-align: right;\">\n      <th></th>\n      <th>en</th>\n      <th>ja</th>\n      <th>zh</th>\n    </tr>\n  </thead>\n  <tbody>\n    <tr>\n      <th>0</th>\n      <td>The long-wandering eccentric no longer thinks ...</td>\n      <td>長年放浪してきた傾奇者は、もうそのことを思い出さないだろう。</td>\n      <td>流浪多年的倾奇者已不会再想起它，</td>\n    </tr>\n    <tr>\n      <th>1</th>\n      <td>But when he closes his eyes, he can still see ...</td>\n      <td>しかし目を閉じると、たたら砂の月夜や炉火が見える。</td>\n      <td>但闭上双眼，却仍能看到踏鞴砂的月夜与炉火。</td>\n    </tr>\n    <tr>\n      <th>2</th>\n      <td>The kind young deputy said:</td>\n      <td>若く、心優しい副官が言った。</td>\n      <td>年轻仁厚的副官说：</td>\n    </tr>\n    <tr>\n      <th>3</th>\n      <td>\"This gold ornament is a proof of identity gra...</td>\n      <td>「この金の飾りは、将軍から授かった身分の証である。」</td>\n      <td>「这金饰是将军大人所赐身份之证，」</td>\n    </tr>\n    <tr>\n      <th>4</th>\n      <td>\"But as you travel the world, please bear this...</td>\n      <td>「世を渡り歩く時、やむを得ない場合を除き、」</td>\n      <td>「但你行走世间时，若非万不得已，」</td>\n    </tr>\n    <tr>\n      <th>...</th>\n      <td>...</td>\n      <td>...</td>\n      <td>...</td>\n    </tr>\n    <tr>\n      <th>12834</th>\n      <td>Sangonomiya was once an ocean abyss, until the...</td>\n      <td>珊瑚宮は、最初は海溝だった。大蛇が渡来した際、渦が巻き上がった珊瑚が島になった。故に珊瑚宮の...</td>\n      <td>珊瑚宫者，初为海渊，后有大蛇渡来，盘桓而升涡流，塑珊瑚而成岛。是故珊瑚宫人名之「海祇岛」，盖...</td>\n    </tr>\n    <tr>\n      <th>12835</th>\n      <td>The inhabitants of Watatsumi call themselves t...</td>\n      <td>海祇の人は海民と自称し、大蛇オロバシノミコトを祀る。海祇島に将軍奉行の位がなく、神宮を最高権...</td>\n      <td>海祇之人自称海民，奉大蛇远吕羽氏尊。海祇岛以神宫为高府，无将军奉行之畴。大小事务仰赖诸巫女，...</td>\n    </tr>\n    <tr>\n      <th>12836</th>\n      <td>During the Archon War, Her Excellency the Almi...</td>\n      <td>往年魔神の混戦中、雷電大御所将軍様が稲妻全土を平定した。皆ひれ伏し、各々の地を治めた。事を起...</td>\n      <td>往年魔神混战，雷电大御所将军殿下定稻妻全土于一元，众皆震悚俯首，各安其位，或有直遭殄灭，再无...</td>\n    </tr>\n    <tr>\n      <th>12837</th>\n      <td>The war was brutal, and brought great sufferin...</td>\n      <td>過酷な戦で民が苦しんだ。今のヤシオリ島で激しい戦闘が行われ、双方の被害が甚大だった。大御所殿...</td>\n      <td>战事酷烈，民生惨苦。两方鏖战今八酝岛，皆多有伤亡，大御所殿下之爱将天狗笹百合亦陨落其间。大蛇...</td>\n    </tr>\n    <tr>\n      <th>12838</th>\n      <td>Thereafter, Sangonomiya sent envoys to announc...</td>\n      <td>この後、珊瑚宮は降伏し、稲妻幕府を大宗主とするようになった。</td>\n      <td>自此以后，珊瑚宫遣使降服，尊稻妻幕府为大宗主也。</td>\n    </tr>\n  </tbody>\n</table>\n<p>11906 rows × 3 columns</p>\n</div>"
     },
     "execution_count": 5,
     "metadata": {},
     "output_type": "execute_result"
    }
   ],
   "source": [
    "# remove html tag\n",
    "df['en'] = df['en'].apply(lambda x: re.sub(r'<[^>]*?>', '', x))\n",
    "df['ja'] = df['ja'].apply(lambda x: re.sub(r'<[^>]*?>', '', x))\n",
    "df['zh'] = df['zh'].apply(lambda x: re.sub(r'<[^>]*?>', '', x))\n",
    "df"
   ],
   "metadata": {
    "collapsed": false,
    "ExecuteTime": {
     "end_time": "2023-07-09T10:28:06.160682303Z",
     "start_time": "2023-07-09T10:28:06.085251598Z"
    }
   }
  },
  {
   "cell_type": "code",
   "execution_count": 6,
   "outputs": [
    {
     "data": {
      "text/plain": "                                                      en  \\\n0      The long-wandering eccentric no longer thinks ...   \n1      But when he closes his eyes, he can still see ...   \n2                            The kind young deputy said:   \n3      \"This gold ornament is a proof of identity gra...   \n4      \"But as you travel the world, please bear this...   \n...                                                  ...   \n12834  Sangonomiya was once an ocean abyss, until the...   \n12835  The inhabitants of Watatsumi call themselves t...   \n12836  During the Archon War, Her Excellency the Almi...   \n12837  The war was brutal, and brought great sufferin...   \n12838  Thereafter, Sangonomiya sent envoys to announc...   \n\n                                                      ja  \\\n0                         長年放浪してきた傾奇者は、もうそのことを思い出さないだろう。   \n1                              しかし目を閉じると、たたら砂の月夜や炉火が見える。   \n2                                         若く、心優しい副官が言った。   \n3                             「この金の飾りは、将軍から授かった身分の証である。」   \n4                                 「世を渡り歩く時、やむを得ない場合を除き、」   \n...                                                  ...   \n12834  珊瑚宮は、最初は海溝だった。大蛇が渡来した際、渦が巻き上がった珊瑚が島になった。故に珊瑚宮の...   \n12835  海祇の人は海民と自称し、大蛇オロバシノミコトを祀る。海祇島に将軍奉行の位がなく、神宮を最高権...   \n12836  往年魔神の混戦中、雷電大御所将軍様が稲妻全土を平定した。皆ひれ伏し、各々の地を治めた。事を起...   \n12837  過酷な戦で民が苦しんだ。今のヤシオリ島で激しい戦闘が行われ、双方の被害が甚大だった。大御所殿...   \n12838                     この後、珊瑚宮は降伏し、稲妻幕府を大宗主とするようになった。   \n\n                                                      zh  \n0                                       流浪多年的倾奇者已不会再想起它，  \n1                                  但闭上双眼，却仍能看到踏鞴砂的月夜与炉火。  \n2                                              年轻仁厚的副官说：  \n3                                      「这金饰是将军大人所赐身份之证，」  \n4                                      「但你行走世间时，若非万不得已，」  \n...                                                  ...  \n12834  珊瑚宫者，初为海渊，后有大蛇渡来，盘桓而升涡流，塑珊瑚而成岛。是故珊瑚宫人名之「海祇岛」，盖...  \n12835  海祇之人自称海民，奉大蛇远吕羽氏尊。海祇岛以神宫为高府，无将军奉行之畴。大小事务仰赖诸巫女，...  \n12836  往年魔神混战，雷电大御所将军殿下定稻妻全土于一元，众皆震悚俯首，各安其位，或有直遭殄灭，再无...  \n12837  战事酷烈，民生惨苦。两方鏖战今八酝岛，皆多有伤亡，大御所殿下之爱将天狗笹百合亦陨落其间。大蛇...  \n12838                           自此以后，珊瑚宫遣使降服，尊稻妻幕府为大宗主也。  \n\n[11894 rows x 3 columns]",
      "text/html": "<div>\n<style scoped>\n    .dataframe tbody tr th:only-of-type {\n        vertical-align: middle;\n    }\n\n    .dataframe tbody tr th {\n        vertical-align: top;\n    }\n\n    .dataframe thead th {\n        text-align: right;\n    }\n</style>\n<table border=\"1\" class=\"dataframe\">\n  <thead>\n    <tr style=\"text-align: right;\">\n      <th></th>\n      <th>en</th>\n      <th>ja</th>\n      <th>zh</th>\n    </tr>\n  </thead>\n  <tbody>\n    <tr>\n      <th>0</th>\n      <td>The long-wandering eccentric no longer thinks ...</td>\n      <td>長年放浪してきた傾奇者は、もうそのことを思い出さないだろう。</td>\n      <td>流浪多年的倾奇者已不会再想起它，</td>\n    </tr>\n    <tr>\n      <th>1</th>\n      <td>But when he closes his eyes, he can still see ...</td>\n      <td>しかし目を閉じると、たたら砂の月夜や炉火が見える。</td>\n      <td>但闭上双眼，却仍能看到踏鞴砂的月夜与炉火。</td>\n    </tr>\n    <tr>\n      <th>2</th>\n      <td>The kind young deputy said:</td>\n      <td>若く、心優しい副官が言った。</td>\n      <td>年轻仁厚的副官说：</td>\n    </tr>\n    <tr>\n      <th>3</th>\n      <td>\"This gold ornament is a proof of identity gra...</td>\n      <td>「この金の飾りは、将軍から授かった身分の証である。」</td>\n      <td>「这金饰是将军大人所赐身份之证，」</td>\n    </tr>\n    <tr>\n      <th>4</th>\n      <td>\"But as you travel the world, please bear this...</td>\n      <td>「世を渡り歩く時、やむを得ない場合を除き、」</td>\n      <td>「但你行走世间时，若非万不得已，」</td>\n    </tr>\n    <tr>\n      <th>...</th>\n      <td>...</td>\n      <td>...</td>\n      <td>...</td>\n    </tr>\n    <tr>\n      <th>12834</th>\n      <td>Sangonomiya was once an ocean abyss, until the...</td>\n      <td>珊瑚宮は、最初は海溝だった。大蛇が渡来した際、渦が巻き上がった珊瑚が島になった。故に珊瑚宮の...</td>\n      <td>珊瑚宫者，初为海渊，后有大蛇渡来，盘桓而升涡流，塑珊瑚而成岛。是故珊瑚宫人名之「海祇岛」，盖...</td>\n    </tr>\n    <tr>\n      <th>12835</th>\n      <td>The inhabitants of Watatsumi call themselves t...</td>\n      <td>海祇の人は海民と自称し、大蛇オロバシノミコトを祀る。海祇島に将軍奉行の位がなく、神宮を最高権...</td>\n      <td>海祇之人自称海民，奉大蛇远吕羽氏尊。海祇岛以神宫为高府，无将军奉行之畴。大小事务仰赖诸巫女，...</td>\n    </tr>\n    <tr>\n      <th>12836</th>\n      <td>During the Archon War, Her Excellency the Almi...</td>\n      <td>往年魔神の混戦中、雷電大御所将軍様が稲妻全土を平定した。皆ひれ伏し、各々の地を治めた。事を起...</td>\n      <td>往年魔神混战，雷电大御所将军殿下定稻妻全土于一元，众皆震悚俯首，各安其位，或有直遭殄灭，再无...</td>\n    </tr>\n    <tr>\n      <th>12837</th>\n      <td>The war was brutal, and brought great sufferin...</td>\n      <td>過酷な戦で民が苦しんだ。今のヤシオリ島で激しい戦闘が行われ、双方の被害が甚大だった。大御所殿...</td>\n      <td>战事酷烈，民生惨苦。两方鏖战今八酝岛，皆多有伤亡，大御所殿下之爱将天狗笹百合亦陨落其间。大蛇...</td>\n    </tr>\n    <tr>\n      <th>12838</th>\n      <td>Thereafter, Sangonomiya sent envoys to announc...</td>\n      <td>この後、珊瑚宮は降伏し、稲妻幕府を大宗主とするようになった。</td>\n      <td>自此以后，珊瑚宫遣使降服，尊稻妻幕府为大宗主也。</td>\n    </tr>\n  </tbody>\n</table>\n<p>11894 rows × 3 columns</p>\n</div>"
     },
     "execution_count": 6,
     "metadata": {},
     "output_type": "execute_result"
    }
   ],
   "source": [
    "# remove row with only punctuation\n",
    "df = df[~df['en'].str.match(r'^[^\\w\\s]+$')]\n",
    "df = df[~df['ja'].str.match(r'^[^\\w\\s]+$')]\n",
    "df = df[~df['zh'].str.match(r'^[^\\w\\s]+$')]\n",
    "df"
   ],
   "metadata": {
    "collapsed": false,
    "ExecuteTime": {
     "end_time": "2023-07-09T10:28:15.019466314Z",
     "start_time": "2023-07-09T10:28:14.960833921Z"
    }
   }
  },
  {
   "cell_type": "code",
   "execution_count": 7,
   "outputs": [
    {
     "data": {
      "text/plain": "                                                      en  \\\n0      The long-wandering eccentric no longer thinks ...   \n1      But when he closes his eyes, he can still see ...   \n2                            The kind young deputy said:   \n3      \"This gold ornament is a proof of identity gra...   \n4      \"But as you travel the world, please bear this...   \n...                                                  ...   \n12834  Sangonomiya was once an ocean abyss, until the...   \n12835  The inhabitants of Watatsumi call themselves t...   \n12836  During the Archon War, Her Excellency the Almi...   \n12837  The war was brutal, and brought great sufferin...   \n12838  Thereafter, Sangonomiya sent envoys to announc...   \n\n                                                      ja  \\\n0                         長年放浪してきた傾奇者は、もうそのことを思い出さないだろう。   \n1                              しかし目を閉じると、たたら砂の月夜や炉火が見える。   \n2                                         若く、心優しい副官が言った。   \n3                             「この金の飾りは、将軍から授かった身分の証である。」   \n4                                 「世を渡り歩く時、やむを得ない場合を除き、」   \n...                                                  ...   \n12834  珊瑚宮は、最初は海溝だった。大蛇が渡来した際、渦が巻き上がった珊瑚が島になった。故に珊瑚宮の...   \n12835  海祇の人は海民と自称し、大蛇オロバシノミコトを祀る。海祇島に将軍奉行の位がなく、神宮を最高権...   \n12836  往年魔神の混戦中、雷電大御所将軍様が稲妻全土を平定した。皆ひれ伏し、各々の地を治めた。事を起...   \n12837  過酷な戦で民が苦しんだ。今のヤシオリ島で激しい戦闘が行われ、双方の被害が甚大だった。大御所殿...   \n12838                     この後、珊瑚宮は降伏し、稲妻幕府を大宗主とするようになった。   \n\n                                                      zh  \n0                                       流浪多年的倾奇者已不会再想起它，  \n1                                  但闭上双眼，却仍能看到踏鞴砂的月夜与炉火。  \n2                                              年轻仁厚的副官说：  \n3                                      「这金饰是将军大人所赐身份之证，」  \n4                                      「但你行走世间时，若非万不得已，」  \n...                                                  ...  \n12834  珊瑚宫者，初为海渊，后有大蛇渡来，盘桓而升涡流，塑珊瑚而成岛。是故珊瑚宫人名之「海祇岛」，盖...  \n12835  海祇之人自称海民，奉大蛇远吕羽氏尊。海祇岛以神宫为高府，无将军奉行之畴。大小事务仰赖诸巫女，...  \n12836  往年魔神混战，雷电大御所将军殿下定稻妻全土于一元，众皆震悚俯首，各安其位，或有直遭殄灭，再无...  \n12837  战事酷烈，民生惨苦。两方鏖战今八酝岛，皆多有伤亡，大御所殿下之爱将天狗笹百合亦陨落其间。大蛇...  \n12838                           自此以后，珊瑚宫遣使降服，尊稻妻幕府为大宗主也。  \n\n[11887 rows x 3 columns]",
      "text/html": "<div>\n<style scoped>\n    .dataframe tbody tr th:only-of-type {\n        vertical-align: middle;\n    }\n\n    .dataframe tbody tr th {\n        vertical-align: top;\n    }\n\n    .dataframe thead th {\n        text-align: right;\n    }\n</style>\n<table border=\"1\" class=\"dataframe\">\n  <thead>\n    <tr style=\"text-align: right;\">\n      <th></th>\n      <th>en</th>\n      <th>ja</th>\n      <th>zh</th>\n    </tr>\n  </thead>\n  <tbody>\n    <tr>\n      <th>0</th>\n      <td>The long-wandering eccentric no longer thinks ...</td>\n      <td>長年放浪してきた傾奇者は、もうそのことを思い出さないだろう。</td>\n      <td>流浪多年的倾奇者已不会再想起它，</td>\n    </tr>\n    <tr>\n      <th>1</th>\n      <td>But when he closes his eyes, he can still see ...</td>\n      <td>しかし目を閉じると、たたら砂の月夜や炉火が見える。</td>\n      <td>但闭上双眼，却仍能看到踏鞴砂的月夜与炉火。</td>\n    </tr>\n    <tr>\n      <th>2</th>\n      <td>The kind young deputy said:</td>\n      <td>若く、心優しい副官が言った。</td>\n      <td>年轻仁厚的副官说：</td>\n    </tr>\n    <tr>\n      <th>3</th>\n      <td>\"This gold ornament is a proof of identity gra...</td>\n      <td>「この金の飾りは、将軍から授かった身分の証である。」</td>\n      <td>「这金饰是将军大人所赐身份之证，」</td>\n    </tr>\n    <tr>\n      <th>4</th>\n      <td>\"But as you travel the world, please bear this...</td>\n      <td>「世を渡り歩く時、やむを得ない場合を除き、」</td>\n      <td>「但你行走世间时，若非万不得已，」</td>\n    </tr>\n    <tr>\n      <th>...</th>\n      <td>...</td>\n      <td>...</td>\n      <td>...</td>\n    </tr>\n    <tr>\n      <th>12834</th>\n      <td>Sangonomiya was once an ocean abyss, until the...</td>\n      <td>珊瑚宮は、最初は海溝だった。大蛇が渡来した際、渦が巻き上がった珊瑚が島になった。故に珊瑚宮の...</td>\n      <td>珊瑚宫者，初为海渊，后有大蛇渡来，盘桓而升涡流，塑珊瑚而成岛。是故珊瑚宫人名之「海祇岛」，盖...</td>\n    </tr>\n    <tr>\n      <th>12835</th>\n      <td>The inhabitants of Watatsumi call themselves t...</td>\n      <td>海祇の人は海民と自称し、大蛇オロバシノミコトを祀る。海祇島に将軍奉行の位がなく、神宮を最高権...</td>\n      <td>海祇之人自称海民，奉大蛇远吕羽氏尊。海祇岛以神宫为高府，无将军奉行之畴。大小事务仰赖诸巫女，...</td>\n    </tr>\n    <tr>\n      <th>12836</th>\n      <td>During the Archon War, Her Excellency the Almi...</td>\n      <td>往年魔神の混戦中、雷電大御所将軍様が稲妻全土を平定した。皆ひれ伏し、各々の地を治めた。事を起...</td>\n      <td>往年魔神混战，雷电大御所将军殿下定稻妻全土于一元，众皆震悚俯首，各安其位，或有直遭殄灭，再无...</td>\n    </tr>\n    <tr>\n      <th>12837</th>\n      <td>The war was brutal, and brought great sufferin...</td>\n      <td>過酷な戦で民が苦しんだ。今のヤシオリ島で激しい戦闘が行われ、双方の被害が甚大だった。大御所殿...</td>\n      <td>战事酷烈，民生惨苦。两方鏖战今八酝岛，皆多有伤亡，大御所殿下之爱将天狗笹百合亦陨落其间。大蛇...</td>\n    </tr>\n    <tr>\n      <th>12838</th>\n      <td>Thereafter, Sangonomiya sent envoys to announc...</td>\n      <td>この後、珊瑚宮は降伏し、稲妻幕府を大宗主とするようになった。</td>\n      <td>自此以后，珊瑚宫遣使降服，尊稻妻幕府为大宗主也。</td>\n    </tr>\n  </tbody>\n</table>\n<p>11887 rows × 3 columns</p>\n</div>"
     },
     "execution_count": 7,
     "metadata": {},
     "output_type": "execute_result"
    }
   ],
   "source": [
    "# remove lines with only numbers\n",
    "df = df[~df['en'].str.match(r'^\\d+$')]\n",
    "df = df[~df['ja'].str.match(r'^\\d+$')]\n",
    "df = df[~df['zh'].str.match(r'^\\d+$')]\n",
    "df"
   ],
   "metadata": {
    "collapsed": false,
    "ExecuteTime": {
     "end_time": "2023-07-09T10:28:20.256885233Z",
     "start_time": "2023-07-09T10:28:20.178386980Z"
    }
   }
  },
  {
   "cell_type": "code",
   "execution_count": 8,
   "outputs": [
    {
     "name": "stderr",
     "output_type": "stream",
     "text": [
      "/home/toshihiko/anaconda3/envs/pytorch201/lib/python3.8/site-packages/transformers/convert_slow_tokenizer.py:454: UserWarning: The sentencepiece tokenizer that you are converting to a fast tokenizer uses the byte fallback option which is not implemented in the fast tokenizers. In practice this means that the fast version of the tokenizer can produce unknown tokens whereas the sentencepiece version would have converted these unknown tokens into a sequence of byte tokens matching the original piece of text.\n",
      "  warnings.warn(\n"
     ]
    },
    {
     "data": {
      "text/plain": "                                                      en  \\\n0      The long-wandering eccentric no longer thinks ...   \n1      But when he closes his eyes, he can still see ...   \n2                            The kind young deputy said:   \n3      \"This gold ornament is a proof of identity gra...   \n4      \"But as you travel the world, please bear this...   \n...                                                  ...   \n12834  Sangonomiya was once an ocean abyss, until the...   \n12835  The inhabitants of Watatsumi call themselves t...   \n12836  During the Archon War, Her Excellency the Almi...   \n12837  The war was brutal, and brought great sufferin...   \n12838  Thereafter, Sangonomiya sent envoys to announc...   \n\n                                                      ja  \\\n0                         長年放浪してきた傾奇者は、もうそのことを思い出さないだろう。   \n1                              しかし目を閉じると、たたら砂の月夜や炉火が見える。   \n2                                         若く、心優しい副官が言った。   \n3                             「この金の飾りは、将軍から授かった身分の証である。」   \n4                                 「世を渡り歩く時、やむを得ない場合を除き、」   \n...                                                  ...   \n12834  珊瑚宮は、最初は海溝だった。大蛇が渡来した際、渦が巻き上がった珊瑚が島になった。故に珊瑚宮の...   \n12835  海祇の人は海民と自称し、大蛇オロバシノミコトを祀る。海祇島に将軍奉行の位がなく、神宮を最高権...   \n12836  往年魔神の混戦中、雷電大御所将軍様が稲妻全土を平定した。皆ひれ伏し、各々の地を治めた。事を起...   \n12837  過酷な戦で民が苦しんだ。今のヤシオリ島で激しい戦闘が行われ、双方の被害が甚大だった。大御所殿...   \n12838                     この後、珊瑚宮は降伏し、稲妻幕府を大宗主とするようになった。   \n\n                                                      zh  en_len  ja_len  \\\n0                                       流浪多年的倾奇者已不会再想起它，      17      16   \n1                                  但闭上双眼，却仍能看到踏鞴砂的月夜与炉火。      31      16   \n2                                              年轻仁厚的副官说：       7      11   \n3                                      「这金饰是将军大人所赐身份之证，」      22      16   \n4                                      「但你行走世间时，若非万不得已，」      14      15   \n...                                                  ...     ...     ...   \n12834  珊瑚宫者，初为海渊，后有大蛇渡来，盘桓而升涡流，塑珊瑚而成岛。是故珊瑚宫人名之「海祇岛」，盖...      79      54   \n12835  海祇之人自称海民，奉大蛇远吕羽氏尊。海祇岛以神宫为高府，无将军奉行之畴。大小事务仰赖诸巫女，...     107      68   \n12836  往年魔神混战，雷电大御所将军殿下定稻妻全土于一元，众皆震悚俯首，各安其位，或有直遭殄灭，再无...     149      91   \n12837  战事酷烈，民生惨苦。两方鏖战今八酝岛，皆多有伤亡，大御所殿下之爱将天狗笹百合亦陨落其间。大蛇...     102      62   \n12838                           自此以后，珊瑚宫遣使降服，尊稻妻幕府为大宗主也。      41      22   \n\n       zh_len  \n0          13  \n1          21  \n2           8  \n3          14  \n4          16  \n...       ...  \n12834      54  \n12835      65  \n12836      87  \n12837      61  \n12838      24  \n\n[11887 rows x 6 columns]",
      "text/html": "<div>\n<style scoped>\n    .dataframe tbody tr th:only-of-type {\n        vertical-align: middle;\n    }\n\n    .dataframe tbody tr th {\n        vertical-align: top;\n    }\n\n    .dataframe thead th {\n        text-align: right;\n    }\n</style>\n<table border=\"1\" class=\"dataframe\">\n  <thead>\n    <tr style=\"text-align: right;\">\n      <th></th>\n      <th>en</th>\n      <th>ja</th>\n      <th>zh</th>\n      <th>en_len</th>\n      <th>ja_len</th>\n      <th>zh_len</th>\n    </tr>\n  </thead>\n  <tbody>\n    <tr>\n      <th>0</th>\n      <td>The long-wandering eccentric no longer thinks ...</td>\n      <td>長年放浪してきた傾奇者は、もうそのことを思い出さないだろう。</td>\n      <td>流浪多年的倾奇者已不会再想起它，</td>\n      <td>17</td>\n      <td>16</td>\n      <td>13</td>\n    </tr>\n    <tr>\n      <th>1</th>\n      <td>But when he closes his eyes, he can still see ...</td>\n      <td>しかし目を閉じると、たたら砂の月夜や炉火が見える。</td>\n      <td>但闭上双眼，却仍能看到踏鞴砂的月夜与炉火。</td>\n      <td>31</td>\n      <td>16</td>\n      <td>21</td>\n    </tr>\n    <tr>\n      <th>2</th>\n      <td>The kind young deputy said:</td>\n      <td>若く、心優しい副官が言った。</td>\n      <td>年轻仁厚的副官说：</td>\n      <td>7</td>\n      <td>11</td>\n      <td>8</td>\n    </tr>\n    <tr>\n      <th>3</th>\n      <td>\"This gold ornament is a proof of identity gra...</td>\n      <td>「この金の飾りは、将軍から授かった身分の証である。」</td>\n      <td>「这金饰是将军大人所赐身份之证，」</td>\n      <td>22</td>\n      <td>16</td>\n      <td>14</td>\n    </tr>\n    <tr>\n      <th>4</th>\n      <td>\"But as you travel the world, please bear this...</td>\n      <td>「世を渡り歩く時、やむを得ない場合を除き、」</td>\n      <td>「但你行走世间时，若非万不得已，」</td>\n      <td>14</td>\n      <td>15</td>\n      <td>16</td>\n    </tr>\n    <tr>\n      <th>...</th>\n      <td>...</td>\n      <td>...</td>\n      <td>...</td>\n      <td>...</td>\n      <td>...</td>\n      <td>...</td>\n    </tr>\n    <tr>\n      <th>12834</th>\n      <td>Sangonomiya was once an ocean abyss, until the...</td>\n      <td>珊瑚宮は、最初は海溝だった。大蛇が渡来した際、渦が巻き上がった珊瑚が島になった。故に珊瑚宮の...</td>\n      <td>珊瑚宫者，初为海渊，后有大蛇渡来，盘桓而升涡流，塑珊瑚而成岛。是故珊瑚宫人名之「海祇岛」，盖...</td>\n      <td>79</td>\n      <td>54</td>\n      <td>54</td>\n    </tr>\n    <tr>\n      <th>12835</th>\n      <td>The inhabitants of Watatsumi call themselves t...</td>\n      <td>海祇の人は海民と自称し、大蛇オロバシノミコトを祀る。海祇島に将軍奉行の位がなく、神宮を最高権...</td>\n      <td>海祇之人自称海民，奉大蛇远吕羽氏尊。海祇岛以神宫为高府，无将军奉行之畴。大小事务仰赖诸巫女，...</td>\n      <td>107</td>\n      <td>68</td>\n      <td>65</td>\n    </tr>\n    <tr>\n      <th>12836</th>\n      <td>During the Archon War, Her Excellency the Almi...</td>\n      <td>往年魔神の混戦中、雷電大御所将軍様が稲妻全土を平定した。皆ひれ伏し、各々の地を治めた。事を起...</td>\n      <td>往年魔神混战，雷电大御所将军殿下定稻妻全土于一元，众皆震悚俯首，各安其位，或有直遭殄灭，再无...</td>\n      <td>149</td>\n      <td>91</td>\n      <td>87</td>\n    </tr>\n    <tr>\n      <th>12837</th>\n      <td>The war was brutal, and brought great sufferin...</td>\n      <td>過酷な戦で民が苦しんだ。今のヤシオリ島で激しい戦闘が行われ、双方の被害が甚大だった。大御所殿...</td>\n      <td>战事酷烈，民生惨苦。两方鏖战今八酝岛，皆多有伤亡，大御所殿下之爱将天狗笹百合亦陨落其间。大蛇...</td>\n      <td>102</td>\n      <td>62</td>\n      <td>61</td>\n    </tr>\n    <tr>\n      <th>12838</th>\n      <td>Thereafter, Sangonomiya sent envoys to announc...</td>\n      <td>この後、珊瑚宮は降伏し、稲妻幕府を大宗主とするようになった。</td>\n      <td>自此以后，珊瑚宫遣使降服，尊稻妻幕府为大宗主也。</td>\n      <td>41</td>\n      <td>22</td>\n      <td>24</td>\n    </tr>\n  </tbody>\n</table>\n<p>11887 rows × 6 columns</p>\n</div>"
     },
     "execution_count": 8,
     "metadata": {},
     "output_type": "execute_result"
    }
   ],
   "source": [
    "# remove lines that tokens is more than 256 or less than 1\n",
    "from transformers import MT5TokenizerFast\n",
    "tokenizer = MT5TokenizerFast.from_pretrained('google/mt5-small')\n",
    "\n",
    "df['en_len'] = df['en'].apply(lambda x: len(tokenizer.tokenize(x)))\n",
    "df['ja_len'] = df['ja'].apply(lambda x: len(tokenizer.tokenize(x)))\n",
    "df['zh_len'] = df['zh'].apply(lambda x: len(tokenizer.tokenize(x)))\n",
    "df"
   ],
   "metadata": {
    "collapsed": false,
    "ExecuteTime": {
     "end_time": "2023-07-09T10:28:28.646971015Z",
     "start_time": "2023-07-09T10:28:23.135745204Z"
    }
   }
  },
  {
   "cell_type": "code",
   "execution_count": 9,
   "outputs": [
    {
     "data": {
      "text/plain": "                                                      en  \\\n0      The long-wandering eccentric no longer thinks ...   \n1      But when he closes his eyes, he can still see ...   \n2                            The kind young deputy said:   \n3      \"This gold ornament is a proof of identity gra...   \n4      \"But as you travel the world, please bear this...   \n...                                                  ...   \n12834  Sangonomiya was once an ocean abyss, until the...   \n12835  The inhabitants of Watatsumi call themselves t...   \n12836  During the Archon War, Her Excellency the Almi...   \n12837  The war was brutal, and brought great sufferin...   \n12838  Thereafter, Sangonomiya sent envoys to announc...   \n\n                                                      ja  \\\n0                         長年放浪してきた傾奇者は、もうそのことを思い出さないだろう。   \n1                              しかし目を閉じると、たたら砂の月夜や炉火が見える。   \n2                                         若く、心優しい副官が言った。   \n3                             「この金の飾りは、将軍から授かった身分の証である。」   \n4                                 「世を渡り歩く時、やむを得ない場合を除き、」   \n...                                                  ...   \n12834  珊瑚宮は、最初は海溝だった。大蛇が渡来した際、渦が巻き上がった珊瑚が島になった。故に珊瑚宮の...   \n12835  海祇の人は海民と自称し、大蛇オロバシノミコトを祀る。海祇島に将軍奉行の位がなく、神宮を最高権...   \n12836  往年魔神の混戦中、雷電大御所将軍様が稲妻全土を平定した。皆ひれ伏し、各々の地を治めた。事を起...   \n12837  過酷な戦で民が苦しんだ。今のヤシオリ島で激しい戦闘が行われ、双方の被害が甚大だった。大御所殿...   \n12838                     この後、珊瑚宮は降伏し、稲妻幕府を大宗主とするようになった。   \n\n                                                      zh  en_len  ja_len  \\\n0                                       流浪多年的倾奇者已不会再想起它，      17      16   \n1                                  但闭上双眼，却仍能看到踏鞴砂的月夜与炉火。      31      16   \n2                                              年轻仁厚的副官说：       7      11   \n3                                      「这金饰是将军大人所赐身份之证，」      22      16   \n4                                      「但你行走世间时，若非万不得已，」      14      15   \n...                                                  ...     ...     ...   \n12834  珊瑚宫者，初为海渊，后有大蛇渡来，盘桓而升涡流，塑珊瑚而成岛。是故珊瑚宫人名之「海祇岛」，盖...      79      54   \n12835  海祇之人自称海民，奉大蛇远吕羽氏尊。海祇岛以神宫为高府，无将军奉行之畴。大小事务仰赖诸巫女，...     107      68   \n12836  往年魔神混战，雷电大御所将军殿下定稻妻全土于一元，众皆震悚俯首，各安其位，或有直遭殄灭，再无...     149      91   \n12837  战事酷烈，民生惨苦。两方鏖战今八酝岛，皆多有伤亡，大御所殿下之爱将天狗笹百合亦陨落其间。大蛇...     102      62   \n12838                           自此以后，珊瑚宫遣使降服，尊稻妻幕府为大宗主也。      41      22   \n\n       zh_len  \n0          13  \n1          21  \n2           8  \n3          14  \n4          16  \n...       ...  \n12834      54  \n12835      65  \n12836      87  \n12837      61  \n12838      24  \n\n[11802 rows x 6 columns]",
      "text/html": "<div>\n<style scoped>\n    .dataframe tbody tr th:only-of-type {\n        vertical-align: middle;\n    }\n\n    .dataframe tbody tr th {\n        vertical-align: top;\n    }\n\n    .dataframe thead th {\n        text-align: right;\n    }\n</style>\n<table border=\"1\" class=\"dataframe\">\n  <thead>\n    <tr style=\"text-align: right;\">\n      <th></th>\n      <th>en</th>\n      <th>ja</th>\n      <th>zh</th>\n      <th>en_len</th>\n      <th>ja_len</th>\n      <th>zh_len</th>\n    </tr>\n  </thead>\n  <tbody>\n    <tr>\n      <th>0</th>\n      <td>The long-wandering eccentric no longer thinks ...</td>\n      <td>長年放浪してきた傾奇者は、もうそのことを思い出さないだろう。</td>\n      <td>流浪多年的倾奇者已不会再想起它，</td>\n      <td>17</td>\n      <td>16</td>\n      <td>13</td>\n    </tr>\n    <tr>\n      <th>1</th>\n      <td>But when he closes his eyes, he can still see ...</td>\n      <td>しかし目を閉じると、たたら砂の月夜や炉火が見える。</td>\n      <td>但闭上双眼，却仍能看到踏鞴砂的月夜与炉火。</td>\n      <td>31</td>\n      <td>16</td>\n      <td>21</td>\n    </tr>\n    <tr>\n      <th>2</th>\n      <td>The kind young deputy said:</td>\n      <td>若く、心優しい副官が言った。</td>\n      <td>年轻仁厚的副官说：</td>\n      <td>7</td>\n      <td>11</td>\n      <td>8</td>\n    </tr>\n    <tr>\n      <th>3</th>\n      <td>\"This gold ornament is a proof of identity gra...</td>\n      <td>「この金の飾りは、将軍から授かった身分の証である。」</td>\n      <td>「这金饰是将军大人所赐身份之证，」</td>\n      <td>22</td>\n      <td>16</td>\n      <td>14</td>\n    </tr>\n    <tr>\n      <th>4</th>\n      <td>\"But as you travel the world, please bear this...</td>\n      <td>「世を渡り歩く時、やむを得ない場合を除き、」</td>\n      <td>「但你行走世间时，若非万不得已，」</td>\n      <td>14</td>\n      <td>15</td>\n      <td>16</td>\n    </tr>\n    <tr>\n      <th>...</th>\n      <td>...</td>\n      <td>...</td>\n      <td>...</td>\n      <td>...</td>\n      <td>...</td>\n      <td>...</td>\n    </tr>\n    <tr>\n      <th>12834</th>\n      <td>Sangonomiya was once an ocean abyss, until the...</td>\n      <td>珊瑚宮は、最初は海溝だった。大蛇が渡来した際、渦が巻き上がった珊瑚が島になった。故に珊瑚宮の...</td>\n      <td>珊瑚宫者，初为海渊，后有大蛇渡来，盘桓而升涡流，塑珊瑚而成岛。是故珊瑚宫人名之「海祇岛」，盖...</td>\n      <td>79</td>\n      <td>54</td>\n      <td>54</td>\n    </tr>\n    <tr>\n      <th>12835</th>\n      <td>The inhabitants of Watatsumi call themselves t...</td>\n      <td>海祇の人は海民と自称し、大蛇オロバシノミコトを祀る。海祇島に将軍奉行の位がなく、神宮を最高権...</td>\n      <td>海祇之人自称海民，奉大蛇远吕羽氏尊。海祇岛以神宫为高府，无将军奉行之畴。大小事务仰赖诸巫女，...</td>\n      <td>107</td>\n      <td>68</td>\n      <td>65</td>\n    </tr>\n    <tr>\n      <th>12836</th>\n      <td>During the Archon War, Her Excellency the Almi...</td>\n      <td>往年魔神の混戦中、雷電大御所将軍様が稲妻全土を平定した。皆ひれ伏し、各々の地を治めた。事を起...</td>\n      <td>往年魔神混战，雷电大御所将军殿下定稻妻全土于一元，众皆震悚俯首，各安其位，或有直遭殄灭，再无...</td>\n      <td>149</td>\n      <td>91</td>\n      <td>87</td>\n    </tr>\n    <tr>\n      <th>12837</th>\n      <td>The war was brutal, and brought great sufferin...</td>\n      <td>過酷な戦で民が苦しんだ。今のヤシオリ島で激しい戦闘が行われ、双方の被害が甚大だった。大御所殿...</td>\n      <td>战事酷烈，民生惨苦。两方鏖战今八酝岛，皆多有伤亡，大御所殿下之爱将天狗笹百合亦陨落其间。大蛇...</td>\n      <td>102</td>\n      <td>62</td>\n      <td>61</td>\n    </tr>\n    <tr>\n      <th>12838</th>\n      <td>Thereafter, Sangonomiya sent envoys to announc...</td>\n      <td>この後、珊瑚宮は降伏し、稲妻幕府を大宗主とするようになった。</td>\n      <td>自此以后，珊瑚宫遣使降服，尊稻妻幕府为大宗主也。</td>\n      <td>41</td>\n      <td>22</td>\n      <td>24</td>\n    </tr>\n  </tbody>\n</table>\n<p>11802 rows × 6 columns</p>\n</div>"
     },
     "execution_count": 9,
     "metadata": {},
     "output_type": "execute_result"
    }
   ],
   "source": [
    "df = df[df['en_len'] <= 256]\n",
    "df = df[df['ja_len'] <= 256]\n",
    "df = df[df['zh_len'] <= 256]\n",
    "df = df[df['en_len'] >= 1]\n",
    "df = df[df['ja_len'] >= 1]\n",
    "df = df[df['zh_len'] >= 1]\n",
    "df"
   ],
   "metadata": {
    "collapsed": false,
    "ExecuteTime": {
     "end_time": "2023-07-09T10:28:28.665401249Z",
     "start_time": "2023-07-09T10:28:28.648446813Z"
    }
   }
  },
  {
   "cell_type": "code",
   "execution_count": 10,
   "outputs": [
    {
     "name": "stderr",
     "output_type": "stream",
     "text": [
      "/tmp/ipykernel_22935/3787246084.py:9: TqdmDeprecationWarning: This function will be removed in tqdm==5.0.0\n",
      "Please use `tqdm.notebook.tqdm` instead of `tqdm.tqdm_notebook`\n",
      "  for i, row in tqdm(enumerate(df.itertuples()), total=df.shape[0]):\n"
     ]
    },
    {
     "data": {
      "text/plain": "  0%|          | 0/11802 [00:00<?, ?it/s]",
      "application/vnd.jupyter.widget-view+json": {
       "version_major": 2,
       "version_minor": 0,
       "model_id": "288064a204524936ad1a2fca1dc7377c"
      }
     },
     "metadata": {},
     "output_type": "display_data"
    },
    {
     "data": {
      "text/plain": "                                                      en  \\\n0      The long-wandering eccentric no longer thinks ...   \n1      But when he closes his eyes, he can still see ...   \n2                            The kind young deputy said:   \n3      \"This gold ornament is a proof of identity gra...   \n4      \"But as you travel the world, please bear this...   \n...                                                  ...   \n12834  Sangonomiya was once an ocean abyss, until the...   \n12835  The inhabitants of Watatsumi call themselves t...   \n12836  During the Archon War, Her Excellency the Almi...   \n12837  The war was brutal, and brought great sufferin...   \n12838  Thereafter, Sangonomiya sent envoys to announc...   \n\n                                                      ja  \\\n0                         長年放浪してきた傾奇者は、もうそのことを思い出さないだろう。   \n1                              しかし目を閉じると、たたら砂の月夜や炉火が見える。   \n2                                         若く、心優しい副官が言った。   \n3                             「この金の飾りは、将軍から授かった身分の証である。」   \n4                                 「世を渡り歩く時、やむを得ない場合を除き、」   \n...                                                  ...   \n12834  珊瑚宮は、最初は海溝だった。大蛇が渡来した際、渦が巻き上がった珊瑚が島になった。故に珊瑚宮の...   \n12835  海祇の人は海民と自称し、大蛇オロバシノミコトを祀る。海祇島に将軍奉行の位がなく、神宮を最高権...   \n12836  往年魔神の混戦中、雷電大御所将軍様が稲妻全土を平定した。皆ひれ伏し、各々の地を治めた。事を起...   \n12837  過酷な戦で民が苦しんだ。今のヤシオリ島で激しい戦闘が行われ、双方の被害が甚大だった。大御所殿...   \n12838                     この後、珊瑚宮は降伏し、稲妻幕府を大宗主とするようになった。   \n\n                                                      zh  en_len  ja_len  \\\n0                                       流浪多年的倾奇者已不会再想起它，      17      16   \n1                                  但闭上双眼，却仍能看到踏鞴砂的月夜与炉火。      31      16   \n2                                              年轻仁厚的副官说：       7      11   \n3                                      「这金饰是将军大人所赐身份之证，」      22      16   \n4                                      「但你行走世间时，若非万不得已，」      14      15   \n...                                                  ...     ...     ...   \n12834  珊瑚宫者，初为海渊，后有大蛇渡来，盘桓而升涡流，塑珊瑚而成岛。是故珊瑚宫人名之「海祇岛」，盖...      79      54   \n12835  海祇之人自称海民，奉大蛇远吕羽氏尊。海祇岛以神宫为高府，无将军奉行之畴。大小事务仰赖诸巫女，...     107      68   \n12836  往年魔神混战，雷电大御所将军殿下定稻妻全土于一元，众皆震悚俯首，各安其位，或有直遭殄灭，再无...     149      91   \n12837  战事酷烈，民生惨苦。两方鏖战今八酝岛，皆多有伤亡，大御所殿下之爱将天狗笹百合亦陨落其间。大蛇...     102      62   \n12838                           自此以后，珊瑚宫遣使降服，尊稻妻幕府为大宗主也。      41      22   \n\n       zh_len     score  \n0          13  0.757267  \n1          21  0.778838  \n2           8  0.814170  \n3          14  0.819174  \n4          16  0.709527  \n...       ...       ...  \n12834      54  0.801211  \n12835      65  0.803473  \n12836      87  0.700754  \n12837      61  0.824992  \n12838      24  0.636581  \n\n[11802 rows x 7 columns]",
      "text/html": "<div>\n<style scoped>\n    .dataframe tbody tr th:only-of-type {\n        vertical-align: middle;\n    }\n\n    .dataframe tbody tr th {\n        vertical-align: top;\n    }\n\n    .dataframe thead th {\n        text-align: right;\n    }\n</style>\n<table border=\"1\" class=\"dataframe\">\n  <thead>\n    <tr style=\"text-align: right;\">\n      <th></th>\n      <th>en</th>\n      <th>ja</th>\n      <th>zh</th>\n      <th>en_len</th>\n      <th>ja_len</th>\n      <th>zh_len</th>\n      <th>score</th>\n    </tr>\n  </thead>\n  <tbody>\n    <tr>\n      <th>0</th>\n      <td>The long-wandering eccentric no longer thinks ...</td>\n      <td>長年放浪してきた傾奇者は、もうそのことを思い出さないだろう。</td>\n      <td>流浪多年的倾奇者已不会再想起它，</td>\n      <td>17</td>\n      <td>16</td>\n      <td>13</td>\n      <td>0.757267</td>\n    </tr>\n    <tr>\n      <th>1</th>\n      <td>But when he closes his eyes, he can still see ...</td>\n      <td>しかし目を閉じると、たたら砂の月夜や炉火が見える。</td>\n      <td>但闭上双眼，却仍能看到踏鞴砂的月夜与炉火。</td>\n      <td>31</td>\n      <td>16</td>\n      <td>21</td>\n      <td>0.778838</td>\n    </tr>\n    <tr>\n      <th>2</th>\n      <td>The kind young deputy said:</td>\n      <td>若く、心優しい副官が言った。</td>\n      <td>年轻仁厚的副官说：</td>\n      <td>7</td>\n      <td>11</td>\n      <td>8</td>\n      <td>0.814170</td>\n    </tr>\n    <tr>\n      <th>3</th>\n      <td>\"This gold ornament is a proof of identity gra...</td>\n      <td>「この金の飾りは、将軍から授かった身分の証である。」</td>\n      <td>「这金饰是将军大人所赐身份之证，」</td>\n      <td>22</td>\n      <td>16</td>\n      <td>14</td>\n      <td>0.819174</td>\n    </tr>\n    <tr>\n      <th>4</th>\n      <td>\"But as you travel the world, please bear this...</td>\n      <td>「世を渡り歩く時、やむを得ない場合を除き、」</td>\n      <td>「但你行走世间时，若非万不得已，」</td>\n      <td>14</td>\n      <td>15</td>\n      <td>16</td>\n      <td>0.709527</td>\n    </tr>\n    <tr>\n      <th>...</th>\n      <td>...</td>\n      <td>...</td>\n      <td>...</td>\n      <td>...</td>\n      <td>...</td>\n      <td>...</td>\n      <td>...</td>\n    </tr>\n    <tr>\n      <th>12834</th>\n      <td>Sangonomiya was once an ocean abyss, until the...</td>\n      <td>珊瑚宮は、最初は海溝だった。大蛇が渡来した際、渦が巻き上がった珊瑚が島になった。故に珊瑚宮の...</td>\n      <td>珊瑚宫者，初为海渊，后有大蛇渡来，盘桓而升涡流，塑珊瑚而成岛。是故珊瑚宫人名之「海祇岛」，盖...</td>\n      <td>79</td>\n      <td>54</td>\n      <td>54</td>\n      <td>0.801211</td>\n    </tr>\n    <tr>\n      <th>12835</th>\n      <td>The inhabitants of Watatsumi call themselves t...</td>\n      <td>海祇の人は海民と自称し、大蛇オロバシノミコトを祀る。海祇島に将軍奉行の位がなく、神宮を最高権...</td>\n      <td>海祇之人自称海民，奉大蛇远吕羽氏尊。海祇岛以神宫为高府，无将军奉行之畴。大小事务仰赖诸巫女，...</td>\n      <td>107</td>\n      <td>68</td>\n      <td>65</td>\n      <td>0.803473</td>\n    </tr>\n    <tr>\n      <th>12836</th>\n      <td>During the Archon War, Her Excellency the Almi...</td>\n      <td>往年魔神の混戦中、雷電大御所将軍様が稲妻全土を平定した。皆ひれ伏し、各々の地を治めた。事を起...</td>\n      <td>往年魔神混战，雷电大御所将军殿下定稻妻全土于一元，众皆震悚俯首，各安其位，或有直遭殄灭，再无...</td>\n      <td>149</td>\n      <td>91</td>\n      <td>87</td>\n      <td>0.700754</td>\n    </tr>\n    <tr>\n      <th>12837</th>\n      <td>The war was brutal, and brought great sufferin...</td>\n      <td>過酷な戦で民が苦しんだ。今のヤシオリ島で激しい戦闘が行われ、双方の被害が甚大だった。大御所殿...</td>\n      <td>战事酷烈，民生惨苦。两方鏖战今八酝岛，皆多有伤亡，大御所殿下之爱将天狗笹百合亦陨落其间。大蛇...</td>\n      <td>102</td>\n      <td>62</td>\n      <td>61</td>\n      <td>0.824992</td>\n    </tr>\n    <tr>\n      <th>12838</th>\n      <td>Thereafter, Sangonomiya sent envoys to announc...</td>\n      <td>この後、珊瑚宮は降伏し、稲妻幕府を大宗主とするようになった。</td>\n      <td>自此以后，珊瑚宫遣使降服，尊稻妻幕府为大宗主也。</td>\n      <td>41</td>\n      <td>22</td>\n      <td>24</td>\n      <td>0.636581</td>\n    </tr>\n  </tbody>\n</table>\n<p>11802 rows × 7 columns</p>\n</div>"
     },
     "execution_count": 10,
     "metadata": {},
     "output_type": "execute_result"
    }
   ],
   "source": [
    "# remove lines that LaBSE score is less than 0.6 or more than 0.99\n",
    "import numpy as np\n",
    "from sentence_transformers import SentenceTransformer\n",
    "\n",
    "model = SentenceTransformer('sentence-transformers/LaBSE').cuda()\n",
    "\n",
    "_batch, _scores = [], []\n",
    "_bs = 64\n",
    "for i, row in tqdm(enumerate(df.itertuples()), total=df.shape[0]):\n",
    "    inputs = [row.en, row.ja, row.zh]\n",
    "    _batch.extend(inputs)\n",
    "    if (i + 1) % _bs == 0 or i == df.shape[0] - 1:\n",
    "        embeddings = model.encode(_batch)\n",
    "        # calculate score between each pair\n",
    "        for j in range(embeddings.shape[0] // 3):\n",
    "            _scores.append(np.average([\n",
    "                np.matmul(embeddings[j * 3], embeddings[j * 3 + 1].T),\n",
    "                np.matmul(embeddings[j * 3], embeddings[j * 3 + 2].T),\n",
    "                np.matmul(embeddings[j * 3 + 1], embeddings[j * 3 + 2].T)\n",
    "            ]))\n",
    "        _batch = []\n",
    "df = df.assign(score=_scores)\n",
    "df"
   ],
   "metadata": {
    "collapsed": false,
    "ExecuteTime": {
     "end_time": "2023-07-09T10:29:38.356727486Z",
     "start_time": "2023-07-09T10:28:54.677871677Z"
    }
   }
  },
  {
   "cell_type": "code",
   "execution_count": 11,
   "outputs": [
    {
     "data": {
      "text/plain": "<Figure size 640x480 with 1 Axes>",
      "image/png": "[encoded data removed]"
     },
     "metadata": {},
     "output_type": "display_data"
    }
   ],
   "source": [
    "# statistics score using matplotlib\n",
    "import matplotlib.pyplot as plt\n",
    "plt.hist(df['score'], bins=100)\n",
    "plt.show()"
   ],
   "metadata": {
    "collapsed": false,
    "ExecuteTime": {
     "end_time": "2023-07-09T10:29:39.103933833Z",
     "start_time": "2023-07-09T10:29:38.358991745Z"
    }
   }
  },
  {
   "cell_type": "code",
   "execution_count": 12,
   "outputs": [
    {
     "data": {
      "text/plain": "                                                      en  \\\n0      The long-wandering eccentric no longer thinks ...   \n1      But when he closes his eyes, he can still see ...   \n2                            The kind young deputy said:   \n3      \"This gold ornament is a proof of identity gra...   \n4      \"But as you travel the world, please bear this...   \n...                                                  ...   \n12834  Sangonomiya was once an ocean abyss, until the...   \n12835  The inhabitants of Watatsumi call themselves t...   \n12836  During the Archon War, Her Excellency the Almi...   \n12837  The war was brutal, and brought great sufferin...   \n12838  Thereafter, Sangonomiya sent envoys to announc...   \n\n                                                      ja  \\\n0                         長年放浪してきた傾奇者は、もうそのことを思い出さないだろう。   \n1                              しかし目を閉じると、たたら砂の月夜や炉火が見える。   \n2                                         若く、心優しい副官が言った。   \n3                             「この金の飾りは、将軍から授かった身分の証である。」   \n4                                 「世を渡り歩く時、やむを得ない場合を除き、」   \n...                                                  ...   \n12834  珊瑚宮は、最初は海溝だった。大蛇が渡来した際、渦が巻き上がった珊瑚が島になった。故に珊瑚宮の...   \n12835  海祇の人は海民と自称し、大蛇オロバシノミコトを祀る。海祇島に将軍奉行の位がなく、神宮を最高権...   \n12836  往年魔神の混戦中、雷電大御所将軍様が稲妻全土を平定した。皆ひれ伏し、各々の地を治めた。事を起...   \n12837  過酷な戦で民が苦しんだ。今のヤシオリ島で激しい戦闘が行われ、双方の被害が甚大だった。大御所殿...   \n12838                     この後、珊瑚宮は降伏し、稲妻幕府を大宗主とするようになった。   \n\n                                                      zh  en_len  ja_len  \\\n0                                       流浪多年的倾奇者已不会再想起它，      17      16   \n1                                  但闭上双眼，却仍能看到踏鞴砂的月夜与炉火。      31      16   \n2                                              年轻仁厚的副官说：       7      11   \n3                                      「这金饰是将军大人所赐身份之证，」      22      16   \n4                                      「但你行走世间时，若非万不得已，」      14      15   \n...                                                  ...     ...     ...   \n12834  珊瑚宫者，初为海渊，后有大蛇渡来，盘桓而升涡流，塑珊瑚而成岛。是故珊瑚宫人名之「海祇岛」，盖...      79      54   \n12835  海祇之人自称海民，奉大蛇远吕羽氏尊。海祇岛以神宫为高府，无将军奉行之畴。大小事务仰赖诸巫女，...     107      68   \n12836  往年魔神混战，雷电大御所将军殿下定稻妻全土于一元，众皆震悚俯首，各安其位，或有直遭殄灭，再无...     149      91   \n12837  战事酷烈，民生惨苦。两方鏖战今八酝岛，皆多有伤亡，大御所殿下之爱将天狗笹百合亦陨落其间。大蛇...     102      62   \n12838                           自此以后，珊瑚宫遣使降服，尊稻妻幕府为大宗主也。      41      22   \n\n       zh_len     score  \n0          13  0.757267  \n1          21  0.778838  \n2           8  0.814170  \n3          14  0.819174  \n4          16  0.709527  \n...       ...       ...  \n12834      54  0.801211  \n12835      65  0.803473  \n12836      87  0.700754  \n12837      61  0.824992  \n12838      24  0.636581  \n\n[10410 rows x 7 columns]",
      "text/html": "<div>\n<style scoped>\n    .dataframe tbody tr th:only-of-type {\n        vertical-align: middle;\n    }\n\n    .dataframe tbody tr th {\n        vertical-align: top;\n    }\n\n    .dataframe thead th {\n        text-align: right;\n    }\n</style>\n<table border=\"1\" class=\"dataframe\">\n  <thead>\n    <tr style=\"text-align: right;\">\n      <th></th>\n      <th>en</th>\n      <th>ja</th>\n      <th>zh</th>\n      <th>en_len</th>\n      <th>ja_len</th>\n      <th>zh_len</th>\n      <th>score</th>\n    </tr>\n  </thead>\n  <tbody>\n    <tr>\n      <th>0</th>\n      <td>The long-wandering eccentric no longer thinks ...</td>\n      <td>長年放浪してきた傾奇者は、もうそのことを思い出さないだろう。</td>\n      <td>流浪多年的倾奇者已不会再想起它，</td>\n      <td>17</td>\n      <td>16</td>\n      <td>13</td>\n      <td>0.757267</td>\n    </tr>\n    <tr>\n      <th>1</th>\n      <td>But when he closes his eyes, he can still see ...</td>\n      <td>しかし目を閉じると、たたら砂の月夜や炉火が見える。</td>\n      <td>但闭上双眼，却仍能看到踏鞴砂的月夜与炉火。</td>\n      <td>31</td>\n      <td>16</td>\n      <td>21</td>\n      <td>0.778838</td>\n    </tr>\n    <tr>\n      <th>2</th>\n      <td>The kind young deputy said:</td>\n      <td>若く、心優しい副官が言った。</td>\n      <td>年轻仁厚的副官说：</td>\n      <td>7</td>\n      <td>11</td>\n      <td>8</td>\n      <td>0.814170</td>\n    </tr>\n    <tr>\n      <th>3</th>\n      <td>\"This gold ornament is a proof of identity gra...</td>\n      <td>「この金の飾りは、将軍から授かった身分の証である。」</td>\n      <td>「这金饰是将军大人所赐身份之证，」</td>\n      <td>22</td>\n      <td>16</td>\n      <td>14</td>\n      <td>0.819174</td>\n    </tr>\n    <tr>\n      <th>4</th>\n      <td>\"But as you travel the world, please bear this...</td>\n      <td>「世を渡り歩く時、やむを得ない場合を除き、」</td>\n      <td>「但你行走世间时，若非万不得已，」</td>\n      <td>14</td>\n      <td>15</td>\n      <td>16</td>\n      <td>0.709527</td>\n    </tr>\n    <tr>\n      <th>...</th>\n      <td>...</td>\n      <td>...</td>\n      <td>...</td>\n      <td>...</td>\n      <td>...</td>\n      <td>...</td>\n      <td>...</td>\n    </tr>\n    <tr>\n      <th>12834</th>\n      <td>Sangonomiya was once an ocean abyss, until the...</td>\n      <td>珊瑚宮は、最初は海溝だった。大蛇が渡来した際、渦が巻き上がった珊瑚が島になった。故に珊瑚宮の...</td>\n      <td>珊瑚宫者，初为海渊，后有大蛇渡来，盘桓而升涡流，塑珊瑚而成岛。是故珊瑚宫人名之「海祇岛」，盖...</td>\n      <td>79</td>\n      <td>54</td>\n      <td>54</td>\n      <td>0.801211</td>\n    </tr>\n    <tr>\n      <th>12835</th>\n      <td>The inhabitants of Watatsumi call themselves t...</td>\n      <td>海祇の人は海民と自称し、大蛇オロバシノミコトを祀る。海祇島に将軍奉行の位がなく、神宮を最高権...</td>\n      <td>海祇之人自称海民，奉大蛇远吕羽氏尊。海祇岛以神宫为高府，无将军奉行之畴。大小事务仰赖诸巫女，...</td>\n      <td>107</td>\n      <td>68</td>\n      <td>65</td>\n      <td>0.803473</td>\n    </tr>\n    <tr>\n      <th>12836</th>\n      <td>During the Archon War, Her Excellency the Almi...</td>\n      <td>往年魔神の混戦中、雷電大御所将軍様が稲妻全土を平定した。皆ひれ伏し、各々の地を治めた。事を起...</td>\n      <td>往年魔神混战，雷电大御所将军殿下定稻妻全土于一元，众皆震悚俯首，各安其位，或有直遭殄灭，再无...</td>\n      <td>149</td>\n      <td>91</td>\n      <td>87</td>\n      <td>0.700754</td>\n    </tr>\n    <tr>\n      <th>12837</th>\n      <td>The war was brutal, and brought great sufferin...</td>\n      <td>過酷な戦で民が苦しんだ。今のヤシオリ島で激しい戦闘が行われ、双方の被害が甚大だった。大御所殿...</td>\n      <td>战事酷烈，民生惨苦。两方鏖战今八酝岛，皆多有伤亡，大御所殿下之爱将天狗笹百合亦陨落其间。大蛇...</td>\n      <td>102</td>\n      <td>62</td>\n      <td>61</td>\n      <td>0.824992</td>\n    </tr>\n    <tr>\n      <th>12838</th>\n      <td>Thereafter, Sangonomiya sent envoys to announc...</td>\n      <td>この後、珊瑚宮は降伏し、稲妻幕府を大宗主とするようになった。</td>\n      <td>自此以后，珊瑚宫遣使降服，尊稻妻幕府为大宗主也。</td>\n      <td>41</td>\n      <td>22</td>\n      <td>24</td>\n      <td>0.636581</td>\n    </tr>\n  </tbody>\n</table>\n<p>10410 rows × 7 columns</p>\n</div>"
     },
     "execution_count": 12,
     "metadata": {},
     "output_type": "execute_result"
    }
   ],
   "source": [
    "# remove lines that LaBSE score is less than 0.6 or more than 0.99\n",
    "df = df[df['score'] >= 0.6]\n",
    "df = df[df['score'] <= 0.99]\n",
    "df"
   ],
   "metadata": {
    "collapsed": false,
    "ExecuteTime": {
     "end_time": "2023-07-09T10:29:54.041696178Z",
     "start_time": "2023-07-09T10:29:53.994316219Z"
    }
   }
  },
  {
   "cell_type": "code",
   "execution_count": 13,
   "outputs": [
    {
     "data": {
      "text/plain": "                                                      en  \\\n0      The long-wandering eccentric no longer thinks ...   \n1      But when he closes his eyes, he can still see ...   \n2                            The kind young deputy said:   \n3      \"This gold ornament is a proof of identity gra...   \n4      \"But as you travel the world, please bear this...   \n...                                                  ...   \n12834  Sangonomiya was once an ocean abyss, until the...   \n12835  The inhabitants of Watatsumi call themselves t...   \n12836  During the Archon War, Her Excellency the Almi...   \n12837  The war was brutal, and brought great sufferin...   \n12838  Thereafter, Sangonomiya sent envoys to announc...   \n\n                                                      ja  \\\n0                         長年放浪してきた傾奇者は、もうそのことを思い出さないだろう。   \n1                              しかし目を閉じると、たたら砂の月夜や炉火が見える。   \n2                                         若く、心優しい副官が言った。   \n3                             「この金の飾りは、将軍から授かった身分の証である。」   \n4                                 「世を渡り歩く時、やむを得ない場合を除き、」   \n...                                                  ...   \n12834  珊瑚宮は、最初は海溝だった。大蛇が渡来した際、渦が巻き上がった珊瑚が島になった。故に珊瑚宮の...   \n12835  海祇の人は海民と自称し、大蛇オロバシノミコトを祀る。海祇島に将軍奉行の位がなく、神宮を最高権...   \n12836  往年魔神の混戦中、雷電大御所将軍様が稲妻全土を平定した。皆ひれ伏し、各々の地を治めた。事を起...   \n12837  過酷な戦で民が苦しんだ。今のヤシオリ島で激しい戦闘が行われ、双方の被害が甚大だった。大御所殿...   \n12838                     この後、珊瑚宮は降伏し、稲妻幕府を大宗主とするようになった。   \n\n                                                      zh  en_len  ja_len  \\\n0                                       流浪多年的倾奇者已不会再想起它，      17      16   \n1                                  但闭上双眼，却仍能看到踏鞴砂的月夜与炉火。      31      16   \n2                                              年轻仁厚的副官说：       7      11   \n3                                      “这金饰是将军大人所赐身份之证，”      22      16   \n4                                      “但你行走世间时，若非万不得已，”      14      15   \n...                                                  ...     ...     ...   \n12834  珊瑚宫者，初为海渊，后有大蛇渡来，盘桓而升涡流，塑珊瑚而成岛。是故珊瑚宫人名之“海祇岛”，盖...      79      54   \n12835  海祇之人自称海民，奉大蛇远吕羽氏尊。海祇岛以神宫为高府，无将军奉行之畴。大小事务仰赖诸巫女，...     107      68   \n12836  往年魔神混战，雷电大御所将军殿下定稻妻全土于一元，众皆震悚俯首，各安其位，或有直遭殄灭，再无...     149      91   \n12837  战事酷烈，民生惨苦。两方鏖战今八酝岛，皆多有伤亡，大御所殿下之爱将天狗笹百合亦陨落其间。大蛇...     102      62   \n12838                           自此以后，珊瑚宫遣使降服，尊稻妻幕府为大宗主也。      41      22   \n\n       zh_len     score  \n0          13  0.757267  \n1          21  0.778838  \n2           8  0.814170  \n3          14  0.819174  \n4          16  0.709527  \n...       ...       ...  \n12834      54  0.801211  \n12835      65  0.803473  \n12836      87  0.700754  \n12837      61  0.824992  \n12838      24  0.636581  \n\n[10410 rows x 7 columns]",
      "text/html": "<div>\n<style scoped>\n    .dataframe tbody tr th:only-of-type {\n        vertical-align: middle;\n    }\n\n    .dataframe tbody tr th {\n        vertical-align: top;\n    }\n\n    .dataframe thead th {\n        text-align: right;\n    }\n</style>\n<table border=\"1\" class=\"dataframe\">\n  <thead>\n    <tr style=\"text-align: right;\">\n      <th></th>\n      <th>en</th>\n      <th>ja</th>\n      <th>zh</th>\n      <th>en_len</th>\n      <th>ja_len</th>\n      <th>zh_len</th>\n      <th>score</th>\n    </tr>\n  </thead>\n  <tbody>\n    <tr>\n      <th>0</th>\n      <td>The long-wandering eccentric no longer thinks ...</td>\n      <td>長年放浪してきた傾奇者は、もうそのことを思い出さないだろう。</td>\n      <td>流浪多年的倾奇者已不会再想起它，</td>\n      <td>17</td>\n      <td>16</td>\n      <td>13</td>\n      <td>0.757267</td>\n    </tr>\n    <tr>\n      <th>1</th>\n      <td>But when he closes his eyes, he can still see ...</td>\n      <td>しかし目を閉じると、たたら砂の月夜や炉火が見える。</td>\n      <td>但闭上双眼，却仍能看到踏鞴砂的月夜与炉火。</td>\n      <td>31</td>\n      <td>16</td>\n      <td>21</td>\n      <td>0.778838</td>\n    </tr>\n    <tr>\n      <th>2</th>\n      <td>The kind young deputy said:</td>\n      <td>若く、心優しい副官が言った。</td>\n      <td>年轻仁厚的副官说：</td>\n      <td>7</td>\n      <td>11</td>\n      <td>8</td>\n      <td>0.814170</td>\n    </tr>\n    <tr>\n      <th>3</th>\n      <td>\"This gold ornament is a proof of identity gra...</td>\n      <td>「この金の飾りは、将軍から授かった身分の証である。」</td>\n      <td>“这金饰是将军大人所赐身份之证，”</td>\n      <td>22</td>\n      <td>16</td>\n      <td>14</td>\n      <td>0.819174</td>\n    </tr>\n    <tr>\n      <th>4</th>\n      <td>\"But as you travel the world, please bear this...</td>\n      <td>「世を渡り歩く時、やむを得ない場合を除き、」</td>\n      <td>“但你行走世间时，若非万不得已，”</td>\n      <td>14</td>\n      <td>15</td>\n      <td>16</td>\n      <td>0.709527</td>\n    </tr>\n    <tr>\n      <th>...</th>\n      <td>...</td>\n      <td>...</td>\n      <td>...</td>\n      <td>...</td>\n      <td>...</td>\n      <td>...</td>\n      <td>...</td>\n    </tr>\n    <tr>\n      <th>12834</th>\n      <td>Sangonomiya was once an ocean abyss, until the...</td>\n      <td>珊瑚宮は、最初は海溝だった。大蛇が渡来した際、渦が巻き上がった珊瑚が島になった。故に珊瑚宮の...</td>\n      <td>珊瑚宫者，初为海渊，后有大蛇渡来，盘桓而升涡流，塑珊瑚而成岛。是故珊瑚宫人名之“海祇岛”，盖...</td>\n      <td>79</td>\n      <td>54</td>\n      <td>54</td>\n      <td>0.801211</td>\n    </tr>\n    <tr>\n      <th>12835</th>\n      <td>The inhabitants of Watatsumi call themselves t...</td>\n      <td>海祇の人は海民と自称し、大蛇オロバシノミコトを祀る。海祇島に将軍奉行の位がなく、神宮を最高権...</td>\n      <td>海祇之人自称海民，奉大蛇远吕羽氏尊。海祇岛以神宫为高府，无将军奉行之畴。大小事务仰赖诸巫女，...</td>\n      <td>107</td>\n      <td>68</td>\n      <td>65</td>\n      <td>0.803473</td>\n    </tr>\n    <tr>\n      <th>12836</th>\n      <td>During the Archon War, Her Excellency the Almi...</td>\n      <td>往年魔神の混戦中、雷電大御所将軍様が稲妻全土を平定した。皆ひれ伏し、各々の地を治めた。事を起...</td>\n      <td>往年魔神混战，雷电大御所将军殿下定稻妻全土于一元，众皆震悚俯首，各安其位，或有直遭殄灭，再无...</td>\n      <td>149</td>\n      <td>91</td>\n      <td>87</td>\n      <td>0.700754</td>\n    </tr>\n    <tr>\n      <th>12837</th>\n      <td>The war was brutal, and brought great sufferin...</td>\n      <td>過酷な戦で民が苦しんだ。今のヤシオリ島で激しい戦闘が行われ、双方の被害が甚大だった。大御所殿...</td>\n      <td>战事酷烈，民生惨苦。两方鏖战今八酝岛，皆多有伤亡，大御所殿下之爱将天狗笹百合亦陨落其间。大蛇...</td>\n      <td>102</td>\n      <td>62</td>\n      <td>61</td>\n      <td>0.824992</td>\n    </tr>\n    <tr>\n      <th>12838</th>\n      <td>Thereafter, Sangonomiya sent envoys to announc...</td>\n      <td>この後、珊瑚宮は降伏し、稲妻幕府を大宗主とするようになった。</td>\n      <td>自此以后，珊瑚宫遣使降服，尊稻妻幕府为大宗主也。</td>\n      <td>41</td>\n      <td>22</td>\n      <td>24</td>\n      <td>0.636581</td>\n    </tr>\n  </tbody>\n</table>\n<p>10410 rows × 7 columns</p>\n</div>"
     },
     "execution_count": 13,
     "metadata": {},
     "output_type": "execute_result"
    }
   ],
   "source": [
    "# replace「」to “”, 『』to ‘’ in zh\n",
    "df['zh'] = df['zh'].apply(lambda x: x.replace('「', '“'))\n",
    "df['zh'] = df['zh'].apply(lambda x: x.replace('」', '”'))\n",
    "df['zh'] = df['zh'].apply(lambda x: x.replace('『', '‘'))\n",
    "df['zh'] = df['zh'].apply(lambda x: x.replace('』', '’'))\n",
    "df"
   ],
   "metadata": {
    "collapsed": false,
    "ExecuteTime": {
     "end_time": "2023-07-09T10:29:58.703594413Z",
     "start_time": "2023-07-09T10:29:58.659011830Z"
    }
   }
  },
  {
   "cell_type": "code",
   "execution_count": 14,
   "outputs": [],
   "source": [
    "# drop len and score column\n",
    "df = df.drop(columns=['en_len', 'ja_len', 'zh_len', 'score'])\n",
    "# save to parquet\n",
    "df.to_parquet('parquet/GenshinReadable.parquet', index=False)"
   ],
   "metadata": {
    "collapsed": false,
    "ExecuteTime": {
     "end_time": "2023-07-09T10:30:03.648725829Z",
     "start_time": "2023-07-09T10:30:03.563413386Z"
    }
   }
  },
  {
   "cell_type": "code",
   "execution_count": 15,
   "outputs": [
    {
     "data": {
      "text/plain": "                                                      en  \\\n0      The long-wandering eccentric no longer thinks ...   \n1      But when he closes his eyes, he can still see ...   \n2                            The kind young deputy said:   \n3      \"This gold ornament is a proof of identity gra...   \n4      \"But as you travel the world, please bear this...   \n...                                                  ...   \n10405  Sangonomiya was once an ocean abyss, until the...   \n10406  The inhabitants of Watatsumi call themselves t...   \n10407  During the Archon War, Her Excellency the Almi...   \n10408  The war was brutal, and brought great sufferin...   \n10409  Thereafter, Sangonomiya sent envoys to announc...   \n\n                                                      ja  \\\n0                         長年放浪してきた傾奇者は、もうそのことを思い出さないだろう。   \n1                              しかし目を閉じると、たたら砂の月夜や炉火が見える。   \n2                                         若く、心優しい副官が言った。   \n3                             「この金の飾りは、将軍から授かった身分の証である。」   \n4                                 「世を渡り歩く時、やむを得ない場合を除き、」   \n...                                                  ...   \n10405  珊瑚宮は、最初は海溝だった。大蛇が渡来した際、渦が巻き上がった珊瑚が島になった。故に珊瑚宮の...   \n10406  海祇の人は海民と自称し、大蛇オロバシノミコトを祀る。海祇島に将軍奉行の位がなく、神宮を最高権...   \n10407  往年魔神の混戦中、雷電大御所将軍様が稲妻全土を平定した。皆ひれ伏し、各々の地を治めた。事を起...   \n10408  過酷な戦で民が苦しんだ。今のヤシオリ島で激しい戦闘が行われ、双方の被害が甚大だった。大御所殿...   \n10409                     この後、珊瑚宮は降伏し、稲妻幕府を大宗主とするようになった。   \n\n                                                      zh  \n0                                       流浪多年的倾奇者已不会再想起它，  \n1                                  但闭上双眼，却仍能看到踏鞴砂的月夜与炉火。  \n2                                              年轻仁厚的副官说：  \n3                                      “这金饰是将军大人所赐身份之证，”  \n4                                      “但你行走世间时，若非万不得已，”  \n...                                                  ...  \n10405  珊瑚宫者，初为海渊，后有大蛇渡来，盘桓而升涡流，塑珊瑚而成岛。是故珊瑚宫人名之“海祇岛”，盖...  \n10406  海祇之人自称海民，奉大蛇远吕羽氏尊。海祇岛以神宫为高府，无将军奉行之畴。大小事务仰赖诸巫女，...  \n10407  往年魔神混战，雷电大御所将军殿下定稻妻全土于一元，众皆震悚俯首，各安其位，或有直遭殄灭，再无...  \n10408  战事酷烈，民生惨苦。两方鏖战今八酝岛，皆多有伤亡，大御所殿下之爱将天狗笹百合亦陨落其间。大蛇...  \n10409                           自此以后，珊瑚宫遣使降服，尊稻妻幕府为大宗主也。  \n\n[10410 rows x 3 columns]",
      "text/html": "<div>\n<style scoped>\n    .dataframe tbody tr th:only-of-type {\n        vertical-align: middle;\n    }\n\n    .dataframe tbody tr th {\n        vertical-align: top;\n    }\n\n    .dataframe thead th {\n        text-align: right;\n    }\n</style>\n<table border=\"1\" class=\"dataframe\">\n  <thead>\n    <tr style=\"text-align: right;\">\n      <th></th>\n      <th>en</th>\n      <th>ja</th>\n      <th>zh</th>\n    </tr>\n  </thead>\n  <tbody>\n    <tr>\n      <th>0</th>\n      <td>The long-wandering eccentric no longer thinks ...</td>\n      <td>長年放浪してきた傾奇者は、もうそのことを思い出さないだろう。</td>\n      <td>流浪多年的倾奇者已不会再想起它，</td>\n    </tr>\n    <tr>\n      <th>1</th>\n      <td>But when he closes his eyes, he can still see ...</td>\n      <td>しかし目を閉じると、たたら砂の月夜や炉火が見える。</td>\n      <td>但闭上双眼，却仍能看到踏鞴砂的月夜与炉火。</td>\n    </tr>\n    <tr>\n      <th>2</th>\n      <td>The kind young deputy said:</td>\n      <td>若く、心優しい副官が言った。</td>\n      <td>年轻仁厚的副官说：</td>\n    </tr>\n    <tr>\n      <th>3</th>\n      <td>\"This gold ornament is a proof of identity gra...</td>\n      <td>「この金の飾りは、将軍から授かった身分の証である。」</td>\n      <td>“这金饰是将军大人所赐身份之证，”</td>\n    </tr>\n    <tr>\n      <th>4</th>\n      <td>\"But as you travel the world, please bear this...</td>\n      <td>「世を渡り歩く時、やむを得ない場合を除き、」</td>\n      <td>“但你行走世间时，若非万不得已，”</td>\n    </tr>\n    <tr>\n      <th>...</th>\n      <td>...</td>\n      <td>...</td>\n      <td>...</td>\n    </tr>\n    <tr>\n      <th>10405</th>\n      <td>Sangonomiya was once an ocean abyss, until the...</td>\n      <td>珊瑚宮は、最初は海溝だった。大蛇が渡来した際、渦が巻き上がった珊瑚が島になった。故に珊瑚宮の...</td>\n      <td>珊瑚宫者，初为海渊，后有大蛇渡来，盘桓而升涡流，塑珊瑚而成岛。是故珊瑚宫人名之“海祇岛”，盖...</td>\n    </tr>\n    <tr>\n      <th>10406</th>\n      <td>The inhabitants of Watatsumi call themselves t...</td>\n      <td>海祇の人は海民と自称し、大蛇オロバシノミコトを祀る。海祇島に将軍奉行の位がなく、神宮を最高権...</td>\n      <td>海祇之人自称海民，奉大蛇远吕羽氏尊。海祇岛以神宫为高府，无将军奉行之畴。大小事务仰赖诸巫女，...</td>\n    </tr>\n    <tr>\n      <th>10407</th>\n      <td>During the Archon War, Her Excellency the Almi...</td>\n      <td>往年魔神の混戦中、雷電大御所将軍様が稲妻全土を平定した。皆ひれ伏し、各々の地を治めた。事を起...</td>\n      <td>往年魔神混战，雷电大御所将军殿下定稻妻全土于一元，众皆震悚俯首，各安其位，或有直遭殄灭，再无...</td>\n    </tr>\n    <tr>\n      <th>10408</th>\n      <td>The war was brutal, and brought great sufferin...</td>\n      <td>過酷な戦で民が苦しんだ。今のヤシオリ島で激しい戦闘が行われ、双方の被害が甚大だった。大御所殿...</td>\n      <td>战事酷烈，民生惨苦。两方鏖战今八酝岛，皆多有伤亡，大御所殿下之爱将天狗笹百合亦陨落其间。大蛇...</td>\n    </tr>\n    <tr>\n      <th>10409</th>\n      <td>Thereafter, Sangonomiya sent envoys to announc...</td>\n      <td>この後、珊瑚宮は降伏し、稲妻幕府を大宗主とするようになった。</td>\n      <td>自此以后，珊瑚宫遣使降服，尊稻妻幕府为大宗主也。</td>\n    </tr>\n  </tbody>\n</table>\n<p>10410 rows × 3 columns</p>\n</div>"
     },
     "execution_count": 15,
     "metadata": {},
     "output_type": "execute_result"
    }
   ],
   "source": [
    "# load parquet\n",
    "df = pd.read_parquet('parquet/GenshinReadable.parquet')\n",
    "df"
   ],
   "metadata": {
    "collapsed": false,
    "ExecuteTime": {
     "end_time": "2023-07-09T10:30:06.674748617Z",
     "start_time": "2023-07-09T10:30:06.603739596Z"
    }
   }
  }
 ],
 "metadata": {
  "kernelspec": {
   "display_name": "Python 3",
   "language": "python",
   "name": "python3"
  },
  "language_info": {
   "codemirror_mode": {
    "name": "ipython",
    "version": 2
   },
   "file_extension": ".py",
   "mimetype": "text/x-python",
   "name": "python",
   "nbconvert_exporter": "python",
   "pygments_lexer": "ipython2",
   "version": "2.7.6"
  }
 },
 "nbformat": 4,
 "nbformat_minor": 0
}
