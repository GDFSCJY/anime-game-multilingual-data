{
 "cells": [
  {
   "cell_type": "code",
   "execution_count": 1,
   "metadata": {
    "collapsed": true,
    "ExecuteTime": {
     "end_time": "2023-07-02T13:09:38.788173886Z",
     "start_time": "2023-07-02T13:09:38.492033005Z"
    }
   },
   "outputs": [],
   "source": [
    "from glob import glob\n",
    "import os\n",
    "import pandas as pd\n",
    "from tqdm import tqdm_notebook as tqdm\n",
    "import re\n"
   ]
  },
  {
   "cell_type": "code",
   "execution_count": 2,
   "outputs": [
    {
     "name": "stderr",
     "output_type": "stream",
     "text": [
      "/tmp/ipykernel_5513/1966767859.py:7: TqdmDeprecationWarning: This function will be removed in tqdm==5.0.0\n",
      "Please use `tqdm.notebook.tqdm` instead of `tqdm.tqdm_notebook`\n",
      "  for zh_file in tqdm(os.listdir(zh_path), total=len(os.listdir(zh_path))):\n"
     ]
    },
    {
     "data": {
      "text/plain": "  0%|          | 0/1025 [00:00<?, ?it/s]",
      "application/vnd.jupyter.widget-view+json": {
       "version_major": 2,
       "version_minor": 0,
       "model_id": "b462a082b56b49eb98d58bbe24f05e75"
      }
     },
     "metadata": {},
     "output_type": "display_data"
    },
    {
     "name": "stdout",
     "output_type": "stream",
     "text": [
      "Skip 0 files, 1025 files left.\n"
     ]
    }
   ],
   "source": [
    "en_path = 'GAMEDATA/GenshinData/Readable/EN'\n",
    "ja_path = 'GAMEDATA/GenshinData/Readable/JP'\n",
    "zh_path = 'GAMEDATA/GenshinData/Readable/CHS'\n",
    "\n",
    "skip_count = 0\n",
    "en_files, ja_files, zh_files = [], [], []\n",
    "for zh_file in tqdm(os.listdir(zh_path), total=len(os.listdir(zh_path))):\n",
    "    en_file = os.path.join(en_path, zh_file.split('.')[0] + '_EN.txt')\n",
    "    ja_file = os.path.join(ja_path, zh_file.split('.')[0] + '_JP.txt')\n",
    "    zh_file = os.path.join(zh_path, zh_file)\n",
    "    if not os.path.exists(en_file) or not os.path.exists(ja_file):\n",
    "        skip_count += 1\n",
    "        continue\n",
    "    en_files.append(en_file)\n",
    "    ja_files.append(ja_file)\n",
    "    zh_files.append(zh_file)\n",
    "\n",
    "print(f'Skip {skip_count} files, {len(en_files)} files left.')"
   ],
   "metadata": {
    "collapsed": false,
    "ExecuteTime": {
     "end_time": "2023-07-02T13:09:38.910191310Z",
     "start_time": "2023-07-02T13:09:38.793466277Z"
    }
   }
  },
  {
   "cell_type": "code",
   "execution_count": 3,
   "outputs": [
    {
     "name": "stderr",
     "output_type": "stream",
     "text": [
      "/tmp/ipykernel_5513/3100780392.py:4: TqdmDeprecationWarning: This function will be removed in tqdm==5.0.0\n",
      "Please use `tqdm.notebook.tqdm` instead of `tqdm.tqdm_notebook`\n",
      "  for en_file, ja_file, zh_file in tqdm(zip(en_files, ja_files, zh_files), total=len(en_files)):\n"
     ]
    },
    {
     "data": {
      "text/plain": "  0%|          | 0/1025 [00:00<?, ?it/s]",
      "application/vnd.jupyter.widget-view+json": {
       "version_major": 2,
       "version_minor": 0,
       "model_id": "cedaafbd8f544e32987a1b0413d0b05f"
      }
     },
     "metadata": {},
     "output_type": "display_data"
    },
    {
     "name": "stdout",
     "output_type": "stream",
     "text": [
      "Skip 4 files\n"
     ]
    },
    {
     "data": {
      "text/plain": "                                                      en  \\\n0      The long-wandering eccentric no longer thinks ...   \n1      But when he closes his eyes, he can still see ...   \n2                            The kind young deputy said:   \n3      \"This gold ornament is a proof of identity gra...   \n4      \"But as you travel the world, please bear this...   \n...                                                  ...   \n12642  Sangonomiya was once an ocean abyss, until the...   \n12643  The inhabitants of Watatsumi call themselves t...   \n12644  During the Archon War, Her Excellency the Almi...   \n12645  The war was brutal, and brought great sufferin...   \n12646  Thereafter, Sangonomiya sent envoys to announc...   \n\n                                                      ja  \\\n0                         長年放浪してきた傾奇者は、もうそのことを思い出さないだろう。   \n1                              しかし目を閉じると、たたら砂の月夜や炉火が見える。   \n2                                         若く、心優しい副官が言った。   \n3                             「この金の飾りは、将軍から授かった身分の証である。」   \n4                                 「世を渡り歩く時、やむを得ない場合を除き、」   \n...                                                  ...   \n12642  珊瑚宮は、最初は海溝だった。大蛇が渡来した際、渦が巻き上がった珊瑚が島になった。故に珊瑚宮の...   \n12643  海祇の人は海民と自称し、大蛇オロバシノミコトを祀る。海祇島に将軍奉行の位がなく、神宮を最高権...   \n12644  往年魔神の混戦中、雷電大御所将軍様が稲妻全土を平定した。皆ひれ伏し、各々の地を治めた。事を起...   \n12645  過酷な戦で民が苦しんだ。今のヤシオリ島で激しい戦闘が行われ、双方の被害が甚大だった。大御所殿...   \n12646                     この後、珊瑚宮は降伏し、稲妻幕府を大宗主とするようになった。   \n\n                                                      zh  \n0                                       流浪多年的倾奇者已不会再想起它，  \n1                                  但闭上双眼，却仍能看到踏鞴砂的月夜与炉火。  \n2                                              年轻仁厚的副官说：  \n3                                      「这金饰是将军大人所赐身份之证，」  \n4                                      「但你行走世间时，若非万不得已，」  \n...                                                  ...  \n12642  珊瑚宫者，初为海渊，后有大蛇渡来，盘桓而升涡流，塑珊瑚而成岛。是故珊瑚宫人名之「海祇岛」，盖...  \n12643  海祇之人自称海民，奉大蛇远吕羽氏尊。海祇岛以神宫为高府，无将军奉行之畴。大小事务仰赖诸巫女，...  \n12644  往年魔神混战，雷电大御所将军殿下定稻妻全土于一元，众皆震悚俯首，各安其位，或有直遭殄灭，再无...  \n12645  战事酷烈，民生惨苦。两方鏖战今八酝岛，皆多有伤亡，大御所殿下之爱将天狗笹百合亦陨落其间。大蛇...  \n12646                           自此以后，珊瑚宫遣使降服，尊稻妻幕府为大宗主也。  \n\n[12647 rows x 3 columns]",
      "text/html": "<div>\n<style scoped>\n    .dataframe tbody tr th:only-of-type {\n        vertical-align: middle;\n    }\n\n    .dataframe tbody tr th {\n        vertical-align: top;\n    }\n\n    .dataframe thead th {\n        text-align: right;\n    }\n</style>\n<table border=\"1\" class=\"dataframe\">\n  <thead>\n    <tr style=\"text-align: right;\">\n      <th></th>\n      <th>en</th>\n      <th>ja</th>\n      <th>zh</th>\n    </tr>\n  </thead>\n  <tbody>\n    <tr>\n      <th>0</th>\n      <td>The long-wandering eccentric no longer thinks ...</td>\n      <td>長年放浪してきた傾奇者は、もうそのことを思い出さないだろう。</td>\n      <td>流浪多年的倾奇者已不会再想起它，</td>\n    </tr>\n    <tr>\n      <th>1</th>\n      <td>But when he closes his eyes, he can still see ...</td>\n      <td>しかし目を閉じると、たたら砂の月夜や炉火が見える。</td>\n      <td>但闭上双眼，却仍能看到踏鞴砂的月夜与炉火。</td>\n    </tr>\n    <tr>\n      <th>2</th>\n      <td>The kind young deputy said:</td>\n      <td>若く、心優しい副官が言った。</td>\n      <td>年轻仁厚的副官说：</td>\n    </tr>\n    <tr>\n      <th>3</th>\n      <td>\"This gold ornament is a proof of identity gra...</td>\n      <td>「この金の飾りは、将軍から授かった身分の証である。」</td>\n      <td>「这金饰是将军大人所赐身份之证，」</td>\n    </tr>\n    <tr>\n      <th>4</th>\n      <td>\"But as you travel the world, please bear this...</td>\n      <td>「世を渡り歩く時、やむを得ない場合を除き、」</td>\n      <td>「但你行走世间时，若非万不得已，」</td>\n    </tr>\n    <tr>\n      <th>...</th>\n      <td>...</td>\n      <td>...</td>\n      <td>...</td>\n    </tr>\n    <tr>\n      <th>12642</th>\n      <td>Sangonomiya was once an ocean abyss, until the...</td>\n      <td>珊瑚宮は、最初は海溝だった。大蛇が渡来した際、渦が巻き上がった珊瑚が島になった。故に珊瑚宮の...</td>\n      <td>珊瑚宫者，初为海渊，后有大蛇渡来，盘桓而升涡流，塑珊瑚而成岛。是故珊瑚宫人名之「海祇岛」，盖...</td>\n    </tr>\n    <tr>\n      <th>12643</th>\n      <td>The inhabitants of Watatsumi call themselves t...</td>\n      <td>海祇の人は海民と自称し、大蛇オロバシノミコトを祀る。海祇島に将軍奉行の位がなく、神宮を最高権...</td>\n      <td>海祇之人自称海民，奉大蛇远吕羽氏尊。海祇岛以神宫为高府，无将军奉行之畴。大小事务仰赖诸巫女，...</td>\n    </tr>\n    <tr>\n      <th>12644</th>\n      <td>During the Archon War, Her Excellency the Almi...</td>\n      <td>往年魔神の混戦中、雷電大御所将軍様が稲妻全土を平定した。皆ひれ伏し、各々の地を治めた。事を起...</td>\n      <td>往年魔神混战，雷电大御所将军殿下定稻妻全土于一元，众皆震悚俯首，各安其位，或有直遭殄灭，再无...</td>\n    </tr>\n    <tr>\n      <th>12645</th>\n      <td>The war was brutal, and brought great sufferin...</td>\n      <td>過酷な戦で民が苦しんだ。今のヤシオリ島で激しい戦闘が行われ、双方の被害が甚大だった。大御所殿...</td>\n      <td>战事酷烈，民生惨苦。两方鏖战今八酝岛，皆多有伤亡，大御所殿下之爱将天狗笹百合亦陨落其间。大蛇...</td>\n    </tr>\n    <tr>\n      <th>12646</th>\n      <td>Thereafter, Sangonomiya sent envoys to announc...</td>\n      <td>この後、珊瑚宮は降伏し、稲妻幕府を大宗主とするようになった。</td>\n      <td>自此以后，珊瑚宫遣使降服，尊稻妻幕府为大宗主也。</td>\n    </tr>\n  </tbody>\n</table>\n<p>12647 rows × 3 columns</p>\n</div>"
     },
     "execution_count": 3,
     "metadata": {},
     "output_type": "execute_result"
    }
   ],
   "source": [
    "df = pd.DataFrame(columns=['en', 'ja', 'zh'])\n",
    "\n",
    "skip_count = 0\n",
    "for en_file, ja_file, zh_file in tqdm(zip(en_files, ja_files, zh_files), total=len(en_files)):\n",
    "    en_text, ja_text, zh_text = [], [], []\n",
    "    for line in open(en_file, 'r', encoding='utf-8'):\n",
    "        line = line.strip()\n",
    "        if line == '':\n",
    "            continue\n",
    "        en_text.append(line)\n",
    "    for line in open(ja_file, 'r', encoding='utf-8'):\n",
    "        line = line.strip()\n",
    "        if line == '':\n",
    "            continue\n",
    "        ja_text.append(line)\n",
    "    for line in open(zh_file, 'r', encoding='utf-8'):\n",
    "        line = line.strip()\n",
    "        if line == '':\n",
    "            continue\n",
    "        zh_text.append(line)\n",
    "\n",
    "    if len(en_text) != len(ja_text) or len(en_text) != len(zh_text):\n",
    "        skip_count += 1\n",
    "        continue\n",
    "    df = pd.concat([df, pd.DataFrame({'en': en_text, 'ja': ja_text, 'zh': zh_text})], ignore_index=True)\n",
    "\n",
    "print(f'Skip {skip_count} files')\n",
    "df"
   ],
   "metadata": {
    "collapsed": false,
    "ExecuteTime": {
     "end_time": "2023-07-02T13:09:41.282997967Z",
     "start_time": "2023-07-02T13:09:38.909163294Z"
    }
   }
  },
  {
   "cell_type": "code",
   "execution_count": 4,
   "outputs": [
    {
     "data": {
      "text/plain": "                                                      en  \\\n0      The long-wandering eccentric no longer thinks ...   \n1      But when he closes his eyes, he can still see ...   \n2                            The kind young deputy said:   \n3      \"This gold ornament is a proof of identity gra...   \n4      \"But as you travel the world, please bear this...   \n...                                                  ...   \n12642  Sangonomiya was once an ocean abyss, until the...   \n12643  The inhabitants of Watatsumi call themselves t...   \n12644  During the Archon War, Her Excellency the Almi...   \n12645  The war was brutal, and brought great sufferin...   \n12646  Thereafter, Sangonomiya sent envoys to announc...   \n\n                                                      ja  \\\n0                         長年放浪してきた傾奇者は、もうそのことを思い出さないだろう。   \n1                              しかし目を閉じると、たたら砂の月夜や炉火が見える。   \n2                                         若く、心優しい副官が言った。   \n3                             「この金の飾りは、将軍から授かった身分の証である。」   \n4                                 「世を渡り歩く時、やむを得ない場合を除き、」   \n...                                                  ...   \n12642  珊瑚宮は、最初は海溝だった。大蛇が渡来した際、渦が巻き上がった珊瑚が島になった。故に珊瑚宮の...   \n12643  海祇の人は海民と自称し、大蛇オロバシノミコトを祀る。海祇島に将軍奉行の位がなく、神宮を最高権...   \n12644  往年魔神の混戦中、雷電大御所将軍様が稲妻全土を平定した。皆ひれ伏し、各々の地を治めた。事を起...   \n12645  過酷な戦で民が苦しんだ。今のヤシオリ島で激しい戦闘が行われ、双方の被害が甚大だった。大御所殿...   \n12646                     この後、珊瑚宮は降伏し、稲妻幕府を大宗主とするようになった。   \n\n                                                      zh  \n0                                       流浪多年的倾奇者已不会再想起它，  \n1                                  但闭上双眼，却仍能看到踏鞴砂的月夜与炉火。  \n2                                              年轻仁厚的副官说：  \n3                                      「这金饰是将军大人所赐身份之证，」  \n4                                      「但你行走世间时，若非万不得已，」  \n...                                                  ...  \n12642  珊瑚宫者，初为海渊，后有大蛇渡来，盘桓而升涡流，塑珊瑚而成岛。是故珊瑚宫人名之「海祇岛」，盖...  \n12643  海祇之人自称海民，奉大蛇远吕羽氏尊。海祇岛以神宫为高府，无将军奉行之畴。大小事务仰赖诸巫女，...  \n12644  往年魔神混战，雷电大御所将军殿下定稻妻全土于一元，众皆震悚俯首，各安其位，或有直遭殄灭，再无...  \n12645  战事酷烈，民生惨苦。两方鏖战今八酝岛，皆多有伤亡，大御所殿下之爱将天狗笹百合亦陨落其间。大蛇...  \n12646                           自此以后，珊瑚宫遣使降服，尊稻妻幕府为大宗主也。  \n\n[11724 rows x 3 columns]",
      "text/html": "<div>\n<style scoped>\n    .dataframe tbody tr th:only-of-type {\n        vertical-align: middle;\n    }\n\n    .dataframe tbody tr th {\n        vertical-align: top;\n    }\n\n    .dataframe thead th {\n        text-align: right;\n    }\n</style>\n<table border=\"1\" class=\"dataframe\">\n  <thead>\n    <tr style=\"text-align: right;\">\n      <th></th>\n      <th>en</th>\n      <th>ja</th>\n      <th>zh</th>\n    </tr>\n  </thead>\n  <tbody>\n    <tr>\n      <th>0</th>\n      <td>The long-wandering eccentric no longer thinks ...</td>\n      <td>長年放浪してきた傾奇者は、もうそのことを思い出さないだろう。</td>\n      <td>流浪多年的倾奇者已不会再想起它，</td>\n    </tr>\n    <tr>\n      <th>1</th>\n      <td>But when he closes his eyes, he can still see ...</td>\n      <td>しかし目を閉じると、たたら砂の月夜や炉火が見える。</td>\n      <td>但闭上双眼，却仍能看到踏鞴砂的月夜与炉火。</td>\n    </tr>\n    <tr>\n      <th>2</th>\n      <td>The kind young deputy said:</td>\n      <td>若く、心優しい副官が言った。</td>\n      <td>年轻仁厚的副官说：</td>\n    </tr>\n    <tr>\n      <th>3</th>\n      <td>\"This gold ornament is a proof of identity gra...</td>\n      <td>「この金の飾りは、将軍から授かった身分の証である。」</td>\n      <td>「这金饰是将军大人所赐身份之证，」</td>\n    </tr>\n    <tr>\n      <th>4</th>\n      <td>\"But as you travel the world, please bear this...</td>\n      <td>「世を渡り歩く時、やむを得ない場合を除き、」</td>\n      <td>「但你行走世间时，若非万不得已，」</td>\n    </tr>\n    <tr>\n      <th>...</th>\n      <td>...</td>\n      <td>...</td>\n      <td>...</td>\n    </tr>\n    <tr>\n      <th>12642</th>\n      <td>Sangonomiya was once an ocean abyss, until the...</td>\n      <td>珊瑚宮は、最初は海溝だった。大蛇が渡来した際、渦が巻き上がった珊瑚が島になった。故に珊瑚宮の...</td>\n      <td>珊瑚宫者，初为海渊，后有大蛇渡来，盘桓而升涡流，塑珊瑚而成岛。是故珊瑚宫人名之「海祇岛」，盖...</td>\n    </tr>\n    <tr>\n      <th>12643</th>\n      <td>The inhabitants of Watatsumi call themselves t...</td>\n      <td>海祇の人は海民と自称し、大蛇オロバシノミコトを祀る。海祇島に将軍奉行の位がなく、神宮を最高権...</td>\n      <td>海祇之人自称海民，奉大蛇远吕羽氏尊。海祇岛以神宫为高府，无将军奉行之畴。大小事务仰赖诸巫女，...</td>\n    </tr>\n    <tr>\n      <th>12644</th>\n      <td>During the Archon War, Her Excellency the Almi...</td>\n      <td>往年魔神の混戦中、雷電大御所将軍様が稲妻全土を平定した。皆ひれ伏し、各々の地を治めた。事を起...</td>\n      <td>往年魔神混战，雷电大御所将军殿下定稻妻全土于一元，众皆震悚俯首，各安其位，或有直遭殄灭，再无...</td>\n    </tr>\n    <tr>\n      <th>12645</th>\n      <td>The war was brutal, and brought great sufferin...</td>\n      <td>過酷な戦で民が苦しんだ。今のヤシオリ島で激しい戦闘が行われ、双方の被害が甚大だった。大御所殿...</td>\n      <td>战事酷烈，民生惨苦。两方鏖战今八酝岛，皆多有伤亡，大御所殿下之爱将天狗笹百合亦陨落其间。大蛇...</td>\n    </tr>\n    <tr>\n      <th>12646</th>\n      <td>Thereafter, Sangonomiya sent envoys to announc...</td>\n      <td>この後、珊瑚宮は降伏し、稲妻幕府を大宗主とするようになった。</td>\n      <td>自此以后，珊瑚宫遣使降服，尊稻妻幕府为大宗主也。</td>\n    </tr>\n  </tbody>\n</table>\n<p>11724 rows × 3 columns</p>\n</div>"
     },
     "execution_count": 4,
     "metadata": {},
     "output_type": "execute_result"
    }
   ],
   "source": [
    "# drop duplicate\n",
    "df = df.drop_duplicates(subset=['en', 'ja', 'zh'], keep='first')\n",
    "df"
   ],
   "metadata": {
    "collapsed": false,
    "ExecuteTime": {
     "end_time": "2023-07-02T13:09:41.375544948Z",
     "start_time": "2023-07-02T13:09:41.282530177Z"
    }
   }
  },
  {
   "cell_type": "code",
   "execution_count": 5,
   "outputs": [
    {
     "name": "stderr",
     "output_type": "stream",
     "text": [
      "/tmp/ipykernel_5513/1995334252.py:2: SettingWithCopyWarning: \n",
      "A value is trying to be set on a copy of a slice from a DataFrame.\n",
      "Try using .loc[row_indexer,col_indexer] = value instead\n",
      "\n",
      "See the caveats in the documentation: https://pandas.pydata.org/pandas-docs/stable/user_guide/indexing.html#returning-a-view-versus-a-copy\n",
      "  df['en'] = df['en'].apply(lambda x: re.sub(r'<[^>]*?>', '', x))\n",
      "/tmp/ipykernel_5513/1995334252.py:3: SettingWithCopyWarning: \n",
      "A value is trying to be set on a copy of a slice from a DataFrame.\n",
      "Try using .loc[row_indexer,col_indexer] = value instead\n",
      "\n",
      "See the caveats in the documentation: https://pandas.pydata.org/pandas-docs/stable/user_guide/indexing.html#returning-a-view-versus-a-copy\n",
      "  df['ja'] = df['ja'].apply(lambda x: re.sub(r'<[^>]*?>', '', x))\n",
      "/tmp/ipykernel_5513/1995334252.py:4: SettingWithCopyWarning: \n",
      "A value is trying to be set on a copy of a slice from a DataFrame.\n",
      "Try using .loc[row_indexer,col_indexer] = value instead\n",
      "\n",
      "See the caveats in the documentation: https://pandas.pydata.org/pandas-docs/stable/user_guide/indexing.html#returning-a-view-versus-a-copy\n",
      "  df['zh'] = df['zh'].apply(lambda x: re.sub(r'<[^>]*?>', '', x))\n"
     ]
    },
    {
     "data": {
      "text/plain": "                                                      en  \\\n0      The long-wandering eccentric no longer thinks ...   \n1      But when he closes his eyes, he can still see ...   \n2                            The kind young deputy said:   \n3      \"This gold ornament is a proof of identity gra...   \n4      \"But as you travel the world, please bear this...   \n...                                                  ...   \n12642  Sangonomiya was once an ocean abyss, until the...   \n12643  The inhabitants of Watatsumi call themselves t...   \n12644  During the Archon War, Her Excellency the Almi...   \n12645  The war was brutal, and brought great sufferin...   \n12646  Thereafter, Sangonomiya sent envoys to announc...   \n\n                                                      ja  \\\n0                         長年放浪してきた傾奇者は、もうそのことを思い出さないだろう。   \n1                              しかし目を閉じると、たたら砂の月夜や炉火が見える。   \n2                                         若く、心優しい副官が言った。   \n3                             「この金の飾りは、将軍から授かった身分の証である。」   \n4                                 「世を渡り歩く時、やむを得ない場合を除き、」   \n...                                                  ...   \n12642  珊瑚宮は、最初は海溝だった。大蛇が渡来した際、渦が巻き上がった珊瑚が島になった。故に珊瑚宮の...   \n12643  海祇の人は海民と自称し、大蛇オロバシノミコトを祀る。海祇島に将軍奉行の位がなく、神宮を最高権...   \n12644  往年魔神の混戦中、雷電大御所将軍様が稲妻全土を平定した。皆ひれ伏し、各々の地を治めた。事を起...   \n12645  過酷な戦で民が苦しんだ。今のヤシオリ島で激しい戦闘が行われ、双方の被害が甚大だった。大御所殿...   \n12646                     この後、珊瑚宮は降伏し、稲妻幕府を大宗主とするようになった。   \n\n                                                      zh  \n0                                       流浪多年的倾奇者已不会再想起它，  \n1                                  但闭上双眼，却仍能看到踏鞴砂的月夜与炉火。  \n2                                              年轻仁厚的副官说：  \n3                                      「这金饰是将军大人所赐身份之证，」  \n4                                      「但你行走世间时，若非万不得已，」  \n...                                                  ...  \n12642  珊瑚宫者，初为海渊，后有大蛇渡来，盘桓而升涡流，塑珊瑚而成岛。是故珊瑚宫人名之「海祇岛」，盖...  \n12643  海祇之人自称海民，奉大蛇远吕羽氏尊。海祇岛以神宫为高府，无将军奉行之畴。大小事务仰赖诸巫女，...  \n12644  往年魔神混战，雷电大御所将军殿下定稻妻全土于一元，众皆震悚俯首，各安其位，或有直遭殄灭，再无...  \n12645  战事酷烈，民生惨苦。两方鏖战今八酝岛，皆多有伤亡，大御所殿下之爱将天狗笹百合亦陨落其间。大蛇...  \n12646                           自此以后，珊瑚宫遣使降服，尊稻妻幕府为大宗主也。  \n\n[11724 rows x 3 columns]",
      "text/html": "<div>\n<style scoped>\n    .dataframe tbody tr th:only-of-type {\n        vertical-align: middle;\n    }\n\n    .dataframe tbody tr th {\n        vertical-align: top;\n    }\n\n    .dataframe thead th {\n        text-align: right;\n    }\n</style>\n<table border=\"1\" class=\"dataframe\">\n  <thead>\n    <tr style=\"text-align: right;\">\n      <th></th>\n      <th>en</th>\n      <th>ja</th>\n      <th>zh</th>\n    </tr>\n  </thead>\n  <tbody>\n    <tr>\n      <th>0</th>\n      <td>The long-wandering eccentric no longer thinks ...</td>\n      <td>長年放浪してきた傾奇者は、もうそのことを思い出さないだろう。</td>\n      <td>流浪多年的倾奇者已不会再想起它，</td>\n    </tr>\n    <tr>\n      <th>1</th>\n      <td>But when he closes his eyes, he can still see ...</td>\n      <td>しかし目を閉じると、たたら砂の月夜や炉火が見える。</td>\n      <td>但闭上双眼，却仍能看到踏鞴砂的月夜与炉火。</td>\n    </tr>\n    <tr>\n      <th>2</th>\n      <td>The kind young deputy said:</td>\n      <td>若く、心優しい副官が言った。</td>\n      <td>年轻仁厚的副官说：</td>\n    </tr>\n    <tr>\n      <th>3</th>\n      <td>\"This gold ornament is a proof of identity gra...</td>\n      <td>「この金の飾りは、将軍から授かった身分の証である。」</td>\n      <td>「这金饰是将军大人所赐身份之证，」</td>\n    </tr>\n    <tr>\n      <th>4</th>\n      <td>\"But as you travel the world, please bear this...</td>\n      <td>「世を渡り歩く時、やむを得ない場合を除き、」</td>\n      <td>「但你行走世间时，若非万不得已，」</td>\n    </tr>\n    <tr>\n      <th>...</th>\n      <td>...</td>\n      <td>...</td>\n      <td>...</td>\n    </tr>\n    <tr>\n      <th>12642</th>\n      <td>Sangonomiya was once an ocean abyss, until the...</td>\n      <td>珊瑚宮は、最初は海溝だった。大蛇が渡来した際、渦が巻き上がった珊瑚が島になった。故に珊瑚宮の...</td>\n      <td>珊瑚宫者，初为海渊，后有大蛇渡来，盘桓而升涡流，塑珊瑚而成岛。是故珊瑚宫人名之「海祇岛」，盖...</td>\n    </tr>\n    <tr>\n      <th>12643</th>\n      <td>The inhabitants of Watatsumi call themselves t...</td>\n      <td>海祇の人は海民と自称し、大蛇オロバシノミコトを祀る。海祇島に将軍奉行の位がなく、神宮を最高権...</td>\n      <td>海祇之人自称海民，奉大蛇远吕羽氏尊。海祇岛以神宫为高府，无将军奉行之畴。大小事务仰赖诸巫女，...</td>\n    </tr>\n    <tr>\n      <th>12644</th>\n      <td>During the Archon War, Her Excellency the Almi...</td>\n      <td>往年魔神の混戦中、雷電大御所将軍様が稲妻全土を平定した。皆ひれ伏し、各々の地を治めた。事を起...</td>\n      <td>往年魔神混战，雷电大御所将军殿下定稻妻全土于一元，众皆震悚俯首，各安其位，或有直遭殄灭，再无...</td>\n    </tr>\n    <tr>\n      <th>12645</th>\n      <td>The war was brutal, and brought great sufferin...</td>\n      <td>過酷な戦で民が苦しんだ。今のヤシオリ島で激しい戦闘が行われ、双方の被害が甚大だった。大御所殿...</td>\n      <td>战事酷烈，民生惨苦。两方鏖战今八酝岛，皆多有伤亡，大御所殿下之爱将天狗笹百合亦陨落其间。大蛇...</td>\n    </tr>\n    <tr>\n      <th>12646</th>\n      <td>Thereafter, Sangonomiya sent envoys to announc...</td>\n      <td>この後、珊瑚宮は降伏し、稲妻幕府を大宗主とするようになった。</td>\n      <td>自此以后，珊瑚宫遣使降服，尊稻妻幕府为大宗主也。</td>\n    </tr>\n  </tbody>\n</table>\n<p>11724 rows × 3 columns</p>\n</div>"
     },
     "execution_count": 5,
     "metadata": {},
     "output_type": "execute_result"
    }
   ],
   "source": [
    "# remove html tag\n",
    "df['en'] = df['en'].apply(lambda x: re.sub(r'<[^>]*?>', '', x))\n",
    "df['ja'] = df['ja'].apply(lambda x: re.sub(r'<[^>]*?>', '', x))\n",
    "df['zh'] = df['zh'].apply(lambda x: re.sub(r'<[^>]*?>', '', x))\n",
    "df"
   ],
   "metadata": {
    "collapsed": false,
    "ExecuteTime": {
     "end_time": "2023-07-02T13:09:41.418657813Z",
     "start_time": "2023-07-02T13:09:41.325046105Z"
    }
   }
  },
  {
   "cell_type": "code",
   "execution_count": 6,
   "outputs": [
    {
     "data": {
      "text/plain": "                                                      en  \\\n0      The long-wandering eccentric no longer thinks ...   \n1      But when he closes his eyes, he can still see ...   \n2                            The kind young deputy said:   \n3      \"This gold ornament is a proof of identity gra...   \n4      \"But as you travel the world, please bear this...   \n...                                                  ...   \n12642  Sangonomiya was once an ocean abyss, until the...   \n12643  The inhabitants of Watatsumi call themselves t...   \n12644  During the Archon War, Her Excellency the Almi...   \n12645  The war was brutal, and brought great sufferin...   \n12646  Thereafter, Sangonomiya sent envoys to announc...   \n\n                                                      ja  \\\n0                         長年放浪してきた傾奇者は、もうそのことを思い出さないだろう。   \n1                              しかし目を閉じると、たたら砂の月夜や炉火が見える。   \n2                                         若く、心優しい副官が言った。   \n3                             「この金の飾りは、将軍から授かった身分の証である。」   \n4                                 「世を渡り歩く時、やむを得ない場合を除き、」   \n...                                                  ...   \n12642  珊瑚宮は、最初は海溝だった。大蛇が渡来した際、渦が巻き上がった珊瑚が島になった。故に珊瑚宮の...   \n12643  海祇の人は海民と自称し、大蛇オロバシノミコトを祀る。海祇島に将軍奉行の位がなく、神宮を最高権...   \n12644  往年魔神の混戦中、雷電大御所将軍様が稲妻全土を平定した。皆ひれ伏し、各々の地を治めた。事を起...   \n12645  過酷な戦で民が苦しんだ。今のヤシオリ島で激しい戦闘が行われ、双方の被害が甚大だった。大御所殿...   \n12646                     この後、珊瑚宮は降伏し、稲妻幕府を大宗主とするようになった。   \n\n                                                      zh  \n0                                       流浪多年的倾奇者已不会再想起它，  \n1                                  但闭上双眼，却仍能看到踏鞴砂的月夜与炉火。  \n2                                              年轻仁厚的副官说：  \n3                                      「这金饰是将军大人所赐身份之证，」  \n4                                      「但你行走世间时，若非万不得已，」  \n...                                                  ...  \n12642  珊瑚宫者，初为海渊，后有大蛇渡来，盘桓而升涡流，塑珊瑚而成岛。是故珊瑚宫人名之「海祇岛」，盖...  \n12643  海祇之人自称海民，奉大蛇远吕羽氏尊。海祇岛以神宫为高府，无将军奉行之畴。大小事务仰赖诸巫女，...  \n12644  往年魔神混战，雷电大御所将军殿下定稻妻全土于一元，众皆震悚俯首，各安其位，或有直遭殄灭，再无...  \n12645  战事酷烈，民生惨苦。两方鏖战今八酝岛，皆多有伤亡，大御所殿下之爱将天狗笹百合亦陨落其间。大蛇...  \n12646                           自此以后，珊瑚宫遣使降服，尊稻妻幕府为大宗主也。  \n\n[11713 rows x 3 columns]",
      "text/html": "<div>\n<style scoped>\n    .dataframe tbody tr th:only-of-type {\n        vertical-align: middle;\n    }\n\n    .dataframe tbody tr th {\n        vertical-align: top;\n    }\n\n    .dataframe thead th {\n        text-align: right;\n    }\n</style>\n<table border=\"1\" class=\"dataframe\">\n  <thead>\n    <tr style=\"text-align: right;\">\n      <th></th>\n      <th>en</th>\n      <th>ja</th>\n      <th>zh</th>\n    </tr>\n  </thead>\n  <tbody>\n    <tr>\n      <th>0</th>\n      <td>The long-wandering eccentric no longer thinks ...</td>\n      <td>長年放浪してきた傾奇者は、もうそのことを思い出さないだろう。</td>\n      <td>流浪多年的倾奇者已不会再想起它，</td>\n    </tr>\n    <tr>\n      <th>1</th>\n      <td>But when he closes his eyes, he can still see ...</td>\n      <td>しかし目を閉じると、たたら砂の月夜や炉火が見える。</td>\n      <td>但闭上双眼，却仍能看到踏鞴砂的月夜与炉火。</td>\n    </tr>\n    <tr>\n      <th>2</th>\n      <td>The kind young deputy said:</td>\n      <td>若く、心優しい副官が言った。</td>\n      <td>年轻仁厚的副官说：</td>\n    </tr>\n    <tr>\n      <th>3</th>\n      <td>\"This gold ornament is a proof of identity gra...</td>\n      <td>「この金の飾りは、将軍から授かった身分の証である。」</td>\n      <td>「这金饰是将军大人所赐身份之证，」</td>\n    </tr>\n    <tr>\n      <th>4</th>\n      <td>\"But as you travel the world, please bear this...</td>\n      <td>「世を渡り歩く時、やむを得ない場合を除き、」</td>\n      <td>「但你行走世间时，若非万不得已，」</td>\n    </tr>\n    <tr>\n      <th>...</th>\n      <td>...</td>\n      <td>...</td>\n      <td>...</td>\n    </tr>\n    <tr>\n      <th>12642</th>\n      <td>Sangonomiya was once an ocean abyss, until the...</td>\n      <td>珊瑚宮は、最初は海溝だった。大蛇が渡来した際、渦が巻き上がった珊瑚が島になった。故に珊瑚宮の...</td>\n      <td>珊瑚宫者，初为海渊，后有大蛇渡来，盘桓而升涡流，塑珊瑚而成岛。是故珊瑚宫人名之「海祇岛」，盖...</td>\n    </tr>\n    <tr>\n      <th>12643</th>\n      <td>The inhabitants of Watatsumi call themselves t...</td>\n      <td>海祇の人は海民と自称し、大蛇オロバシノミコトを祀る。海祇島に将軍奉行の位がなく、神宮を最高権...</td>\n      <td>海祇之人自称海民，奉大蛇远吕羽氏尊。海祇岛以神宫为高府，无将军奉行之畴。大小事务仰赖诸巫女，...</td>\n    </tr>\n    <tr>\n      <th>12644</th>\n      <td>During the Archon War, Her Excellency the Almi...</td>\n      <td>往年魔神の混戦中、雷電大御所将軍様が稲妻全土を平定した。皆ひれ伏し、各々の地を治めた。事を起...</td>\n      <td>往年魔神混战，雷电大御所将军殿下定稻妻全土于一元，众皆震悚俯首，各安其位，或有直遭殄灭，再无...</td>\n    </tr>\n    <tr>\n      <th>12645</th>\n      <td>The war was brutal, and brought great sufferin...</td>\n      <td>過酷な戦で民が苦しんだ。今のヤシオリ島で激しい戦闘が行われ、双方の被害が甚大だった。大御所殿...</td>\n      <td>战事酷烈，民生惨苦。两方鏖战今八酝岛，皆多有伤亡，大御所殿下之爱将天狗笹百合亦陨落其间。大蛇...</td>\n    </tr>\n    <tr>\n      <th>12646</th>\n      <td>Thereafter, Sangonomiya sent envoys to announc...</td>\n      <td>この後、珊瑚宮は降伏し、稲妻幕府を大宗主とするようになった。</td>\n      <td>自此以后，珊瑚宫遣使降服，尊稻妻幕府为大宗主也。</td>\n    </tr>\n  </tbody>\n</table>\n<p>11713 rows × 3 columns</p>\n</div>"
     },
     "execution_count": 6,
     "metadata": {},
     "output_type": "execute_result"
    }
   ],
   "source": [
    "# remove row with only punctuation\n",
    "df = df[~df['en'].str.match(r'^[^\\w\\s]+$')]\n",
    "df = df[~df['ja'].str.match(r'^[^\\w\\s]+$')]\n",
    "df = df[~df['zh'].str.match(r'^[^\\w\\s]+$')]\n",
    "df"
   ],
   "metadata": {
    "collapsed": false,
    "ExecuteTime": {
     "end_time": "2023-07-02T13:09:41.463141614Z",
     "start_time": "2023-07-02T13:09:41.358939837Z"
    }
   }
  },
  {
   "cell_type": "code",
   "execution_count": 7,
   "outputs": [
    {
     "data": {
      "text/plain": "                                                      en  \\\n0      The long-wandering eccentric no longer thinks ...   \n1      But when he closes his eyes, he can still see ...   \n2                            The kind young deputy said:   \n3      \"This gold ornament is a proof of identity gra...   \n4      \"But as you travel the world, please bear this...   \n...                                                  ...   \n12642  Sangonomiya was once an ocean abyss, until the...   \n12643  The inhabitants of Watatsumi call themselves t...   \n12644  During the Archon War, Her Excellency the Almi...   \n12645  The war was brutal, and brought great sufferin...   \n12646  Thereafter, Sangonomiya sent envoys to announc...   \n\n                                                      ja  \\\n0                         長年放浪してきた傾奇者は、もうそのことを思い出さないだろう。   \n1                              しかし目を閉じると、たたら砂の月夜や炉火が見える。   \n2                                         若く、心優しい副官が言った。   \n3                             「この金の飾りは、将軍から授かった身分の証である。」   \n4                                 「世を渡り歩く時、やむを得ない場合を除き、」   \n...                                                  ...   \n12642  珊瑚宮は、最初は海溝だった。大蛇が渡来した際、渦が巻き上がった珊瑚が島になった。故に珊瑚宮の...   \n12643  海祇の人は海民と自称し、大蛇オロバシノミコトを祀る。海祇島に将軍奉行の位がなく、神宮を最高権...   \n12644  往年魔神の混戦中、雷電大御所将軍様が稲妻全土を平定した。皆ひれ伏し、各々の地を治めた。事を起...   \n12645  過酷な戦で民が苦しんだ。今のヤシオリ島で激しい戦闘が行われ、双方の被害が甚大だった。大御所殿...   \n12646                     この後、珊瑚宮は降伏し、稲妻幕府を大宗主とするようになった。   \n\n                                                      zh  \n0                                       流浪多年的倾奇者已不会再想起它，  \n1                                  但闭上双眼，却仍能看到踏鞴砂的月夜与炉火。  \n2                                              年轻仁厚的副官说：  \n3                                      「这金饰是将军大人所赐身份之证，」  \n4                                      「但你行走世间时，若非万不得已，」  \n...                                                  ...  \n12642  珊瑚宫者，初为海渊，后有大蛇渡来，盘桓而升涡流，塑珊瑚而成岛。是故珊瑚宫人名之「海祇岛」，盖...  \n12643  海祇之人自称海民，奉大蛇远吕羽氏尊。海祇岛以神宫为高府，无将军奉行之畴。大小事务仰赖诸巫女，...  \n12644  往年魔神混战，雷电大御所将军殿下定稻妻全土于一元，众皆震悚俯首，各安其位，或有直遭殄灭，再无...  \n12645  战事酷烈，民生惨苦。两方鏖战今八酝岛，皆多有伤亡，大御所殿下之爱将天狗笹百合亦陨落其间。大蛇...  \n12646                           自此以后，珊瑚宫遣使降服，尊稻妻幕府为大宗主也。  \n\n[11706 rows x 3 columns]",
      "text/html": "<div>\n<style scoped>\n    .dataframe tbody tr th:only-of-type {\n        vertical-align: middle;\n    }\n\n    .dataframe tbody tr th {\n        vertical-align: top;\n    }\n\n    .dataframe thead th {\n        text-align: right;\n    }\n</style>\n<table border=\"1\" class=\"dataframe\">\n  <thead>\n    <tr style=\"text-align: right;\">\n      <th></th>\n      <th>en</th>\n      <th>ja</th>\n      <th>zh</th>\n    </tr>\n  </thead>\n  <tbody>\n    <tr>\n      <th>0</th>\n      <td>The long-wandering eccentric no longer thinks ...</td>\n      <td>長年放浪してきた傾奇者は、もうそのことを思い出さないだろう。</td>\n      <td>流浪多年的倾奇者已不会再想起它，</td>\n    </tr>\n    <tr>\n      <th>1</th>\n      <td>But when he closes his eyes, he can still see ...</td>\n      <td>しかし目を閉じると、たたら砂の月夜や炉火が見える。</td>\n      <td>但闭上双眼，却仍能看到踏鞴砂的月夜与炉火。</td>\n    </tr>\n    <tr>\n      <th>2</th>\n      <td>The kind young deputy said:</td>\n      <td>若く、心優しい副官が言った。</td>\n      <td>年轻仁厚的副官说：</td>\n    </tr>\n    <tr>\n      <th>3</th>\n      <td>\"This gold ornament is a proof of identity gra...</td>\n      <td>「この金の飾りは、将軍から授かった身分の証である。」</td>\n      <td>「这金饰是将军大人所赐身份之证，」</td>\n    </tr>\n    <tr>\n      <th>4</th>\n      <td>\"But as you travel the world, please bear this...</td>\n      <td>「世を渡り歩く時、やむを得ない場合を除き、」</td>\n      <td>「但你行走世间时，若非万不得已，」</td>\n    </tr>\n    <tr>\n      <th>...</th>\n      <td>...</td>\n      <td>...</td>\n      <td>...</td>\n    </tr>\n    <tr>\n      <th>12642</th>\n      <td>Sangonomiya was once an ocean abyss, until the...</td>\n      <td>珊瑚宮は、最初は海溝だった。大蛇が渡来した際、渦が巻き上がった珊瑚が島になった。故に珊瑚宮の...</td>\n      <td>珊瑚宫者，初为海渊，后有大蛇渡来，盘桓而升涡流，塑珊瑚而成岛。是故珊瑚宫人名之「海祇岛」，盖...</td>\n    </tr>\n    <tr>\n      <th>12643</th>\n      <td>The inhabitants of Watatsumi call themselves t...</td>\n      <td>海祇の人は海民と自称し、大蛇オロバシノミコトを祀る。海祇島に将軍奉行の位がなく、神宮を最高権...</td>\n      <td>海祇之人自称海民，奉大蛇远吕羽氏尊。海祇岛以神宫为高府，无将军奉行之畴。大小事务仰赖诸巫女，...</td>\n    </tr>\n    <tr>\n      <th>12644</th>\n      <td>During the Archon War, Her Excellency the Almi...</td>\n      <td>往年魔神の混戦中、雷電大御所将軍様が稲妻全土を平定した。皆ひれ伏し、各々の地を治めた。事を起...</td>\n      <td>往年魔神混战，雷电大御所将军殿下定稻妻全土于一元，众皆震悚俯首，各安其位，或有直遭殄灭，再无...</td>\n    </tr>\n    <tr>\n      <th>12645</th>\n      <td>The war was brutal, and brought great sufferin...</td>\n      <td>過酷な戦で民が苦しんだ。今のヤシオリ島で激しい戦闘が行われ、双方の被害が甚大だった。大御所殿...</td>\n      <td>战事酷烈，民生惨苦。两方鏖战今八酝岛，皆多有伤亡，大御所殿下之爱将天狗笹百合亦陨落其间。大蛇...</td>\n    </tr>\n    <tr>\n      <th>12646</th>\n      <td>Thereafter, Sangonomiya sent envoys to announc...</td>\n      <td>この後、珊瑚宮は降伏し、稲妻幕府を大宗主とするようになった。</td>\n      <td>自此以后，珊瑚宫遣使降服，尊稻妻幕府为大宗主也。</td>\n    </tr>\n  </tbody>\n</table>\n<p>11706 rows × 3 columns</p>\n</div>"
     },
     "execution_count": 7,
     "metadata": {},
     "output_type": "execute_result"
    }
   ],
   "source": [
    "# remove lines with only numbers\n",
    "df = df[~df['en'].str.match(r'^\\d+$')]\n",
    "df = df[~df['ja'].str.match(r'^\\d+$')]\n",
    "df = df[~df['zh'].str.match(r'^\\d+$')]\n",
    "df"
   ],
   "metadata": {
    "collapsed": false,
    "ExecuteTime": {
     "end_time": "2023-07-02T13:09:41.465738557Z",
     "start_time": "2023-07-02T13:09:41.401829873Z"
    }
   }
  },
  {
   "cell_type": "code",
   "execution_count": 8,
   "outputs": [
    {
     "name": "stderr",
     "output_type": "stream",
     "text": [
      "/home/toshihiko/anaconda3/envs/pytorch201/lib/python3.8/site-packages/transformers/convert_slow_tokenizer.py:454: UserWarning: The sentencepiece tokenizer that you are converting to a fast tokenizer uses the byte fallback option which is not implemented in the fast tokenizers. In practice this means that the fast version of the tokenizer can produce unknown tokens whereas the sentencepiece version would have converted these unknown tokens into a sequence of byte tokens matching the original piece of text.\n",
      "  warnings.warn(\n"
     ]
    },
    {
     "data": {
      "text/plain": "                                                      en  \\\n0      The long-wandering eccentric no longer thinks ...   \n1      But when he closes his eyes, he can still see ...   \n2                            The kind young deputy said:   \n3      \"This gold ornament is a proof of identity gra...   \n4      \"But as you travel the world, please bear this...   \n...                                                  ...   \n12642  Sangonomiya was once an ocean abyss, until the...   \n12643  The inhabitants of Watatsumi call themselves t...   \n12644  During the Archon War, Her Excellency the Almi...   \n12645  The war was brutal, and brought great sufferin...   \n12646  Thereafter, Sangonomiya sent envoys to announc...   \n\n                                                      ja  \\\n0                         長年放浪してきた傾奇者は、もうそのことを思い出さないだろう。   \n1                              しかし目を閉じると、たたら砂の月夜や炉火が見える。   \n2                                         若く、心優しい副官が言った。   \n3                             「この金の飾りは、将軍から授かった身分の証である。」   \n4                                 「世を渡り歩く時、やむを得ない場合を除き、」   \n...                                                  ...   \n12642  珊瑚宮は、最初は海溝だった。大蛇が渡来した際、渦が巻き上がった珊瑚が島になった。故に珊瑚宮の...   \n12643  海祇の人は海民と自称し、大蛇オロバシノミコトを祀る。海祇島に将軍奉行の位がなく、神宮を最高権...   \n12644  往年魔神の混戦中、雷電大御所将軍様が稲妻全土を平定した。皆ひれ伏し、各々の地を治めた。事を起...   \n12645  過酷な戦で民が苦しんだ。今のヤシオリ島で激しい戦闘が行われ、双方の被害が甚大だった。大御所殿...   \n12646                     この後、珊瑚宮は降伏し、稲妻幕府を大宗主とするようになった。   \n\n                                                      zh  en_len  ja_len  \\\n0                                       流浪多年的倾奇者已不会再想起它，      17      16   \n1                                  但闭上双眼，却仍能看到踏鞴砂的月夜与炉火。      31      16   \n2                                              年轻仁厚的副官说：       7      11   \n3                                      「这金饰是将军大人所赐身份之证，」      22      16   \n4                                      「但你行走世间时，若非万不得已，」      14      15   \n...                                                  ...     ...     ...   \n12642  珊瑚宫者，初为海渊，后有大蛇渡来，盘桓而升涡流，塑珊瑚而成岛。是故珊瑚宫人名之「海祇岛」，盖...      79      54   \n12643  海祇之人自称海民，奉大蛇远吕羽氏尊。海祇岛以神宫为高府，无将军奉行之畴。大小事务仰赖诸巫女，...     107      68   \n12644  往年魔神混战，雷电大御所将军殿下定稻妻全土于一元，众皆震悚俯首，各安其位，或有直遭殄灭，再无...     149      91   \n12645  战事酷烈，民生惨苦。两方鏖战今八酝岛，皆多有伤亡，大御所殿下之爱将天狗笹百合亦陨落其间。大蛇...     102      62   \n12646                           自此以后，珊瑚宫遣使降服，尊稻妻幕府为大宗主也。      41      22   \n\n       zh_len  \n0          13  \n1          21  \n2           8  \n3          14  \n4          16  \n...       ...  \n12642      54  \n12643      65  \n12644      87  \n12645      61  \n12646      24  \n\n[11706 rows x 6 columns]",
      "text/html": "<div>\n<style scoped>\n    .dataframe tbody tr th:only-of-type {\n        vertical-align: middle;\n    }\n\n    .dataframe tbody tr th {\n        vertical-align: top;\n    }\n\n    .dataframe thead th {\n        text-align: right;\n    }\n</style>\n<table border=\"1\" class=\"dataframe\">\n  <thead>\n    <tr style=\"text-align: right;\">\n      <th></th>\n      <th>en</th>\n      <th>ja</th>\n      <th>zh</th>\n      <th>en_len</th>\n      <th>ja_len</th>\n      <th>zh_len</th>\n    </tr>\n  </thead>\n  <tbody>\n    <tr>\n      <th>0</th>\n      <td>The long-wandering eccentric no longer thinks ...</td>\n      <td>長年放浪してきた傾奇者は、もうそのことを思い出さないだろう。</td>\n      <td>流浪多年的倾奇者已不会再想起它，</td>\n      <td>17</td>\n      <td>16</td>\n      <td>13</td>\n    </tr>\n    <tr>\n      <th>1</th>\n      <td>But when he closes his eyes, he can still see ...</td>\n      <td>しかし目を閉じると、たたら砂の月夜や炉火が見える。</td>\n      <td>但闭上双眼，却仍能看到踏鞴砂的月夜与炉火。</td>\n      <td>31</td>\n      <td>16</td>\n      <td>21</td>\n    </tr>\n    <tr>\n      <th>2</th>\n      <td>The kind young deputy said:</td>\n      <td>若く、心優しい副官が言った。</td>\n      <td>年轻仁厚的副官说：</td>\n      <td>7</td>\n      <td>11</td>\n      <td>8</td>\n    </tr>\n    <tr>\n      <th>3</th>\n      <td>\"This gold ornament is a proof of identity gra...</td>\n      <td>「この金の飾りは、将軍から授かった身分の証である。」</td>\n      <td>「这金饰是将军大人所赐身份之证，」</td>\n      <td>22</td>\n      <td>16</td>\n      <td>14</td>\n    </tr>\n    <tr>\n      <th>4</th>\n      <td>\"But as you travel the world, please bear this...</td>\n      <td>「世を渡り歩く時、やむを得ない場合を除き、」</td>\n      <td>「但你行走世间时，若非万不得已，」</td>\n      <td>14</td>\n      <td>15</td>\n      <td>16</td>\n    </tr>\n    <tr>\n      <th>...</th>\n      <td>...</td>\n      <td>...</td>\n      <td>...</td>\n      <td>...</td>\n      <td>...</td>\n      <td>...</td>\n    </tr>\n    <tr>\n      <th>12642</th>\n      <td>Sangonomiya was once an ocean abyss, until the...</td>\n      <td>珊瑚宮は、最初は海溝だった。大蛇が渡来した際、渦が巻き上がった珊瑚が島になった。故に珊瑚宮の...</td>\n      <td>珊瑚宫者，初为海渊，后有大蛇渡来，盘桓而升涡流，塑珊瑚而成岛。是故珊瑚宫人名之「海祇岛」，盖...</td>\n      <td>79</td>\n      <td>54</td>\n      <td>54</td>\n    </tr>\n    <tr>\n      <th>12643</th>\n      <td>The inhabitants of Watatsumi call themselves t...</td>\n      <td>海祇の人は海民と自称し、大蛇オロバシノミコトを祀る。海祇島に将軍奉行の位がなく、神宮を最高権...</td>\n      <td>海祇之人自称海民，奉大蛇远吕羽氏尊。海祇岛以神宫为高府，无将军奉行之畴。大小事务仰赖诸巫女，...</td>\n      <td>107</td>\n      <td>68</td>\n      <td>65</td>\n    </tr>\n    <tr>\n      <th>12644</th>\n      <td>During the Archon War, Her Excellency the Almi...</td>\n      <td>往年魔神の混戦中、雷電大御所将軍様が稲妻全土を平定した。皆ひれ伏し、各々の地を治めた。事を起...</td>\n      <td>往年魔神混战，雷电大御所将军殿下定稻妻全土于一元，众皆震悚俯首，各安其位，或有直遭殄灭，再无...</td>\n      <td>149</td>\n      <td>91</td>\n      <td>87</td>\n    </tr>\n    <tr>\n      <th>12645</th>\n      <td>The war was brutal, and brought great sufferin...</td>\n      <td>過酷な戦で民が苦しんだ。今のヤシオリ島で激しい戦闘が行われ、双方の被害が甚大だった。大御所殿...</td>\n      <td>战事酷烈，民生惨苦。两方鏖战今八酝岛，皆多有伤亡，大御所殿下之爱将天狗笹百合亦陨落其间。大蛇...</td>\n      <td>102</td>\n      <td>62</td>\n      <td>61</td>\n    </tr>\n    <tr>\n      <th>12646</th>\n      <td>Thereafter, Sangonomiya sent envoys to announc...</td>\n      <td>この後、珊瑚宮は降伏し、稲妻幕府を大宗主とするようになった。</td>\n      <td>自此以后，珊瑚宫遣使降服，尊稻妻幕府为大宗主也。</td>\n      <td>41</td>\n      <td>22</td>\n      <td>24</td>\n    </tr>\n  </tbody>\n</table>\n<p>11706 rows × 6 columns</p>\n</div>"
     },
     "execution_count": 8,
     "metadata": {},
     "output_type": "execute_result"
    }
   ],
   "source": [
    "# remove lines that tokens is more than 256 or less than 1\n",
    "from transformers import MT5TokenizerFast\n",
    "tokenizer = MT5TokenizerFast.from_pretrained('google/mt5-small')\n",
    "\n",
    "df['en_len'] = df['en'].apply(lambda x: len(tokenizer.tokenize(x)))\n",
    "df['ja_len'] = df['ja'].apply(lambda x: len(tokenizer.tokenize(x)))\n",
    "df['zh_len'] = df['zh'].apply(lambda x: len(tokenizer.tokenize(x)))\n",
    "df"
   ],
   "metadata": {
    "collapsed": false,
    "ExecuteTime": {
     "end_time": "2023-07-02T13:09:46.974959023Z",
     "start_time": "2023-07-02T13:09:41.448464090Z"
    }
   }
  },
  {
   "cell_type": "code",
   "execution_count": 9,
   "outputs": [
    {
     "data": {
      "text/plain": "                                                      en  \\\n0      The long-wandering eccentric no longer thinks ...   \n1      But when he closes his eyes, he can still see ...   \n2                            The kind young deputy said:   \n3      \"This gold ornament is a proof of identity gra...   \n4      \"But as you travel the world, please bear this...   \n...                                                  ...   \n12642  Sangonomiya was once an ocean abyss, until the...   \n12643  The inhabitants of Watatsumi call themselves t...   \n12644  During the Archon War, Her Excellency the Almi...   \n12645  The war was brutal, and brought great sufferin...   \n12646  Thereafter, Sangonomiya sent envoys to announc...   \n\n                                                      ja  \\\n0                         長年放浪してきた傾奇者は、もうそのことを思い出さないだろう。   \n1                              しかし目を閉じると、たたら砂の月夜や炉火が見える。   \n2                                         若く、心優しい副官が言った。   \n3                             「この金の飾りは、将軍から授かった身分の証である。」   \n4                                 「世を渡り歩く時、やむを得ない場合を除き、」   \n...                                                  ...   \n12642  珊瑚宮は、最初は海溝だった。大蛇が渡来した際、渦が巻き上がった珊瑚が島になった。故に珊瑚宮の...   \n12643  海祇の人は海民と自称し、大蛇オロバシノミコトを祀る。海祇島に将軍奉行の位がなく、神宮を最高権...   \n12644  往年魔神の混戦中、雷電大御所将軍様が稲妻全土を平定した。皆ひれ伏し、各々の地を治めた。事を起...   \n12645  過酷な戦で民が苦しんだ。今のヤシオリ島で激しい戦闘が行われ、双方の被害が甚大だった。大御所殿...   \n12646                     この後、珊瑚宮は降伏し、稲妻幕府を大宗主とするようになった。   \n\n                                                      zh  en_len  ja_len  \\\n0                                       流浪多年的倾奇者已不会再想起它，      17      16   \n1                                  但闭上双眼，却仍能看到踏鞴砂的月夜与炉火。      31      16   \n2                                              年轻仁厚的副官说：       7      11   \n3                                      「这金饰是将军大人所赐身份之证，」      22      16   \n4                                      「但你行走世间时，若非万不得已，」      14      15   \n...                                                  ...     ...     ...   \n12642  珊瑚宫者，初为海渊，后有大蛇渡来，盘桓而升涡流，塑珊瑚而成岛。是故珊瑚宫人名之「海祇岛」，盖...      79      54   \n12643  海祇之人自称海民，奉大蛇远吕羽氏尊。海祇岛以神宫为高府，无将军奉行之畴。大小事务仰赖诸巫女，...     107      68   \n12644  往年魔神混战，雷电大御所将军殿下定稻妻全土于一元，众皆震悚俯首，各安其位，或有直遭殄灭，再无...     149      91   \n12645  战事酷烈，民生惨苦。两方鏖战今八酝岛，皆多有伤亡，大御所殿下之爱将天狗笹百合亦陨落其间。大蛇...     102      62   \n12646                           自此以后，珊瑚宫遣使降服，尊稻妻幕府为大宗主也。      41      22   \n\n       zh_len  \n0          13  \n1          21  \n2           8  \n3          14  \n4          16  \n...       ...  \n12642      54  \n12643      65  \n12644      87  \n12645      61  \n12646      24  \n\n[11621 rows x 6 columns]",
      "text/html": "<div>\n<style scoped>\n    .dataframe tbody tr th:only-of-type {\n        vertical-align: middle;\n    }\n\n    .dataframe tbody tr th {\n        vertical-align: top;\n    }\n\n    .dataframe thead th {\n        text-align: right;\n    }\n</style>\n<table border=\"1\" class=\"dataframe\">\n  <thead>\n    <tr style=\"text-align: right;\">\n      <th></th>\n      <th>en</th>\n      <th>ja</th>\n      <th>zh</th>\n      <th>en_len</th>\n      <th>ja_len</th>\n      <th>zh_len</th>\n    </tr>\n  </thead>\n  <tbody>\n    <tr>\n      <th>0</th>\n      <td>The long-wandering eccentric no longer thinks ...</td>\n      <td>長年放浪してきた傾奇者は、もうそのことを思い出さないだろう。</td>\n      <td>流浪多年的倾奇者已不会再想起它，</td>\n      <td>17</td>\n      <td>16</td>\n      <td>13</td>\n    </tr>\n    <tr>\n      <th>1</th>\n      <td>But when he closes his eyes, he can still see ...</td>\n      <td>しかし目を閉じると、たたら砂の月夜や炉火が見える。</td>\n      <td>但闭上双眼，却仍能看到踏鞴砂的月夜与炉火。</td>\n      <td>31</td>\n      <td>16</td>\n      <td>21</td>\n    </tr>\n    <tr>\n      <th>2</th>\n      <td>The kind young deputy said:</td>\n      <td>若く、心優しい副官が言った。</td>\n      <td>年轻仁厚的副官说：</td>\n      <td>7</td>\n      <td>11</td>\n      <td>8</td>\n    </tr>\n    <tr>\n      <th>3</th>\n      <td>\"This gold ornament is a proof of identity gra...</td>\n      <td>「この金の飾りは、将軍から授かった身分の証である。」</td>\n      <td>「这金饰是将军大人所赐身份之证，」</td>\n      <td>22</td>\n      <td>16</td>\n      <td>14</td>\n    </tr>\n    <tr>\n      <th>4</th>\n      <td>\"But as you travel the world, please bear this...</td>\n      <td>「世を渡り歩く時、やむを得ない場合を除き、」</td>\n      <td>「但你行走世间时，若非万不得已，」</td>\n      <td>14</td>\n      <td>15</td>\n      <td>16</td>\n    </tr>\n    <tr>\n      <th>...</th>\n      <td>...</td>\n      <td>...</td>\n      <td>...</td>\n      <td>...</td>\n      <td>...</td>\n      <td>...</td>\n    </tr>\n    <tr>\n      <th>12642</th>\n      <td>Sangonomiya was once an ocean abyss, until the...</td>\n      <td>珊瑚宮は、最初は海溝だった。大蛇が渡来した際、渦が巻き上がった珊瑚が島になった。故に珊瑚宮の...</td>\n      <td>珊瑚宫者，初为海渊，后有大蛇渡来，盘桓而升涡流，塑珊瑚而成岛。是故珊瑚宫人名之「海祇岛」，盖...</td>\n      <td>79</td>\n      <td>54</td>\n      <td>54</td>\n    </tr>\n    <tr>\n      <th>12643</th>\n      <td>The inhabitants of Watatsumi call themselves t...</td>\n      <td>海祇の人は海民と自称し、大蛇オロバシノミコトを祀る。海祇島に将軍奉行の位がなく、神宮を最高権...</td>\n      <td>海祇之人自称海民，奉大蛇远吕羽氏尊。海祇岛以神宫为高府，无将军奉行之畴。大小事务仰赖诸巫女，...</td>\n      <td>107</td>\n      <td>68</td>\n      <td>65</td>\n    </tr>\n    <tr>\n      <th>12644</th>\n      <td>During the Archon War, Her Excellency the Almi...</td>\n      <td>往年魔神の混戦中、雷電大御所将軍様が稲妻全土を平定した。皆ひれ伏し、各々の地を治めた。事を起...</td>\n      <td>往年魔神混战，雷电大御所将军殿下定稻妻全土于一元，众皆震悚俯首，各安其位，或有直遭殄灭，再无...</td>\n      <td>149</td>\n      <td>91</td>\n      <td>87</td>\n    </tr>\n    <tr>\n      <th>12645</th>\n      <td>The war was brutal, and brought great sufferin...</td>\n      <td>過酷な戦で民が苦しんだ。今のヤシオリ島で激しい戦闘が行われ、双方の被害が甚大だった。大御所殿...</td>\n      <td>战事酷烈，民生惨苦。两方鏖战今八酝岛，皆多有伤亡，大御所殿下之爱将天狗笹百合亦陨落其间。大蛇...</td>\n      <td>102</td>\n      <td>62</td>\n      <td>61</td>\n    </tr>\n    <tr>\n      <th>12646</th>\n      <td>Thereafter, Sangonomiya sent envoys to announc...</td>\n      <td>この後、珊瑚宮は降伏し、稲妻幕府を大宗主とするようになった。</td>\n      <td>自此以后，珊瑚宫遣使降服，尊稻妻幕府为大宗主也。</td>\n      <td>41</td>\n      <td>22</td>\n      <td>24</td>\n    </tr>\n  </tbody>\n</table>\n<p>11621 rows × 6 columns</p>\n</div>"
     },
     "execution_count": 9,
     "metadata": {},
     "output_type": "execute_result"
    }
   ],
   "source": [
    "df = df[df['en_len'] <= 256]\n",
    "df = df[df['ja_len'] <= 256]\n",
    "df = df[df['zh_len'] <= 256]\n",
    "df = df[df['en_len'] >= 1]\n",
    "df = df[df['ja_len'] >= 1]\n",
    "df = df[df['zh_len'] >= 1]\n",
    "df"
   ],
   "metadata": {
    "collapsed": false,
    "ExecuteTime": {
     "end_time": "2023-07-02T13:09:47.016877681Z",
     "start_time": "2023-07-02T13:09:46.977673673Z"
    }
   }
  },
  {
   "cell_type": "code",
   "execution_count": 10,
   "outputs": [
    {
     "name": "stderr",
     "output_type": "stream",
     "text": [
      "/tmp/ipykernel_5513/3787246084.py:9: TqdmDeprecationWarning: This function will be removed in tqdm==5.0.0\n",
      "Please use `tqdm.notebook.tqdm` instead of `tqdm.tqdm_notebook`\n",
      "  for i, row in tqdm(enumerate(df.itertuples()), total=df.shape[0]):\n"
     ]
    },
    {
     "data": {
      "text/plain": "  0%|          | 0/11621 [00:00<?, ?it/s]",
      "application/vnd.jupyter.widget-view+json": {
       "version_major": 2,
       "version_minor": 0,
       "model_id": "d481378c44f941238e0426646f5a3489"
      }
     },
     "metadata": {},
     "output_type": "display_data"
    },
    {
     "data": {
      "text/plain": "                                                      en  \\\n0      The long-wandering eccentric no longer thinks ...   \n1      But when he closes his eyes, he can still see ...   \n2                            The kind young deputy said:   \n3      \"This gold ornament is a proof of identity gra...   \n4      \"But as you travel the world, please bear this...   \n...                                                  ...   \n12642  Sangonomiya was once an ocean abyss, until the...   \n12643  The inhabitants of Watatsumi call themselves t...   \n12644  During the Archon War, Her Excellency the Almi...   \n12645  The war was brutal, and brought great sufferin...   \n12646  Thereafter, Sangonomiya sent envoys to announc...   \n\n                                                      ja  \\\n0                         長年放浪してきた傾奇者は、もうそのことを思い出さないだろう。   \n1                              しかし目を閉じると、たたら砂の月夜や炉火が見える。   \n2                                         若く、心優しい副官が言った。   \n3                             「この金の飾りは、将軍から授かった身分の証である。」   \n4                                 「世を渡り歩く時、やむを得ない場合を除き、」   \n...                                                  ...   \n12642  珊瑚宮は、最初は海溝だった。大蛇が渡来した際、渦が巻き上がった珊瑚が島になった。故に珊瑚宮の...   \n12643  海祇の人は海民と自称し、大蛇オロバシノミコトを祀る。海祇島に将軍奉行の位がなく、神宮を最高権...   \n12644  往年魔神の混戦中、雷電大御所将軍様が稲妻全土を平定した。皆ひれ伏し、各々の地を治めた。事を起...   \n12645  過酷な戦で民が苦しんだ。今のヤシオリ島で激しい戦闘が行われ、双方の被害が甚大だった。大御所殿...   \n12646                     この後、珊瑚宮は降伏し、稲妻幕府を大宗主とするようになった。   \n\n                                                      zh  en_len  ja_len  \\\n0                                       流浪多年的倾奇者已不会再想起它，      17      16   \n1                                  但闭上双眼，却仍能看到踏鞴砂的月夜与炉火。      31      16   \n2                                              年轻仁厚的副官说：       7      11   \n3                                      「这金饰是将军大人所赐身份之证，」      22      16   \n4                                      「但你行走世间时，若非万不得已，」      14      15   \n...                                                  ...     ...     ...   \n12642  珊瑚宫者，初为海渊，后有大蛇渡来，盘桓而升涡流，塑珊瑚而成岛。是故珊瑚宫人名之「海祇岛」，盖...      79      54   \n12643  海祇之人自称海民，奉大蛇远吕羽氏尊。海祇岛以神宫为高府，无将军奉行之畴。大小事务仰赖诸巫女，...     107      68   \n12644  往年魔神混战，雷电大御所将军殿下定稻妻全土于一元，众皆震悚俯首，各安其位，或有直遭殄灭，再无...     149      91   \n12645  战事酷烈，民生惨苦。两方鏖战今八酝岛，皆多有伤亡，大御所殿下之爱将天狗笹百合亦陨落其间。大蛇...     102      62   \n12646                           自此以后，珊瑚宫遣使降服，尊稻妻幕府为大宗主也。      41      22   \n\n       zh_len     score  \n0          13  0.757267  \n1          21  0.778838  \n2           8  0.814170  \n3          14  0.819174  \n4          16  0.709527  \n...       ...       ...  \n12642      54  0.801211  \n12643      65  0.803473  \n12644      87  0.700754  \n12645      61  0.824992  \n12646      24  0.636581  \n\n[11621 rows x 7 columns]",
      "text/html": "<div>\n<style scoped>\n    .dataframe tbody tr th:only-of-type {\n        vertical-align: middle;\n    }\n\n    .dataframe tbody tr th {\n        vertical-align: top;\n    }\n\n    .dataframe thead th {\n        text-align: right;\n    }\n</style>\n<table border=\"1\" class=\"dataframe\">\n  <thead>\n    <tr style=\"text-align: right;\">\n      <th></th>\n      <th>en</th>\n      <th>ja</th>\n      <th>zh</th>\n      <th>en_len</th>\n      <th>ja_len</th>\n      <th>zh_len</th>\n      <th>score</th>\n    </tr>\n  </thead>\n  <tbody>\n    <tr>\n      <th>0</th>\n      <td>The long-wandering eccentric no longer thinks ...</td>\n      <td>長年放浪してきた傾奇者は、もうそのことを思い出さないだろう。</td>\n      <td>流浪多年的倾奇者已不会再想起它，</td>\n      <td>17</td>\n      <td>16</td>\n      <td>13</td>\n      <td>0.757267</td>\n    </tr>\n    <tr>\n      <th>1</th>\n      <td>But when he closes his eyes, he can still see ...</td>\n      <td>しかし目を閉じると、たたら砂の月夜や炉火が見える。</td>\n      <td>但闭上双眼，却仍能看到踏鞴砂的月夜与炉火。</td>\n      <td>31</td>\n      <td>16</td>\n      <td>21</td>\n      <td>0.778838</td>\n    </tr>\n    <tr>\n      <th>2</th>\n      <td>The kind young deputy said:</td>\n      <td>若く、心優しい副官が言った。</td>\n      <td>年轻仁厚的副官说：</td>\n      <td>7</td>\n      <td>11</td>\n      <td>8</td>\n      <td>0.814170</td>\n    </tr>\n    <tr>\n      <th>3</th>\n      <td>\"This gold ornament is a proof of identity gra...</td>\n      <td>「この金の飾りは、将軍から授かった身分の証である。」</td>\n      <td>「这金饰是将军大人所赐身份之证，」</td>\n      <td>22</td>\n      <td>16</td>\n      <td>14</td>\n      <td>0.819174</td>\n    </tr>\n    <tr>\n      <th>4</th>\n      <td>\"But as you travel the world, please bear this...</td>\n      <td>「世を渡り歩く時、やむを得ない場合を除き、」</td>\n      <td>「但你行走世间时，若非万不得已，」</td>\n      <td>14</td>\n      <td>15</td>\n      <td>16</td>\n      <td>0.709527</td>\n    </tr>\n    <tr>\n      <th>...</th>\n      <td>...</td>\n      <td>...</td>\n      <td>...</td>\n      <td>...</td>\n      <td>...</td>\n      <td>...</td>\n      <td>...</td>\n    </tr>\n    <tr>\n      <th>12642</th>\n      <td>Sangonomiya was once an ocean abyss, until the...</td>\n      <td>珊瑚宮は、最初は海溝だった。大蛇が渡来した際、渦が巻き上がった珊瑚が島になった。故に珊瑚宮の...</td>\n      <td>珊瑚宫者，初为海渊，后有大蛇渡来，盘桓而升涡流，塑珊瑚而成岛。是故珊瑚宫人名之「海祇岛」，盖...</td>\n      <td>79</td>\n      <td>54</td>\n      <td>54</td>\n      <td>0.801211</td>\n    </tr>\n    <tr>\n      <th>12643</th>\n      <td>The inhabitants of Watatsumi call themselves t...</td>\n      <td>海祇の人は海民と自称し、大蛇オロバシノミコトを祀る。海祇島に将軍奉行の位がなく、神宮を最高権...</td>\n      <td>海祇之人自称海民，奉大蛇远吕羽氏尊。海祇岛以神宫为高府，无将军奉行之畴。大小事务仰赖诸巫女，...</td>\n      <td>107</td>\n      <td>68</td>\n      <td>65</td>\n      <td>0.803473</td>\n    </tr>\n    <tr>\n      <th>12644</th>\n      <td>During the Archon War, Her Excellency the Almi...</td>\n      <td>往年魔神の混戦中、雷電大御所将軍様が稲妻全土を平定した。皆ひれ伏し、各々の地を治めた。事を起...</td>\n      <td>往年魔神混战，雷电大御所将军殿下定稻妻全土于一元，众皆震悚俯首，各安其位，或有直遭殄灭，再无...</td>\n      <td>149</td>\n      <td>91</td>\n      <td>87</td>\n      <td>0.700754</td>\n    </tr>\n    <tr>\n      <th>12645</th>\n      <td>The war was brutal, and brought great sufferin...</td>\n      <td>過酷な戦で民が苦しんだ。今のヤシオリ島で激しい戦闘が行われ、双方の被害が甚大だった。大御所殿...</td>\n      <td>战事酷烈，民生惨苦。两方鏖战今八酝岛，皆多有伤亡，大御所殿下之爱将天狗笹百合亦陨落其间。大蛇...</td>\n      <td>102</td>\n      <td>62</td>\n      <td>61</td>\n      <td>0.824992</td>\n    </tr>\n    <tr>\n      <th>12646</th>\n      <td>Thereafter, Sangonomiya sent envoys to announc...</td>\n      <td>この後、珊瑚宮は降伏し、稲妻幕府を大宗主とするようになった。</td>\n      <td>自此以后，珊瑚宫遣使降服，尊稻妻幕府为大宗主也。</td>\n      <td>41</td>\n      <td>22</td>\n      <td>24</td>\n      <td>0.636581</td>\n    </tr>\n  </tbody>\n</table>\n<p>11621 rows × 7 columns</p>\n</div>"
     },
     "execution_count": 10,
     "metadata": {},
     "output_type": "execute_result"
    }
   ],
   "source": [
    "# remove lines that LaBSE score is less than 0.6 or more than 0.99\n",
    "import numpy as np\n",
    "from sentence_transformers import SentenceTransformer\n",
    "\n",
    "model = SentenceTransformer('sentence-transformers/LaBSE').cuda()\n",
    "\n",
    "_batch, _scores = [], []\n",
    "_bs = 64\n",
    "for i, row in tqdm(enumerate(df.itertuples()), total=df.shape[0]):\n",
    "    inputs = [row.en, row.ja, row.zh]\n",
    "    _batch.extend(inputs)\n",
    "    if (i + 1) % _bs == 0 or i == df.shape[0] - 1:\n",
    "        embeddings = model.encode(_batch)\n",
    "        # calculate score between each pair\n",
    "        for j in range(embeddings.shape[0] // 3):\n",
    "            _scores.append(np.average([\n",
    "                np.matmul(embeddings[j * 3], embeddings[j * 3 + 1].T),\n",
    "                np.matmul(embeddings[j * 3], embeddings[j * 3 + 2].T),\n",
    "                np.matmul(embeddings[j * 3 + 1], embeddings[j * 3 + 2].T)\n",
    "            ]))\n",
    "        _batch = []\n",
    "df = df.assign(score=_scores)\n",
    "df"
   ],
   "metadata": {
    "collapsed": false,
    "ExecuteTime": {
     "end_time": "2023-07-02T13:10:29.252855450Z",
     "start_time": "2023-07-02T13:09:47.000696707Z"
    }
   }
  },
  {
   "cell_type": "code",
   "execution_count": 11,
   "outputs": [
    {
     "data": {
      "text/plain": "<Figure size 640x480 with 1 Axes>",
      "image/png": "[encoded data removed]"
     },
     "metadata": {},
     "output_type": "display_data"
    }
   ],
   "source": [
    "# statistics score using matplotlib\n",
    "import matplotlib.pyplot as plt\n",
    "plt.hist(df['score'], bins=100)\n",
    "plt.show()"
   ],
   "metadata": {
    "collapsed": false,
    "ExecuteTime": {
     "end_time": "2023-07-02T13:10:30.049035313Z",
     "start_time": "2023-07-02T13:10:29.254555027Z"
    }
   }
  },
  {
   "cell_type": "code",
   "execution_count": 12,
   "outputs": [
    {
     "data": {
      "text/plain": "                                                      en  \\\n0      The long-wandering eccentric no longer thinks ...   \n1      But when he closes his eyes, he can still see ...   \n2                            The kind young deputy said:   \n3      \"This gold ornament is a proof of identity gra...   \n4      \"But as you travel the world, please bear this...   \n...                                                  ...   \n12642  Sangonomiya was once an ocean abyss, until the...   \n12643  The inhabitants of Watatsumi call themselves t...   \n12644  During the Archon War, Her Excellency the Almi...   \n12645  The war was brutal, and brought great sufferin...   \n12646  Thereafter, Sangonomiya sent envoys to announc...   \n\n                                                      ja  \\\n0                         長年放浪してきた傾奇者は、もうそのことを思い出さないだろう。   \n1                              しかし目を閉じると、たたら砂の月夜や炉火が見える。   \n2                                         若く、心優しい副官が言った。   \n3                             「この金の飾りは、将軍から授かった身分の証である。」   \n4                                 「世を渡り歩く時、やむを得ない場合を除き、」   \n...                                                  ...   \n12642  珊瑚宮は、最初は海溝だった。大蛇が渡来した際、渦が巻き上がった珊瑚が島になった。故に珊瑚宮の...   \n12643  海祇の人は海民と自称し、大蛇オロバシノミコトを祀る。海祇島に将軍奉行の位がなく、神宮を最高権...   \n12644  往年魔神の混戦中、雷電大御所将軍様が稲妻全土を平定した。皆ひれ伏し、各々の地を治めた。事を起...   \n12645  過酷な戦で民が苦しんだ。今のヤシオリ島で激しい戦闘が行われ、双方の被害が甚大だった。大御所殿...   \n12646                     この後、珊瑚宮は降伏し、稲妻幕府を大宗主とするようになった。   \n\n                                                      zh  en_len  ja_len  \\\n0                                       流浪多年的倾奇者已不会再想起它，      17      16   \n1                                  但闭上双眼，却仍能看到踏鞴砂的月夜与炉火。      31      16   \n2                                              年轻仁厚的副官说：       7      11   \n3                                      「这金饰是将军大人所赐身份之证，」      22      16   \n4                                      「但你行走世间时，若非万不得已，」      14      15   \n...                                                  ...     ...     ...   \n12642  珊瑚宫者，初为海渊，后有大蛇渡来，盘桓而升涡流，塑珊瑚而成岛。是故珊瑚宫人名之「海祇岛」，盖...      79      54   \n12643  海祇之人自称海民，奉大蛇远吕羽氏尊。海祇岛以神宫为高府，无将军奉行之畴。大小事务仰赖诸巫女，...     107      68   \n12644  往年魔神混战，雷电大御所将军殿下定稻妻全土于一元，众皆震悚俯首，各安其位，或有直遭殄灭，再无...     149      91   \n12645  战事酷烈，民生惨苦。两方鏖战今八酝岛，皆多有伤亡，大御所殿下之爱将天狗笹百合亦陨落其间。大蛇...     102      62   \n12646                           自此以后，珊瑚宫遣使降服，尊稻妻幕府为大宗主也。      41      22   \n\n       zh_len     score  \n0          13  0.757267  \n1          21  0.778838  \n2           8  0.814170  \n3          14  0.819174  \n4          16  0.709527  \n...       ...       ...  \n12642      54  0.801211  \n12643      65  0.803473  \n12644      87  0.700754  \n12645      61  0.824992  \n12646      24  0.636581  \n\n[10239 rows x 7 columns]",
      "text/html": "<div>\n<style scoped>\n    .dataframe tbody tr th:only-of-type {\n        vertical-align: middle;\n    }\n\n    .dataframe tbody tr th {\n        vertical-align: top;\n    }\n\n    .dataframe thead th {\n        text-align: right;\n    }\n</style>\n<table border=\"1\" class=\"dataframe\">\n  <thead>\n    <tr style=\"text-align: right;\">\n      <th></th>\n      <th>en</th>\n      <th>ja</th>\n      <th>zh</th>\n      <th>en_len</th>\n      <th>ja_len</th>\n      <th>zh_len</th>\n      <th>score</th>\n    </tr>\n  </thead>\n  <tbody>\n    <tr>\n      <th>0</th>\n      <td>The long-wandering eccentric no longer thinks ...</td>\n      <td>長年放浪してきた傾奇者は、もうそのことを思い出さないだろう。</td>\n      <td>流浪多年的倾奇者已不会再想起它，</td>\n      <td>17</td>\n      <td>16</td>\n      <td>13</td>\n      <td>0.757267</td>\n    </tr>\n    <tr>\n      <th>1</th>\n      <td>But when he closes his eyes, he can still see ...</td>\n      <td>しかし目を閉じると、たたら砂の月夜や炉火が見える。</td>\n      <td>但闭上双眼，却仍能看到踏鞴砂的月夜与炉火。</td>\n      <td>31</td>\n      <td>16</td>\n      <td>21</td>\n      <td>0.778838</td>\n    </tr>\n    <tr>\n      <th>2</th>\n      <td>The kind young deputy said:</td>\n      <td>若く、心優しい副官が言った。</td>\n      <td>年轻仁厚的副官说：</td>\n      <td>7</td>\n      <td>11</td>\n      <td>8</td>\n      <td>0.814170</td>\n    </tr>\n    <tr>\n      <th>3</th>\n      <td>\"This gold ornament is a proof of identity gra...</td>\n      <td>「この金の飾りは、将軍から授かった身分の証である。」</td>\n      <td>「这金饰是将军大人所赐身份之证，」</td>\n      <td>22</td>\n      <td>16</td>\n      <td>14</td>\n      <td>0.819174</td>\n    </tr>\n    <tr>\n      <th>4</th>\n      <td>\"But as you travel the world, please bear this...</td>\n      <td>「世を渡り歩く時、やむを得ない場合を除き、」</td>\n      <td>「但你行走世间时，若非万不得已，」</td>\n      <td>14</td>\n      <td>15</td>\n      <td>16</td>\n      <td>0.709527</td>\n    </tr>\n    <tr>\n      <th>...</th>\n      <td>...</td>\n      <td>...</td>\n      <td>...</td>\n      <td>...</td>\n      <td>...</td>\n      <td>...</td>\n      <td>...</td>\n    </tr>\n    <tr>\n      <th>12642</th>\n      <td>Sangonomiya was once an ocean abyss, until the...</td>\n      <td>珊瑚宮は、最初は海溝だった。大蛇が渡来した際、渦が巻き上がった珊瑚が島になった。故に珊瑚宮の...</td>\n      <td>珊瑚宫者，初为海渊，后有大蛇渡来，盘桓而升涡流，塑珊瑚而成岛。是故珊瑚宫人名之「海祇岛」，盖...</td>\n      <td>79</td>\n      <td>54</td>\n      <td>54</td>\n      <td>0.801211</td>\n    </tr>\n    <tr>\n      <th>12643</th>\n      <td>The inhabitants of Watatsumi call themselves t...</td>\n      <td>海祇の人は海民と自称し、大蛇オロバシノミコトを祀る。海祇島に将軍奉行の位がなく、神宮を最高権...</td>\n      <td>海祇之人自称海民，奉大蛇远吕羽氏尊。海祇岛以神宫为高府，无将军奉行之畴。大小事务仰赖诸巫女，...</td>\n      <td>107</td>\n      <td>68</td>\n      <td>65</td>\n      <td>0.803473</td>\n    </tr>\n    <tr>\n      <th>12644</th>\n      <td>During the Archon War, Her Excellency the Almi...</td>\n      <td>往年魔神の混戦中、雷電大御所将軍様が稲妻全土を平定した。皆ひれ伏し、各々の地を治めた。事を起...</td>\n      <td>往年魔神混战，雷电大御所将军殿下定稻妻全土于一元，众皆震悚俯首，各安其位，或有直遭殄灭，再无...</td>\n      <td>149</td>\n      <td>91</td>\n      <td>87</td>\n      <td>0.700754</td>\n    </tr>\n    <tr>\n      <th>12645</th>\n      <td>The war was brutal, and brought great sufferin...</td>\n      <td>過酷な戦で民が苦しんだ。今のヤシオリ島で激しい戦闘が行われ、双方の被害が甚大だった。大御所殿...</td>\n      <td>战事酷烈，民生惨苦。两方鏖战今八酝岛，皆多有伤亡，大御所殿下之爱将天狗笹百合亦陨落其间。大蛇...</td>\n      <td>102</td>\n      <td>62</td>\n      <td>61</td>\n      <td>0.824992</td>\n    </tr>\n    <tr>\n      <th>12646</th>\n      <td>Thereafter, Sangonomiya sent envoys to announc...</td>\n      <td>この後、珊瑚宮は降伏し、稲妻幕府を大宗主とするようになった。</td>\n      <td>自此以后，珊瑚宫遣使降服，尊稻妻幕府为大宗主也。</td>\n      <td>41</td>\n      <td>22</td>\n      <td>24</td>\n      <td>0.636581</td>\n    </tr>\n  </tbody>\n</table>\n<p>10239 rows × 7 columns</p>\n</div>"
     },
     "execution_count": 12,
     "metadata": {},
     "output_type": "execute_result"
    }
   ],
   "source": [
    "# remove lines that LaBSE score is less than 0.6 or more than 0.99\n",
    "df = df[df['score'] >= 0.6]\n",
    "df = df[df['score'] <= 0.99]\n",
    "df"
   ],
   "metadata": {
    "collapsed": false,
    "ExecuteTime": {
     "end_time": "2023-07-02T13:10:30.160948846Z",
     "start_time": "2023-07-02T13:10:30.049478155Z"
    }
   }
  },
  {
   "cell_type": "code",
   "execution_count": 13,
   "outputs": [
    {
     "data": {
      "text/plain": "                                                      en  \\\n0      The long-wandering eccentric no longer thinks ...   \n1      But when he closes his eyes, he can still see ...   \n2                            The kind young deputy said:   \n3      \"This gold ornament is a proof of identity gra...   \n4      \"But as you travel the world, please bear this...   \n...                                                  ...   \n12642  Sangonomiya was once an ocean abyss, until the...   \n12643  The inhabitants of Watatsumi call themselves t...   \n12644  During the Archon War, Her Excellency the Almi...   \n12645  The war was brutal, and brought great sufferin...   \n12646  Thereafter, Sangonomiya sent envoys to announc...   \n\n                                                      ja  \\\n0                         長年放浪してきた傾奇者は、もうそのことを思い出さないだろう。   \n1                              しかし目を閉じると、たたら砂の月夜や炉火が見える。   \n2                                         若く、心優しい副官が言った。   \n3                             「この金の飾りは、将軍から授かった身分の証である。」   \n4                                 「世を渡り歩く時、やむを得ない場合を除き、」   \n...                                                  ...   \n12642  珊瑚宮は、最初は海溝だった。大蛇が渡来した際、渦が巻き上がった珊瑚が島になった。故に珊瑚宮の...   \n12643  海祇の人は海民と自称し、大蛇オロバシノミコトを祀る。海祇島に将軍奉行の位がなく、神宮を最高権...   \n12644  往年魔神の混戦中、雷電大御所将軍様が稲妻全土を平定した。皆ひれ伏し、各々の地を治めた。事を起...   \n12645  過酷な戦で民が苦しんだ。今のヤシオリ島で激しい戦闘が行われ、双方の被害が甚大だった。大御所殿...   \n12646                     この後、珊瑚宮は降伏し、稲妻幕府を大宗主とするようになった。   \n\n                                                      zh  en_len  ja_len  \\\n0                                       流浪多年的倾奇者已不会再想起它，      17      16   \n1                                  但闭上双眼，却仍能看到踏鞴砂的月夜与炉火。      31      16   \n2                                              年轻仁厚的副官说：       7      11   \n3                                      “这金饰是将军大人所赐身份之证，”      22      16   \n4                                      “但你行走世间时，若非万不得已，”      14      15   \n...                                                  ...     ...     ...   \n12642  珊瑚宫者，初为海渊，后有大蛇渡来，盘桓而升涡流，塑珊瑚而成岛。是故珊瑚宫人名之“海祇岛”，盖...      79      54   \n12643  海祇之人自称海民，奉大蛇远吕羽氏尊。海祇岛以神宫为高府，无将军奉行之畴。大小事务仰赖诸巫女，...     107      68   \n12644  往年魔神混战，雷电大御所将军殿下定稻妻全土于一元，众皆震悚俯首，各安其位，或有直遭殄灭，再无...     149      91   \n12645  战事酷烈，民生惨苦。两方鏖战今八酝岛，皆多有伤亡，大御所殿下之爱将天狗笹百合亦陨落其间。大蛇...     102      62   \n12646                           自此以后，珊瑚宫遣使降服，尊稻妻幕府为大宗主也。      41      22   \n\n       zh_len     score  \n0          13  0.757267  \n1          21  0.778838  \n2           8  0.814170  \n3          14  0.819174  \n4          16  0.709527  \n...       ...       ...  \n12642      54  0.801211  \n12643      65  0.803473  \n12644      87  0.700754  \n12645      61  0.824992  \n12646      24  0.636581  \n\n[10239 rows x 7 columns]",
      "text/html": "<div>\n<style scoped>\n    .dataframe tbody tr th:only-of-type {\n        vertical-align: middle;\n    }\n\n    .dataframe tbody tr th {\n        vertical-align: top;\n    }\n\n    .dataframe thead th {\n        text-align: right;\n    }\n</style>\n<table border=\"1\" class=\"dataframe\">\n  <thead>\n    <tr style=\"text-align: right;\">\n      <th></th>\n      <th>en</th>\n      <th>ja</th>\n      <th>zh</th>\n      <th>en_len</th>\n      <th>ja_len</th>\n      <th>zh_len</th>\n      <th>score</th>\n    </tr>\n  </thead>\n  <tbody>\n    <tr>\n      <th>0</th>\n      <td>The long-wandering eccentric no longer thinks ...</td>\n      <td>長年放浪してきた傾奇者は、もうそのことを思い出さないだろう。</td>\n      <td>流浪多年的倾奇者已不会再想起它，</td>\n      <td>17</td>\n      <td>16</td>\n      <td>13</td>\n      <td>0.757267</td>\n    </tr>\n    <tr>\n      <th>1</th>\n      <td>But when he closes his eyes, he can still see ...</td>\n      <td>しかし目を閉じると、たたら砂の月夜や炉火が見える。</td>\n      <td>但闭上双眼，却仍能看到踏鞴砂的月夜与炉火。</td>\n      <td>31</td>\n      <td>16</td>\n      <td>21</td>\n      <td>0.778838</td>\n    </tr>\n    <tr>\n      <th>2</th>\n      <td>The kind young deputy said:</td>\n      <td>若く、心優しい副官が言った。</td>\n      <td>年轻仁厚的副官说：</td>\n      <td>7</td>\n      <td>11</td>\n      <td>8</td>\n      <td>0.814170</td>\n    </tr>\n    <tr>\n      <th>3</th>\n      <td>\"This gold ornament is a proof of identity gra...</td>\n      <td>「この金の飾りは、将軍から授かった身分の証である。」</td>\n      <td>“这金饰是将军大人所赐身份之证，”</td>\n      <td>22</td>\n      <td>16</td>\n      <td>14</td>\n      <td>0.819174</td>\n    </tr>\n    <tr>\n      <th>4</th>\n      <td>\"But as you travel the world, please bear this...</td>\n      <td>「世を渡り歩く時、やむを得ない場合を除き、」</td>\n      <td>“但你行走世间时，若非万不得已，”</td>\n      <td>14</td>\n      <td>15</td>\n      <td>16</td>\n      <td>0.709527</td>\n    </tr>\n    <tr>\n      <th>...</th>\n      <td>...</td>\n      <td>...</td>\n      <td>...</td>\n      <td>...</td>\n      <td>...</td>\n      <td>...</td>\n      <td>...</td>\n    </tr>\n    <tr>\n      <th>12642</th>\n      <td>Sangonomiya was once an ocean abyss, until the...</td>\n      <td>珊瑚宮は、最初は海溝だった。大蛇が渡来した際、渦が巻き上がった珊瑚が島になった。故に珊瑚宮の...</td>\n      <td>珊瑚宫者，初为海渊，后有大蛇渡来，盘桓而升涡流，塑珊瑚而成岛。是故珊瑚宫人名之“海祇岛”，盖...</td>\n      <td>79</td>\n      <td>54</td>\n      <td>54</td>\n      <td>0.801211</td>\n    </tr>\n    <tr>\n      <th>12643</th>\n      <td>The inhabitants of Watatsumi call themselves t...</td>\n      <td>海祇の人は海民と自称し、大蛇オロバシノミコトを祀る。海祇島に将軍奉行の位がなく、神宮を最高権...</td>\n      <td>海祇之人自称海民，奉大蛇远吕羽氏尊。海祇岛以神宫为高府，无将军奉行之畴。大小事务仰赖诸巫女，...</td>\n      <td>107</td>\n      <td>68</td>\n      <td>65</td>\n      <td>0.803473</td>\n    </tr>\n    <tr>\n      <th>12644</th>\n      <td>During the Archon War, Her Excellency the Almi...</td>\n      <td>往年魔神の混戦中、雷電大御所将軍様が稲妻全土を平定した。皆ひれ伏し、各々の地を治めた。事を起...</td>\n      <td>往年魔神混战，雷电大御所将军殿下定稻妻全土于一元，众皆震悚俯首，各安其位，或有直遭殄灭，再无...</td>\n      <td>149</td>\n      <td>91</td>\n      <td>87</td>\n      <td>0.700754</td>\n    </tr>\n    <tr>\n      <th>12645</th>\n      <td>The war was brutal, and brought great sufferin...</td>\n      <td>過酷な戦で民が苦しんだ。今のヤシオリ島で激しい戦闘が行われ、双方の被害が甚大だった。大御所殿...</td>\n      <td>战事酷烈，民生惨苦。两方鏖战今八酝岛，皆多有伤亡，大御所殿下之爱将天狗笹百合亦陨落其间。大蛇...</td>\n      <td>102</td>\n      <td>62</td>\n      <td>61</td>\n      <td>0.824992</td>\n    </tr>\n    <tr>\n      <th>12646</th>\n      <td>Thereafter, Sangonomiya sent envoys to announc...</td>\n      <td>この後、珊瑚宮は降伏し、稲妻幕府を大宗主とするようになった。</td>\n      <td>自此以后，珊瑚宫遣使降服，尊稻妻幕府为大宗主也。</td>\n      <td>41</td>\n      <td>22</td>\n      <td>24</td>\n      <td>0.636581</td>\n    </tr>\n  </tbody>\n</table>\n<p>10239 rows × 7 columns</p>\n</div>"
     },
     "execution_count": 13,
     "metadata": {},
     "output_type": "execute_result"
    }
   ],
   "source": [
    "# replace「」to “”, 『』to ‘’ in zh\n",
    "df['zh'] = df['zh'].apply(lambda x: x.replace('「', '“'))\n",
    "df['zh'] = df['zh'].apply(lambda x: x.replace('」', '”'))\n",
    "df['zh'] = df['zh'].apply(lambda x: x.replace('『', '‘'))\n",
    "df['zh'] = df['zh'].apply(lambda x: x.replace('』', '’'))\n",
    "df"
   ],
   "metadata": {
    "collapsed": false,
    "ExecuteTime": {
     "end_time": "2023-07-02T13:10:30.161505597Z",
     "start_time": "2023-07-02T13:10:30.105115713Z"
    }
   }
  },
  {
   "cell_type": "code",
   "execution_count": 14,
   "outputs": [],
   "source": [
    "# drop len and score column\n",
    "df = df.drop(columns=['en_len', 'ja_len', 'zh_len', 'score'])\n",
    "# save to parquet\n",
    "df.to_parquet('parquet/GenshinReadable.parquet', index=False)"
   ],
   "metadata": {
    "collapsed": false,
    "ExecuteTime": {
     "end_time": "2023-07-02T13:10:30.203448708Z",
     "start_time": "2023-07-02T13:10:30.105608959Z"
    }
   }
  },
  {
   "cell_type": "code",
   "execution_count": 15,
   "outputs": [
    {
     "data": {
      "text/plain": "                                                      en  \\\n0      The long-wandering eccentric no longer thinks ...   \n1      But when he closes his eyes, he can still see ...   \n2                            The kind young deputy said:   \n3      \"This gold ornament is a proof of identity gra...   \n4      \"But as you travel the world, please bear this...   \n...                                                  ...   \n10234  Sangonomiya was once an ocean abyss, until the...   \n10235  The inhabitants of Watatsumi call themselves t...   \n10236  During the Archon War, Her Excellency the Almi...   \n10237  The war was brutal, and brought great sufferin...   \n10238  Thereafter, Sangonomiya sent envoys to announc...   \n\n                                                      ja  \\\n0                         長年放浪してきた傾奇者は、もうそのことを思い出さないだろう。   \n1                              しかし目を閉じると、たたら砂の月夜や炉火が見える。   \n2                                         若く、心優しい副官が言った。   \n3                             「この金の飾りは、将軍から授かった身分の証である。」   \n4                                 「世を渡り歩く時、やむを得ない場合を除き、」   \n...                                                  ...   \n10234  珊瑚宮は、最初は海溝だった。大蛇が渡来した際、渦が巻き上がった珊瑚が島になった。故に珊瑚宮の...   \n10235  海祇の人は海民と自称し、大蛇オロバシノミコトを祀る。海祇島に将軍奉行の位がなく、神宮を最高権...   \n10236  往年魔神の混戦中、雷電大御所将軍様が稲妻全土を平定した。皆ひれ伏し、各々の地を治めた。事を起...   \n10237  過酷な戦で民が苦しんだ。今のヤシオリ島で激しい戦闘が行われ、双方の被害が甚大だった。大御所殿...   \n10238                     この後、珊瑚宮は降伏し、稲妻幕府を大宗主とするようになった。   \n\n                                                      zh  \n0                                       流浪多年的倾奇者已不会再想起它，  \n1                                  但闭上双眼，却仍能看到踏鞴砂的月夜与炉火。  \n2                                              年轻仁厚的副官说：  \n3                                      “这金饰是将军大人所赐身份之证，”  \n4                                      “但你行走世间时，若非万不得已，”  \n...                                                  ...  \n10234  珊瑚宫者，初为海渊，后有大蛇渡来，盘桓而升涡流，塑珊瑚而成岛。是故珊瑚宫人名之“海祇岛”，盖...  \n10235  海祇之人自称海民，奉大蛇远吕羽氏尊。海祇岛以神宫为高府，无将军奉行之畴。大小事务仰赖诸巫女，...  \n10236  往年魔神混战，雷电大御所将军殿下定稻妻全土于一元，众皆震悚俯首，各安其位，或有直遭殄灭，再无...  \n10237  战事酷烈，民生惨苦。两方鏖战今八酝岛，皆多有伤亡，大御所殿下之爱将天狗笹百合亦陨落其间。大蛇...  \n10238                           自此以后，珊瑚宫遣使降服，尊稻妻幕府为大宗主也。  \n\n[10239 rows x 3 columns]",
      "text/html": "<div>\n<style scoped>\n    .dataframe tbody tr th:only-of-type {\n        vertical-align: middle;\n    }\n\n    .dataframe tbody tr th {\n        vertical-align: top;\n    }\n\n    .dataframe thead th {\n        text-align: right;\n    }\n</style>\n<table border=\"1\" class=\"dataframe\">\n  <thead>\n    <tr style=\"text-align: right;\">\n      <th></th>\n      <th>en</th>\n      <th>ja</th>\n      <th>zh</th>\n    </tr>\n  </thead>\n  <tbody>\n    <tr>\n      <th>0</th>\n      <td>The long-wandering eccentric no longer thinks ...</td>\n      <td>長年放浪してきた傾奇者は、もうそのことを思い出さないだろう。</td>\n      <td>流浪多年的倾奇者已不会再想起它，</td>\n    </tr>\n    <tr>\n      <th>1</th>\n      <td>But when he closes his eyes, he can still see ...</td>\n      <td>しかし目を閉じると、たたら砂の月夜や炉火が見える。</td>\n      <td>但闭上双眼，却仍能看到踏鞴砂的月夜与炉火。</td>\n    </tr>\n    <tr>\n      <th>2</th>\n      <td>The kind young deputy said:</td>\n      <td>若く、心優しい副官が言った。</td>\n      <td>年轻仁厚的副官说：</td>\n    </tr>\n    <tr>\n      <th>3</th>\n      <td>\"This gold ornament is a proof of identity gra...</td>\n      <td>「この金の飾りは、将軍から授かった身分の証である。」</td>\n      <td>“这金饰是将军大人所赐身份之证，”</td>\n    </tr>\n    <tr>\n      <th>4</th>\n      <td>\"But as you travel the world, please bear this...</td>\n      <td>「世を渡り歩く時、やむを得ない場合を除き、」</td>\n      <td>“但你行走世间时，若非万不得已，”</td>\n    </tr>\n    <tr>\n      <th>...</th>\n      <td>...</td>\n      <td>...</td>\n      <td>...</td>\n    </tr>\n    <tr>\n      <th>10234</th>\n      <td>Sangonomiya was once an ocean abyss, until the...</td>\n      <td>珊瑚宮は、最初は海溝だった。大蛇が渡来した際、渦が巻き上がった珊瑚が島になった。故に珊瑚宮の...</td>\n      <td>珊瑚宫者，初为海渊，后有大蛇渡来，盘桓而升涡流，塑珊瑚而成岛。是故珊瑚宫人名之“海祇岛”，盖...</td>\n    </tr>\n    <tr>\n      <th>10235</th>\n      <td>The inhabitants of Watatsumi call themselves t...</td>\n      <td>海祇の人は海民と自称し、大蛇オロバシノミコトを祀る。海祇島に将軍奉行の位がなく、神宮を最高権...</td>\n      <td>海祇之人自称海民，奉大蛇远吕羽氏尊。海祇岛以神宫为高府，无将军奉行之畴。大小事务仰赖诸巫女，...</td>\n    </tr>\n    <tr>\n      <th>10236</th>\n      <td>During the Archon War, Her Excellency the Almi...</td>\n      <td>往年魔神の混戦中、雷電大御所将軍様が稲妻全土を平定した。皆ひれ伏し、各々の地を治めた。事を起...</td>\n      <td>往年魔神混战，雷电大御所将军殿下定稻妻全土于一元，众皆震悚俯首，各安其位，或有直遭殄灭，再无...</td>\n    </tr>\n    <tr>\n      <th>10237</th>\n      <td>The war was brutal, and brought great sufferin...</td>\n      <td>過酷な戦で民が苦しんだ。今のヤシオリ島で激しい戦闘が行われ、双方の被害が甚大だった。大御所殿...</td>\n      <td>战事酷烈，民生惨苦。两方鏖战今八酝岛，皆多有伤亡，大御所殿下之爱将天狗笹百合亦陨落其间。大蛇...</td>\n    </tr>\n    <tr>\n      <th>10238</th>\n      <td>Thereafter, Sangonomiya sent envoys to announc...</td>\n      <td>この後、珊瑚宮は降伏し、稲妻幕府を大宗主とするようになった。</td>\n      <td>自此以后，珊瑚宫遣使降服，尊稻妻幕府为大宗主也。</td>\n    </tr>\n  </tbody>\n</table>\n<p>10239 rows × 3 columns</p>\n</div>"
     },
     "execution_count": 15,
     "metadata": {},
     "output_type": "execute_result"
    }
   ],
   "source": [
    "# load parquet\n",
    "df = pd.read_parquet('parquet/GenshinReadable.parquet')\n",
    "df"
   ],
   "metadata": {
    "collapsed": false,
    "ExecuteTime": {
     "end_time": "2023-07-02T13:10:30.288928599Z",
     "start_time": "2023-07-02T13:10:30.172869381Z"
    }
   }
  }
 ],
 "metadata": {
  "kernelspec": {
   "display_name": "Python 3",
   "language": "python",
   "name": "python3"
  },
  "language_info": {
   "codemirror_mode": {
    "name": "ipython",
    "version": 2
   },
   "file_extension": ".py",
   "mimetype": "text/x-python",
   "name": "python",
   "nbconvert_exporter": "python",
   "pygments_lexer": "ipython2",
   "version": "2.7.6"
  }
 },
 "nbformat": 4,
 "nbformat_minor": 0
}
