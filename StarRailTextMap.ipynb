{
 "cells": [
  {
   "cell_type": "code",
   "execution_count": 1,
   "metadata": {
    "collapsed": true,
    "ExecuteTime": {
     "end_time": "2023-07-09T13:26:06.231263365Z",
     "start_time": "2023-07-09T13:26:05.956731656Z"
    }
   },
   "outputs": [],
   "source": [
    "from glob import glob\n",
    "import json\n",
    "import os\n",
    "import pandas as pd\n",
    "from tqdm import tqdm_notebook as tqdm\n",
    "import re\n"
   ]
  },
  {
   "cell_type": "code",
   "execution_count": 2,
   "outputs": [
    {
     "data": {
      "text/plain": "             index           en     ja      zh\n0        875924975      Chinese    中国語      汉语\n1       -374251478      English     英語      英语\n2      -1391003685     Japanese    日本語      日语\n3      -1597323374       Korean    韓国語      韩语\n4       2059466705  Attachments  メール添付    邮件附件\n...            ...          ...    ...     ...\n82027  -1481032123          NaN    NaN  dev_RB\n82028   2078591212          NaN    NaN  dev_R3\n82029    861322880          NaN    NaN  dev_RT\n82030   1812892502          NaN    NaN   dev_X\n82031    246808561          NaN    NaN   dev_Y\n\n[82032 rows x 4 columns]",
      "text/html": "<div>\n<style scoped>\n    .dataframe tbody tr th:only-of-type {\n        vertical-align: middle;\n    }\n\n    .dataframe tbody tr th {\n        vertical-align: top;\n    }\n\n    .dataframe thead th {\n        text-align: right;\n    }\n</style>\n<table border=\"1\" class=\"dataframe\">\n  <thead>\n    <tr style=\"text-align: right;\">\n      <th></th>\n      <th>index</th>\n      <th>en</th>\n      <th>ja</th>\n      <th>zh</th>\n    </tr>\n  </thead>\n  <tbody>\n    <tr>\n      <th>0</th>\n      <td>875924975</td>\n      <td>Chinese</td>\n      <td>中国語</td>\n      <td>汉语</td>\n    </tr>\n    <tr>\n      <th>1</th>\n      <td>-374251478</td>\n      <td>English</td>\n      <td>英語</td>\n      <td>英语</td>\n    </tr>\n    <tr>\n      <th>2</th>\n      <td>-1391003685</td>\n      <td>Japanese</td>\n      <td>日本語</td>\n      <td>日语</td>\n    </tr>\n    <tr>\n      <th>3</th>\n      <td>-1597323374</td>\n      <td>Korean</td>\n      <td>韓国語</td>\n      <td>韩语</td>\n    </tr>\n    <tr>\n      <th>4</th>\n      <td>2059466705</td>\n      <td>Attachments</td>\n      <td>メール添付</td>\n      <td>邮件附件</td>\n    </tr>\n    <tr>\n      <th>...</th>\n      <td>...</td>\n      <td>...</td>\n      <td>...</td>\n      <td>...</td>\n    </tr>\n    <tr>\n      <th>82027</th>\n      <td>-1481032123</td>\n      <td>NaN</td>\n      <td>NaN</td>\n      <td>dev_RB</td>\n    </tr>\n    <tr>\n      <th>82028</th>\n      <td>2078591212</td>\n      <td>NaN</td>\n      <td>NaN</td>\n      <td>dev_R3</td>\n    </tr>\n    <tr>\n      <th>82029</th>\n      <td>861322880</td>\n      <td>NaN</td>\n      <td>NaN</td>\n      <td>dev_RT</td>\n    </tr>\n    <tr>\n      <th>82030</th>\n      <td>1812892502</td>\n      <td>NaN</td>\n      <td>NaN</td>\n      <td>dev_X</td>\n    </tr>\n    <tr>\n      <th>82031</th>\n      <td>246808561</td>\n      <td>NaN</td>\n      <td>NaN</td>\n      <td>dev_Y</td>\n    </tr>\n  </tbody>\n</table>\n<p>82032 rows × 4 columns</p>\n</div>"
     },
     "execution_count": 2,
     "metadata": {},
     "output_type": "execute_result"
    }
   ],
   "source": [
    "# load all en ja zh json file paths\n",
    "en_text_map_path = 'GAMEDATA/StarRailData/TextMap/TextMapEN.json'\n",
    "ja_text_map_path = 'GAMEDATA/StarRailData/TextMap/TextMapJP.json'\n",
    "zh_text_map_path = 'GAMEDATA/StarRailData/TextMap/TextMapCN.json'\n",
    "\n",
    "# read json file and append to df\n",
    "# json format: {index: text}\n",
    "with open(en_text_map_path, 'r', encoding='utf-8') as f:\n",
    "    en_text_map = pd.DataFrame(json.load(f).items(), columns=['index', 'en'])\n",
    "with open(ja_text_map_path, 'r', encoding='utf-8') as f:\n",
    "    ja_text_map = pd.DataFrame(json.load(f).items(), columns=['index', 'ja'])\n",
    "with open(zh_text_map_path, 'r', encoding='utf-8') as f:\n",
    "    zh_text_map = pd.DataFrame(json.load(f).items(), columns=['index', 'zh'])\n",
    "\n",
    "# merge all df\n",
    "df = pd.merge(en_text_map, ja_text_map, on='index', how='outer')\n",
    "df = pd.merge(df, zh_text_map, on='index', how='outer')\n",
    "df"
   ],
   "metadata": {
    "collapsed": false,
    "ExecuteTime": {
     "end_time": "2023-07-09T13:26:06.608026442Z",
     "start_time": "2023-07-09T13:26:06.237662706Z"
    }
   }
  },
  {
   "cell_type": "code",
   "execution_count": 3,
   "outputs": [
    {
     "data": {
      "text/plain": "             index                                                 en  \\\n0        875924975                                            Chinese   \n1       -374251478                                            English   \n2      -1391003685                                           Japanese   \n3      -1597323374                                             Korean   \n4       2059466705                                        Attachments   \n...            ...                                                ...   \n78644   -373669884  The Yutie standing there changes every day, bu...   \n78645   -373669881  If you catch a glimpse of a Yutie's face, all ...   \n78646   1743574384  The higher the Weakness Break efficiency is, t...   \n78647   -272776377  Energy Regeneration Rate can boost the amount ...   \n78648  -1970447252  The Simulated Universe progress is abnormal an...   \n\n                                                      ja  \\\n0                                                    中国語   \n1                                                     英語   \n2                                                    日本語   \n3                                                    韓国語   \n4                                                  メール添付   \n...                                                  ...   \n78644  毎日、あそこに立っているのは違う浴鉄なんだよ。今まで気づかなかったでしょ。だって、彼らは厳し...   \n78645  もし、あなたがある「浴鉄」の顔を見たら、彼らはみんな1つの顔になる。他の人は声も出さずに消え...   \n78646                        弱点撃破効率が高いほど、靭性に対するダメージが上がる。   \n78647  EP回復率はキャラクターのスキル発動、敵の殲滅、攻撃を受けた時に獲得するEPをアップさせるこ...   \n78648                 「模擬宇宙」の進度に異常が発生したため、ステージがリセットされました   \n\n                                                      zh  \n0                                                     汉语  \n1                                                     英语  \n2                                                     日语  \n3                                                     韩语  \n4                                                   邮件附件  \n...                                                  ...  \n78644  每天站在那里的浴铁都是不同的人，但你从来都不会发现。因为他们训练严明，每个人都被训练成了一模...  \n78645  不过你如果不识趣地偷看到一位「浴铁」的面孔，他们就会只剩下一副面孔了。其他的人就会不动声色地...  \n78646                              弱点击破效率越高，对韧性造成的伤害就越高。  \n78647  能量恢复效率能够提高角色在施放技能、消灭敌人、受到攻击等行为时获取的能量值。\\n这个数值越高...  \n78648                                   「模拟宇宙」进度异常，已重置关卡  \n\n[61607 rows x 4 columns]",
      "text/html": "<div>\n<style scoped>\n    .dataframe tbody tr th:only-of-type {\n        vertical-align: middle;\n    }\n\n    .dataframe tbody tr th {\n        vertical-align: top;\n    }\n\n    .dataframe thead th {\n        text-align: right;\n    }\n</style>\n<table border=\"1\" class=\"dataframe\">\n  <thead>\n    <tr style=\"text-align: right;\">\n      <th></th>\n      <th>index</th>\n      <th>en</th>\n      <th>ja</th>\n      <th>zh</th>\n    </tr>\n  </thead>\n  <tbody>\n    <tr>\n      <th>0</th>\n      <td>875924975</td>\n      <td>Chinese</td>\n      <td>中国語</td>\n      <td>汉语</td>\n    </tr>\n    <tr>\n      <th>1</th>\n      <td>-374251478</td>\n      <td>English</td>\n      <td>英語</td>\n      <td>英语</td>\n    </tr>\n    <tr>\n      <th>2</th>\n      <td>-1391003685</td>\n      <td>Japanese</td>\n      <td>日本語</td>\n      <td>日语</td>\n    </tr>\n    <tr>\n      <th>3</th>\n      <td>-1597323374</td>\n      <td>Korean</td>\n      <td>韓国語</td>\n      <td>韩语</td>\n    </tr>\n    <tr>\n      <th>4</th>\n      <td>2059466705</td>\n      <td>Attachments</td>\n      <td>メール添付</td>\n      <td>邮件附件</td>\n    </tr>\n    <tr>\n      <th>...</th>\n      <td>...</td>\n      <td>...</td>\n      <td>...</td>\n      <td>...</td>\n    </tr>\n    <tr>\n      <th>78644</th>\n      <td>-373669884</td>\n      <td>The Yutie standing there changes every day, bu...</td>\n      <td>毎日、あそこに立っているのは違う浴鉄なんだよ。今まで気づかなかったでしょ。だって、彼らは厳し...</td>\n      <td>每天站在那里的浴铁都是不同的人，但你从来都不会发现。因为他们训练严明，每个人都被训练成了一模...</td>\n    </tr>\n    <tr>\n      <th>78645</th>\n      <td>-373669881</td>\n      <td>If you catch a glimpse of a Yutie's face, all ...</td>\n      <td>もし、あなたがある「浴鉄」の顔を見たら、彼らはみんな1つの顔になる。他の人は声も出さずに消え...</td>\n      <td>不过你如果不识趣地偷看到一位「浴铁」的面孔，他们就会只剩下一副面孔了。其他的人就会不动声色地...</td>\n    </tr>\n    <tr>\n      <th>78646</th>\n      <td>1743574384</td>\n      <td>The higher the Weakness Break efficiency is, t...</td>\n      <td>弱点撃破効率が高いほど、靭性に対するダメージが上がる。</td>\n      <td>弱点击破效率越高，对韧性造成的伤害就越高。</td>\n    </tr>\n    <tr>\n      <th>78647</th>\n      <td>-272776377</td>\n      <td>Energy Regeneration Rate can boost the amount ...</td>\n      <td>EP回復率はキャラクターのスキル発動、敵の殲滅、攻撃を受けた時に獲得するEPをアップさせるこ...</td>\n      <td>能量恢复效率能够提高角色在施放技能、消灭敌人、受到攻击等行为时获取的能量值。\\n这个数值越高...</td>\n    </tr>\n    <tr>\n      <th>78648</th>\n      <td>-1970447252</td>\n      <td>The Simulated Universe progress is abnormal an...</td>\n      <td>「模擬宇宙」の進度に異常が発生したため、ステージがリセットされました</td>\n      <td>「模拟宇宙」进度异常，已重置关卡</td>\n    </tr>\n  </tbody>\n</table>\n<p>61607 rows × 4 columns</p>\n</div>"
     },
     "execution_count": 3,
     "metadata": {},
     "output_type": "execute_result"
    }
   ],
   "source": [
    "# drop duplicate, remove empty lines and nan\n",
    "df = df.drop_duplicates(subset=['en', 'ja', 'zh'], keep='first')\n",
    "df = df[df['en'] != '']\n",
    "df = df[df['ja'] != '']\n",
    "df = df[df['zh'] != '']\n",
    "df = df.dropna()\n",
    "df"
   ],
   "metadata": {
    "collapsed": false,
    "ExecuteTime": {
     "end_time": "2023-07-09T13:26:06.764689299Z",
     "start_time": "2023-07-09T13:26:06.680694419Z"
    }
   }
  },
  {
   "cell_type": "code",
   "execution_count": 4,
   "outputs": [],
   "source": [
    "# drop index column\n",
    "df = df.drop(columns=['index'])"
   ],
   "metadata": {
    "collapsed": false,
    "ExecuteTime": {
     "end_time": "2023-07-09T13:26:06.771613374Z",
     "start_time": "2023-07-09T13:26:06.770592273Z"
    }
   }
  },
  {
   "cell_type": "code",
   "execution_count": 5,
   "outputs": [
    {
     "data": {
      "text/plain": "                                                      en  \\\n0                                                Chinese   \n1                                                English   \n2                                               Japanese   \n3                                                 Korean   \n4                                            Attachments   \n...                                                  ...   \n78644  The Yutie standing there changes every day, bu...   \n78645  If you catch a glimpse of a Yutie's face, all ...   \n78646  The higher the Weakness Break efficiency is, t...   \n78647  Energy Regeneration Rate can boost the amount ...   \n78648  The Simulated Universe progress is abnormal an...   \n\n                                                      ja  \\\n0                                                    中国語   \n1                                                     英語   \n2                                                    日本語   \n3                                                    韓国語   \n4                                                  メール添付   \n...                                                  ...   \n78644  毎日、あそこに立っているのは違う浴鉄なんだよ。今まで気づかなかったでしょ。だって、彼らは厳し...   \n78645  もし、あなたがある「浴鉄」の顔を見たら、彼らはみんな1つの顔になる。他の人は声も出さずに消え...   \n78646                        弱点撃破効率が高いほど、靭性に対するダメージが上がる。   \n78647  EP回復率はキャラクターのスキル発動、敵の殲滅、攻撃を受けた時に獲得するEPをアップさせるこ...   \n78648                 「模擬宇宙」の進度に異常が発生したため、ステージがリセットされました   \n\n                                                      zh  \n0                                                     汉语  \n1                                                     英语  \n2                                                     日语  \n3                                                     韩语  \n4                                                   邮件附件  \n...                                                  ...  \n78644  每天站在那里的浴铁都是不同的人，但你从来都不会发现。因为他们训练严明，每个人都被训练成了一模...  \n78645  不过你如果不识趣地偷看到一位「浴铁」的面孔，他们就会只剩下一副面孔了。其他的人就会不动声色地...  \n78646                              弱点击破效率越高，对韧性造成的伤害就越高。  \n78647  能量恢复效率能够提高角色在施放技能、消灭敌人、受到攻击等行为时获取的能量值。\\n这个数值越高...  \n78648                                   「模拟宇宙」进度异常，已重置关卡  \n\n[61607 rows x 3 columns]",
      "text/html": "<div>\n<style scoped>\n    .dataframe tbody tr th:only-of-type {\n        vertical-align: middle;\n    }\n\n    .dataframe tbody tr th {\n        vertical-align: top;\n    }\n\n    .dataframe thead th {\n        text-align: right;\n    }\n</style>\n<table border=\"1\" class=\"dataframe\">\n  <thead>\n    <tr style=\"text-align: right;\">\n      <th></th>\n      <th>en</th>\n      <th>ja</th>\n      <th>zh</th>\n    </tr>\n  </thead>\n  <tbody>\n    <tr>\n      <th>0</th>\n      <td>Chinese</td>\n      <td>中国語</td>\n      <td>汉语</td>\n    </tr>\n    <tr>\n      <th>1</th>\n      <td>English</td>\n      <td>英語</td>\n      <td>英语</td>\n    </tr>\n    <tr>\n      <th>2</th>\n      <td>Japanese</td>\n      <td>日本語</td>\n      <td>日语</td>\n    </tr>\n    <tr>\n      <th>3</th>\n      <td>Korean</td>\n      <td>韓国語</td>\n      <td>韩语</td>\n    </tr>\n    <tr>\n      <th>4</th>\n      <td>Attachments</td>\n      <td>メール添付</td>\n      <td>邮件附件</td>\n    </tr>\n    <tr>\n      <th>...</th>\n      <td>...</td>\n      <td>...</td>\n      <td>...</td>\n    </tr>\n    <tr>\n      <th>78644</th>\n      <td>The Yutie standing there changes every day, bu...</td>\n      <td>毎日、あそこに立っているのは違う浴鉄なんだよ。今まで気づかなかったでしょ。だって、彼らは厳し...</td>\n      <td>每天站在那里的浴铁都是不同的人，但你从来都不会发现。因为他们训练严明，每个人都被训练成了一模...</td>\n    </tr>\n    <tr>\n      <th>78645</th>\n      <td>If you catch a glimpse of a Yutie's face, all ...</td>\n      <td>もし、あなたがある「浴鉄」の顔を見たら、彼らはみんな1つの顔になる。他の人は声も出さずに消え...</td>\n      <td>不过你如果不识趣地偷看到一位「浴铁」的面孔，他们就会只剩下一副面孔了。其他的人就会不动声色地...</td>\n    </tr>\n    <tr>\n      <th>78646</th>\n      <td>The higher the Weakness Break efficiency is, t...</td>\n      <td>弱点撃破効率が高いほど、靭性に対するダメージが上がる。</td>\n      <td>弱点击破效率越高，对韧性造成的伤害就越高。</td>\n    </tr>\n    <tr>\n      <th>78647</th>\n      <td>Energy Regeneration Rate can boost the amount ...</td>\n      <td>EP回復率はキャラクターのスキル発動、敵の殲滅、攻撃を受けた時に獲得するEPをアップさせるこ...</td>\n      <td>能量恢复效率能够提高角色在施放技能、消灭敌人、受到攻击等行为时获取的能量值。\\n这个数值越高...</td>\n    </tr>\n    <tr>\n      <th>78648</th>\n      <td>The Simulated Universe progress is abnormal an...</td>\n      <td>「模擬宇宙」の進度に異常が発生したため、ステージがリセットされました</td>\n      <td>「模拟宇宙」进度异常，已重置关卡</td>\n    </tr>\n  </tbody>\n</table>\n<p>61607 rows × 3 columns</p>\n</div>"
     },
     "execution_count": 5,
     "metadata": {},
     "output_type": "execute_result"
    }
   ],
   "source": [
    "# remove html tag\n",
    "df['en'] = df['en'].apply(lambda x: re.sub(r'<[^>]*?>', '', str(x)))\n",
    "df['ja'] = df['ja'].apply(lambda x: re.sub(r'<[^>]*?>', '', str(x)))\n",
    "df['zh'] = df['zh'].apply(lambda x: re.sub(r'<[^>]*?>', '', str(x)))\n",
    "df"
   ],
   "metadata": {
    "collapsed": false,
    "ExecuteTime": {
     "end_time": "2023-07-09T13:26:07.121419803Z",
     "start_time": "2023-07-09T13:26:06.816316292Z"
    }
   }
  },
  {
   "cell_type": "code",
   "execution_count": 6,
   "outputs": [
    {
     "name": "stderr",
     "output_type": "stream",
     "text": [
      "/tmp/ipykernel_31024/3780974281.py:5: TqdmDeprecationWarning: This function will be removed in tqdm==5.0.0\n",
      "Please use `tqdm.notebook.tqdm` instead of `tqdm.tqdm_notebook`\n",
      "  for i, row in tqdm(enumerate(df.itertuples()), total=df.shape[0]):\n"
     ]
    },
    {
     "data": {
      "text/plain": "  0%|          | 0/61607 [00:00<?, ?it/s]",
      "application/vnd.jupyter.widget-view+json": {
       "version_major": 2,
       "version_minor": 0,
       "model_id": "693f347897d8461b823bde7a41030c6c"
      }
     },
     "metadata": {},
     "output_type": "display_data"
    },
    {
     "name": "stdout",
     "output_type": "stream",
     "text": [
      "drop 2087 rows\n"
     ]
    },
    {
     "data": {
      "text/plain": "                                                      en  \\\n0                                                Chinese   \n1                                                English   \n2                                               Japanese   \n3                                                 Korean   \n4                                            Attachments   \n...                                                  ...   \n75853  1. (The following chapter requires payment to ...   \n75854               2. (Put the novel down) (Option end)   \n75855  Energy Regeneration Rate can boost the amount ...   \n75856    A higher rate means faster energy regeneration.   \n75857  However, certain Energy-Regenerating effects w...   \n\n                                                      ja  \\\n0                                                    中国語   \n1                                                     英語   \n2                                                    日本語   \n3                                                    韓国語   \n4                                                  メール添付   \n...                                                  ...   \n75853                                   1、（次のページ）（読み続ける）   \n75854                               2、（小説をおろす）（選択を終わらせる）   \n75855  EP回復率はキャラクターのスキル発動、敵の殲滅、攻撃を受けた時に獲得するEPをアップさせるこ...   \n75856                       この数値が高いほど、キャラクターのEP回復がはやくなる。   \n75857              一部の味方のEP回復効果によって回復したEPはEP回復率の影響を受けない。   \n\n                                           zh  \n0                                          汉语  \n1                                          英语  \n2                                          日语  \n3                                          韩语  \n4                                        邮件附件  \n...                                       ...  \n75853                     1、（以下章节需付费阅读）（结束选择）  \n75854                          2、（放下小说）（结束选择）  \n75855  能量恢复效率能够提高角色在施放技能、消灭敌人、受到攻击等行为时获取的能量值。  \n75856                       这个数值越高，角色能量恢复得越快。  \n75857      部分恢复我方目标能量的效果所恢复的能量值不会受到能量恢复效率的影响。  \n\n[75857 rows x 3 columns]",
      "text/html": "<div>\n<style scoped>\n    .dataframe tbody tr th:only-of-type {\n        vertical-align: middle;\n    }\n\n    .dataframe tbody tr th {\n        vertical-align: top;\n    }\n\n    .dataframe thead th {\n        text-align: right;\n    }\n</style>\n<table border=\"1\" class=\"dataframe\">\n  <thead>\n    <tr style=\"text-align: right;\">\n      <th></th>\n      <th>en</th>\n      <th>ja</th>\n      <th>zh</th>\n    </tr>\n  </thead>\n  <tbody>\n    <tr>\n      <th>0</th>\n      <td>Chinese</td>\n      <td>中国語</td>\n      <td>汉语</td>\n    </tr>\n    <tr>\n      <th>1</th>\n      <td>English</td>\n      <td>英語</td>\n      <td>英语</td>\n    </tr>\n    <tr>\n      <th>2</th>\n      <td>Japanese</td>\n      <td>日本語</td>\n      <td>日语</td>\n    </tr>\n    <tr>\n      <th>3</th>\n      <td>Korean</td>\n      <td>韓国語</td>\n      <td>韩语</td>\n    </tr>\n    <tr>\n      <th>4</th>\n      <td>Attachments</td>\n      <td>メール添付</td>\n      <td>邮件附件</td>\n    </tr>\n    <tr>\n      <th>...</th>\n      <td>...</td>\n      <td>...</td>\n      <td>...</td>\n    </tr>\n    <tr>\n      <th>75853</th>\n      <td>1. (The following chapter requires payment to ...</td>\n      <td>1、（次のページ）（読み続ける）</td>\n      <td>1、（以下章节需付费阅读）（结束选择）</td>\n    </tr>\n    <tr>\n      <th>75854</th>\n      <td>2. (Put the novel down) (Option end)</td>\n      <td>2、（小説をおろす）（選択を終わらせる）</td>\n      <td>2、（放下小说）（结束选择）</td>\n    </tr>\n    <tr>\n      <th>75855</th>\n      <td>Energy Regeneration Rate can boost the amount ...</td>\n      <td>EP回復率はキャラクターのスキル発動、敵の殲滅、攻撃を受けた時に獲得するEPをアップさせるこ...</td>\n      <td>能量恢复效率能够提高角色在施放技能、消灭敌人、受到攻击等行为时获取的能量值。</td>\n    </tr>\n    <tr>\n      <th>75856</th>\n      <td>A higher rate means faster energy regeneration.</td>\n      <td>この数値が高いほど、キャラクターのEP回復がはやくなる。</td>\n      <td>这个数值越高，角色能量恢复得越快。</td>\n    </tr>\n    <tr>\n      <th>75857</th>\n      <td>However, certain Energy-Regenerating effects w...</td>\n      <td>一部の味方のEP回復効果によって回復したEPはEP回復率の影響を受けない。</td>\n      <td>部分恢复我方目标能量的效果所恢复的能量值不会受到能量恢复效率的影响。</td>\n    </tr>\n  </tbody>\n</table>\n<p>75857 rows × 3 columns</p>\n</div>"
     },
     "execution_count": 6,
     "metadata": {},
     "output_type": "execute_result"
    }
   ],
   "source": [
    "# split text by \\n\n",
    "# check if number \\n is the same for all languages\n",
    "# if not, just keep it not split\n",
    "drop_count = 0\n",
    "for i, row in tqdm(enumerate(df.itertuples()), total=df.shape[0]):\n",
    "    en, ja, zh = row.en, row.ja, row.zh\n",
    "    if not r'\\n' in en or not r'\\n' in ja or not r'\\n' in zh:\n",
    "        continue\n",
    "    en_split = en.split(r'\\n')\n",
    "    ja_split = ja.split(r'\\n')\n",
    "    zh_split = zh.split(r'\\n')\n",
    "    if len(en_split) == len(ja_split) == len(zh_split):\n",
    "        # append to df\n",
    "        df = pd.concat([df, pd.DataFrame({'en': en_split, 'ja': ja_split, 'zh': zh_split})], ignore_index=True)\n",
    "        # drop\n",
    "        df = df.drop(index=i)\n",
    "        drop_count += 1\n",
    "\n",
    "print(f'drop {drop_count} rows')\n",
    "df"
   ],
   "metadata": {
    "collapsed": false,
    "ExecuteTime": {
     "end_time": "2023-07-09T13:26:41.453305974Z",
     "start_time": "2023-07-09T13:26:07.046549587Z"
    }
   }
  },
  {
   "cell_type": "code",
   "execution_count": 7,
   "outputs": [
    {
     "data": {
      "text/plain": "                                                      en  \\\n0                                                Chinese   \n1                                                English   \n2                                               Japanese   \n3                                                 Korean   \n4                                            Attachments   \n...                                                  ...   \n75853  1. (The following chapter requires payment to ...   \n75854               2. (Put the novel down) (Option end)   \n75855  Energy Regeneration Rate can boost the amount ...   \n75856    A higher rate means faster energy regeneration.   \n75857  However, certain Energy-Regenerating effects w...   \n\n                                                      ja  \\\n0                                                    中国語   \n1                                                     英語   \n2                                                    日本語   \n3                                                    韓国語   \n4                                                  メール添付   \n...                                                  ...   \n75853                                   1、（次のページ）（読み続ける）   \n75854                               2、（小説をおろす）（選択を終わらせる）   \n75855  EP回復率はキャラクターのスキル発動、敵の殲滅、攻撃を受けた時に獲得するEPをアップさせるこ...   \n75856                       この数値が高いほど、キャラクターのEP回復がはやくなる。   \n75857              一部の味方のEP回復効果によって回復したEPはEP回復率の影響を受けない。   \n\n                                           zh  \n0                                          汉语  \n1                                          英语  \n2                                          日语  \n3                                          韩语  \n4                                        邮件附件  \n...                                       ...  \n75853                     1、（以下章节需付费阅读）（结束选择）  \n75854                          2、（放下小说）（结束选择）  \n75855  能量恢复效率能够提高角色在施放技能、消灭敌人、受到攻击等行为时获取的能量值。  \n75856                       这个数值越高，角色能量恢复得越快。  \n75857      部分恢复我方目标能量的效果所恢复的能量值不会受到能量恢复效率的影响。  \n\n[75857 rows x 3 columns]",
      "text/html": "<div>\n<style scoped>\n    .dataframe tbody tr th:only-of-type {\n        vertical-align: middle;\n    }\n\n    .dataframe tbody tr th {\n        vertical-align: top;\n    }\n\n    .dataframe thead th {\n        text-align: right;\n    }\n</style>\n<table border=\"1\" class=\"dataframe\">\n  <thead>\n    <tr style=\"text-align: right;\">\n      <th></th>\n      <th>en</th>\n      <th>ja</th>\n      <th>zh</th>\n    </tr>\n  </thead>\n  <tbody>\n    <tr>\n      <th>0</th>\n      <td>Chinese</td>\n      <td>中国語</td>\n      <td>汉语</td>\n    </tr>\n    <tr>\n      <th>1</th>\n      <td>English</td>\n      <td>英語</td>\n      <td>英语</td>\n    </tr>\n    <tr>\n      <th>2</th>\n      <td>Japanese</td>\n      <td>日本語</td>\n      <td>日语</td>\n    </tr>\n    <tr>\n      <th>3</th>\n      <td>Korean</td>\n      <td>韓国語</td>\n      <td>韩语</td>\n    </tr>\n    <tr>\n      <th>4</th>\n      <td>Attachments</td>\n      <td>メール添付</td>\n      <td>邮件附件</td>\n    </tr>\n    <tr>\n      <th>...</th>\n      <td>...</td>\n      <td>...</td>\n      <td>...</td>\n    </tr>\n    <tr>\n      <th>75853</th>\n      <td>1. (The following chapter requires payment to ...</td>\n      <td>1、（次のページ）（読み続ける）</td>\n      <td>1、（以下章节需付费阅读）（结束选择）</td>\n    </tr>\n    <tr>\n      <th>75854</th>\n      <td>2. (Put the novel down) (Option end)</td>\n      <td>2、（小説をおろす）（選択を終わらせる）</td>\n      <td>2、（放下小说）（结束选择）</td>\n    </tr>\n    <tr>\n      <th>75855</th>\n      <td>Energy Regeneration Rate can boost the amount ...</td>\n      <td>EP回復率はキャラクターのスキル発動、敵の殲滅、攻撃を受けた時に獲得するEPをアップさせるこ...</td>\n      <td>能量恢复效率能够提高角色在施放技能、消灭敌人、受到攻击等行为时获取的能量值。</td>\n    </tr>\n    <tr>\n      <th>75856</th>\n      <td>A higher rate means faster energy regeneration.</td>\n      <td>この数値が高いほど、キャラクターのEP回復がはやくなる。</td>\n      <td>这个数值越高，角色能量恢复得越快。</td>\n    </tr>\n    <tr>\n      <th>75857</th>\n      <td>However, certain Energy-Regenerating effects w...</td>\n      <td>一部の味方のEP回復効果によって回復したEPはEP回復率の影響を受けない。</td>\n      <td>部分恢复我方目标能量的效果所恢复的能量值不会受到能量恢复效率的影响。</td>\n    </tr>\n  </tbody>\n</table>\n<p>75857 rows × 3 columns</p>\n</div>"
     },
     "execution_count": 7,
     "metadata": {},
     "output_type": "execute_result"
    }
   ],
   "source": [
    "# remove \\n\n",
    "df['en'] = df['en'].apply(lambda x: re.sub(r'\\\\n', '', str(x)))\n",
    "df['ja'] = df['ja'].apply(lambda x: re.sub(r'\\\\n', '', str(x)))\n",
    "df['zh'] = df['zh'].apply(lambda x: re.sub(r'\\\\n', '', str(x)))\n",
    "df"
   ],
   "metadata": {
    "collapsed": false,
    "ExecuteTime": {
     "end_time": "2023-07-09T13:26:41.707637206Z",
     "start_time": "2023-07-09T13:26:41.476639418Z"
    }
   }
  },
  {
   "cell_type": "code",
   "execution_count": 8,
   "outputs": [
    {
     "data": {
      "text/plain": "                                                      en  \\\n0                                                Chinese   \n1                                                English   \n2                                               Japanese   \n3                                                 Korean   \n4                                            Attachments   \n...                                                  ...   \n75853  1. (The following chapter requires payment to ...   \n75854               2. (Put the novel down) (Option end)   \n75855  Energy Regeneration Rate can boost the amount ...   \n75856    A higher rate means faster energy regeneration.   \n75857  However, certain Energy-Regenerating effects w...   \n\n                                                      ja  \\\n0                                                    中国語   \n1                                                     英語   \n2                                                    日本語   \n3                                                    韓国語   \n4                                                  メール添付   \n...                                                  ...   \n75853                                   1、（次のページ）（読み続ける）   \n75854                               2、（小説をおろす）（選択を終わらせる）   \n75855  EP回復率はキャラクターのスキル発動、敵の殲滅、攻撃を受けた時に獲得するEPをアップさせるこ...   \n75856                       この数値が高いほど、キャラクターのEP回復がはやくなる。   \n75857              一部の味方のEP回復効果によって回復したEPはEP回復率の影響を受けない。   \n\n                                           zh  \n0                                          汉语  \n1                                          英语  \n2                                          日语  \n3                                          韩语  \n4                                        邮件附件  \n...                                       ...  \n75853                     1、（以下章节需付费阅读）（结束选择）  \n75854                          2、（放下小说）（结束选择）  \n75855  能量恢复效率能够提高角色在施放技能、消灭敌人、受到攻击等行为时获取的能量值。  \n75856                       这个数值越高，角色能量恢复得越快。  \n75857      部分恢复我方目标能量的效果所恢复的能量值不会受到能量恢复效率的影响。  \n\n[75671 rows x 3 columns]",
      "text/html": "<div>\n<style scoped>\n    .dataframe tbody tr th:only-of-type {\n        vertical-align: middle;\n    }\n\n    .dataframe tbody tr th {\n        vertical-align: top;\n    }\n\n    .dataframe thead th {\n        text-align: right;\n    }\n</style>\n<table border=\"1\" class=\"dataframe\">\n  <thead>\n    <tr style=\"text-align: right;\">\n      <th></th>\n      <th>en</th>\n      <th>ja</th>\n      <th>zh</th>\n    </tr>\n  </thead>\n  <tbody>\n    <tr>\n      <th>0</th>\n      <td>Chinese</td>\n      <td>中国語</td>\n      <td>汉语</td>\n    </tr>\n    <tr>\n      <th>1</th>\n      <td>English</td>\n      <td>英語</td>\n      <td>英语</td>\n    </tr>\n    <tr>\n      <th>2</th>\n      <td>Japanese</td>\n      <td>日本語</td>\n      <td>日语</td>\n    </tr>\n    <tr>\n      <th>3</th>\n      <td>Korean</td>\n      <td>韓国語</td>\n      <td>韩语</td>\n    </tr>\n    <tr>\n      <th>4</th>\n      <td>Attachments</td>\n      <td>メール添付</td>\n      <td>邮件附件</td>\n    </tr>\n    <tr>\n      <th>...</th>\n      <td>...</td>\n      <td>...</td>\n      <td>...</td>\n    </tr>\n    <tr>\n      <th>75853</th>\n      <td>1. (The following chapter requires payment to ...</td>\n      <td>1、（次のページ）（読み続ける）</td>\n      <td>1、（以下章节需付费阅读）（结束选择）</td>\n    </tr>\n    <tr>\n      <th>75854</th>\n      <td>2. (Put the novel down) (Option end)</td>\n      <td>2、（小説をおろす）（選択を終わらせる）</td>\n      <td>2、（放下小说）（结束选择）</td>\n    </tr>\n    <tr>\n      <th>75855</th>\n      <td>Energy Regeneration Rate can boost the amount ...</td>\n      <td>EP回復率はキャラクターのスキル発動、敵の殲滅、攻撃を受けた時に獲得するEPをアップさせるこ...</td>\n      <td>能量恢复效率能够提高角色在施放技能、消灭敌人、受到攻击等行为时获取的能量值。</td>\n    </tr>\n    <tr>\n      <th>75856</th>\n      <td>A higher rate means faster energy regeneration.</td>\n      <td>この数値が高いほど、キャラクターのEP回復がはやくなる。</td>\n      <td>这个数值越高，角色能量恢复得越快。</td>\n    </tr>\n    <tr>\n      <th>75857</th>\n      <td>However, certain Energy-Regenerating effects w...</td>\n      <td>一部の味方のEP回復効果によって回復したEPはEP回復率の影響を受けない。</td>\n      <td>部分恢复我方目标能量的效果所恢复的能量值不会受到能量恢复效率的影响。</td>\n    </tr>\n  </tbody>\n</table>\n<p>75671 rows × 3 columns</p>\n</div>"
     },
     "execution_count": 8,
     "metadata": {},
     "output_type": "execute_result"
    }
   ],
   "source": [
    "# remove row with only punctuation\n",
    "df = df[~df['en'].str.match(r'^[^\\w\\s]+$')]\n",
    "df = df[~df['ja'].str.match(r'^[^\\w\\s]+$')]\n",
    "df = df[~df['zh'].str.match(r'^[^\\w\\s]+$')]\n",
    "df"
   ],
   "metadata": {
    "collapsed": false,
    "ExecuteTime": {
     "end_time": "2023-07-09T13:26:41.849766366Z",
     "start_time": "2023-07-09T13:26:41.714468880Z"
    }
   }
  },
  {
   "cell_type": "code",
   "execution_count": 9,
   "outputs": [
    {
     "data": {
      "text/plain": "                                                      en  \\\n0                                                Chinese   \n1                                                English   \n2                                               Japanese   \n3                                                 Korean   \n4                                            Attachments   \n...                                                  ...   \n75853  1. (The following chapter requires payment to ...   \n75854               2. (Put the novel down) (Option end)   \n75855  Energy Regeneration Rate can boost the amount ...   \n75856    A higher rate means faster energy regeneration.   \n75857  However, certain Energy-Regenerating effects w...   \n\n                                                      ja  \\\n0                                                    中国語   \n1                                                     英語   \n2                                                    日本語   \n3                                                    韓国語   \n4                                                  メール添付   \n...                                                  ...   \n75853                                   1、（次のページ）（読み続ける）   \n75854                               2、（小説をおろす）（選択を終わらせる）   \n75855  EP回復率はキャラクターのスキル発動、敵の殲滅、攻撃を受けた時に獲得するEPをアップさせるこ...   \n75856                       この数値が高いほど、キャラクターのEP回復がはやくなる。   \n75857              一部の味方のEP回復効果によって回復したEPはEP回復率の影響を受けない。   \n\n                                           zh  \n0                                          汉语  \n1                                          英语  \n2                                          日语  \n3                                          韩语  \n4                                        邮件附件  \n...                                       ...  \n75853                     1、（以下章节需付费阅读）（结束选择）  \n75854                          2、（放下小说）（结束选择）  \n75855  能量恢复效率能够提高角色在施放技能、消灭敌人、受到攻击等行为时获取的能量值。  \n75856                       这个数值越高，角色能量恢复得越快。  \n75857      部分恢复我方目标能量的效果所恢复的能量值不会受到能量恢复效率的影响。  \n\n[75631 rows x 3 columns]",
      "text/html": "<div>\n<style scoped>\n    .dataframe tbody tr th:only-of-type {\n        vertical-align: middle;\n    }\n\n    .dataframe tbody tr th {\n        vertical-align: top;\n    }\n\n    .dataframe thead th {\n        text-align: right;\n    }\n</style>\n<table border=\"1\" class=\"dataframe\">\n  <thead>\n    <tr style=\"text-align: right;\">\n      <th></th>\n      <th>en</th>\n      <th>ja</th>\n      <th>zh</th>\n    </tr>\n  </thead>\n  <tbody>\n    <tr>\n      <th>0</th>\n      <td>Chinese</td>\n      <td>中国語</td>\n      <td>汉语</td>\n    </tr>\n    <tr>\n      <th>1</th>\n      <td>English</td>\n      <td>英語</td>\n      <td>英语</td>\n    </tr>\n    <tr>\n      <th>2</th>\n      <td>Japanese</td>\n      <td>日本語</td>\n      <td>日语</td>\n    </tr>\n    <tr>\n      <th>3</th>\n      <td>Korean</td>\n      <td>韓国語</td>\n      <td>韩语</td>\n    </tr>\n    <tr>\n      <th>4</th>\n      <td>Attachments</td>\n      <td>メール添付</td>\n      <td>邮件附件</td>\n    </tr>\n    <tr>\n      <th>...</th>\n      <td>...</td>\n      <td>...</td>\n      <td>...</td>\n    </tr>\n    <tr>\n      <th>75853</th>\n      <td>1. (The following chapter requires payment to ...</td>\n      <td>1、（次のページ）（読み続ける）</td>\n      <td>1、（以下章节需付费阅读）（结束选择）</td>\n    </tr>\n    <tr>\n      <th>75854</th>\n      <td>2. (Put the novel down) (Option end)</td>\n      <td>2、（小説をおろす）（選択を終わらせる）</td>\n      <td>2、（放下小说）（结束选择）</td>\n    </tr>\n    <tr>\n      <th>75855</th>\n      <td>Energy Regeneration Rate can boost the amount ...</td>\n      <td>EP回復率はキャラクターのスキル発動、敵の殲滅、攻撃を受けた時に獲得するEPをアップさせるこ...</td>\n      <td>能量恢复效率能够提高角色在施放技能、消灭敌人、受到攻击等行为时获取的能量值。</td>\n    </tr>\n    <tr>\n      <th>75856</th>\n      <td>A higher rate means faster energy regeneration.</td>\n      <td>この数値が高いほど、キャラクターのEP回復がはやくなる。</td>\n      <td>这个数值越高，角色能量恢复得越快。</td>\n    </tr>\n    <tr>\n      <th>75857</th>\n      <td>However, certain Energy-Regenerating effects w...</td>\n      <td>一部の味方のEP回復効果によって回復したEPはEP回復率の影響を受けない。</td>\n      <td>部分恢复我方目标能量的效果所恢复的能量值不会受到能量恢复效率的影响。</td>\n    </tr>\n  </tbody>\n</table>\n<p>75631 rows × 3 columns</p>\n</div>"
     },
     "execution_count": 9,
     "metadata": {},
     "output_type": "execute_result"
    }
   ],
   "source": [
    "# remove lines with only numbers\n",
    "df = df[~df['en'].str.match(r'^\\d+$')]\n",
    "df = df[~df['ja'].str.match(r'^\\d+$')]\n",
    "df = df[~df['zh'].str.match(r'^\\d+$')]\n",
    "df"
   ],
   "metadata": {
    "collapsed": false,
    "ExecuteTime": {
     "end_time": "2023-07-09T13:26:42.061566938Z",
     "start_time": "2023-07-09T13:26:41.859248339Z"
    }
   }
  },
  {
   "cell_type": "code",
   "execution_count": 10,
   "outputs": [
    {
     "name": "stderr",
     "output_type": "stream",
     "text": [
      "/home/toshihiko/anaconda3/envs/pytorch201/lib/python3.8/site-packages/transformers/convert_slow_tokenizer.py:454: UserWarning: The sentencepiece tokenizer that you are converting to a fast tokenizer uses the byte fallback option which is not implemented in the fast tokenizers. In practice this means that the fast version of the tokenizer can produce unknown tokens whereas the sentencepiece version would have converted these unknown tokens into a sequence of byte tokens matching the original piece of text.\n",
      "  warnings.warn(\n"
     ]
    },
    {
     "data": {
      "text/plain": "                                                      en  \\\n0                                                Chinese   \n1                                                English   \n2                                               Japanese   \n3                                                 Korean   \n4                                            Attachments   \n...                                                  ...   \n75853  1. (The following chapter requires payment to ...   \n75854               2. (Put the novel down) (Option end)   \n75855  Energy Regeneration Rate can boost the amount ...   \n75856    A higher rate means faster energy regeneration.   \n75857  However, certain Energy-Regenerating effects w...   \n\n                                                      ja  \\\n0                                                    中国語   \n1                                                     英語   \n2                                                    日本語   \n3                                                    韓国語   \n4                                                  メール添付   \n...                                                  ...   \n75853                                   1、（次のページ）（読み続ける）   \n75854                               2、（小説をおろす）（選択を終わらせる）   \n75855  EP回復率はキャラクターのスキル発動、敵の殲滅、攻撃を受けた時に獲得するEPをアップさせるこ...   \n75856                       この数値が高いほど、キャラクターのEP回復がはやくなる。   \n75857              一部の味方のEP回復効果によって回復したEPはEP回復率の影響を受けない。   \n\n                                           zh  en_len  ja_len  zh_len  \n0                                          汉语       1       2       3  \n1                                          英语       1       2       2  \n2                                          日语       1       2       3  \n3                                          韩语       2       2       2  \n4                                        邮件附件       3       3       4  \n...                                       ...     ...     ...     ...  \n75853                     1、（以下章节需付费阅读）（结束选择）      17       9      14  \n75854                          2、（放下小说）（结束选择）      11      14      10  \n75855  能量恢复效率能够提高角色在施放技能、消灭敌人、受到攻击等行为时获取的能量值。      41      25      27  \n75856                       这个数值越高，角色能量恢复得越快。      12      14      14  \n75857      部分恢复我方目标能量的效果所恢复的能量值不会受到能量恢复效率的影响。      20      19      20  \n\n[75631 rows x 6 columns]",
      "text/html": "<div>\n<style scoped>\n    .dataframe tbody tr th:only-of-type {\n        vertical-align: middle;\n    }\n\n    .dataframe tbody tr th {\n        vertical-align: top;\n    }\n\n    .dataframe thead th {\n        text-align: right;\n    }\n</style>\n<table border=\"1\" class=\"dataframe\">\n  <thead>\n    <tr style=\"text-align: right;\">\n      <th></th>\n      <th>en</th>\n      <th>ja</th>\n      <th>zh</th>\n      <th>en_len</th>\n      <th>ja_len</th>\n      <th>zh_len</th>\n    </tr>\n  </thead>\n  <tbody>\n    <tr>\n      <th>0</th>\n      <td>Chinese</td>\n      <td>中国語</td>\n      <td>汉语</td>\n      <td>1</td>\n      <td>2</td>\n      <td>3</td>\n    </tr>\n    <tr>\n      <th>1</th>\n      <td>English</td>\n      <td>英語</td>\n      <td>英语</td>\n      <td>1</td>\n      <td>2</td>\n      <td>2</td>\n    </tr>\n    <tr>\n      <th>2</th>\n      <td>Japanese</td>\n      <td>日本語</td>\n      <td>日语</td>\n      <td>1</td>\n      <td>2</td>\n      <td>3</td>\n    </tr>\n    <tr>\n      <th>3</th>\n      <td>Korean</td>\n      <td>韓国語</td>\n      <td>韩语</td>\n      <td>2</td>\n      <td>2</td>\n      <td>2</td>\n    </tr>\n    <tr>\n      <th>4</th>\n      <td>Attachments</td>\n      <td>メール添付</td>\n      <td>邮件附件</td>\n      <td>3</td>\n      <td>3</td>\n      <td>4</td>\n    </tr>\n    <tr>\n      <th>...</th>\n      <td>...</td>\n      <td>...</td>\n      <td>...</td>\n      <td>...</td>\n      <td>...</td>\n      <td>...</td>\n    </tr>\n    <tr>\n      <th>75853</th>\n      <td>1. (The following chapter requires payment to ...</td>\n      <td>1、（次のページ）（読み続ける）</td>\n      <td>1、（以下章节需付费阅读）（结束选择）</td>\n      <td>17</td>\n      <td>9</td>\n      <td>14</td>\n    </tr>\n    <tr>\n      <th>75854</th>\n      <td>2. (Put the novel down) (Option end)</td>\n      <td>2、（小説をおろす）（選択を終わらせる）</td>\n      <td>2、（放下小说）（结束选择）</td>\n      <td>11</td>\n      <td>14</td>\n      <td>10</td>\n    </tr>\n    <tr>\n      <th>75855</th>\n      <td>Energy Regeneration Rate can boost the amount ...</td>\n      <td>EP回復率はキャラクターのスキル発動、敵の殲滅、攻撃を受けた時に獲得するEPをアップさせるこ...</td>\n      <td>能量恢复效率能够提高角色在施放技能、消灭敌人、受到攻击等行为时获取的能量值。</td>\n      <td>41</td>\n      <td>25</td>\n      <td>27</td>\n    </tr>\n    <tr>\n      <th>75856</th>\n      <td>A higher rate means faster energy regeneration.</td>\n      <td>この数値が高いほど、キャラクターのEP回復がはやくなる。</td>\n      <td>这个数值越高，角色能量恢复得越快。</td>\n      <td>12</td>\n      <td>14</td>\n      <td>14</td>\n    </tr>\n    <tr>\n      <th>75857</th>\n      <td>However, certain Energy-Regenerating effects w...</td>\n      <td>一部の味方のEP回復効果によって回復したEPはEP回復率の影響を受けない。</td>\n      <td>部分恢复我方目标能量的效果所恢复的能量值不会受到能量恢复效率的影响。</td>\n      <td>20</td>\n      <td>19</td>\n      <td>20</td>\n    </tr>\n  </tbody>\n</table>\n<p>75631 rows × 6 columns</p>\n</div>"
     },
     "execution_count": 10,
     "metadata": {},
     "output_type": "execute_result"
    }
   ],
   "source": [
    "# remove lines that tokens is more than 256 or less than 1\n",
    "from transformers import MT5TokenizerFast\n",
    "tokenizer = MT5TokenizerFast.from_pretrained('google/mt5-small')\n",
    "\n",
    "df['en_len'] = df['en'].apply(lambda x: len(tokenizer.tokenize(x)))\n",
    "df['ja_len'] = df['ja'].apply(lambda x: len(tokenizer.tokenize(x)))\n",
    "df['zh_len'] = df['zh'].apply(lambda x: len(tokenizer.tokenize(x)))\n",
    "df"
   ],
   "metadata": {
    "collapsed": false,
    "ExecuteTime": {
     "end_time": "2023-07-09T13:27:05.703631178Z",
     "start_time": "2023-07-09T13:26:42.029920839Z"
    }
   }
  },
  {
   "cell_type": "code",
   "execution_count": 11,
   "outputs": [
    {
     "data": {
      "text/plain": "                                                      en  \\\n0                                                Chinese   \n1                                                English   \n2                                               Japanese   \n3                                                 Korean   \n4                                            Attachments   \n...                                                  ...   \n75853  1. (The following chapter requires payment to ...   \n75854               2. (Put the novel down) (Option end)   \n75855  Energy Regeneration Rate can boost the amount ...   \n75856    A higher rate means faster energy regeneration.   \n75857  However, certain Energy-Regenerating effects w...   \n\n                                                      ja  \\\n0                                                    中国語   \n1                                                     英語   \n2                                                    日本語   \n3                                                    韓国語   \n4                                                  メール添付   \n...                                                  ...   \n75853                                   1、（次のページ）（読み続ける）   \n75854                               2、（小説をおろす）（選択を終わらせる）   \n75855  EP回復率はキャラクターのスキル発動、敵の殲滅、攻撃を受けた時に獲得するEPをアップさせるこ...   \n75856                       この数値が高いほど、キャラクターのEP回復がはやくなる。   \n75857              一部の味方のEP回復効果によって回復したEPはEP回復率の影響を受けない。   \n\n                                           zh  en_len  ja_len  zh_len  \n0                                          汉语       1       2       3  \n1                                          英语       1       2       2  \n2                                          日语       1       2       3  \n3                                          韩语       2       2       2  \n4                                        邮件附件       3       3       4  \n...                                       ...     ...     ...     ...  \n75853                     1、（以下章节需付费阅读）（结束选择）      17       9      14  \n75854                          2、（放下小说）（结束选择）      11      14      10  \n75855  能量恢复效率能够提高角色在施放技能、消灭敌人、受到攻击等行为时获取的能量值。      41      25      27  \n75856                       这个数值越高，角色能量恢复得越快。      12      14      14  \n75857      部分恢复我方目标能量的效果所恢复的能量值不会受到能量恢复效率的影响。      20      19      20  \n\n[70368 rows x 6 columns]",
      "text/html": "<div>\n<style scoped>\n    .dataframe tbody tr th:only-of-type {\n        vertical-align: middle;\n    }\n\n    .dataframe tbody tr th {\n        vertical-align: top;\n    }\n\n    .dataframe thead th {\n        text-align: right;\n    }\n</style>\n<table border=\"1\" class=\"dataframe\">\n  <thead>\n    <tr style=\"text-align: right;\">\n      <th></th>\n      <th>en</th>\n      <th>ja</th>\n      <th>zh</th>\n      <th>en_len</th>\n      <th>ja_len</th>\n      <th>zh_len</th>\n    </tr>\n  </thead>\n  <tbody>\n    <tr>\n      <th>0</th>\n      <td>Chinese</td>\n      <td>中国語</td>\n      <td>汉语</td>\n      <td>1</td>\n      <td>2</td>\n      <td>3</td>\n    </tr>\n    <tr>\n      <th>1</th>\n      <td>English</td>\n      <td>英語</td>\n      <td>英语</td>\n      <td>1</td>\n      <td>2</td>\n      <td>2</td>\n    </tr>\n    <tr>\n      <th>2</th>\n      <td>Japanese</td>\n      <td>日本語</td>\n      <td>日语</td>\n      <td>1</td>\n      <td>2</td>\n      <td>3</td>\n    </tr>\n    <tr>\n      <th>3</th>\n      <td>Korean</td>\n      <td>韓国語</td>\n      <td>韩语</td>\n      <td>2</td>\n      <td>2</td>\n      <td>2</td>\n    </tr>\n    <tr>\n      <th>4</th>\n      <td>Attachments</td>\n      <td>メール添付</td>\n      <td>邮件附件</td>\n      <td>3</td>\n      <td>3</td>\n      <td>4</td>\n    </tr>\n    <tr>\n      <th>...</th>\n      <td>...</td>\n      <td>...</td>\n      <td>...</td>\n      <td>...</td>\n      <td>...</td>\n      <td>...</td>\n    </tr>\n    <tr>\n      <th>75853</th>\n      <td>1. (The following chapter requires payment to ...</td>\n      <td>1、（次のページ）（読み続ける）</td>\n      <td>1、（以下章节需付费阅读）（结束选择）</td>\n      <td>17</td>\n      <td>9</td>\n      <td>14</td>\n    </tr>\n    <tr>\n      <th>75854</th>\n      <td>2. (Put the novel down) (Option end)</td>\n      <td>2、（小説をおろす）（選択を終わらせる）</td>\n      <td>2、（放下小说）（结束选择）</td>\n      <td>11</td>\n      <td>14</td>\n      <td>10</td>\n    </tr>\n    <tr>\n      <th>75855</th>\n      <td>Energy Regeneration Rate can boost the amount ...</td>\n      <td>EP回復率はキャラクターのスキル発動、敵の殲滅、攻撃を受けた時に獲得するEPをアップさせるこ...</td>\n      <td>能量恢复效率能够提高角色在施放技能、消灭敌人、受到攻击等行为时获取的能量值。</td>\n      <td>41</td>\n      <td>25</td>\n      <td>27</td>\n    </tr>\n    <tr>\n      <th>75856</th>\n      <td>A higher rate means faster energy regeneration.</td>\n      <td>この数値が高いほど、キャラクターのEP回復がはやくなる。</td>\n      <td>这个数值越高，角色能量恢复得越快。</td>\n      <td>12</td>\n      <td>14</td>\n      <td>14</td>\n    </tr>\n    <tr>\n      <th>75857</th>\n      <td>However, certain Energy-Regenerating effects w...</td>\n      <td>一部の味方のEP回復効果によって回復したEPはEP回復率の影響を受けない。</td>\n      <td>部分恢复我方目标能量的效果所恢复的能量值不会受到能量恢复效率的影响。</td>\n      <td>20</td>\n      <td>19</td>\n      <td>20</td>\n    </tr>\n  </tbody>\n</table>\n<p>70368 rows × 6 columns</p>\n</div>"
     },
     "execution_count": 11,
     "metadata": {},
     "output_type": "execute_result"
    }
   ],
   "source": [
    "df = df[df['en_len'] <= 256]\n",
    "df = df[df['ja_len'] <= 256]\n",
    "df = df[df['zh_len'] <= 256]\n",
    "df = df[df['en_len'] >= 1]\n",
    "df = df[df['ja_len'] >= 1]\n",
    "df = df[df['zh_len'] >= 1]\n",
    "df"
   ],
   "metadata": {
    "collapsed": false,
    "ExecuteTime": {
     "end_time": "2023-07-09T13:27:05.740398691Z",
     "start_time": "2023-07-09T13:27:05.649922622Z"
    }
   }
  },
  {
   "cell_type": "code",
   "execution_count": 12,
   "outputs": [
    {
     "name": "stderr",
     "output_type": "stream",
     "text": [
      "/tmp/ipykernel_31024/115076287.py:9: TqdmDeprecationWarning: This function will be removed in tqdm==5.0.0\n",
      "Please use `tqdm.notebook.tqdm` instead of `tqdm.tqdm_notebook`\n",
      "  for i, row in tqdm(enumerate(df.itertuples()), total=df.shape[0]):\n"
     ]
    },
    {
     "data": {
      "text/plain": "  0%|          | 0/70368 [00:00<?, ?it/s]",
      "application/vnd.jupyter.widget-view+json": {
       "version_major": 2,
       "version_minor": 0,
       "model_id": "a56c07610e7346bc882539e299362535"
      }
     },
     "metadata": {},
     "output_type": "display_data"
    },
    {
     "data": {
      "text/plain": "                                                      en  \\\n0                                                Chinese   \n1                                                English   \n2                                               Japanese   \n3                                                 Korean   \n4                                            Attachments   \n...                                                  ...   \n75853  1. (The following chapter requires payment to ...   \n75854               2. (Put the novel down) (Option end)   \n75855  Energy Regeneration Rate can boost the amount ...   \n75856    A higher rate means faster energy regeneration.   \n75857  However, certain Energy-Regenerating effects w...   \n\n                                                      ja  \\\n0                                                    中国語   \n1                                                     英語   \n2                                                    日本語   \n3                                                    韓国語   \n4                                                  メール添付   \n...                                                  ...   \n75853                                   1、（次のページ）（読み続ける）   \n75854                               2、（小説をおろす）（選択を終わらせる）   \n75855  EP回復率はキャラクターのスキル発動、敵の殲滅、攻撃を受けた時に獲得するEPをアップさせるこ...   \n75856                       この数値が高いほど、キャラクターのEP回復がはやくなる。   \n75857              一部の味方のEP回復効果によって回復したEPはEP回復率の影響を受けない。   \n\n                                           zh  en_len  ja_len  zh_len  \\\n0                                          汉语       1       2       3   \n1                                          英语       1       2       2   \n2                                          日语       1       2       3   \n3                                          韩语       2       2       2   \n4                                        邮件附件       3       3       4   \n...                                       ...     ...     ...     ...   \n75853                     1、（以下章节需付费阅读）（结束选择）      17       9      14   \n75854                          2、（放下小说）（结束选择）      11      14      10   \n75855  能量恢复效率能够提高角色在施放技能、消灭敌人、受到攻击等行为时获取的能量值。      41      25      27   \n75856                       这个数值越高，角色能量恢复得越快。      12      14      14   \n75857      部分恢复我方目标能量的效果所恢复的能量值不会受到能量恢复效率的影响。      20      19      20   \n\n          score  \n0      0.913975  \n1      0.951441  \n2      0.956051  \n3      0.934823  \n4      0.675397  \n...         ...  \n75853  0.708806  \n75854  0.894131  \n75855  0.827316  \n75856  0.684268  \n75857  0.686133  \n\n[70368 rows x 7 columns]",
      "text/html": "<div>\n<style scoped>\n    .dataframe tbody tr th:only-of-type {\n        vertical-align: middle;\n    }\n\n    .dataframe tbody tr th {\n        vertical-align: top;\n    }\n\n    .dataframe thead th {\n        text-align: right;\n    }\n</style>\n<table border=\"1\" class=\"dataframe\">\n  <thead>\n    <tr style=\"text-align: right;\">\n      <th></th>\n      <th>en</th>\n      <th>ja</th>\n      <th>zh</th>\n      <th>en_len</th>\n      <th>ja_len</th>\n      <th>zh_len</th>\n      <th>score</th>\n    </tr>\n  </thead>\n  <tbody>\n    <tr>\n      <th>0</th>\n      <td>Chinese</td>\n      <td>中国語</td>\n      <td>汉语</td>\n      <td>1</td>\n      <td>2</td>\n      <td>3</td>\n      <td>0.913975</td>\n    </tr>\n    <tr>\n      <th>1</th>\n      <td>English</td>\n      <td>英語</td>\n      <td>英语</td>\n      <td>1</td>\n      <td>2</td>\n      <td>2</td>\n      <td>0.951441</td>\n    </tr>\n    <tr>\n      <th>2</th>\n      <td>Japanese</td>\n      <td>日本語</td>\n      <td>日语</td>\n      <td>1</td>\n      <td>2</td>\n      <td>3</td>\n      <td>0.956051</td>\n    </tr>\n    <tr>\n      <th>3</th>\n      <td>Korean</td>\n      <td>韓国語</td>\n      <td>韩语</td>\n      <td>2</td>\n      <td>2</td>\n      <td>2</td>\n      <td>0.934823</td>\n    </tr>\n    <tr>\n      <th>4</th>\n      <td>Attachments</td>\n      <td>メール添付</td>\n      <td>邮件附件</td>\n      <td>3</td>\n      <td>3</td>\n      <td>4</td>\n      <td>0.675397</td>\n    </tr>\n    <tr>\n      <th>...</th>\n      <td>...</td>\n      <td>...</td>\n      <td>...</td>\n      <td>...</td>\n      <td>...</td>\n      <td>...</td>\n      <td>...</td>\n    </tr>\n    <tr>\n      <th>75853</th>\n      <td>1. (The following chapter requires payment to ...</td>\n      <td>1、（次のページ）（読み続ける）</td>\n      <td>1、（以下章节需付费阅读）（结束选择）</td>\n      <td>17</td>\n      <td>9</td>\n      <td>14</td>\n      <td>0.708806</td>\n    </tr>\n    <tr>\n      <th>75854</th>\n      <td>2. (Put the novel down) (Option end)</td>\n      <td>2、（小説をおろす）（選択を終わらせる）</td>\n      <td>2、（放下小说）（结束选择）</td>\n      <td>11</td>\n      <td>14</td>\n      <td>10</td>\n      <td>0.894131</td>\n    </tr>\n    <tr>\n      <th>75855</th>\n      <td>Energy Regeneration Rate can boost the amount ...</td>\n      <td>EP回復率はキャラクターのスキル発動、敵の殲滅、攻撃を受けた時に獲得するEPをアップさせるこ...</td>\n      <td>能量恢复效率能够提高角色在施放技能、消灭敌人、受到攻击等行为时获取的能量值。</td>\n      <td>41</td>\n      <td>25</td>\n      <td>27</td>\n      <td>0.827316</td>\n    </tr>\n    <tr>\n      <th>75856</th>\n      <td>A higher rate means faster energy regeneration.</td>\n      <td>この数値が高いほど、キャラクターのEP回復がはやくなる。</td>\n      <td>这个数值越高，角色能量恢复得越快。</td>\n      <td>12</td>\n      <td>14</td>\n      <td>14</td>\n      <td>0.684268</td>\n    </tr>\n    <tr>\n      <th>75857</th>\n      <td>However, certain Energy-Regenerating effects w...</td>\n      <td>一部の味方のEP回復効果によって回復したEPはEP回復率の影響を受けない。</td>\n      <td>部分恢复我方目标能量的效果所恢复的能量值不会受到能量恢复效率的影响。</td>\n      <td>20</td>\n      <td>19</td>\n      <td>20</td>\n      <td>0.686133</td>\n    </tr>\n  </tbody>\n</table>\n<p>70368 rows × 7 columns</p>\n</div>"
     },
     "execution_count": 12,
     "metadata": {},
     "output_type": "execute_result"
    }
   ],
   "source": [
    "# remove lines that LaBSE score is less than 0.6 or more than 0.99\n",
    "import numpy as np\n",
    "from sentence_transformers import SentenceTransformer\n",
    "model = SentenceTransformer('sentence-transformers/LaBSE').cuda()\n",
    "\n",
    "\n",
    "_batch, _scores = [], []\n",
    "_bs = 64\n",
    "for i, row in tqdm(enumerate(df.itertuples()), total=df.shape[0]):\n",
    "    inputs = [row.en, row.ja, row.zh]\n",
    "    _batch.extend(inputs)\n",
    "    if (i+1) % _bs == 0 or i == df.shape[0]-1:\n",
    "        embeddings = model.encode(_batch)\n",
    "        # calculate score between each pair\n",
    "        for j in range(embeddings.shape[0]//3):\n",
    "            _scores.append(np.average([\n",
    "                np.matmul(embeddings[j*3], embeddings[j*3+1].T),\n",
    "                np.matmul(embeddings[j*3], embeddings[j*3+2].T),\n",
    "                np.matmul(embeddings[j*3+1], embeddings[j*3+2].T)\n",
    "            ]))\n",
    "        _batch = []\n",
    "df = df.assign(score=_scores)\n",
    "df"
   ],
   "metadata": {
    "collapsed": false,
    "ExecuteTime": {
     "end_time": "2023-07-09T13:30:14.177574026Z",
     "start_time": "2023-07-09T13:27:05.713203753Z"
    }
   }
  },
  {
   "cell_type": "code",
   "execution_count": 13,
   "outputs": [
    {
     "data": {
      "text/plain": "<Figure size 640x480 with 1 Axes>",
      "image/png": "[encoded data removed]"
     },
     "metadata": {},
     "output_type": "display_data"
    }
   ],
   "source": [
    "# statistics score using matplotlib\n",
    "import matplotlib.pyplot as plt\n",
    "plt.hist(df['score'], bins=100)\n",
    "plt.show()"
   ],
   "metadata": {
    "collapsed": false,
    "ExecuteTime": {
     "end_time": "2023-07-09T13:30:14.944753940Z",
     "start_time": "2023-07-09T13:30:14.176572094Z"
    }
   }
  },
  {
   "cell_type": "code",
   "execution_count": 14,
   "outputs": [
    {
     "data": {
      "text/plain": "                                                      en  \\\n0                                                Chinese   \n1                                                English   \n2                                               Japanese   \n3                                                 Korean   \n4                                            Attachments   \n...                                                  ...   \n75853  1. (The following chapter requires payment to ...   \n75854               2. (Put the novel down) (Option end)   \n75855  Energy Regeneration Rate can boost the amount ...   \n75856    A higher rate means faster energy regeneration.   \n75857  However, certain Energy-Regenerating effects w...   \n\n                                                      ja  \\\n0                                                    中国語   \n1                                                     英語   \n2                                                    日本語   \n3                                                    韓国語   \n4                                                  メール添付   \n...                                                  ...   \n75853                                   1、（次のページ）（読み続ける）   \n75854                               2、（小説をおろす）（選択を終わらせる）   \n75855  EP回復率はキャラクターのスキル発動、敵の殲滅、攻撃を受けた時に獲得するEPをアップさせるこ...   \n75856                       この数値が高いほど、キャラクターのEP回復がはやくなる。   \n75857              一部の味方のEP回復効果によって回復したEPはEP回復率の影響を受けない。   \n\n                                           zh  en_len  ja_len  zh_len  \\\n0                                          汉语       1       2       3   \n1                                          英语       1       2       2   \n2                                          日语       1       2       3   \n3                                          韩语       2       2       2   \n4                                        邮件附件       3       3       4   \n...                                       ...     ...     ...     ...   \n75853                     1、（以下章节需付费阅读）（结束选择）      17       9      14   \n75854                          2、（放下小说）（结束选择）      11      14      10   \n75855  能量恢复效率能够提高角色在施放技能、消灭敌人、受到攻击等行为时获取的能量值。      41      25      27   \n75856                       这个数值越高，角色能量恢复得越快。      12      14      14   \n75857      部分恢复我方目标能量的效果所恢复的能量值不会受到能量恢复效率的影响。      20      19      20   \n\n          score  \n0      0.913975  \n1      0.951441  \n2      0.956051  \n3      0.934823  \n4      0.675397  \n...         ...  \n75853  0.708806  \n75854  0.894131  \n75855  0.827316  \n75856  0.684268  \n75857  0.686133  \n\n[60826 rows x 7 columns]",
      "text/html": "<div>\n<style scoped>\n    .dataframe tbody tr th:only-of-type {\n        vertical-align: middle;\n    }\n\n    .dataframe tbody tr th {\n        vertical-align: top;\n    }\n\n    .dataframe thead th {\n        text-align: right;\n    }\n</style>\n<table border=\"1\" class=\"dataframe\">\n  <thead>\n    <tr style=\"text-align: right;\">\n      <th></th>\n      <th>en</th>\n      <th>ja</th>\n      <th>zh</th>\n      <th>en_len</th>\n      <th>ja_len</th>\n      <th>zh_len</th>\n      <th>score</th>\n    </tr>\n  </thead>\n  <tbody>\n    <tr>\n      <th>0</th>\n      <td>Chinese</td>\n      <td>中国語</td>\n      <td>汉语</td>\n      <td>1</td>\n      <td>2</td>\n      <td>3</td>\n      <td>0.913975</td>\n    </tr>\n    <tr>\n      <th>1</th>\n      <td>English</td>\n      <td>英語</td>\n      <td>英语</td>\n      <td>1</td>\n      <td>2</td>\n      <td>2</td>\n      <td>0.951441</td>\n    </tr>\n    <tr>\n      <th>2</th>\n      <td>Japanese</td>\n      <td>日本語</td>\n      <td>日语</td>\n      <td>1</td>\n      <td>2</td>\n      <td>3</td>\n      <td>0.956051</td>\n    </tr>\n    <tr>\n      <th>3</th>\n      <td>Korean</td>\n      <td>韓国語</td>\n      <td>韩语</td>\n      <td>2</td>\n      <td>2</td>\n      <td>2</td>\n      <td>0.934823</td>\n    </tr>\n    <tr>\n      <th>4</th>\n      <td>Attachments</td>\n      <td>メール添付</td>\n      <td>邮件附件</td>\n      <td>3</td>\n      <td>3</td>\n      <td>4</td>\n      <td>0.675397</td>\n    </tr>\n    <tr>\n      <th>...</th>\n      <td>...</td>\n      <td>...</td>\n      <td>...</td>\n      <td>...</td>\n      <td>...</td>\n      <td>...</td>\n      <td>...</td>\n    </tr>\n    <tr>\n      <th>75853</th>\n      <td>1. (The following chapter requires payment to ...</td>\n      <td>1、（次のページ）（読み続ける）</td>\n      <td>1、（以下章节需付费阅读）（结束选择）</td>\n      <td>17</td>\n      <td>9</td>\n      <td>14</td>\n      <td>0.708806</td>\n    </tr>\n    <tr>\n      <th>75854</th>\n      <td>2. (Put the novel down) (Option end)</td>\n      <td>2、（小説をおろす）（選択を終わらせる）</td>\n      <td>2、（放下小说）（结束选择）</td>\n      <td>11</td>\n      <td>14</td>\n      <td>10</td>\n      <td>0.894131</td>\n    </tr>\n    <tr>\n      <th>75855</th>\n      <td>Energy Regeneration Rate can boost the amount ...</td>\n      <td>EP回復率はキャラクターのスキル発動、敵の殲滅、攻撃を受けた時に獲得するEPをアップさせるこ...</td>\n      <td>能量恢复效率能够提高角色在施放技能、消灭敌人、受到攻击等行为时获取的能量值。</td>\n      <td>41</td>\n      <td>25</td>\n      <td>27</td>\n      <td>0.827316</td>\n    </tr>\n    <tr>\n      <th>75856</th>\n      <td>A higher rate means faster energy regeneration.</td>\n      <td>この数値が高いほど、キャラクターのEP回復がはやくなる。</td>\n      <td>这个数值越高，角色能量恢复得越快。</td>\n      <td>12</td>\n      <td>14</td>\n      <td>14</td>\n      <td>0.684268</td>\n    </tr>\n    <tr>\n      <th>75857</th>\n      <td>However, certain Energy-Regenerating effects w...</td>\n      <td>一部の味方のEP回復効果によって回復したEPはEP回復率の影響を受けない。</td>\n      <td>部分恢复我方目标能量的效果所恢复的能量值不会受到能量恢复效率的影响。</td>\n      <td>20</td>\n      <td>19</td>\n      <td>20</td>\n      <td>0.686133</td>\n    </tr>\n  </tbody>\n</table>\n<p>60826 rows × 7 columns</p>\n</div>"
     },
     "execution_count": 14,
     "metadata": {},
     "output_type": "execute_result"
    }
   ],
   "source": [
    "# remove lines that LaBSE score is less than 0.6 or more than 0.99\n",
    "df = df[df['score'] >= 0.6]\n",
    "df = df[df['score'] <= 0.99]\n",
    "df"
   ],
   "metadata": {
    "collapsed": false,
    "ExecuteTime": {
     "end_time": "2023-07-09T13:30:15.046148841Z",
     "start_time": "2023-07-09T13:30:14.950928752Z"
    }
   }
  },
  {
   "cell_type": "code",
   "execution_count": 15,
   "outputs": [
    {
     "data": {
      "text/plain": "                                                      en  \\\n0                                                Chinese   \n1                                                English   \n2                                               Japanese   \n3                                                 Korean   \n4                                            Attachments   \n...                                                  ...   \n75853  1. (The following chapter requires payment to ...   \n75854               2. (Put the novel down) (Option end)   \n75855  Energy Regeneration Rate can boost the amount ...   \n75856    A higher rate means faster energy regeneration.   \n75857  However, certain Energy-Regenerating effects w...   \n\n                                                      ja  \\\n0                                                    中国語   \n1                                                     英語   \n2                                                    日本語   \n3                                                    韓国語   \n4                                                  メール添付   \n...                                                  ...   \n75853                                   1、（次のページ）（読み続ける）   \n75854                               2、（小説をおろす）（選択を終わらせる）   \n75855  EP回復率はキャラクターのスキル発動、敵の殲滅、攻撃を受けた時に獲得するEPをアップさせるこ...   \n75856                       この数値が高いほど、キャラクターのEP回復がはやくなる。   \n75857              一部の味方のEP回復効果によって回復したEPはEP回復率の影響を受けない。   \n\n                                           zh  en_len  ja_len  zh_len  \\\n0                                          汉语       1       2       3   \n1                                          英语       1       2       2   \n2                                          日语       1       2       3   \n3                                          韩语       2       2       2   \n4                                        邮件附件       3       3       4   \n...                                       ...     ...     ...     ...   \n75853                     1、（以下章节需付费阅读）（结束选择）      17       9      14   \n75854                          2、（放下小说）（结束选择）      11      14      10   \n75855  能量恢复效率能够提高角色在施放技能、消灭敌人、受到攻击等行为时获取的能量值。      41      25      27   \n75856                       这个数值越高，角色能量恢复得越快。      12      14      14   \n75857      部分恢复我方目标能量的效果所恢复的能量值不会受到能量恢复效率的影响。      20      19      20   \n\n          score  \n0      0.913975  \n1      0.951441  \n2      0.956051  \n3      0.934823  \n4      0.675397  \n...         ...  \n75853  0.708806  \n75854  0.894131  \n75855  0.827316  \n75856  0.684268  \n75857  0.686133  \n\n[60826 rows x 7 columns]",
      "text/html": "<div>\n<style scoped>\n    .dataframe tbody tr th:only-of-type {\n        vertical-align: middle;\n    }\n\n    .dataframe tbody tr th {\n        vertical-align: top;\n    }\n\n    .dataframe thead th {\n        text-align: right;\n    }\n</style>\n<table border=\"1\" class=\"dataframe\">\n  <thead>\n    <tr style=\"text-align: right;\">\n      <th></th>\n      <th>en</th>\n      <th>ja</th>\n      <th>zh</th>\n      <th>en_len</th>\n      <th>ja_len</th>\n      <th>zh_len</th>\n      <th>score</th>\n    </tr>\n  </thead>\n  <tbody>\n    <tr>\n      <th>0</th>\n      <td>Chinese</td>\n      <td>中国語</td>\n      <td>汉语</td>\n      <td>1</td>\n      <td>2</td>\n      <td>3</td>\n      <td>0.913975</td>\n    </tr>\n    <tr>\n      <th>1</th>\n      <td>English</td>\n      <td>英語</td>\n      <td>英语</td>\n      <td>1</td>\n      <td>2</td>\n      <td>2</td>\n      <td>0.951441</td>\n    </tr>\n    <tr>\n      <th>2</th>\n      <td>Japanese</td>\n      <td>日本語</td>\n      <td>日语</td>\n      <td>1</td>\n      <td>2</td>\n      <td>3</td>\n      <td>0.956051</td>\n    </tr>\n    <tr>\n      <th>3</th>\n      <td>Korean</td>\n      <td>韓国語</td>\n      <td>韩语</td>\n      <td>2</td>\n      <td>2</td>\n      <td>2</td>\n      <td>0.934823</td>\n    </tr>\n    <tr>\n      <th>4</th>\n      <td>Attachments</td>\n      <td>メール添付</td>\n      <td>邮件附件</td>\n      <td>3</td>\n      <td>3</td>\n      <td>4</td>\n      <td>0.675397</td>\n    </tr>\n    <tr>\n      <th>...</th>\n      <td>...</td>\n      <td>...</td>\n      <td>...</td>\n      <td>...</td>\n      <td>...</td>\n      <td>...</td>\n      <td>...</td>\n    </tr>\n    <tr>\n      <th>75853</th>\n      <td>1. (The following chapter requires payment to ...</td>\n      <td>1、（次のページ）（読み続ける）</td>\n      <td>1、（以下章节需付费阅读）（结束选择）</td>\n      <td>17</td>\n      <td>9</td>\n      <td>14</td>\n      <td>0.708806</td>\n    </tr>\n    <tr>\n      <th>75854</th>\n      <td>2. (Put the novel down) (Option end)</td>\n      <td>2、（小説をおろす）（選択を終わらせる）</td>\n      <td>2、（放下小说）（结束选择）</td>\n      <td>11</td>\n      <td>14</td>\n      <td>10</td>\n      <td>0.894131</td>\n    </tr>\n    <tr>\n      <th>75855</th>\n      <td>Energy Regeneration Rate can boost the amount ...</td>\n      <td>EP回復率はキャラクターのスキル発動、敵の殲滅、攻撃を受けた時に獲得するEPをアップさせるこ...</td>\n      <td>能量恢复效率能够提高角色在施放技能、消灭敌人、受到攻击等行为时获取的能量值。</td>\n      <td>41</td>\n      <td>25</td>\n      <td>27</td>\n      <td>0.827316</td>\n    </tr>\n    <tr>\n      <th>75856</th>\n      <td>A higher rate means faster energy regeneration.</td>\n      <td>この数値が高いほど、キャラクターのEP回復がはやくなる。</td>\n      <td>这个数值越高，角色能量恢复得越快。</td>\n      <td>12</td>\n      <td>14</td>\n      <td>14</td>\n      <td>0.684268</td>\n    </tr>\n    <tr>\n      <th>75857</th>\n      <td>However, certain Energy-Regenerating effects w...</td>\n      <td>一部の味方のEP回復効果によって回復したEPはEP回復率の影響を受けない。</td>\n      <td>部分恢复我方目标能量的效果所恢复的能量值不会受到能量恢复效率的影响。</td>\n      <td>20</td>\n      <td>19</td>\n      <td>20</td>\n      <td>0.686133</td>\n    </tr>\n  </tbody>\n</table>\n<p>60826 rows × 7 columns</p>\n</div>"
     },
     "execution_count": 15,
     "metadata": {},
     "output_type": "execute_result"
    }
   ],
   "source": [
    "# replace「」to “”, 『』to ‘’ in zh\n",
    "df['zh'] = df['zh'].apply(lambda x: x.replace('「', '“'))\n",
    "df['zh'] = df['zh'].apply(lambda x: x.replace('」', '”'))\n",
    "df['zh'] = df['zh'].apply(lambda x: x.replace('『', '‘'))\n",
    "df['zh'] = df['zh'].apply(lambda x: x.replace('』', '’'))\n",
    "df"
   ],
   "metadata": {
    "collapsed": false,
    "ExecuteTime": {
     "end_time": "2023-07-09T13:30:15.115046323Z",
     "start_time": "2023-07-09T13:30:14.991255051Z"
    }
   }
  },
  {
   "cell_type": "code",
   "execution_count": 16,
   "outputs": [],
   "source": [
    "# drop len and score column\n",
    "df = df.drop(columns=['en_len', 'ja_len', 'zh_len', 'score'])\n",
    "# save to parquet\n",
    "df.to_parquet('parquet/StarRailTextMap.parquet', index=False)"
   ],
   "metadata": {
    "collapsed": false,
    "ExecuteTime": {
     "end_time": "2023-07-09T13:30:15.244521899Z",
     "start_time": "2023-07-09T13:30:15.079711009Z"
    }
   }
  },
  {
   "cell_type": "code",
   "execution_count": 17,
   "outputs": [
    {
     "data": {
      "text/plain": "                                                      en  \\\n0                                                Chinese   \n1                                                English   \n2                                               Japanese   \n3                                                 Korean   \n4                                            Attachments   \n...                                                  ...   \n60821  1. (The following chapter requires payment to ...   \n60822               2. (Put the novel down) (Option end)   \n60823  Energy Regeneration Rate can boost the amount ...   \n60824    A higher rate means faster energy regeneration.   \n60825  However, certain Energy-Regenerating effects w...   \n\n                                                      ja  \\\n0                                                    中国語   \n1                                                     英語   \n2                                                    日本語   \n3                                                    韓国語   \n4                                                  メール添付   \n...                                                  ...   \n60821                                   1、（次のページ）（読み続ける）   \n60822                               2、（小説をおろす）（選択を終わらせる）   \n60823  EP回復率はキャラクターのスキル発動、敵の殲滅、攻撃を受けた時に獲得するEPをアップさせるこ...   \n60824                       この数値が高いほど、キャラクターのEP回復がはやくなる。   \n60825              一部の味方のEP回復効果によって回復したEPはEP回復率の影響を受けない。   \n\n                                           zh  \n0                                          汉语  \n1                                          英语  \n2                                          日语  \n3                                          韩语  \n4                                        邮件附件  \n...                                       ...  \n60821                     1、（以下章节需付费阅读）（结束选择）  \n60822                          2、（放下小说）（结束选择）  \n60823  能量恢复效率能够提高角色在施放技能、消灭敌人、受到攻击等行为时获取的能量值。  \n60824                       这个数值越高，角色能量恢复得越快。  \n60825      部分恢复我方目标能量的效果所恢复的能量值不会受到能量恢复效率的影响。  \n\n[60826 rows x 3 columns]",
      "text/html": "<div>\n<style scoped>\n    .dataframe tbody tr th:only-of-type {\n        vertical-align: middle;\n    }\n\n    .dataframe tbody tr th {\n        vertical-align: top;\n    }\n\n    .dataframe thead th {\n        text-align: right;\n    }\n</style>\n<table border=\"1\" class=\"dataframe\">\n  <thead>\n    <tr style=\"text-align: right;\">\n      <th></th>\n      <th>en</th>\n      <th>ja</th>\n      <th>zh</th>\n    </tr>\n  </thead>\n  <tbody>\n    <tr>\n      <th>0</th>\n      <td>Chinese</td>\n      <td>中国語</td>\n      <td>汉语</td>\n    </tr>\n    <tr>\n      <th>1</th>\n      <td>English</td>\n      <td>英語</td>\n      <td>英语</td>\n    </tr>\n    <tr>\n      <th>2</th>\n      <td>Japanese</td>\n      <td>日本語</td>\n      <td>日语</td>\n    </tr>\n    <tr>\n      <th>3</th>\n      <td>Korean</td>\n      <td>韓国語</td>\n      <td>韩语</td>\n    </tr>\n    <tr>\n      <th>4</th>\n      <td>Attachments</td>\n      <td>メール添付</td>\n      <td>邮件附件</td>\n    </tr>\n    <tr>\n      <th>...</th>\n      <td>...</td>\n      <td>...</td>\n      <td>...</td>\n    </tr>\n    <tr>\n      <th>60821</th>\n      <td>1. (The following chapter requires payment to ...</td>\n      <td>1、（次のページ）（読み続ける）</td>\n      <td>1、（以下章节需付费阅读）（结束选择）</td>\n    </tr>\n    <tr>\n      <th>60822</th>\n      <td>2. (Put the novel down) (Option end)</td>\n      <td>2、（小説をおろす）（選択を終わらせる）</td>\n      <td>2、（放下小说）（结束选择）</td>\n    </tr>\n    <tr>\n      <th>60823</th>\n      <td>Energy Regeneration Rate can boost the amount ...</td>\n      <td>EP回復率はキャラクターのスキル発動、敵の殲滅、攻撃を受けた時に獲得するEPをアップさせるこ...</td>\n      <td>能量恢复效率能够提高角色在施放技能、消灭敌人、受到攻击等行为时获取的能量值。</td>\n    </tr>\n    <tr>\n      <th>60824</th>\n      <td>A higher rate means faster energy regeneration.</td>\n      <td>この数値が高いほど、キャラクターのEP回復がはやくなる。</td>\n      <td>这个数值越高，角色能量恢复得越快。</td>\n    </tr>\n    <tr>\n      <th>60825</th>\n      <td>However, certain Energy-Regenerating effects w...</td>\n      <td>一部の味方のEP回復効果によって回復したEPはEP回復率の影響を受けない。</td>\n      <td>部分恢复我方目标能量的效果所恢复的能量值不会受到能量恢复效率的影响。</td>\n    </tr>\n  </tbody>\n</table>\n<p>60826 rows × 3 columns</p>\n</div>"
     },
     "execution_count": 17,
     "metadata": {},
     "output_type": "execute_result"
    }
   ],
   "source": [
    "# load parquet\n",
    "df = pd.read_parquet('parquet/StarRailTextMap.parquet')\n",
    "df"
   ],
   "metadata": {
    "collapsed": false,
    "ExecuteTime": {
     "end_time": "2023-07-09T13:30:15.513596952Z",
     "start_time": "2023-07-09T13:30:15.245999871Z"
    }
   }
  }
 ],
 "metadata": {
  "kernelspec": {
   "display_name": "Python 3",
   "language": "python",
   "name": "python3"
  },
  "language_info": {
   "codemirror_mode": {
    "name": "ipython",
    "version": 2
   },
   "file_extension": ".py",
   "mimetype": "text/x-python",
   "name": "python",
   "nbconvert_exporter": "python",
   "pygments_lexer": "ipython2",
   "version": "2.7.6"
  }
 },
 "nbformat": 4,
 "nbformat_minor": 0
}
